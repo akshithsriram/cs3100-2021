{
 "cells": [
  {
   "cell_type": "markdown",
   "metadata": {},
   "source": [
    "Before you turn this problem in, make sure everything runs as expected. First, **restart the kernel** (in the menubar, select Kernel$\\rightarrow$Restart) and then **run all cells** (in the menubar, select Cell$\\rightarrow$Run All).\n",
    "\n",
    "Make sure you fill in any place that says `YOUR CODE HERE` or \"YOUR ANSWER HERE\", as well as your name below:"
   ]
  },
  {
   "cell_type": "code",
   "execution_count": null,
   "metadata": {},
   "outputs": [],
   "source": [
    "let name = \"\"\n",
    "let rollno = \"\""
   ]
  },
  {
   "cell_type": "markdown",
   "metadata": {},
   "source": [
    "## Important notes about grading:\n",
    "\n",
    "1. **Compiler errors:** All code you submit must compile. Programs that do not compile will probably receive an automatic zero. If you are having trouble getting your assignment to compile, please visit consulting hours. If you run out of time, it is better to comment out the parts that do not compile, than hand in a more complete file that does not compile.\n",
    "2. **Late assignments:** Please carefully review the course website's policy on late assignments, as all assignments handed in after the deadline will be considered late. Verify on moodle that you have submitted the correct version, before the deadline. Submitting the incorrect version before the deadline and realizing that you have done so after the deadline will be counted as a late submission."
   ]
  },
  {
   "cell_type": "markdown",
   "metadata": {
    "deletable": false,
    "editable": false,
    "nbgrader": {
     "cell_type": "markdown",
     "checksum": "8ffcd60aa2f81186f716387dc672b627",
     "grade": false,
     "grade_id": "cell-9b9197a66a98bcda",
     "locked": true,
     "schema_version": 3,
     "solution": false,
     "task": false
    }
   },
   "source": [
    "# Programming with Lists\n",
    "\n",
    "Let's implement some programs over lists.\n",
    "\n",
    "## Problem 1\n",
    "\n",
    "Implement reverse of a list using the predicate `reverse(X,RevX)` where `RevX` is the reverse of the list `X`. You might want to use `append`. "
   ]
  },
  {
   "cell_type": "code",
   "execution_count": null,
   "metadata": {
    "deletable": false,
    "nbgrader": {
     "cell_type": "code",
     "checksum": "d64b2305a4780b3c706b8333e785dca8",
     "grade": false,
     "grade_id": "cell-fe071a54a1c005f7",
     "locked": false,
     "schema_version": 3,
     "solution": true,
     "task": false
    }
   },
   "outputs": [],
   "source": [
    "/* YOUR CODE HERE (delete the abort) */\n",
    "?- abort."
   ]
  },
  {
   "cell_type": "code",
   "execution_count": null,
   "metadata": {
    "deletable": false,
    "editable": false,
    "nbgrader": {
     "cell_type": "code",
     "checksum": "9ef660f923638cf58c1d3f944045dac4",
     "grade": true,
     "grade_id": "cell-f8094b67909f155e",
     "locked": true,
     "points": 10,
     "schema_version": 3,
     "solution": false,
     "task": false
    }
   },
   "outputs": [],
   "source": [
    "/* 10 points */\n",
    "?- reverse([],X), X = [] -> true; abort.\n",
    "?- reverse([1,2,3],X), X = [3,2,1] -> true; abort.\n",
    "?- reverse([A,B,C],X), X = [C,B,A] -> true; abort."
   ]
  },
  {
   "cell_type": "markdown",
   "metadata": {
    "deletable": false,
    "editable": false,
    "nbgrader": {
     "cell_type": "markdown",
     "checksum": "f0aa770a9ce1e9d92cf440ee6b34019f",
     "grade": false,
     "grade_id": "cell-43de6c787ed16b3c",
     "locked": true,
     "schema_version": 3,
     "solution": false,
     "task": false
    }
   },
   "source": [
    "## Problem 2\n",
    "\n",
    "Implement list membership predicate `member(X,L)` which holds if $X \\in L$."
   ]
  },
  {
   "cell_type": "code",
   "execution_count": null,
   "metadata": {
    "deletable": false,
    "nbgrader": {
     "cell_type": "code",
     "checksum": "f605a800468fcddc6fda7dd27279ebab",
     "grade": false,
     "grade_id": "cell-2e2535aaa0537d16",
     "locked": false,
     "schema_version": 3,
     "solution": true,
     "task": false
    }
   },
   "outputs": [],
   "source": [
    "/* YOUR CODE HERE (delete the abort) */\n",
    "?- abort."
   ]
  },
  {
   "cell_type": "code",
   "execution_count": null,
   "metadata": {
    "deletable": false,
    "editable": false,
    "nbgrader": {
     "cell_type": "code",
     "checksum": "b863e7938c012820d08e9e4cd49776d5",
     "grade": true,
     "grade_id": "cell-48f793200f5a29e1",
     "locked": true,
     "points": 10,
     "schema_version": 3,
     "solution": false,
     "task": false
    }
   },
   "outputs": [],
   "source": [
    "/* 10 points */\n",
    "?- member(1,[1,2,3]) -> true; abort.\n",
    "?- not(member(4,[1,2,3])) -> true; abort."
   ]
  },
  {
   "cell_type": "markdown",
   "metadata": {
    "deletable": false,
    "editable": false,
    "nbgrader": {
     "cell_type": "markdown",
     "checksum": "3e31ee9ed25cb5adaae1d94ddf1c4eb5",
     "grade": false,
     "grade_id": "cell-7193121836b6a201",
     "locked": true,
     "schema_version": 3,
     "solution": false,
     "task": false
    }
   },
   "source": [
    "## Problem 3\n",
    "\n",
    "Implement `partition(L,P,S)` such that \n",
    "\n",
    "* `P` is the prefix of `L` and\n",
    "* `S` is the suffix of `L` and\n",
    "* `append(P,S,L)` holds\n",
    "* If `L` is `[]`, then `P` and `S` are `[]`.\n",
    "* If `L` is `[H]`, then `P` is `[H]` and `S` is `[]`. \n",
    "* Otherwise, \n",
    "  * let length of `L` be `N`. Then length of `P` is `div(N/2)`. Use Prolog's [built-in integer division](https://www.swi-prolog.org/pldoc/man?function=div/2).\n",
    "  * length of `S` is `N - div(N/2)`. \n",
    "\n",
    "You may need to redefine `len`,`prefix`,`suffix`,`append` predicates that we have seen in class. You may also need to use Prolog comparison operator `>=` or `>` depending on how you write the predicate. "
   ]
  },
  {
   "cell_type": "code",
   "execution_count": null,
   "metadata": {
    "deletable": false,
    "nbgrader": {
     "cell_type": "code",
     "checksum": "0a523a76a80c134750891170af96647d",
     "grade": false,
     "grade_id": "cell-515b9e3fb62d0bc4",
     "locked": false,
     "schema_version": 3,
     "solution": true,
     "task": false
    }
   },
   "outputs": [],
   "source": [
    "/* YOUR CODE HERE (delete the abort) */\n",
    "?- abort."
   ]
  },
  {
   "cell_type": "code",
   "execution_count": null,
   "metadata": {
    "deletable": false,
    "editable": false,
    "nbgrader": {
     "cell_type": "code",
     "checksum": "3f687f59f490162886b1b2135db78b92",
     "grade": true,
     "grade_id": "cell-e2b8e0e7faeb9a63",
     "locked": true,
     "points": 10,
     "schema_version": 3,
     "solution": false,
     "task": false
    }
   },
   "outputs": [],
   "source": [
    "/* 10 points */\n",
    "?- partition([],[],[]) -> true; abort.\n",
    "?- partition([H],[H],[]) -> true; abort.\n",
    "?- partition([1,2,3],[1],[2,3]) -> true; abort."
   ]
  },
  {
   "cell_type": "markdown",
   "metadata": {
    "deletable": false,
    "editable": false,
    "nbgrader": {
     "cell_type": "markdown",
     "checksum": "667e16a3afd32a663fec4097aae1c116",
     "grade": false,
     "grade_id": "cell-f68a00c292f40d2b",
     "locked": true,
     "schema_version": 3,
     "solution": false,
     "task": false
    }
   },
   "source": [
    "## Problem 4\n",
    "\n",
    "Implement the predicate `merge(X,Y,Z)` where `X` and `Y` are sorted, and `Z` contains the same elements as `U` where `append(X,Y,U)` but `Z` is also additionally sorted."
   ]
  },
  {
   "cell_type": "code",
   "execution_count": null,
   "metadata": {
    "deletable": false,
    "nbgrader": {
     "cell_type": "code",
     "checksum": "54e099abafa5eb499a014c509b6f8634",
     "grade": false,
     "grade_id": "cell-f2d999dc61fef749",
     "locked": false,
     "schema_version": 3,
     "solution": true,
     "task": false
    }
   },
   "outputs": [],
   "source": [
    "/* YOUR CODE HERE (delete the abort) */\n",
    "?- abort."
   ]
  },
  {
   "cell_type": "code",
   "execution_count": null,
   "metadata": {
    "deletable": false,
    "editable": false,
    "nbgrader": {
     "cell_type": "code",
     "checksum": "c62bbe4fb466cd05e8424d5d7af14c46",
     "grade": true,
     "grade_id": "cell-01713499f0c437b5",
     "locked": true,
     "points": 10,
     "schema_version": 3,
     "solution": false,
     "task": false
    }
   },
   "outputs": [],
   "source": [
    "/* 10 points */\n",
    "?- merge([],[1],[1]) -> true; abort.\n",
    "?- merge([1],[],[1]) -> true; abort.\n",
    "?- merge([1,3,5],[2,4,6],[1,2,3,4,5,6]) -> true; abort."
   ]
  },
  {
   "cell_type": "markdown",
   "metadata": {
    "deletable": false,
    "editable": false,
    "nbgrader": {
     "cell_type": "markdown",
     "checksum": "22e2c3676df1404c659795a4511cd14f",
     "grade": false,
     "grade_id": "cell-35433d7ff74e5624",
     "locked": true,
     "schema_version": 3,
     "solution": false,
     "task": false
    }
   },
   "source": [
    "## Problem 5\n",
    "\n",
    "Implement predicate `mergesort(L,SL)` where `SL` is the sorted version of `L`. Use the predicate to partition the list `L` into two, sort each on separately (using `mergesort`) and combine the individual sorted list using `merge`. "
   ]
  },
  {
   "cell_type": "code",
   "execution_count": null,
   "metadata": {
    "deletable": false,
    "nbgrader": {
     "cell_type": "code",
     "checksum": "439f9fc1d1edcadd4edcfa89411497d6",
     "grade": false,
     "grade_id": "cell-74680ae9d990d6a6",
     "locked": false,
     "schema_version": 3,
     "solution": true,
     "task": false
    }
   },
   "outputs": [],
   "source": [
    "/* YOUR CODE HERE (delete the abort) */\n",
    "?- abort."
   ]
  },
  {
   "cell_type": "code",
   "execution_count": null,
   "metadata": {
    "deletable": false,
    "editable": false,
    "nbgrader": {
     "cell_type": "code",
     "checksum": "f1e5d3d471bbda03ea7b4bf1eedccd6c",
     "grade": true,
     "grade_id": "cell-c3dcfa7223e13980",
     "locked": true,
     "points": 10,
     "schema_version": 3,
     "solution": false,
     "task": false
    }
   },
   "outputs": [],
   "source": [
    "/* 10 points */\n",
    "?- mergesort([3,2,1],[1,2,3]), ! -> true; abort.\n",
    "?- mergesort([1,2,3],[1,2,3]), ! -> true; abort.\n",
    "?- mergesort([],[]), ! -> true; abort."
   ]
  }
 ],
 "metadata": {
  "kernelspec": {
   "display_name": "SWI-Prolog",
   "language": "",
   "name": "jswipl"
  },
  "language_info": {
   "mimetype": "text/plain",
   "name": "swipl"
  }
 },
 "nbformat": 4,
 "nbformat_minor": 2
}
