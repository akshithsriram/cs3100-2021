{
 "cells": [
  {
   "cell_type": "markdown",
   "metadata": {
    "slideshow": {
     "slide_type": "slide"
    }
   },
   "source": [
    "<center>\n",
    "    <h1 style=\"text-align:center\"> CS 3100 : PoP</h1>\n",
    "    <h2 style=\"text-align:center\"> Generalized Folding </h2>\n",
    "    <h3 style=\"text-align:center\"> Lecture 18 : 10am, Thu, Sep 9, 2021<h3>      \n",
    "</center>"
   ]
  },
  {
   "cell_type": "markdown",
   "metadata": {
    "slideshow": {
     "slide_type": "slide"
    }
   },
   "source": [
    "### Yesterday\n",
    "\n",
    "* Higher order Programming\n",
    "* Map, Filter and Fold\n",
    "\n",
    "### Next\n",
    "\n",
    "* Folding in Trees\n",
    "* Generalized Folding in variants\n",
    "* Introduction to Lambda Calculus"
   ]
  },
  {
   "cell_type": "markdown",
   "metadata": {
    "slideshow": {
     "slide_type": "slide"
    }
   },
   "source": [
    "## Fold (left)\n",
    "\n",
    "as natural transformation of the data structure.\n",
    "\n",
    "<center>\n",
    "    \n",
    "<img src=\"images/list_shape.svg\" width=30% style=\"float:left\">\n",
    "<img src=\"images/sum_fold.svg\" width=30% style=\"float:right\">\n",
    "</center>"
   ]
  },
  {
   "cell_type": "markdown",
   "metadata": {
    "slideshow": {
     "slide_type": "slide"
    }
   },
   "source": [
    "## fold_right\n",
    "\n",
    "Fold from the right.\n",
    "\n",
    "<center>\n",
    "    \n",
    "<img src=\"images/list_shape.svg\" width=30% style=\"float:left\">\n",
    "<img src=\"images/fold_right.svg\" width=30% style=\"float:right\">\n",
    "</center>"
   ]
  },
  {
   "cell_type": "code",
   "execution_count": null,
   "metadata": {
    "slideshow": {
     "slide_type": "slide"
    }
   },
   "outputs": [],
   "source": [
    "let rec fold_right f l acc = \n",
    "  match l with\n",
    "  | [] -> acc\n",
    "  | x::xs -> f x (fold_right f xs acc)"
   ]
  },
  {
   "cell_type": "markdown",
   "metadata": {
    "slideshow": {
     "slide_type": "slide"
    }
   },
   "source": [
    "## Folding for other data structures\n",
    "\n",
    "```Ocaml\n",
    "type 'a list =\n",
    "  | Nil \n",
    "  | Cons of 'a * 'a list\n",
    "\n",
    "let rec foldlist init op list =\n",
    "    match list with\n",
    "    | Nil -> init\n",
    "    | Cons (h,t) -> op h (foldlist init op t)```"
   ]
  },
  {
   "cell_type": "markdown",
   "metadata": {
    "slideshow": {
     "slide_type": "slide"
    }
   },
   "source": [
    "* The `[]` value in the list gets replaced by `init`\n",
    "* Each `::` constructor gets replaced by `op`. \n",
    "* Recall : `[a;b;c]` is just syntactic sugar for `a::(b::(c::[]))`. \n",
    "* So if we replace `[]` with `0` and `::` with `(+)`, we get `a+(b+(c+0))`"
   ]
  },
  {
   "cell_type": "markdown",
   "metadata": {
    "slideshow": {
     "slide_type": "slide"
    }
   },
   "source": [
    "## Folding with trees\n",
    "\n",
    "```Ocaml\n",
    "type 'a tree = \n",
    "| Leaf \n",
    "| Node of 'a * 'a tree * 'a tree\n",
    "```\n",
    "\n",
    "* Initial value to replace each `Leaf` constructor, just like it replaced `[]` in lists. \n",
    "* Each `Node` constructor to be replaced by the `operator`. \n",
    "* Note that the `operator` will need to be ternary instead of binary."
   ]
  },
  {
   "cell_type": "code",
   "execution_count": 6,
   "metadata": {
    "slideshow": {
     "slide_type": "slide"
    }
   },
   "outputs": [
    {
     "data": {
      "text/plain": [
       "type 'a tree = Leaf | Node of 'a * 'a tree * 'a tree\n"
      ]
     },
     "execution_count": 6,
     "metadata": {},
     "output_type": "execute_result"
    },
    {
     "data": {
      "text/plain": [
       "val foldtree : 'a -> ('b -> 'a -> 'a -> 'a) -> 'b tree -> 'a = <fun>\n"
      ]
     },
     "execution_count": 6,
     "metadata": {},
     "output_type": "execute_result"
    }
   ],
   "source": [
    "type 'a tree = \n",
    "| Leaf \n",
    "| Node of 'a * 'a tree * 'a tree\n",
    "\n",
    "let rec foldtree init op list =\n",
    "  match list with\n",
    "  | Leaf -> init\n",
    "  | Node (v,l,r) -> op v (foldtree init op l) (foldtree init op r)"
   ]
  },
  {
   "cell_type": "code",
   "execution_count": 7,
   "metadata": {
    "slideshow": {
     "slide_type": "slide"
    }
   },
   "outputs": [
    {
     "data": {
      "text/plain": [
       "val size : 'a tree -> int = <fun>\n"
      ]
     },
     "execution_count": 7,
     "metadata": {},
     "output_type": "execute_result"
    },
    {
     "data": {
      "text/plain": [
       "val depth : 'a tree -> int = <fun>\n"
      ]
     },
     "execution_count": 7,
     "metadata": {},
     "output_type": "execute_result"
    },
    {
     "data": {
      "text/plain": [
       "val preorder : 'a tree -> 'a list = <fun>\n"
      ]
     },
     "execution_count": 7,
     "metadata": {},
     "output_type": "execute_result"
    }
   ],
   "source": [
    "let size t = foldtree 0 (fun _ l r -> 1 + l + r) t\n",
    "let depth t = foldtree 0 (fun _ l r -> 1 + max l r) t\n",
    "let preorder t = foldtree [] (fun x l r -> [x] @ l @ r) t"
   ]
  },
  {
   "cell_type": "markdown",
   "metadata": {
    "slideshow": {
     "slide_type": "slide"
    }
   },
   "source": [
    "## Generalized Folds\n",
    "\n",
    "* The technique we used to derive `foldtree`, actually works for any OCaml `variant type t`.\n",
    "\n",
    "#### Idea : \n",
    "\n",
    "* Write a recursive `fold function` that takes in one argument for each constructor of t.\n",
    "* The `fold function` matches against the constructors, calling itself recursively on any value of `type t` that it encounters.\n",
    "* Use the appropriate argument of fold to combine the results of all recursive calls as well as all data not of type t at each constructor.\n",
    "\n",
    "#### Catamorphism\n",
    "\n",
    "* This technique constructs something called a `catamorphism`, aka a generalized fold operation.\n",
    "* Known theorem - a `catamorphism` is enough to simulate any computation on structure."
   ]
  }
 ],
 "metadata": {
  "celltoolbar": "Slideshow",
  "kernelspec": {
   "display_name": "OCaml 4.10",
   "language": "OCaml",
   "name": "ocaml-jupyter"
  },
  "language_info": {
   "codemirror_mode": "text/x-ocaml",
   "file_extension": ".ml",
   "mimetype": "text/x-ocaml",
   "name": "OCaml",
   "nbconverter_exporter": null,
   "pygments_lexer": "OCaml",
   "version": "4.10.0"
  }
 },
 "nbformat": 4,
 "nbformat_minor": 2
}
