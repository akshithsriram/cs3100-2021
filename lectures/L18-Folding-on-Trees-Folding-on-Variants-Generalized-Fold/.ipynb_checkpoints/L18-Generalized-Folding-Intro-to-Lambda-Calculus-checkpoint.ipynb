{
 "cells": [
  {
   "cell_type": "markdown",
   "metadata": {
    "slideshow": {
     "slide_type": "slide"
    }
   },
   "source": [
    "<center>\n",
    "    <h1 style=\"text-align:center\"> CS 3100 : PoP</h1>\n",
    "    <h2 style=\"text-align:center\"> Generalized Folding </h2>\n",
    "    <h3 style=\"text-align:center\"> Lecture 18 : 10am, Thu, Sep 9, 2021<h3>      \n",
    "</center>"
   ]
  },
  {
   "cell_type": "markdown",
   "metadata": {
    "slideshow": {
     "slide_type": "slide"
    }
   },
   "source": [
    "### Yesterday\n",
    "\n",
    "* Higher order Programming\n",
    "* Map, Filter and Fold\n",
    "\n",
    "### Next\n",
    "\n",
    "* Folding in Trees\n",
    "* Generalized Folding in variants\n",
    "* Introduction to Lambda Calculus"
   ]
  },
  {
   "cell_type": "markdown",
   "metadata": {
    "slideshow": {
     "slide_type": "slide"
    }
   },
   "source": [
    "## Fold (left)\n",
    "\n",
    "as natural transformation of the data structure.\n",
    "\n",
    "<center>\n",
    "    \n",
    "<img src=\"images/list_shape.svg\" width=30% style=\"float:left\">\n",
    "<img src=\"images/sum_fold.svg\" width=30% style=\"float:right\">\n",
    "</center>"
   ]
  },
  {
   "cell_type": "markdown",
   "metadata": {
    "slideshow": {
     "slide_type": "slide"
    }
   },
   "source": [
    "## fold_right\n",
    "\n",
    "Fold from the right.\n",
    "\n",
    "<center>\n",
    "    \n",
    "<img src=\"images/list_shape.svg\" width=30% style=\"float:left\">\n",
    "<img src=\"images/fold_right.svg\" width=30% style=\"float:right\">\n",
    "</center>"
   ]
  },
  {
   "cell_type": "code",
   "execution_count": null,
   "metadata": {
    "slideshow": {
     "slide_type": "slide"
    }
   },
   "outputs": [],
   "source": [
    "let rec fold_right f l acc = \n",
    "  match l with\n",
    "  | [] -> acc\n",
    "  | x::xs -> f x (fold_right f xs acc)"
   ]
  },
  {
   "cell_type": "markdown",
   "metadata": {
    "slideshow": {
     "slide_type": "slide"
    }
   },
   "source": [
    "## Folding for other data structures\n",
    "\n",
    "```Ocaml\n",
    "type 'a list =\n",
    "  | Nil \n",
    "  | Cons of 'a * 'a list\n",
    "\n",
    "let rec foldlist init op list =\n",
    "    match list with\n",
    "    | Nil -> init\n",
    "    | Cons (h,t) -> op h (foldlist init op t)```"
   ]
  },
  {
   "cell_type": "markdown",
   "metadata": {
    "slideshow": {
     "slide_type": "slide"
    }
   },
   "source": [
    "* The `[]` value in the list gets replaced by `init`\n",
    "* Each `::` constructor gets replaced by `op`. \n",
    "* Recall : `[a;b;c]` is just syntactic sugar for `a::(b::(c::[]))`. \n",
    "* So if we replace `[]` with `0` and `::` with `(+)`, we get `a+(b+(c+0))`"
   ]
  },
  {
   "cell_type": "markdown",
   "metadata": {
    "slideshow": {
     "slide_type": "slide"
    }
   },
   "source": [
    "## Folding with trees\n",
    "\n",
    "```Ocaml\n",
    "type 'a tree = \n",
    "| Leaf \n",
    "| Node of 'a * 'a tree * 'a tree\n",
    "```\n",
    "\n",
    "* Initial value to replace each `Leaf` constructor, just like it replaced `[]` in lists. \n",
    "* Each `Node` constructor to be replaced by the `operator`. \n",
    "* Note that the `operator` will need to be ternary instead of binary."
   ]
  },
  {
   "cell_type": "code",
   "execution_count": 6,
   "metadata": {
    "slideshow": {
     "slide_type": "slide"
    }
   },
   "outputs": [
    {
     "data": {
      "text/plain": [
       "type 'a tree = Leaf | Node of 'a * 'a tree * 'a tree\n"
      ]
     },
     "execution_count": 6,
     "metadata": {},
     "output_type": "execute_result"
    },
    {
     "data": {
      "text/plain": [
       "val foldtree : 'a -> ('b -> 'a -> 'a -> 'a) -> 'b tree -> 'a = <fun>\n"
      ]
     },
     "execution_count": 6,
     "metadata": {},
     "output_type": "execute_result"
    }
   ],
   "source": [
    "type 'a tree = \n",
    "| Leaf \n",
    "| Node of 'a * 'a tree * 'a tree\n",
    "\n",
    "let rec foldtree init op list =\n",
    "  match list with\n",
    "  | Leaf -> init\n",
    "  | Node (v,l,r) -> op v (foldtree init op l) (foldtree init op r)"
   ]
  },
  {
   "cell_type": "code",
   "execution_count": 7,
   "metadata": {
    "slideshow": {
     "slide_type": "slide"
    }
   },
   "outputs": [
    {
     "data": {
      "text/plain": [
       "val size : 'a tree -> int = <fun>\n"
      ]
     },
     "execution_count": 7,
     "metadata": {},
     "output_type": "execute_result"
    },
    {
     "data": {
      "text/plain": [
       "val depth : 'a tree -> int = <fun>\n"
      ]
     },
     "execution_count": 7,
     "metadata": {},
     "output_type": "execute_result"
    },
    {
     "data": {
      "text/plain": [
       "val preorder : 'a tree -> 'a list = <fun>\n"
      ]
     },
     "execution_count": 7,
     "metadata": {},
     "output_type": "execute_result"
    }
   ],
   "source": [
    "let size t = foldtree 0 (fun _ l r -> 1 + l + r) t\n",
    "let depth t = foldtree 0 (fun _ l r -> 1 + max l r) t\n",
    "let preorder t = foldtree [] (fun x l r -> [x] @ l @ r) t"
   ]
  },
  {
   "cell_type": "markdown",
   "metadata": {
    "slideshow": {
     "slide_type": "slide"
    }
   },
   "source": [
    "## Generalized Folds\n",
    "\n",
    "* The technique we used to derive `foldtree`, actually works for any OCaml `variant type t`.\n",
    "\n",
    "#### Idea : \n",
    "\n",
    "* Write a recursive `fold function` that takes in one argument for each constructor of t.\n",
    "* The `fold function` matches against the constructors, calling itself recursively on any value of `type t` that it encounters.\n",
    "* Use the appropriate argument of fold to combine the results of all recursive calls as well as all data not of type t at each constructor.\n",
    "\n",
    "#### Catamorphism\n",
    "\n",
    "* This technique constructs something called a `catamorphism`, aka a generalized fold operation.\n",
    "* Known theorem - a `catamorphism` is enough to simulate any computation on structure."
   ]
  },
  {
   "cell_type": "markdown",
   "metadata": {
    "slideshow": {
     "slide_type": "slide"
    }
   },
   "source": [
    "<center>\n",
    "<h1 style=\"text-align:center\">Lambda Calculus</h1>\n",
    "</center>"
   ]
  },
  {
   "cell_type": "markdown",
   "metadata": {
    "slideshow": {
     "slide_type": "slide"
    }
   },
   "source": [
    "## Computability\n",
    "\n",
    "<h3> In 1900 </h3>\n",
    "\n",
    "* David Hilbert proposed that mathematics can be automated since the process of mathematical proof is similar to the process of computation. \n",
    "* Questing jobs ! - As one of the problems for the next centuary.\n",
    "* What does it mean for the function $f : \\mathbb{N} \\rightarrow \\mathbb{N}$ to be *computable*?\n",
    "* **Informal definition:** A function is computable if using pencil-and-paper you can compute $f(n)$ for any $n$.\n",
    "* Three different researchers attempted to formalise *computability*."
   ]
  },
  {
   "cell_type": "markdown",
   "metadata": {
    "slideshow": {
     "slide_type": "slide"
    }
   },
   "source": [
    "## Alan Turning\n",
    "\n",
    "<img src=\"images/turing.jpg\" style=\"float:left\" width=\"200\">\n",
    "\n",
    "<div style=\"float:left;width:75%\">\n",
    "    \n",
    "* Defined an idealised computer -- **The Turing Machine** (1935)\n",
    "* A function is computable if and only if it can be computed by a turning machine\n",
    "* A programming language is turing complete if:\n",
    "  + It can map every turing machine to a program.\n",
    "  + A program can be written to simulate a universal turing machine. \n",
    "  + It is a superset of a known turning complete language.\n",
    "\n",
    "</div>"
   ]
  },
  {
   "cell_type": "markdown",
   "metadata": {
    "slideshow": {
     "slide_type": "slide"
    }
   },
   "source": [
    "## Alonzo Church\n",
    "\n",
    "<img src=\"images/church.jpg\" style=\"float:left\" width=\"200\">\n",
    "\n",
    "<div style=\"float:left;width:75%\">\n",
    "    \n",
    "* Developed the **λ-calculus** as a formal system for mathematical logic (1929 - 1932).\n",
    "* Postulated that a function is computable (in the intuitive sense) if and only if it can be written as a lambda term (1935).\n",
    "* Church was Turing's PhD advisor!\n",
    "* Turing showed that the systems defined by Church and his system were equivalent.\n",
    "  + **Church-Turing Thesis** \n",
    "\n",
    "</div>"
   ]
  },
  {
   "cell_type": "markdown",
   "metadata": {
    "slideshow": {
     "slide_type": "slide"
    }
   },
   "source": [
    "## Kurt Gödel\n",
    "\n",
    "<img src=\"images/godel.jpg\" style=\"float:left\" width=\"200\">\n",
    "\n",
    "<div style=\"float:left;width:75%\">\n",
    "    \n",
    "* Defined the class of **general recursive functions** as the smallest set of functions containing \n",
    "  + all the constant functions\n",
    "  + the successor function and \n",
    "  + closed under certain operations (such as compositions and recursion). \n",
    "* He postulated that a function is computable (in the intuitive sense) if and only if it is general recursive.\n",
    "\n",
    "</div>"
   ]
  },
  {
   "cell_type": "markdown",
   "metadata": {
    "slideshow": {
     "slide_type": "slide"
    }
   },
   "source": [
    "## Impact of Church-Turing thesis\n",
    "\n",
    "* The **“Church-Turing Thesis”** is by itself is one of the most important ideas on computer science\n",
    "  + The impact of Church and Turing’s models goes far beyond the thesis itself."
   ]
  },
  {
   "cell_type": "markdown",
   "metadata": {
    "slideshow": {
     "slide_type": "slide"
    }
   },
   "source": [
    "## Impact of Church-Turing thesis\n",
    "\n",
    "* Oddly, however, the impact of each has been in almost completely separate communities\n",
    "  + Turing Machines $\\Rightarrow$ Algorithms & Complexity\n",
    "  + Lambda Calculus $\\Rightarrow$ Programming Languages\n",
    "* Not accidental\n",
    "  + Turing machines are quite low level $\\Rightarrow$ well suited for measuring resources (**efficiency**).\n",
    "  + Lambda Calculus is quite high level $\\Rightarrow$ well suited for abstraction and composition (**structure**)."
   ]
  },
  {
   "cell_type": "markdown",
   "metadata": {
    "slideshow": {
     "slide_type": "slide"
    }
   },
   "source": [
    "## Programming Language Expressiveness\n",
    "\n",
    "* So what language features are needed to express all computable functions?\n",
    "  + *What's the minimal language that is Turing Complete?*\n",
    "* Observe that many features that we have seen in this class were syntactic sugar\n",
    "  + **Multi-argument functions** - simulate using partial application\n",
    "  + **For loop, while loop** - simulate using recursive functions"
   ]
  },
  {
   "cell_type": "markdown",
   "metadata": {
    "slideshow": {
     "slide_type": "fragment"
    }
   },
   "source": [
    "<center>\n",
    "\n",
    "<h1 style=\"text-align:center\"> All you need is Functions.</i> </h1>\n",
    "</center>"
   ]
  },
  {
   "cell_type": "markdown",
   "metadata": {
    "slideshow": {
     "slide_type": "slide"
    }
   },
   "source": [
    "## Lambda Calculus : Syntax\n",
    "\n",
    "\\\\[\n",
    "\\begin{array}{rcll}\n",
    "e & ::=  & x & \\text{(Variable)} \\\\\n",
    "  & \\mid & \\lambda x.e & \\text{(Abstraction)} \\\\\n",
    "  & \\mid & e~e & \\text{(Application)}\n",
    "\\end{array}\n",
    "\\\\]"
   ]
  },
  {
   "cell_type": "markdown",
   "metadata": {
    "slideshow": {
     "slide_type": "fragment"
    }
   },
   "source": [
    "* This grammar describes ASTs; not for parsing (ambiguous!)\n",
    "* Lambda expressions also known as lambda **terms**\n",
    "* $\\lambda x.e$ is like `fun x -> e`"
   ]
  },
  {
   "cell_type": "markdown",
   "metadata": {
    "slideshow": {
     "slide_type": "fragment"
    }
   },
   "source": [
    "<center>\n",
    "    \n",
    "<h2 style=\"text-align:center\"> That's it! Nothing but higher order functions </h2>\n",
    "</center>"
   ]
  },
  {
   "cell_type": "markdown",
   "metadata": {
    "slideshow": {
     "slide_type": "slide"
    }
   },
   "source": [
    "## Why Study Lambda Calculus?\n",
    "\n",
    "* It is a \"core\" language\n",
    "  + Very small but still Turing complete\n",
    "* But with it can explore general ideas\n",
    "  + Language features, semantics, proof systems, algorithms, ...\n",
    "* Plus, higher-order, anonymous functions (aka lambdas) are now very popular!\n",
    "  + C++ (C++11), PHP (PHP 5.3.0), C# (C# v2.0), Delphi (since 2009), Objective C, Java 8, Swift, Python, Ruby (Procs), ...\n",
    "  + and functional languages like OCaml, Haskell, F#, ..."
   ]
  },
  {
   "cell_type": "markdown",
   "metadata": {
    "slideshow": {
     "slide_type": "slide"
    }
   },
   "source": [
    "## Two Conventions\n",
    "\n",
    "1. Scope of $\\lambda$ extends as far right as possible\n",
    "  + Subject to scope delimited by parentheses\n",
    "  + $\\lambda x. \\lambda y.x~y~$ is the same as $\\lambda x.(\\lambda y.(x~y))$"
   ]
  },
  {
   "cell_type": "markdown",
   "metadata": {
    "slideshow": {
     "slide_type": "fragment"
    }
   },
   "source": [
    "2. Function Application is left-associative\n",
    "  + `x y z` is `(x y) z`\n",
    "  + Same rule as OCaml"
   ]
  },
  {
   "cell_type": "markdown",
   "metadata": {
    "slideshow": {
     "slide_type": "slide"
    }
   },
   "source": [
    "## Lambda calculus interpreter in OCaml\n",
    "\n",
    "* In Assignment 2, you will be implementing a lambda calculus interpreter in OCaml.\n",
    "* What is the Abstract Syntax Tree (AST)?\n",
    "\n",
    "```ocaml\n",
    "type expr = \n",
    "  | Var of string\n",
    "  | Lam of string * expr\n",
    "  | App of expr * expr\n",
    "```"
   ]
  },
  {
   "cell_type": "markdown",
   "metadata": {
    "slideshow": {
     "slide_type": "slide"
    }
   },
   "source": [
    "## Lambda expressions in OCaml\n",
    "\n",
    "* $y~$ is `Var \"y\"`\n",
    "* $\\lambda x.x~$ is `Lam (\"x\", Var \"x\")`\n",
    "* $\\lambda x. \\lambda y.x ~y~$ is `Lam (\"x\",(Lam(\"y\",App (Var \"x\", Var \"y\"))))`\n",
    "* $(\\lambda x.\\lambda y.x ~y) ~(\\lambda x.x ~x~)$ is\n",
    "\n",
    "```ocaml\n",
    "App\n",
    "  (Lam (\"x\", Lam (\"y\",App (Var \"x\", Var \"y\"))),\n",
    "   Lam (\"x\", App (Var \"x\", Var \"x\")))\n",
    "```"
   ]
  },
  {
   "cell_type": "code",
   "execution_count": 11,
   "metadata": {
    "slideshow": {
     "slide_type": "slide"
    }
   },
   "outputs": [
    {
     "name": "stdout",
     "output_type": "stream",
     "text": [
      "val parse : string -> Syntax.expr = <fun>\n",
      "val free_variables : string -> Eval.SS.elt list = <fun>\n",
      "val substitute : string -> string -> string -> string = <fun>\n"
     ]
    }
   ],
   "source": [
    "#use \"./init.ml\";;"
   ]
  },
  {
   "cell_type": "code",
   "execution_count": 12,
   "metadata": {},
   "outputs": [
    {
     "data": {
      "text/plain": [
       "- : Syntax.expr = Var \"y\"\n"
      ]
     },
     "execution_count": 12,
     "metadata": {},
     "output_type": "execute_result"
    },
    {
     "data": {
      "text/plain": [
       "- : Syntax.expr = Lam (\"x\", Var \"x\")\n"
      ]
     },
     "execution_count": 12,
     "metadata": {},
     "output_type": "execute_result"
    },
    {
     "data": {
      "text/plain": [
       "- : Syntax.expr = Lam (\"x\", Lam (\"y\", App (Var \"x\", Var \"y\")))\n"
      ]
     },
     "execution_count": 12,
     "metadata": {},
     "output_type": "execute_result"
    },
    {
     "data": {
      "text/plain": [
       "- : Syntax.expr =\n",
       "App (Lam (\"x\", Lam (\"y\", App (Var \"x\", Var \"y\"))),\n",
       " Lam (\"x\", App (Var \"x\", Var \"x\")))\n"
      ]
     },
     "execution_count": 12,
     "metadata": {},
     "output_type": "execute_result"
    }
   ],
   "source": [
    "parse \"y\";;\n",
    "parse \"λx.x\";;\n",
    "parse \"\\\\x.\\\\y.x y\";;\n",
    "parse \"(\\\\x.\\\\y.x y) (\\\\x. x x)\";;"
   ]
  },
  {
   "cell_type": "markdown",
   "metadata": {
    "slideshow": {
     "slide_type": "slide"
    }
   },
   "source": [
    "### Practice 1\n",
    "\n",
    "$\\lambda x.(y ~z)$ and $\\lambda x.y ~z$ are equivalent.\n",
    "\n",
    "1. True\n",
    "2. False"
   ]
  },
  {
   "cell_type": "markdown",
   "metadata": {
    "slideshow": {
     "slide_type": "slide"
    }
   },
   "source": [
    "### Practice 1\n",
    "$\\lambda x.(y ~z)$ and $\\lambda x.y ~z$ are equivalent.\n",
    "\n",
    "1. True ✅\n",
    "2. False"
   ]
  },
  {
   "cell_type": "markdown",
   "metadata": {
    "slideshow": {
     "slide_type": "slide"
    }
   },
   "source": [
    "### Practice 2\n",
    "\n",
    "What is this term’s AST? $\\lambda x.x ~x$\n",
    "\n",
    "1. `App (Lam (\"x\", Var \"x\"), Var \"x\")`\n",
    "2. `Lam (Var \"x\", Var \"x\", Var \"x\")`\n",
    "3. `Lam (\"x\", App (Var \"x\", Var \"x\"))`\n",
    "4. `App (Lam (\"x\", App (\"x\", \"x\")))`"
   ]
  },
  {
   "cell_type": "markdown",
   "metadata": {
    "slideshow": {
     "slide_type": "slide"
    }
   },
   "source": [
    "### Practice 2\n",
    "\n",
    "What is this term’s AST? $\\lambda x.x ~x$\n",
    "\n",
    "1. `App (Lam (\"x\", Var \"x\"), Var \"x\")`\n",
    "2. `Lam (Var \"x\", Var \"x\", Var \"x\")`\n",
    "3. `Lam (\"x\", App (Var \"x\", Var \"x\"))` ✅\n",
    "4. `App (Lam (\"x\", App (\"x\", \"x\")))`"
   ]
  },
  {
   "cell_type": "markdown",
   "metadata": {
    "slideshow": {
     "slide_type": "slide"
    }
   },
   "source": [
    "### Practice 3\n",
    "\n",
    "This term is equivalent to which of the following?\n",
    "\n",
    "$\\lambda x.x ~a ~b$\n",
    "\n",
    "1. $(\\lambda x.x) ~(a ~b)$\n",
    "2. $(((\\lambda x.x) ~a) ~b)$\n",
    "3. $\\lambda x.(x ~(a ~b))$\n",
    "4. $\\lambda x.((x ~a) ~b)$"
   ]
  },
  {
   "cell_type": "markdown",
   "metadata": {
    "slideshow": {
     "slide_type": "slide"
    }
   },
   "source": [
    "### Practice 3\n",
    "\n",
    "This term is equivalent to which of the following?\n",
    "\n",
    "$\\lambda x.x ~a ~b$\n",
    "\n",
    "1. $(\\lambda x.x) ~(a ~b)$\n",
    "2. $(((\\lambda x.x) ~a) ~b)$\n",
    "3. $\\lambda x.(x ~(a ~b))$\n",
    "4. $(\\lambda x.((x ~a) ~b))$ ✅"
   ]
  },
  {
   "cell_type": "markdown",
   "metadata": {
    "slideshow": {
     "slide_type": "slide"
    }
   },
   "source": [
    "## Free Variables\n",
    "\n",
    "In\n",
    "\n",
    "```ocaml\n",
    "λx. x y\n",
    "```\n",
    "\n",
    "* The first `x` is the binder. \n",
    "* The second `x` is a **bound** variable.\n",
    "* The `y` is a **free** variable."
   ]
  },
  {
   "cell_type": "markdown",
   "metadata": {
    "slideshow": {
     "slide_type": "slide"
    }
   },
   "source": [
    "## Free Variables\n",
    "\n",
    "Let $FV(t)$ denote the free variables in a term $t$. \n",
    "\n",
    "We can define $FV(t)$ inductively over the definition of terms as follows:\n",
    "\n",
    "\\\\[\n",
    "\\begin{array}{rcl}\n",
    "FV(x) & = & \\{x\\} \\\\\n",
    "FV(\\lambda x.t_1) & = & FV(t_1) \\setminus \\{x\\} \\\\\n",
    "FV(t_1 ~t_2) & = & FV(t_1) ~\\cup~ FV(t_2)\n",
    "\\end{array}\n",
    "\\\\]\n",
    "\n",
    "If $FV(t) = \\emptyset$ then we say that $t$ is a **closed** term.\n",
    "\n",
    "$\n",
    "\\newcommand{\\cg}[1]{\\color{green}{#1}}\n",
    "\\newcommand{\\cr}[1]{\\color{red}{#1}}\n",
    "\\newcommand{\\cb}[1]{\\color{blue}{#1}}\n",
    "$"
   ]
  },
  {
   "cell_type": "markdown",
   "metadata": {
    "slideshow": {
     "slide_type": "slide"
    }
   },
   "source": [
    "### Practice 4\n",
    "\n",
    "What are the free variables in the following?\n",
    "\n",
    "1. $\\lambda x.x ~(\\lambda y. y)$\n",
    "2. $x ~y ~z$\n",
    "3. $\\lambda x. (\\lambda y. y) ~x ~y$\n",
    "4. $\\lambda x. (\\lambda y. x) ~y$"
   ]
  },
  {
   "cell_type": "markdown",
   "metadata": {
    "slideshow": {
     "slide_type": "slide"
    }
   },
   "source": [
    "### Practice 4\n",
    "\n",
    "What are the free variables in the following?\n",
    "\n",
    "$\n",
    "\\begin{array}{ll}\n",
    "1. ~\\lambda x.x ~(\\lambda y. y) & \\{\\} \\\\\n",
    "2. ~\\cr{x ~y ~z} & \\{x,y,z\\} \\\\\n",
    "3. ~\\lambda x. (\\lambda y. y) ~x ~\\cr{y} & \\{y\\} \\\\\n",
    "4. ~\\lambda x. (\\lambda y. x) ~\\cr{y} & \\{y\\}\n",
    "\\end{array}\n",
    "$"
   ]
  },
  {
   "cell_type": "code",
   "execution_count": 13,
   "metadata": {
    "slideshow": {
     "slide_type": "slide"
    }
   },
   "outputs": [
    {
     "data": {
      "text/plain": [
       "- : Eval.SS.elt list = []\n"
      ]
     },
     "execution_count": 13,
     "metadata": {},
     "output_type": "execute_result"
    },
    {
     "data": {
      "text/plain": [
       "- : Eval.SS.elt list = [\"x\"; \"y\"; \"z\"]\n"
      ]
     },
     "execution_count": 13,
     "metadata": {},
     "output_type": "execute_result"
    },
    {
     "data": {
      "text/plain": [
       "- : Eval.SS.elt list = [\"y\"]\n"
      ]
     },
     "execution_count": 13,
     "metadata": {},
     "output_type": "execute_result"
    },
    {
     "data": {
      "text/plain": [
       "- : Eval.SS.elt list = [\"y\"]\n"
      ]
     },
     "execution_count": 13,
     "metadata": {},
     "output_type": "execute_result"
    }
   ],
   "source": [
    "free_variables \"\\\\x.x (\\\\y. y)\";;\n",
    "free_variables \"x y z\";;\n",
    "free_variables \"\\\\x.(\\\\y. y) x y\";;\n",
    "free_variables \"\\\\x.(\\\\y.x) y\";;"
   ]
  },
  {
   "cell_type": "code",
   "execution_count": null,
   "metadata": {},
   "outputs": [],
   "source": []
  }
 ],
 "metadata": {
  "celltoolbar": "Slideshow",
  "kernelspec": {
   "display_name": "OCaml 4.10",
   "language": "OCaml",
   "name": "ocaml-jupyter"
  },
  "language_info": {
   "codemirror_mode": "text/x-ocaml",
   "file_extension": ".ml",
   "mimetype": "text/x-ocaml",
   "name": "OCaml",
   "nbconverter_exporter": null,
   "pygments_lexer": "OCaml",
   "version": "4.10.0"
  }
 },
 "nbformat": 4,
 "nbformat_minor": 2
}
