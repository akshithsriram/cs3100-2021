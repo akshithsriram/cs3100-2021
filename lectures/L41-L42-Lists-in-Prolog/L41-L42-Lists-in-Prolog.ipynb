{
 "cells": [
  {
   "cell_type": "markdown",
   "metadata": {
    "slideshow": {
     "slide_type": "slide"
    }
   },
   "source": [
    "<center>\n",
    "<h1>CS3100 - Lecture 41-42 - Oct 28, 29, 2021</h1>\n",
    "<h2>Lists in Prolog</h2>\n",
    "</center>"
   ]
  },
  {
   "cell_type": "markdown",
   "metadata": {
    "slideshow": {
     "slide_type": "slide"
    }
   },
   "source": [
    "## Review\n",
    "\n",
    "### Previously\n",
    "\n",
    "* Solving a logic puzzle\n",
    "\n",
    "### This lecture\n",
    "\n",
    "* Programming with Lists\n",
    "* And many concepts in the process\n",
    "  + Arithmetic\n",
    "  + Last call optimisation\n",
    "  + Backtracking & Choice points."
   ]
  },
  {
   "cell_type": "markdown",
   "metadata": {
    "slideshow": {
     "slide_type": "slide"
    }
   },
   "source": [
    "## Trouble with Zebras\n",
    "\n",
    "* Our zebra puzzle only works with 5 houses.\n",
    "  + Problem is the 5-tuple `street(H1,H2,H3,H4,H5)`.\n",
    "* Need to rewrite the entire program if more houses were added.\n",
    "* What we really need is **lists**."
   ]
  },
  {
   "cell_type": "markdown",
   "metadata": {
    "slideshow": {
     "slide_type": "slide"
    }
   },
   "source": [
    "## Support for lists in Prolog\n",
    "\n",
    "* Notated with square brackets `[1,2,3,4]`.\n",
    "* The empty list is `[]`.\n",
    "* List pattern matching is `[H | T]`, where `H` is a list element and `T` is a list.\n",
    "  + Can also match `[1,2,3 | T]`.\n"
   ]
  },
  {
   "cell_type": "markdown",
   "metadata": {
    "slideshow": {
     "slide_type": "slide"
    }
   },
   "source": [
    "## Quiz\n",
    "\n",
    "Which of these unify?\n",
    "\n",
    "1. `[1,2] = [H | [2]]`\n",
    "2. `[1,2] = [1 | 2]`\n",
    "3. `[1,2] = [X,Y | []]`\n",
    "4. `[1,2] = [ _ | [1,2]]`"
   ]
  },
  {
   "cell_type": "markdown",
   "metadata": {
    "slideshow": {
     "slide_type": "slide"
    }
   },
   "source": [
    "## Quiz\n",
    "\n",
    "Which of these unify?\n",
    "\n",
    "1. `[1,2] = [H | [2]]` **yes - H=1**\n",
    "2. `[1,2] = [1 | 2]` **no - RHS is not a list**\n",
    "3. `[1,2] = [X,Y | []]` **yes - X=1,Y=2**\n",
    "4. `[1,2] = [ _ | [1,2]]` **no - RHS unifies with a list `[X,1,2]`**"
   ]
  },
  {
   "cell_type": "markdown",
   "metadata": {
    "slideshow": {
     "slide_type": "slide"
    }
   },
   "source": [
    "## Finding the last element of the list"
   ]
  },
  {
   "cell_type": "code",
   "execution_count": 1,
   "metadata": {},
   "outputs": [
    {
     "name": "stdout",
     "output_type": "stream",
     "text": [
      "Added 2 clauses(s)."
     ]
    }
   ],
   "source": [
    "last([H],H).\n",
    "last([_ | T], V) :- last(T, V)."
   ]
  },
  {
   "cell_type": "code",
   "execution_count": 2,
   "metadata": {
    "scrolled": true
   },
   "outputs": [
    {
     "name": "stdout",
     "output_type": "stream",
     "text": [
      "X = 2 ."
     ]
    }
   ],
   "source": [
    "?- last([1,2],X)."
   ]
  },
  {
   "cell_type": "markdown",
   "metadata": {
    "slideshow": {
     "slide_type": "slide"
    }
   },
   "source": [
    "## Tracing the example by hand\n",
    "\n",
    "    last([1,2],X)."
   ]
  },
  {
   "cell_type": "markdown",
   "metadata": {
    "slideshow": {
     "slide_type": "slide"
    }
   },
   "source": [
    "## Quiz\n",
    "```prolog\n",
    "last([H],H).\n",
    "last([_ | T], V) :- last(T, V).\n",
    "```\n",
    "What happens if I ask for `last([],X)`?\n",
    "\n",
    "1. pattern match exception\n",
    "2. Prolog says false.\n",
    "3. Prolog says true, X = [].\n",
    "4. Prolog says true, X = ???."
   ]
  },
  {
   "cell_type": "markdown",
   "metadata": {
    "slideshow": {
     "slide_type": "slide"
    }
   },
   "source": [
    "## Quiz\n",
    "```prolog\n",
    "last([H],H).\n",
    "last([_ | T], V) :- last(T, V).\n",
    "```\n",
    "What happens if I ask for `last([],X)`?\n",
    "\n",
    "1. pattern match exception\n",
    "2. Prolog says false. **✓**\n",
    "3. Prolog says true, X = [].\n",
    "4. Prolog says true, X = ???."
   ]
  },
  {
   "cell_type": "markdown",
   "metadata": {
    "slideshow": {
     "slide_type": "slide"
    }
   },
   "source": [
    "## Tracing the example in SWI-Prolog\n",
    "\n",
    "    last ([1,2],X)\n",
    "    \n",
    "Show what happens with `;` after the first result."
   ]
  }
 ],
 "metadata": {
  "celltoolbar": "Slideshow",
  "kernelspec": {
   "display_name": "SWI-Prolog",
   "language": "",
   "name": "jswipl"
  },
  "language_info": {
   "mimetype": "text/plain",
   "name": "swipl"
  }
 },
 "nbformat": 4,
 "nbformat_minor": 2
}
