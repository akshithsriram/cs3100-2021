{
 "cells": [
  {
   "cell_type": "markdown",
   "metadata": {
    "slideshow": {
     "slide_type": "slide"
    }
   },
   "source": [
    "<div style=\"text-align:center\">\n",
    "    <h2> CS3100 - Lecture 13 - Thu, Aug 26, 8am </h2>\n",
    "    <h1> Two built-in Variants : Lists and Options </h1><br>\n",
    "</div>"
   ]
  },
  {
   "cell_type": "markdown",
   "metadata": {
    "slideshow": {
     "slide_type": "slide"
    }
   },
   "source": [
    "## Recall\n",
    "* Tuples, records and variants\n",
    "\n",
    "## Today\n",
    "* Two built-in variants - `lists` and `options`\n",
    "* Pattern matching"
   ]
  },
  {
   "cell_type": "markdown",
   "metadata": {
    "slideshow": {
     "slide_type": "slide"
    }
   },
   "source": [
    "## Question\n",
    "\n",
    "Given records, variants and tuples, which one would you pick for the following cases?\n",
    "\n",
    "1. Represent currency denominations 10, 20, 50, 100, 200, 500, 2000.\n",
    "2. Students who have name and roll numbers.\n",
    "3. A dessert which has a sauce, a creamy component, and a crunchy component."
   ]
  },
  {
   "cell_type": "markdown",
   "metadata": {
    "slideshow": {
     "slide_type": "slide"
    }
   },
   "source": [
    "## Question\n",
    "\n",
    "Given records, variants and tuples, which one would you pick for the following cases?\n",
    "\n",
    "1. Represent currency denominations 10, 20, 50, 100, 200, 500, 2000.\n",
    "```ocaml\n",
    "type denomination = D10 | D20 | D50 | D100 | D200 | D500 | D2000\n",
    "```\n",
    "2. Students who have name and roll numbers.\n",
    "```ocaml\n",
    "type student = {name : string; roll_no : string}\n",
    "```\n",
    "3. A dessert which has a sauce, a creamy component, and a crunchy component.\n",
    "```ocaml\n",
    "type dessert = {sauce : string; creamy: string; crunchy: string}\n",
    "```"
   ]
  },
  {
   "cell_type": "markdown",
   "metadata": {
    "slideshow": {
     "slide_type": "slide"
    }
   },
   "source": [
    "## What about tuples?\n",
    "\n",
    "Could have used tuples for \n",
    "\n",
    "2. Students who have name and roll numbers.\n",
    "3. A dessert which has a sauce, a creamy component, and a crunchy component.\n",
    "\n",
    "but\n",
    "\n",
    "* Tuples are convenient for local uses\n",
    "  + Returning a pair of values\n",
    "* Records useful to global uses\n",
    "  + _Tuples with documentation_"
   ]
  },
  {
   "cell_type": "markdown",
   "metadata": {
    "slideshow": {
     "slide_type": "slide"
    }
   },
   "source": [
    "### Recall Recursive and Parameterized Variants\n",
    "\n",
    "```Ocaml\n",
    "type 'a lst = \n",
    "    Nil\n",
    "  | Cons of 'a * 'a lst\n",
    "  \n",
    "  \n",
    "  Cons (1, Cons (2, Nil))\n",
    "  \n",
    "  \n",
    "  Cons (\"Hello\", Cons(\"World\", Nil))\n",
    "```"
   ]
  },
  {
   "cell_type": "markdown",
   "metadata": {
    "slideshow": {
     "slide_type": "slide"
    }
   },
   "source": [
    "## Recall OCaml Lists"
   ]
  },
  {
   "cell_type": "code",
   "execution_count": null,
   "metadata": {
    "slideshow": {
     "slide_type": "fragment"
    }
   },
   "outputs": [],
   "source": [
    "[]"
   ]
  },
  {
   "cell_type": "code",
   "execution_count": null,
   "metadata": {
    "slideshow": {
     "slide_type": "fragment"
    }
   },
   "outputs": [],
   "source": [
    "1::2::[]"
   ]
  },
  {
   "cell_type": "markdown",
   "metadata": {
    "slideshow": {
     "slide_type": "fragment"
    }
   },
   "source": [
    "can also write is as"
   ]
  },
  {
   "cell_type": "code",
   "execution_count": null,
   "metadata": {
    "slideshow": {
     "slide_type": "fragment"
    }
   },
   "outputs": [],
   "source": [
    "[1;2]"
   ]
  },
  {
   "cell_type": "markdown",
   "metadata": {
    "slideshow": {
     "slide_type": "slide"
    }
   },
   "source": [
    "## Lists are just built in variants.\n",
    "\n",
    "OCaml effectively codes up lists as variants:\n",
    "\n",
    "```ocaml\n",
    "type 'a list = \n",
    "    [] \n",
    "  | :: of 'a * 'a list\n",
    "```\n",
    "\n",
    "* `[]` and `::` are the constuctors in this case."
   ]
  },
  {
   "cell_type": "markdown",
   "metadata": {
    "slideshow": {
     "slide_type": "slide"
    }
   },
   "source": [
    "## `::` is right-associative"
   ]
  },
  {
   "cell_type": "code",
   "execution_count": null,
   "metadata": {},
   "outputs": [],
   "source": [
    "1::2::[]"
   ]
  },
  {
   "cell_type": "markdown",
   "metadata": {},
   "source": [
    "is equivalent to"
   ]
  },
  {
   "cell_type": "code",
   "execution_count": null,
   "metadata": {},
   "outputs": [],
   "source": [
    "1::(2::[])"
   ]
  },
  {
   "cell_type": "markdown",
   "metadata": {
    "slideshow": {
     "slide_type": "slide"
    }
   },
   "source": [
    "## Recall what we did with integer lists"
   ]
  },
  {
   "cell_type": "code",
   "execution_count": null,
   "metadata": {
    "slideshow": {
     "slide_type": "fragment"
    }
   },
   "outputs": [],
   "source": [
    "type intlist = Nil | Cons of int * intlist\n",
    "\n",
    "let lst3 = Cons (3, Nil)\n",
    "let lst123 = Cons(1, Cons(2, lst3))\n",
    "\n",
    "let rec sum (l:intlist) : int=\n",
    "  match l with\n",
    "  | Nil -> 0\n",
    "  | Cons(h,t) -> h + sum t"
   ]
  },
  {
   "cell_type": "markdown",
   "metadata": {
    "slideshow": {
     "slide_type": "slide"
    }
   },
   "source": [
    "## Pattern Matching on Lists\n"
   ]
  },
  {
   "cell_type": "code",
   "execution_count": null,
   "metadata": {
    "slideshow": {
     "slide_type": "fragment"
    }
   },
   "outputs": [],
   "source": [
    "let rec sum l = \n",
    "  match l with\n",
    "  | [] -> 0\n",
    "  | h::t -> h + sum t "
   ]
  },
  {
   "cell_type": "code",
   "execution_count": null,
   "metadata": {
    "slideshow": {
     "slide_type": "fragment"
    }
   },
   "outputs": [],
   "source": [
    "assert (sum [1;2;3;4] = 10)"
   ]
  },
  {
   "cell_type": "markdown",
   "metadata": {
    "slideshow": {
     "slide_type": "slide"
    }
   },
   "source": [
    "## Pattern Matching on Lists\n",
    "\n",
    "The in-built defintion is:\n",
    "```ocaml\n",
    "type 'a list = [] | :: of 'a * 'a list\n",
    "```\n",
    "\n",
    "* For lists, the patterns allowed follow from the constructors\n",
    "  + The pattern `[]` matches the value `[]`.\n",
    "  + The patterh `h::t`\n",
    "    - matches `2::[]`, binding `h` to `2` and `t` to `[]`.\n",
    "    - matches `2::3::[]`, binding `h` to `2` and `t` to `3::[]`.\n",
    "  + The pattern `_` is a **wildcard pattern** and matches anything. "
   ]
  },
  {
   "cell_type": "markdown",
   "metadata": {
    "slideshow": {
     "slide_type": "slide"
    }
   },
   "source": [
    "## A common idiom expressing this"
   ]
  },
  {
   "cell_type": "code",
   "execution_count": null,
   "metadata": {},
   "outputs": [],
   "source": [
    "let rec sum l = \n",
    "  match l with\n",
    "  | [] -> 0\n",
    "  | x::xs -> x + sum xs"
   ]
  },
  {
   "cell_type": "markdown",
   "metadata": {
    "slideshow": {
     "slide_type": "slide"
    }
   },
   "source": [
    "## Example 2 : Length of a list\n",
    "\n",
    "Given a list `l`, we want to output the number of elements in the list."
   ]
  },
  {
   "cell_type": "code",
   "execution_count": 25,
   "metadata": {
    "slideshow": {
     "slide_type": "fragment"
    }
   },
   "outputs": [
    {
     "data": {
      "text/plain": [
       "val length : 'a list -> int = <fun>\n"
      ]
     },
     "execution_count": 25,
     "metadata": {},
     "output_type": "execute_result"
    }
   ],
   "source": [
    "let rec length l = \n",
    "  match l with\n",
    "  | [] -> 0\n",
    "  | x::xs -> 1 + length xs"
   ]
  },
  {
   "cell_type": "code",
   "execution_count": 33,
   "metadata": {
    "slideshow": {
     "slide_type": "fragment"
    }
   },
   "outputs": [
    {
     "data": {
      "text/plain": [
       "val length : 'a list -> int = <fun>\n"
      ]
     },
     "execution_count": 33,
     "metadata": {},
     "output_type": "execute_result"
    }
   ],
   "source": [
    "let rec length l = \n",
    "  match l with\n",
    "  | [] -> 0\n",
    "  | _::xs -> 1 + length xs"
   ]
  },
  {
   "cell_type": "markdown",
   "metadata": {
    "slideshow": {
     "slide_type": "slide"
    }
   },
   "source": [
    "## Example 3 : Appending one list to another\n",
    "\n",
    "Given two lists `lst1` and `lst2`, output their \"concatenation\" as a list."
   ]
  },
  {
   "cell_type": "code",
   "execution_count": null,
   "metadata": {
    "slideshow": {
     "slide_type": "fragment"
    }
   },
   "outputs": [],
   "source": [
    "let rec append lst1 lst2 = \n",
    "  match lst1 with\n",
    "  | [] -> lst2\n",
    "  | x::xs -> x::(append xs lst2)"
   ]
  },
  {
   "cell_type": "markdown",
   "metadata": {
    "slideshow": {
     "slide_type": "slide"
    }
   },
   "source": [
    "## Example 4 : Testing if a list is empty or not."
   ]
  },
  {
   "cell_type": "code",
   "execution_count": null,
   "metadata": {
    "slideshow": {
     "slide_type": "fragment"
    }
   },
   "outputs": [],
   "source": [
    "let empty lst = \n",
    "  match lst with\n",
    "  | [] -> true\n",
    "  | h::t -> false"
   ]
  },
  {
   "cell_type": "markdown",
   "metadata": {
    "slideshow": {
     "slide_type": "slide"
    }
   },
   "source": [
    " ## Library functions\n",
    " \n",
    " * There are two library functions `List.hd` and `List.tl`\n",
    " * They raise exceptions when applied on empty list.\n",
    " * Pattern matching makes the checks more explicit and hence the code will be more robust."
   ]
  },
  {
   "cell_type": "markdown",
   "metadata": {
    "slideshow": {
     "slide_type": "slide"
    }
   },
   "source": [
    "## Binary Trees using Parameterized Variants"
   ]
  },
  {
   "cell_type": "code",
   "execution_count": null,
   "metadata": {},
   "outputs": [],
   "source": [
    "type 'a tree = \n",
    "  Leaf \n",
    "| Node of 'a tree (* left *) * 'a (* value *) * 'a tree (* right *)"
   ]
  },
  {
   "cell_type": "markdown",
   "metadata": {},
   "source": [
    "Recall : `(* ... *)` is how you write down comments in OCaml"
   ]
  },
  {
   "cell_type": "code",
   "execution_count": null,
   "metadata": {
    "slideshow": {
     "slide_type": ""
    }
   },
   "outputs": [],
   "source": [
    "let t = Node (Leaf, 0.0, Node (Leaf, 1.0, Leaf))"
   ]
  },
  {
   "cell_type": "markdown",
   "metadata": {
    "slideshow": {
     "slide_type": "slide"
    }
   },
   "source": [
    "## Null\n",
    "\n",
    "\"I call it my billion-dollar mistake. It was the invention\n",
    "of the null reference in 1965. At that time, I was\n",
    "**designing the first comprehensive type system for\n",
    "references in an object-oriented language**. My goal was\n",
    "to ensure that all use of references should be\n",
    "**absolutely safe**, with checking performed automatically\n",
    "by the compiler. **But I couldn’t resist the temptation to\n",
    "put in a null reference, simply because it was so easy to\n",
    "implement.** This has led to innumerable errors,\n",
    "vulnerabilities, and system crashes, which have\n",
    "probably caused a **billion dollars of pain and damage** in\n",
    "the last forty years.\"\n",
    "\n",
    "<h2 style=\"text-align:right\"> - Sir Tony Hoare </h2>"
   ]
  },
  {
   "cell_type": "markdown",
   "metadata": {
    "slideshow": {
     "slide_type": "slide"
    }
   },
   "source": [
    "## Option: Another Built-in Variant\n",
    "\n",
    "* OCaml does not have a null value. \n",
    "\n",
    "```ocaml\n",
    "type 'a option = None | Some of 'a\n",
    "```"
   ]
  },
  {
   "cell_type": "code",
   "execution_count": null,
   "metadata": {
    "slideshow": {
     "slide_type": "fragment"
    }
   },
   "outputs": [],
   "source": [
    "None"
   ]
  },
  {
   "cell_type": "code",
   "execution_count": null,
   "metadata": {},
   "outputs": [],
   "source": [
    "Some 10"
   ]
  },
  {
   "cell_type": "code",
   "execution_count": null,
   "metadata": {},
   "outputs": [],
   "source": [
    "Some \"Hello\""
   ]
  },
  {
   "cell_type": "markdown",
   "metadata": {
    "slideshow": {
     "slide_type": "slide"
    }
   },
   "source": [
    "## When to use option types\n",
    "\n",
    "```ocaml\n",
    "type student = { name : string; rollno : string; \n",
    "                 marks : int}\n",
    "```"
   ]
  },
  {
   "cell_type": "markdown",
   "metadata": {
    "slideshow": {
     "slide_type": "fragment"
    }
   },
   "source": [
    "* what value will you assign for `marks` field before the exams are taken?\n",
    "  + `0` is not a good answer since it might also be the case that the student actually scored 0."
   ]
  },
  {
   "cell_type": "markdown",
   "metadata": {
    "slideshow": {
     "slide_type": "fragment"
    }
   },
   "source": [
    "```ocaml\n",
    "type student = { name : string; rollno : string; \n",
    "                 marks : int option }\n",
    "```\n",
    "\n",
    "* Use `None` to indicate the exam has not been taken."
   ]
  },
  {
   "cell_type": "markdown",
   "metadata": {
    "slideshow": {
     "slide_type": "slide"
    }
   },
   "source": [
    "## Recall Pattern Matching\n",
    "  \n",
    "```ocaml\n",
    "match e with\n",
    "| p1 -> e1\n",
    "| p2 -> e2\n",
    "...\n",
    "| pn -> en\n",
    "```\n",
    "\n",
    "* p1 ... pn are patterns."
   ]
  },
  {
   "cell_type": "markdown",
   "metadata": {
    "slideshow": {
     "slide_type": "slide"
    }
   },
   "source": [
    "## Pattern Matching\n",
    "\n",
    "* Pattern matching is data deconstruction\n",
    "  + Match on the *shape* of data\n",
    "  + Extract part(s) of data\n",
    "  \n",
    "### Syntax\n",
    "\n",
    "```ocaml\n",
    "match e with\n",
    "| p1 -> e1\n",
    "| p2 -> e2\n",
    "...\n",
    "| pn -> en\n",
    "```\n",
    "\n",
    "* p1 ... pn are patterns."
   ]
  },
  {
   "cell_type": "markdown",
   "metadata": {
    "slideshow": {
     "slide_type": "slide"
    }
   },
   "source": [
    "## Pattern Matching\n",
    "\n",
    "A new syntactic form called a pattern. \n",
    "\n",
    "* a variable name, e.g. `x`\n",
    "* the underscore character `_`, which is called the `wildcard`\n",
    "* the empty list `[]`\n",
    "* `p1::p2` - it can be arbitrarily deep.\n",
    "* `[p1; ...; pn]`"
   ]
  },
  {
   "cell_type": "markdown",
   "metadata": {
    "slideshow": {
     "slide_type": "slide"
    }
   },
   "source": [
    "## Magic of Pattern Magic"
   ]
  },
  {
   "cell_type": "markdown",
   "metadata": {
    "slideshow": {
     "slide_type": "fragment"
    }
   },
   "source": [
    "## If expression is simply a syntactic sugar !!\n",
    "\n",
    "```Ocaml\n",
    "if e0 then e1 else e2\n",
    "```\n",
    "\n",
    "is nothing but\n",
    "\n",
    "```Ocaml\n",
    "match e0 with true -> e1 | false -> e2\n",
    "```"
   ]
  },
  {
   "cell_type": "markdown",
   "metadata": {
    "slideshow": {
     "slide_type": "fragment"
    }
   },
   "source": [
    "* Let expressions can have patterns in the LHS\n",
    "* Functions can have patterns in the arguments."
   ]
  }
 ],
 "metadata": {
  "celltoolbar": "Slideshow",
  "kernelspec": {
   "display_name": "OCaml 4.10",
   "language": "OCaml",
   "name": "ocaml-jupyter"
  },
  "language_info": {
   "codemirror_mode": "text/x-ocaml",
   "file_extension": ".ml",
   "mimetype": "text/x-ocaml",
   "name": "OCaml",
   "nbconverter_exporter": null,
   "pygments_lexer": "OCaml",
   "version": "4.10.0"
  }
 },
 "nbformat": 4,
 "nbformat_minor": 2
}
