{
 "cells": [
  {
   "cell_type": "markdown",
   "metadata": {
    "slideshow": {
     "slide_type": "slide"
    }
   },
   "source": [
    "<div style=\"text-align:center\">\n",
    "    <h2> CS3100 - Lecture 10 - Thu, Aug 19, 8am </h2>\n",
    "    <h1> Data Types & Type Constructors </h1>\n",
    "</div>"
   ]
  },
  {
   "cell_type": "markdown",
   "metadata": {
    "slideshow": {
     "slide_type": "slide"
    }
   },
   "source": [
    "## Data Types in OCaml\n",
    "\n",
    "* **int**\tInteger numbers\n",
    "* **float**\tFloating-point numbers\n",
    "* **char**\tCharacters\n",
    "* **string**\tCharacter strings\n",
    "* **bool**\tBooleans\n",
    "* **unit**\tUnit values"
   ]
  },
  {
   "cell_type": "markdown",
   "metadata": {
    "slideshow": {
     "slide_type": "slide"
    }
   },
   "source": [
    "## Constructing New Data Types\n",
    "\n",
    "* Constructing new data types from existing types - type constructors.\n",
    "* `lists` and `tuples` which might feel similar to Python;\n",
    "* `records` and `variants` which might feel similar to struct and enum types from C."
   ]
  },
  {
   "cell_type": "markdown",
   "metadata": {
    "slideshow": {
     "slide_type": "slide"
    }
   },
   "source": [
    "# Lists"
   ]
  },
  {
   "cell_type": "markdown",
   "metadata": {
    "slideshow": {
     "slide_type": "-"
    }
   },
   "source": [
    "## Lists\n",
    "\n",
    "* A sequence of values all of which have the same type.\n",
    "* Syntax is as follows:\n",
    "\n",
    "    * `[]` is the empty list\n",
    "    * `e1::e2` - `::` is called the cons operator to construct new lists from existing list (`e2`) by adding an element (`e1`) to the front of it.\n",
    "    \n",
    "    * `[e1; e2; ...; en]` - is a syntactic sugar."
   ]
  },
  {
   "cell_type": "code",
   "execution_count": 21,
   "metadata": {},
   "outputs": [
    {
     "data": {
      "text/plain": [
       "- : int list = [1; 2; 3]\n"
      ]
     },
     "execution_count": 21,
     "metadata": {},
     "output_type": "execute_result"
    }
   ],
   "source": [
    "1::2::3::[]"
   ]
  },
  {
   "cell_type": "code",
   "execution_count": 24,
   "metadata": {},
   "outputs": [
    {
     "data": {
      "text/plain": [
       "- : int list = [3]\n"
      ]
     },
     "execution_count": 24,
     "metadata": {},
     "output_type": "execute_result"
    }
   ],
   "source": [
    "3::[]"
   ]
  },
  {
   "cell_type": "markdown",
   "metadata": {
    "slideshow": {
     "slide_type": "slide"
    }
   },
   "source": [
    "## Lists : Semantics\n",
    "\n",
    "### Static :\n",
    "`[]` : 'a list\n",
    "if `e1 : t` and `e2 : t list` then `e1::e2 : t list`.\n",
    "\n",
    "### Dynamic :\n",
    "* if $e1 \\rightarrow v1$, and if $e2 \\rightarrow v2$, then $e1::e2 \\rightarrow v1::v2$\n",
    "* if $ei \\rightarrow vi$ for all $i \\in \\{1 \\ldots n\\}$, then $[e1; \\ldots ; en] \\rightarrow [v1; \\ldots ; vn]$."
   ]
  },
  {
   "cell_type": "code",
   "execution_count": 27,
   "metadata": {
    "slideshow": {
     "slide_type": "fragment"
    }
   },
   "outputs": [
    {
     "data": {
      "text/plain": [
       "- : string list = [\"CS3100\"; \"abv\"]\n"
      ]
     },
     "execution_count": 27,
     "metadata": {},
     "output_type": "execute_result"
    }
   ],
   "source": [
    "[\"CS3100\";\"abv\"]"
   ]
  },
  {
   "cell_type": "code",
   "execution_count": 28,
   "metadata": {
    "slideshow": {
     "slide_type": "fragment"
    }
   },
   "outputs": [
    {
     "ename": "error",
     "evalue": "compile_error",
     "output_type": "error",
     "traceback": [
      "File \"[28]\", line 1, characters 10-11:\n1 | [\"CS3100\";1]\n              ^\nError: This expression has type int but an expression was expected of type\n         string\n"
     ]
    }
   ],
   "source": [
    "[\"CS3100\";1]"
   ]
  },
  {
   "cell_type": "markdown",
   "metadata": {
    "slideshow": {
     "slide_type": "slide"
    }
   },
   "source": [
    "# Tuples"
   ]
  },
  {
   "cell_type": "markdown",
   "metadata": {
    "slideshow": {
     "slide_type": "slide"
    }
   },
   "source": [
    "## Tuples\n",
    "\n",
    "* A sequence of values which need not be of the same type.\n",
    "* A tuple with two components is called a *pair*.\n",
    "* A tuple with three components is called a *triple*.\n",
    "* Syntax is as follows:\n",
    "\n",
    "```Ocaml\n",
    "    (e1, e2, ..., en)\n",
    "```\n"
   ]
  },
  {
   "cell_type": "code",
   "execution_count": 33,
   "metadata": {
    "slideshow": {
     "slide_type": "slide"
    }
   },
   "outputs": [
    {
     "data": {
      "text/plain": [
       "- : int * float = (7, 20.8)\n"
      ]
     },
     "execution_count": 33,
     "metadata": {},
     "output_type": "execute_result"
    }
   ],
   "source": [
    "(3+4,4.0 *. 5.2)"
   ]
  },
  {
   "cell_type": "markdown",
   "metadata": {
    "slideshow": {
     "slide_type": "slide"
    }
   },
   "source": [
    "## Tuples : Semantics\n",
    "\n",
    "```Ocaml\n",
    "    (e1, e2, ..., en)\n",
    "```\n",
    "\n",
    "### Static \n",
    "\n",
    "* if for all $i \\in \\{1..n\\}$ it holds that `ei : ti`, then `(e1, \\ldots, en) : t1 * t2 * ... * tn`.\n",
    "\n",
    "### Dynamic\n",
    "\n",
    "* if for all $i \\in \\{1..n\\}$ it holds that `ei` $\\rightarrow$ `vi`, then `(e1, ..., en)` $\\rightarrow$ `(v1, ..., vn)`."
   ]
  },
  {
   "cell_type": "code",
   "execution_count": 34,
   "metadata": {
    "slideshow": {
     "slide_type": "fragment"
    }
   },
   "outputs": [
    {
     "data": {
      "text/plain": [
       "- : int * int = (1, 2)\n"
      ]
     },
     "execution_count": 34,
     "metadata": {},
     "output_type": "execute_result"
    }
   ],
   "source": [
    "(1,2)"
   ]
  },
  {
   "cell_type": "code",
   "execution_count": 35,
   "metadata": {
    "slideshow": {
     "slide_type": "fragment"
    }
   },
   "outputs": [
    {
     "data": {
      "text/plain": [
       "- : int * string = (1, \"CS3100\")\n"
      ]
     },
     "execution_count": 35,
     "metadata": {},
     "output_type": "execute_result"
    }
   ],
   "source": [
    "(1,\"CS3100\")"
   ]
  },
  {
   "cell_type": "markdown",
   "metadata": {
    "slideshow": {
     "slide_type": "slide"
    }
   },
   "source": [
    "### We can use tuples to define multi-argument functions\n",
    "\n",
    "```OCaml\n",
    "let max1 (pair : float * float) : float =\n",
    "  let r1 = fst pair in\n",
    "  let r2 = snd pair in\n",
    "    if r1 < r2 then r2 else r1\n",
    "```\n",
    "\n",
    "* `fst` gives the first element of the pair.\n",
    "* `snd` gives the second element of the pair.\n",
    "* Function still have only one argument and one return value."
   ]
  },
  {
   "cell_type": "code",
   "execution_count": 38,
   "metadata": {
    "slideshow": {
     "slide_type": "slide"
    }
   },
   "outputs": [
    {
     "data": {
      "text/plain": [
       "val max1 : float * float -> float = <fun>\n"
      ]
     },
     "execution_count": 38,
     "metadata": {},
     "output_type": "execute_result"
    }
   ],
   "source": [
    "let max1 (pair : float * float) : float =\n",
    "  let ((r1:float),(r2:float)) = pair in\n",
    "    if r1 < r2 then r2 else r1;;"
   ]
  },
  {
   "cell_type": "markdown",
   "metadata": {
    "slideshow": {
     "slide_type": "slide"
    }
   },
   "source": [
    "## Accessing Tuple elements \n",
    "\n",
    "```Ocaml \n",
    "let (x1:t1, x2:t2,..., xn:tn) = e\n",
    "```\n",
    "matches the value of the expression `e`, which must be an `n`-tuple, against the tuple-pattern `(x1:t1, x2:t2,..., xn:tn)` and binds the identifiers in the pattern to the appropriate components of the tuple.\n",
    "\n",
    "* Binding happens as per the order in which they are written."
   ]
  },
  {
   "cell_type": "code",
   "execution_count": 41,
   "metadata": {
    "slideshow": {
     "slide_type": "slide"
    }
   },
   "outputs": [
    {
     "data": {
      "text/plain": [
       "val max1 : float * float -> float = <fun>\n"
      ]
     },
     "execution_count": 41,
     "metadata": {},
     "output_type": "execute_result"
    }
   ],
   "source": [
    "let max1 ((r1, r2) : float*float) : float =\n",
    "  if r1 < r2 then r2 else r1"
   ]
  },
  {
   "cell_type": "code",
   "execution_count": 45,
   "metadata": {
    "slideshow": {
     "slide_type": "slide"
    }
   },
   "outputs": [
    {
     "ename": "error",
     "evalue": "compile_error",
     "output_type": "error",
     "traceback": [
      "File \"[45]\", line 1, characters 5-9:\n1 | max1 (5.)\n         ^^^^\nError: This expression has type float but an expression was expected of type\n         float * float\n"
     ]
    }
   ],
   "source": [
    "max1 (5.)"
   ]
  },
  {
   "cell_type": "markdown",
   "metadata": {
    "slideshow": {
     "slide_type": "slide"
    }
   },
   "source": [
    "## Accessing Tuple elements \n",
    "\n",
    "```Ocaml\n",
    "let f (x1:t1, x2:t2,..., xn:tn) = e\n",
    "```\n",
    "is a declaration of a function `f` that takes an `n`-tuple as an argument and matches that tuple against the tuple-pattern `(x1:t1, x2:t2,..., xn:tn)`, then evaluates `e` with those bindings."
   ]
  },
  {
   "cell_type": "markdown",
   "metadata": {
    "slideshow": {
     "slide_type": "slide"
    }
   },
   "source": [
    "## Type aliases\n",
    "\n",
    "OCaml supports the definition of aliases for existing types. For example,"
   ]
  },
  {
   "cell_type": "code",
   "execution_count": 48,
   "metadata": {
    "slideshow": {
     "slide_type": "fragment"
    }
   },
   "outputs": [
    {
     "data": {
      "text/plain": [
       "type int_float_pair = int * float\n"
      ]
     },
     "execution_count": 48,
     "metadata": {},
     "output_type": "execute_result"
    }
   ],
   "source": [
    "type int_float_pair = int * float"
   ]
  },
  {
   "cell_type": "code",
   "execution_count": 46,
   "metadata": {
    "slideshow": {
     "slide_type": "fragment"
    }
   },
   "outputs": [
    {
     "data": {
      "text/plain": [
       "val x : int * float = (10, 3.14)\n"
      ]
     },
     "execution_count": 46,
     "metadata": {},
     "output_type": "execute_result"
    }
   ],
   "source": [
    "let x = (10, 3.14)"
   ]
  },
  {
   "cell_type": "code",
   "execution_count": 49,
   "metadata": {},
   "outputs": [
    {
     "data": {
      "text/plain": [
       "val y : int_float_pair = (10, 3.14)\n"
      ]
     },
     "execution_count": 49,
     "metadata": {},
     "output_type": "execute_result"
    }
   ],
   "source": [
    "let y : int_float_pair = x"
   ]
  },
  {
   "cell_type": "markdown",
   "metadata": {
    "slideshow": {
     "slide_type": "slide"
    }
   },
   "source": [
    "# Records"
   ]
  },
  {
   "cell_type": "markdown",
   "metadata": {
    "slideshow": {
     "slide_type": "slide"
    }
   },
   "source": [
    "## Records\n",
    "\n",
    "* Records in OCaml represent a collection of named elements. \n",
    "* The idea is similar to structures in C\n",
    "* A simple example is a point record containing x, y and z fields:"
   ]
  },
  {
   "cell_type": "code",
   "execution_count": null,
   "metadata": {},
   "outputs": [],
   "source": [
    "type point = {\n",
    "  x : int;\n",
    "  y : int;\n",
    "  z : int;\n",
    "}"
   ]
  },
  {
   "cell_type": "markdown",
   "metadata": {
    "slideshow": {
     "slide_type": "slide"
    }
   },
   "source": [
    "```Ocaml\n",
    "type <record-name> =\n",
    "    { <field> : <type>;\n",
    "      <field> : <type>;\n",
    "      ...\n",
    "    }\n",
    "```"
   ]
  },
  {
   "cell_type": "markdown",
   "metadata": {
    "slideshow": {
     "slide_type": "slide"
    }
   },
   "source": [
    "## Records: Creation and access\n",
    "\n",
    "We can create instances of our point type using `{ ... }`, and access the elements of a point using the `.` operator:"
   ]
  },
  {
   "cell_type": "code",
   "execution_count": 50,
   "metadata": {
    "slideshow": {
     "slide_type": "fragment"
    }
   },
   "outputs": [
    {
     "data": {
      "text/plain": [
       "val origin : point = {x = 0; y = 0; z = 0}\n"
      ]
     },
     "execution_count": 50,
     "metadata": {},
     "output_type": "execute_result"
    },
    {
     "data": {
      "text/plain": [
       "val get_y : point -> int = <fun>\n"
      ]
     },
     "execution_count": 50,
     "metadata": {},
     "output_type": "execute_result"
    }
   ],
   "source": [
    "let origin = { y = 0; x = 0;z = 0 }\n",
    "\n",
    "let get_y r = r.y"
   ]
  }
 ],
 "metadata": {
  "celltoolbar": "Slideshow",
  "kernelspec": {
   "display_name": "OCaml 4.10",
   "language": "OCaml",
   "name": "ocaml-jupyter"
  },
  "language_info": {
   "codemirror_mode": "text/x-ocaml",
   "file_extension": ".ml",
   "mimetype": "text/x-ocaml",
   "name": "OCaml",
   "nbconverter_exporter": null,
   "pygments_lexer": "OCaml",
   "version": "4.10.0"
  }
 },
 "nbformat": 4,
 "nbformat_minor": 2
}
