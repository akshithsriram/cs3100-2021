{
 "cells": [
  {
   "cell_type": "markdown",
   "metadata": {
    "slideshow": {
     "slide_type": "slide"
    }
   },
   "source": [
    "<div style=\"text-align:center\">\n",
    "    <h2> CS3100 - Lecture 14 - Tue, Aug 31, 11am </h2>\n",
    "    <h1> Options, More on Pattern Matching, Exceptions </h1><br>\n",
    "</div>"
   ]
  },
  {
   "cell_type": "markdown",
   "metadata": {
    "slideshow": {
     "slide_type": "slide"
    }
   },
   "source": [
    "## Recall\n",
    "* Tuples, records and variants\n",
    "* Lists built-in variants - `lists`\n",
    "\n",
    "## Today\n",
    "* Options\n",
    "* Pattern matching\n",
    "* Exceptions"
   ]
  },
  {
   "cell_type": "markdown",
   "metadata": {
    "slideshow": {
     "slide_type": "slide"
    }
   },
   "source": [
    "## Option: Another Built-in Variant\n",
    "\n",
    "* OCaml does not have a null value. \n",
    "\n",
    "```ocaml\n",
    "type 'a option = None | Some of 'a\n",
    "```"
   ]
  },
  {
   "cell_type": "code",
   "execution_count": 1,
   "metadata": {
    "slideshow": {
     "slide_type": "fragment"
    }
   },
   "outputs": [
    {
     "data": {
      "text/plain": [
       "- : 'a option = None\n"
      ]
     },
     "execution_count": 1,
     "metadata": {},
     "output_type": "execute_result"
    }
   ],
   "source": [
    "None"
   ]
  },
  {
   "cell_type": "code",
   "execution_count": 2,
   "metadata": {},
   "outputs": [
    {
     "data": {
      "text/plain": [
       "- : int option = Some 10\n"
      ]
     },
     "execution_count": 2,
     "metadata": {},
     "output_type": "execute_result"
    }
   ],
   "source": [
    "Some 10"
   ]
  },
  {
   "cell_type": "code",
   "execution_count": 3,
   "metadata": {},
   "outputs": [
    {
     "data": {
      "text/plain": [
       "- : string option = Some \"Hello\"\n"
      ]
     },
     "execution_count": 3,
     "metadata": {},
     "output_type": "execute_result"
    }
   ],
   "source": [
    "Some \"Hello\""
   ]
  },
  {
   "cell_type": "markdown",
   "metadata": {
    "slideshow": {
     "slide_type": "slide"
    }
   },
   "source": [
    "## When to use option types\n",
    "\n",
    "```ocaml\n",
    "type student = { name : string; rollno : string; \n",
    "                 marks : int}\n",
    "```"
   ]
  },
  {
   "cell_type": "markdown",
   "metadata": {
    "slideshow": {
     "slide_type": "fragment"
    }
   },
   "source": [
    "* what value will you assign for `marks` field before the exams are taken?\n",
    "  + `0` is not a good answer since it might also be the case that the student actually scored 0."
   ]
  },
  {
   "cell_type": "markdown",
   "metadata": {
    "slideshow": {
     "slide_type": "fragment"
    }
   },
   "source": [
    "```ocaml\n",
    "type student = { name : string; rollno : string; \n",
    "                 marks : int option }\n",
    "```\n",
    "\n",
    "* Use `None` to indicate the exam has not been taken."
   ]
  },
  {
   "cell_type": "markdown",
   "metadata": {
    "slideshow": {
     "slide_type": "slide"
    }
   },
   "source": [
    "## Recall Pattern Matching\n",
    "  \n",
    "```ocaml\n",
    "match e with\n",
    "| p1 -> e1\n",
    "| p2 -> e2\n",
    "...\n",
    "| pn -> en\n",
    "```\n",
    "\n",
    "* p1 ... pn are patterns."
   ]
  },
  {
   "cell_type": "markdown",
   "metadata": {
    "slideshow": {
     "slide_type": "slide"
    }
   },
   "source": [
    "## Pattern Matching\n",
    "\n",
    "* Pattern matching is data deconstruction\n",
    "  + Match on the *shape* of data\n",
    "  + Extract part(s) of data\n",
    "  \n",
    "### Syntax\n",
    "\n",
    "```ocaml\n",
    "match e with\n",
    "| p1 -> e1\n",
    "| p2 -> e2\n",
    "...\n",
    "| pn -> en\n",
    "```\n",
    "\n",
    "* p1 ... pn are patterns."
   ]
  },
  {
   "cell_type": "markdown",
   "metadata": {
    "slideshow": {
     "slide_type": "slide"
    }
   },
   "source": [
    "## Pattern Matching\n",
    "\n",
    "A new syntactic form called a pattern. \n",
    "\n",
    "* a variable name, e.g. `x`\n",
    "* the underscore character `_`, which is called the `wildcard`\n",
    "* the empty list `[]`\n",
    "* `p1::p2` - it can be arbitrarily deep.\n",
    "* `[p1; ...; pn]`\n",
    "\n",
    "### Why it is the greatest !!\n",
    "\n",
    "1. You cannot forget to match a case (Exhaustivity warning)\n",
    "2. You cannot duplicate a case (Unused case warning)\n",
    "\n",
    "<h3> Pattern matching leads to elegant, concise, beautiful code <h3>"
   ]
  },
  {
   "cell_type": "markdown",
   "metadata": {
    "slideshow": {
     "slide_type": "slide"
    }
   },
   "source": [
    "## Length of list\n",
    "\n",
    "```Ocaml\n",
    "let rec length l =\n",
    "  match l with\n",
    "  | [] -> 0\n",
    "  | h::t -> 1 + length t\n",
    "```"
   ]
  },
  {
   "cell_type": "markdown",
   "metadata": {
    "slideshow": {
     "slide_type": "fragment"
    }
   },
   "source": [
    "Is there anything wrong with the above program?"
   ]
  },
  {
   "cell_type": "markdown",
   "metadata": {
    "slideshow": {
     "slide_type": ""
    }
   },
   "source": [
    "## Length of list (tail recursive)\n",
    "\n",
    "```Ocaml\n",
    "let rec length' l acc =\n",
    "  match l with\n",
    "  | [] -> acc\n",
    "  | h::t -> length' t (1+acc)\n",
    "  \n",
    "let length l = length' l 0\n",
    "```"
   ]
  },
  {
   "cell_type": "markdown",
   "metadata": {
    "slideshow": {
     "slide_type": "slide"
    }
   },
   "source": [
    "## Match ordering\n",
    "\n",
    "The patterns are matched in the order that they are written down."
   ]
  },
  {
   "cell_type": "code",
   "execution_count": null,
   "metadata": {},
   "outputs": [],
   "source": [
    "let is_empty l =\n",
    "  match l with\n",
    "  | [] -> true\n",
    "  | _ -> false"
   ]
  },
  {
   "cell_type": "code",
   "execution_count": 4,
   "metadata": {},
   "outputs": [
    {
     "data": {
      "text/plain": [
       "val is_empty : 'a list -> bool = <fun>\n"
      ]
     },
     "execution_count": 4,
     "metadata": {},
     "output_type": "execute_result"
    }
   ],
   "source": [
    "let is_empty l =\n",
    "  l = []"
   ]
  },
  {
   "cell_type": "markdown",
   "metadata": {
    "slideshow": {
     "slide_type": "slide"
    }
   },
   "source": [
    "## nth \n",
    "\n",
    "Implement indexing into the list"
   ]
  },
  {
   "cell_type": "code",
   "execution_count": 5,
   "metadata": {},
   "outputs": [
    {
     "data": {
      "text/plain": [
       "val nth : 'a list -> int -> 'a option = <fun>\n"
      ]
     },
     "execution_count": 5,
     "metadata": {},
     "output_type": "execute_result"
    }
   ],
   "source": [
    "let rec nth l n = \n",
    "  match (l, n) with\n",
    "  | (hd::_, 0) -> Some hd\n",
    "  | (hd::tl, n) -> nth tl (n-1)\n",
    "  | _ -> None"
   ]
  },
  {
   "cell_type": "code",
   "execution_count": 8,
   "metadata": {},
   "outputs": [
    {
     "data": {
      "text/plain": [
       "- : int option = None\n"
      ]
     },
     "execution_count": 8,
     "metadata": {},
     "output_type": "execute_result"
    }
   ],
   "source": [
    "nth [1;2;3] 4"
   ]
  },
  {
   "cell_type": "markdown",
   "metadata": {
    "slideshow": {
     "slide_type": "slide"
    }
   },
   "source": [
    "## reverse\n",
    "\n",
    "Implement the reverse of a list."
   ]
  },
  {
   "cell_type": "code",
   "execution_count": 10,
   "metadata": {
    "scrolled": true
   },
   "outputs": [
    {
     "data": {
      "text/plain": [
       "val rev_list : 'a list -> 'a list -> 'a list = <fun>\n"
      ]
     },
     "execution_count": 10,
     "metadata": {},
     "output_type": "execute_result"
    },
    {
     "data": {
      "text/plain": [
       "val rev_list : 'a list -> 'a list = <fun>\n"
      ]
     },
     "execution_count": 10,
     "metadata": {},
     "output_type": "execute_result"
    }
   ],
   "source": [
    "let rec rev_list l acc = \n",
    "  match l with\n",
    "  | [] -> acc\n",
    "  | hd::tl -> rev_list tl (hd::acc)\n",
    "\n",
    "let rev_list l = rev_list l []"
   ]
  },
  {
   "cell_type": "code",
   "execution_count": 11,
   "metadata": {},
   "outputs": [
    {
     "data": {
      "text/plain": [
       "- : unit = ()\n"
      ]
     },
     "execution_count": 11,
     "metadata": {},
     "output_type": "execute_result"
    }
   ],
   "source": [
    "assert (rev_list [1;2;3] = [3;2;1])"
   ]
  },
  {
   "cell_type": "markdown",
   "metadata": {
    "slideshow": {
     "slide_type": "slide"
    }
   },
   "source": [
    "## Nested Matching\n",
    "\n"
   ]
  },
  {
   "cell_type": "code",
   "execution_count": 13,
   "metadata": {},
   "outputs": [
    {
     "data": {
      "text/plain": [
       "type color = Red | Green | Blue\n"
      ]
     },
     "execution_count": 13,
     "metadata": {},
     "output_type": "execute_result"
    },
    {
     "data": {
      "text/plain": [
       "type point = { x : int; y : int; }\n"
      ]
     },
     "execution_count": 13,
     "metadata": {},
     "output_type": "execute_result"
    },
    {
     "data": {
      "text/plain": [
       "type shape =\n",
       "    Circle of point * float\n",
       "  | Rect of point * point\n",
       "  | ColorPoint of point * color\n"
      ]
     },
     "execution_count": 13,
     "metadata": {},
     "output_type": "execute_result"
    }
   ],
   "source": [
    "type color = Red | Green | Blue\n",
    "\n",
    "type point = {x : int; y : int}\n",
    "\n",
    "type shape = \n",
    "  | Circle of point * float (* center, radius *)\n",
    "  | Rect of point * point   (* lower-left, upper-right *)\n",
    "  | ColorPoint of point * color"
   ]
  },
  {
   "cell_type": "markdown",
   "metadata": {
    "slideshow": {
     "slide_type": "slide"
    }
   },
   "source": [
    "## Nested Matching\n",
    "\n",
    "Is the first shape in a list of shapes a red point?"
   ]
  },
  {
   "cell_type": "code",
   "execution_count": null,
   "metadata": {},
   "outputs": [],
   "source": [
    "let is_hd_red_point l = \n",
    "  match l with\n",
    "  | (ColorPoint(_,Red))::_ -> true\n",
    "  | _ -> false"
   ]
  },
  {
   "cell_type": "markdown",
   "metadata": {
    "slideshow": {
     "slide_type": "slide"
    }
   },
   "source": [
    "## Nested Matching\n",
    "\n",
    "Print the coordinates if the point is green."
   ]
  },
  {
   "cell_type": "code",
   "execution_count": 14,
   "metadata": {},
   "outputs": [
    {
     "data": {
      "text/plain": [
       "val print_green_point : shape list -> unit = <fun>\n"
      ]
     },
     "execution_count": 14,
     "metadata": {},
     "output_type": "execute_result"
    }
   ],
   "source": [
    "let rec print_green_point l =\n",
    "  match l with\n",
    "  | [] -> ()\n",
    "  | ColorPoint({x;y}, Green)::tl ->\n",
    "      Printf.printf \"x = %d y = %d\\n%!\" x y;\n",
    "      print_green_point tl\n",
    "  | _::tl -> print_green_point tl"
   ]
  },
  {
   "cell_type": "code",
   "execution_count": 16,
   "metadata": {},
   "outputs": [
    {
     "name": "stdout",
     "output_type": "stream",
     "text": [
      "x = 0 y = 0\n"
     ]
    },
    {
     "data": {
      "text/plain": [
       "- : unit = ()\n"
      ]
     },
     "execution_count": 16,
     "metadata": {},
     "output_type": "execute_result"
    }
   ],
   "source": [
    "print_green_point [Rect ({x=1;y=1},{x=2;y=2});\n",
    "                   ColorPoint ({x=0;y=0}, Green);\n",
    "                   Circle ({x=1;y=3}, 5.4);\n",
    "                   ColorPoint ({x=4;y=6}, Red)]"
   ]
  }
 ],
 "metadata": {
  "celltoolbar": "Slideshow",
  "kernelspec": {
   "display_name": "OCaml 4.10",
   "language": "OCaml",
   "name": "ocaml-jupyter"
  },
  "language_info": {
   "codemirror_mode": "text/x-ocaml",
   "file_extension": ".ml",
   "mimetype": "text/x-ocaml",
   "name": "OCaml",
   "nbconverter_exporter": null,
   "pygments_lexer": "OCaml",
   "version": "4.10.0"
  }
 },
 "nbformat": 4,
 "nbformat_minor": 2
}
