{
 "cells": [
  {
   "cell_type": "markdown",
   "metadata": {
    "slideshow": {
     "slide_type": "slide"
    }
   },
   "source": [
    "<div style=\"text-align:center\">\n",
    "    <h2> CS3100 - Lecture 08 - Tue, Aug 17, 11am </h2>\n",
    "    <h1> More on Functions </h1>\n",
    "</div>"
   ]
  },
  {
   "cell_type": "markdown",
   "metadata": {
    "slideshow": {
     "slide_type": "slide"
    }
   },
   "source": [
    "## Recap\n",
    "\n",
    "CS3100 so far\n",
    "\n",
    "* Expressions, Values, Definitions: if, let\n",
    "* Static and Dynamic Semantics\n",
    "* Basics of Functions\n",
    "\n",
    "Today\n",
    "\n",
    "* More on Functions"
   ]
  },
  {
   "cell_type": "markdown",
   "metadata": {
    "slideshow": {
     "slide_type": "slide"
    }
   },
   "source": [
    "## Functions - the main concepts learned so far\n",
    "\n",
    "* Functions are **values** \n",
    "    - Functions can **take** functions as arguments\n",
    "    - Functions can **evaluate** to functions as the result\n",
    "* Applying functions.\n",
    "* Using Let definition to give names to anonymous functions.\n",
    "* Multi-argument functions do not exist. Synactic sugar."
   ]
  },
  {
   "cell_type": "markdown",
   "metadata": {
    "slideshow": {
     "slide_type": "slide"
    }
   },
   "source": [
    "## Function application\n",
    "\n",
    "The syntax is \n",
    "\n",
    "```ocaml\n",
    "e0 e1 ... en\n",
    "```\n",
    "* No parentheses necessary"
   ]
  },
  {
   "cell_type": "markdown",
   "metadata": {
    "slideshow": {
     "slide_type": "slide"
    }
   },
   "source": [
    "## Two examples to recap\n",
    "\n",
    "Read\n",
    "\n",
    "```ocaml\n",
    "(fun x y -> x + y)\n",
    "```\n",
    "\n",
    "as \n",
    "\n",
    "```ocaml\n",
    "fun x -> fun y -> x+y\n",
    "```"
   ]
  },
  {
   "cell_type": "markdown",
   "metadata": {
    "slideshow": {
     "slide_type": "slide"
    }
   },
   "source": [
    "Read\n",
    "\n",
    "```ocaml\n",
    "(fun x y -> x + y) 1 2\n",
    "```\n",
    "\n",
    "as \n",
    "\n",
    "```ocaml\n",
    "(((fun x -> fun y -> x + y) 1) 2)\n",
    "```"
   ]
  },
  {
   "cell_type": "markdown",
   "metadata": {
    "slideshow": {
     "slide_type": "slide"
    }
   },
   "source": [
    "## Function types"
   ]
  },
  {
   "cell_type": "code",
   "execution_count": 23,
   "metadata": {
    "slideshow": {
     "slide_type": "fragment"
    }
   },
   "outputs": [
    {
     "data": {
      "text/plain": [
       "- : int -> int -> int -> int = <fun>\n"
      ]
     },
     "execution_count": 23,
     "metadata": {},
     "output_type": "execute_result"
    }
   ],
   "source": [
    "fun (x:int) (y:int) (z:int) -> x+y"
   ]
  },
  {
   "cell_type": "code",
   "execution_count": 24,
   "metadata": {
    "slideshow": {
     "slide_type": "fragment"
    }
   },
   "outputs": [
    {
     "data": {
      "text/plain": [
       "- : 'a -> 'b -> 'c -> 'a = <fun>\n"
      ]
     },
     "execution_count": 24,
     "metadata": {},
     "output_type": "execute_result"
    }
   ],
   "source": [
    "fun x y z -> x"
   ]
  },
  {
   "cell_type": "code",
   "execution_count": 27,
   "metadata": {
    "slideshow": {
     "slide_type": "fragment"
    }
   },
   "outputs": [
    {
     "data": {
      "text/plain": [
       "val f : unit -> int = <fun>\n"
      ]
     },
     "execution_count": 27,
     "metadata": {},
     "output_type": "execute_result"
    }
   ],
   "source": [
    "let f() = 1 + 2 * 3"
   ]
  },
  {
   "cell_type": "markdown",
   "metadata": {
    "slideshow": {
     "slide_type": "slide"
    }
   },
   "source": [
    "## Function types\n",
    "\n",
    "A function of type\n",
    "\n",
    "```ocaml\n",
    "int -> int -> int -> int\n",
    "```\n",
    "\n",
    "can be read as \n",
    "\n",
    "```ocaml\n",
    "int -> (int -> int -> int)\n",
    "```\n",
    "\n",
    "Take 1 argument and return a function!"
   ]
  },
  {
   "cell_type": "markdown",
   "metadata": {
    "slideshow": {
     "slide_type": "slide"
    }
   },
   "source": [
    "## Function types are right associative\n",
    "\n",
    "```ocaml\n",
    "int -> int -> int\n",
    "```\n",
    "\n",
    "is equivalent to\n",
    "\n",
    "```ocaml\n",
    "int -> (int -> int)\n",
    "```"
   ]
  },
  {
   "cell_type": "markdown",
   "metadata": {
    "slideshow": {
     "slide_type": "slide"
    }
   },
   "source": [
    "## Partial Application\n",
    "\n",
    "```ocaml\n",
    "(fun x y z -> x + y + z) 1\n",
    "```\n",
    "\n",
    "returns a function \n",
    "\n",
    "```ocaml\n",
    "(fun y z -> 1 + y + z)\n",
    "```"
   ]
  },
  {
   "cell_type": "markdown",
   "metadata": {
    "slideshow": {
     "slide_type": "slide"
    }
   },
   "source": [
    "## Function definition"
   ]
  },
  {
   "cell_type": "code",
   "execution_count": 28,
   "metadata": {
    "slideshow": {
     "slide_type": "-"
    }
   },
   "outputs": [
    {
     "data": {
      "text/plain": [
       "val add : int -> int -> int = <fun>\n"
      ]
     },
     "execution_count": 28,
     "metadata": {},
     "output_type": "execute_result"
    }
   ],
   "source": [
    "let add x y = x + y"
   ]
  },
  {
   "cell_type": "code",
   "execution_count": null,
   "metadata": {},
   "outputs": [],
   "source": [
    "let add = fun x -> fun y -> x + y"
   ]
  },
  {
   "cell_type": "code",
   "execution_count": 29,
   "metadata": {},
   "outputs": [
    {
     "data": {
      "text/plain": [
       "- : int = 15\n"
      ]
     },
     "execution_count": 29,
     "metadata": {},
     "output_type": "execute_result"
    }
   ],
   "source": [
    "add 5 10"
   ]
  },
  {
   "cell_type": "markdown",
   "metadata": {
    "slideshow": {
     "slide_type": "slide"
    }
   },
   "source": [
    "## We can annotate types"
   ]
  },
  {
   "cell_type": "code",
   "execution_count": null,
   "metadata": {},
   "outputs": [],
   "source": [
    "let add : int -> (int -> int) = \n",
    "  fun x -> fun y -> x + y"
   ]
  },
  {
   "cell_type": "markdown",
   "metadata": {
    "slideshow": {
     "slide_type": "slide"
    }
   },
   "source": [
    "## Partial Application\n",
    "\n",
    "```ocaml\n",
    "(fun x y z -> x + y + z) 1\n",
    "```\n",
    "\n",
    "returns a function \n",
    "\n",
    "```ocaml\n",
    "(fun y z -> 1 + y + z)\n",
    "```"
   ]
  },
  {
   "cell_type": "code",
   "execution_count": 30,
   "metadata": {},
   "outputs": [
    {
     "data": {
      "text/plain": [
       "val foo : int -> int -> int = <fun>\n"
      ]
     },
     "execution_count": 30,
     "metadata": {},
     "output_type": "execute_result"
    }
   ],
   "source": [
    "let foo = (fun x y z -> x + y + z) 1"
   ]
  },
  {
   "cell_type": "code",
   "execution_count": 31,
   "metadata": {},
   "outputs": [
    {
     "data": {
      "text/plain": [
       "- : int = 6\n"
      ]
     },
     "execution_count": 31,
     "metadata": {},
     "output_type": "execute_result"
    }
   ],
   "source": [
    "foo 2 3"
   ]
  },
  {
   "cell_type": "markdown",
   "metadata": {
    "slideshow": {
     "slide_type": "slide"
    }
   },
   "source": [
    "## Partial Application\n",
    "\n",
    "A more useful partial application example is defining `succ` and `pred` functions from `add`."
   ]
  },
  {
   "cell_type": "code",
   "execution_count": 32,
   "metadata": {},
   "outputs": [
    {
     "data": {
      "text/plain": [
       "val succ : int -> int = <fun>\n"
      ]
     },
     "execution_count": 32,
     "metadata": {},
     "output_type": "execute_result"
    },
    {
     "data": {
      "text/plain": [
       "val pred : int -> int = <fun>\n"
      ]
     },
     "execution_count": 32,
     "metadata": {},
     "output_type": "execute_result"
    }
   ],
   "source": [
    "let succ = add 1\n",
    "let pred = add (-1)"
   ]
  },
  {
   "cell_type": "code",
   "execution_count": 33,
   "metadata": {},
   "outputs": [
    {
     "data": {
      "text/plain": [
       "- : int = 11\n"
      ]
     },
     "execution_count": 33,
     "metadata": {},
     "output_type": "execute_result"
    }
   ],
   "source": [
    "succ 10"
   ]
  },
  {
   "cell_type": "code",
   "execution_count": 34,
   "metadata": {},
   "outputs": [
    {
     "data": {
      "text/plain": [
       "- : int = 9\n"
      ]
     },
     "execution_count": 34,
     "metadata": {},
     "output_type": "execute_result"
    }
   ],
   "source": [
    "pred 10"
   ]
  },
  {
   "cell_type": "markdown",
   "metadata": {
    "slideshow": {
     "slide_type": "slide"
    }
   },
   "source": [
    "## Scope for function definitions\n",
    "\n",
    "We can use let expressions to define scope for function definitions"
   ]
  },
  {
   "cell_type": "code",
   "execution_count": 35,
   "metadata": {
    "slideshow": {
     "slide_type": "fragment"
    }
   },
   "outputs": [
    {
     "data": {
      "text/plain": [
       "- : int = 5\n"
      ]
     },
     "execution_count": 35,
     "metadata": {},
     "output_type": "execute_result"
    }
   ],
   "source": [
    "let myFunction = (fun y -> fun x -> x-y) 5 in myFunction 10"
   ]
  },
  {
   "cell_type": "code",
   "execution_count": null,
   "metadata": {
    "slideshow": {
     "slide_type": "fragment"
    }
   },
   "outputs": [],
   "source": [
    "succ 10"
   ]
  },
  {
   "cell_type": "code",
   "execution_count": null,
   "metadata": {
    "slideshow": {
     "slide_type": "fragment"
    }
   },
   "outputs": [],
   "source": [
    "pred 10"
   ]
  },
  {
   "cell_type": "markdown",
   "metadata": {
    "slideshow": {
     "slide_type": "slide"
    }
   },
   "source": [
    "## Recursive Functions\n",
    "\n",
    "Recursive functions can call themselves. The syntax for recursive function definition is:\n",
    "\n",
    "```ocaml\n",
    "let rec foo x = ...\n",
    "```\n",
    "\n",
    "Notice the `rec` key word."
   ]
  },
  {
   "cell_type": "markdown",
   "metadata": {
    "slideshow": {
     "slide_type": "slide"
    }
   },
   "source": [
    "## Recursive Functions"
   ]
  },
  {
   "cell_type": "code",
   "execution_count": 36,
   "metadata": {
    "slideshow": {
     "slide_type": "-"
    }
   },
   "outputs": [
    {
     "data": {
      "text/plain": [
       "val findsum : int -> int = <fun>\n"
      ]
     },
     "execution_count": 36,
     "metadata": {},
     "output_type": "execute_result"
    }
   ],
   "source": [
    "let rec findsum n = \n",
    "  if n <= 0 then 0\n",
    "  else n + findsum (n-1)"
   ]
  },
  {
   "cell_type": "code",
   "execution_count": 37,
   "metadata": {},
   "outputs": [
    {
     "data": {
      "text/plain": [
       "- : int = 15\n"
      ]
     },
     "execution_count": 37,
     "metadata": {},
     "output_type": "execute_result"
    }
   ],
   "source": [
    "findsum 5"
   ]
  },
  {
   "cell_type": "markdown",
   "metadata": {
    "slideshow": {
     "slide_type": "slide"
    }
   },
   "source": [
    "## Tracing functions in Jupyter\n",
    "\n",
    "Jupyter (really the ocaml top-level behind the scenes) provides support for tracing the execution of functions."
   ]
  },
  {
   "cell_type": "code",
   "execution_count": 41,
   "metadata": {
    "scrolled": false
   },
   "outputs": [
    {
     "data": {
      "text/plain": [
       "- : int = 6\n"
      ]
     },
     "execution_count": 41,
     "metadata": {},
     "output_type": "execute_result"
    },
    {
     "name": "stdout",
     "output_type": "stream",
     "text": [
      "findsum is already traced (under the name findsum).\n",
      "findsum <-- 3\n",
      "findsum <-- 2\n",
      "findsum <-- 1\n",
      "findsum <-- 0\n",
      "findsum --> 0\n",
      "findsum --> 1\n",
      "findsum --> 3\n",
      "findsum --> 6\n"
     ]
    }
   ],
   "source": [
    "#trace findsum;;\n",
    "findsum 3;;"
   ]
  },
  {
   "cell_type": "code",
   "execution_count": 38,
   "metadata": {
    "scrolled": false
   },
   "outputs": [
    {
     "name": "stdout",
     "output_type": "stream",
     "text": [
      "findsum is now traced.\n"
     ]
    }
   ],
   "source": [
    "#trace findsum;;"
   ]
  },
  {
   "cell_type": "code",
   "execution_count": 42,
   "metadata": {
    "slideshow": {
     "slide_type": "slide"
    }
   },
   "outputs": [
    {
     "name": "stdout",
     "output_type": "stream",
     "text": [
      "findsum is no longer traced.\n"
     ]
    }
   ],
   "source": [
    "#untrace findsum"
   ]
  },
  {
   "cell_type": "markdown",
   "metadata": {
    "slideshow": {
     "slide_type": "slide"
    }
   },
   "source": [
    "## Recursive Fibonacci number\n",
    "\n",
    "Implement a recursive function that computes the nth fibonacci number. The fibonacci sequence is `[0;1;1;2;3;5;8;...]`."
   ]
  },
  {
   "cell_type": "code",
   "execution_count": null,
   "metadata": {},
   "outputs": [],
   "source": [
    "let rec fib n = \n",
    "  if n = 0 then 0\n",
    "  else if n = 1 then 1\n",
    "  else fib (n - 2) + fib (n - 1)"
   ]
  },
  {
   "cell_type": "code",
   "execution_count": 44,
   "metadata": {
    "scrolled": true
   },
   "outputs": [
    {
     "ename": "error",
     "evalue": "runtime_error",
     "output_type": "error",
     "traceback": [
      "\u001b[31mException: Assert_failure (\"[44]\", 1, 0).\nCalled from file \"toplevel/toploop.ml\", line 212, characters 17-27\n\u001b[0m"
     ]
    }
   ],
   "source": [
    "assert (fib 10 = 56)"
   ]
  },
  {
   "cell_type": "markdown",
   "metadata": {
    "slideshow": {
     "slide_type": "notes"
    }
   },
   "source": [
    "In OCaml, the expression `assert e` raises a fatal error if `e` evaluates to `false`. If `e` is `true`, then `assert e` evaluates to `true`."
   ]
  },
  {
   "cell_type": "markdown",
   "metadata": {
    "slideshow": {
     "slide_type": "slide"
    }
   },
   "source": [
    "## Mutually recursive functions"
   ]
  },
  {
   "cell_type": "markdown",
   "metadata": {
    "slideshow": {
     "slide_type": "notes"
    }
   },
   "source": [
    "Mutually recursive functions are a set of functions that can call each other. They are defined using\n",
    "\n",
    "```\n",
    "let rec f1 v1 v2 ... vn =\n",
    "  ...\n",
    "and f2 v1 v2 ... vn =\n",
    "   ...\n",
    "...\n",
    "and fn v1 v2 ... vn =\n",
    "   ...\n",
    "```\n",
    "\n",
    "where the functions `f1` to `fn` can call each other. "
   ]
  },
  {
   "cell_type": "code",
   "execution_count": 45,
   "metadata": {},
   "outputs": [
    {
     "data": {
      "text/plain": [
       "val even : int -> bool = <fun>\n",
       "val odd : int -> bool = <fun>\n"
      ]
     },
     "execution_count": 45,
     "metadata": {},
     "output_type": "execute_result"
    }
   ],
   "source": [
    "let rec even n =\n",
    "  if n = 0 then true\n",
    "  else odd (n-1)\n",
    "  \n",
    "and odd n = \n",
    "  if n = 0 then false \n",
    "  else even (n-1)"
   ]
  },
  {
   "cell_type": "markdown",
   "metadata": {
    "slideshow": {
     "slide_type": "slide"
    }
   },
   "source": [
    "## Recursing too deep\n",
    "\n",
    "Let's invoke `findsum` with larger numbers. "
   ]
  },
  {
   "cell_type": "code",
   "execution_count": 46,
   "metadata": {},
   "outputs": [
    {
     "ename": "error",
     "evalue": "runtime_error",
     "output_type": "error",
     "traceback": [
      "\u001b[31mStack overflow during evaluation (looping recursion?).\nRaised by primitive operation at file \"[36]\", line 3, characters 11-24\nCalled from file \"[36]\", line 3, characters 11-24\nCalled from file \"[36]\", line 3, characters 11-24\nCalled from file \"[36]\", line 3, characters 11-24\nCalled from file \"[36]\", line 3, characters 11-24\nCalled from file \"[36]\", line 3, characters 11-24\nCalled from file \"[36]\", line 3, characters 11-24\nCalled from file \"[36]\", line 3, characters 11-24\nCalled from file \"[36]\", line 3, characters 11-24\nCalled from file \"[36]\", line 3, characters 11-24\nCalled from file \"[36]\", line 3, characters 11-24\nCalled from file \"[36]\", line 3, characters 11-24\nCalled from file \"[36]\", line 3, characters 11-24\nCalled from file \"[36]\", line 3, characters 11-24\nCalled from file \"[36]\", line 3, characters 11-24\nCalled from file \"[36]\", line 3, characters 11-24\nCalled from file \"[36]\", line 3, characters 11-24\nCalled from file \"[36]\", line 3, characters 11-24\nCalled from file \"[36]\", line 3, characters 11-24\nCalled from file \"[36]\", line 3, characters 11-24\nCalled from file \"[36]\", line 3, characters 11-24\nCalled from file \"[36]\", line 3, characters 11-24\nCalled from file \"[36]\", line 3, characters 11-24\nCalled from file \"[36]\", line 3, characters 11-24\nCalled from file \"[36]\", line 3, characters 11-24\nCalled from file \"[36]\", line 3, characters 11-24\nCalled from file \"[36]\", line 3, characters 11-24\nCalled from file \"[36]\", line 3, characters 11-24\nCalled from file \"[36]\", line 3, characters 11-24\nCalled from file \"[36]\", line 3, characters 11-24\nCalled from file \"[36]\", line 3, characters 11-24\nCalled from file \"[36]\", line 3, characters 11-24\nCalled from file \"[36]\", line 3, characters 11-24\nCalled from file \"[36]\", line 3, characters 11-24\nCalled from file \"[36]\", line 3, characters 11-24\nCalled from file \"[36]\", line 3, characters 11-24\nCalled from file \"[36]\", line 3, characters 11-24\nCalled from file \"[36]\", line 3, characters 11-24\nCalled from file \"[36]\", line 3, characters 11-24\nCalled from file \"[36]\", line 3, characters 11-24\nCalled from file \"[36]\", line 3, characters 11-24\nCalled from file \"[36]\", line 3, characters 11-24\nCalled from file \"[36]\", line 3, characters 11-24\nCalled from file \"[36]\", line 3, characters 11-24\nCalled from file \"[36]\", line 3, characters 11-24\nCalled from file \"[36]\", line 3, characters 11-24\nCalled from file \"[36]\", line 3, characters 11-24\nCalled from file \"[36]\", line 3, characters 11-24\nCalled from file \"[36]\", line 3, characters 11-24\nCalled from file \"[36]\", line 3, characters 11-24\nCalled from file \"[36]\", line 3, characters 11-24\nCalled from file \"[36]\", line 3, characters 11-24\nCalled from file \"[36]\", line 3, characters 11-24\nCalled from file \"[36]\", line 3, characters 11-24\nCalled from file \"[36]\", line 3, characters 11-24\nCalled from file \"[36]\", line 3, characters 11-24\nCalled from file \"[36]\", line 3, characters 11-24\nCalled from file \"[36]\", line 3, characters 11-24\nCalled from file \"[36]\", line 3, characters 11-24\nCalled from file \"[36]\", line 3, characters 11-24\nCalled from file \"[36]\", line 3, characters 11-24\nCalled from file \"[36]\", line 3, characters 11-24\nCalled from file \"[36]\", line 3, characters 11-24\nCalled from file \"[36]\", line 3, characters 11-24\nCalled from file \"[36]\", line 3, characters 11-24\nCalled from file \"[36]\", line 3, characters 11-24\nCalled from file \"[36]\", line 3, characters 11-24\nCalled from file \"[36]\", line 3, characters 11-24\nCalled from file \"[36]\", line 3, characters 11-24\nCalled from file \"[36]\", line 3, characters 11-24\nCalled from file \"[36]\", line 3, characters 11-24\nCalled from file \"[36]\", line 3, characters 11-24\nCalled from file \"[36]\", line 3, characters 11-24\nCalled from file \"[36]\", line 3, characters 11-24\nCalled from file \"[36]\", line 3, characters 11-24\nCalled from file \"[36]\", line 3, characters 11-24\nCalled from file \"[36]\", line 3, characters 11-24\nCalled from file \"[36]\", line 3, characters 11-24\nCalled from file \"[36]\", line 3, characters 11-24\nCalled from file \"[36]\", line 3, characters 11-24\nCalled from file \"[36]\", line 3, characters 11-24\nCalled from file \"[36]\", line 3, characters 11-24\nCalled from file \"[36]\", line 3, characters 11-24\nCalled from file \"[36]\", line 3, characters 11-24\nCalled from file \"[36]\", line 3, characters 11-24\nCalled from file \"[36]\", line 3, characters 11-24\nCalled from file \"[36]\", line 3, characters 11-24\nCalled from file \"[36]\", line 3, characters 11-24\nCalled from file \"[36]\", line 3, characters 11-24\nCalled from file \"[36]\", line 3, characters 11-24\nCalled from file \"[36]\", line 3, characters 11-24\nCalled from file \"[36]\", line 3, characters 11-24\nCalled from file \"[36]\", line 3, characters 11-24\nCalled from file \"[36]\", line 3, characters 11-24\nCalled from file \"[36]\", line 3, characters 11-24\nCalled from file \"[36]\", line 3, characters 11-24\nCalled from file \"[36]\", line 3, characters 11-24\nCalled from file \"[36]\", line 3, characters 11-24\nCalled from file \"[36]\", line 3, characters 11-24\nCalled from file \"[36]\", line 3, characters 11-24\nCalled from file \"[36]\", line 3, characters 11-24\nCalled from file \"[36]\", line 3, characters 11-24\nCalled from file \"[36]\", line 3, characters 11-24\nCalled from file \"[36]\", line 3, characters 11-24\nCalled from file \"[36]\", line 3, characters 11-24\nCalled from file \"[36]\", line 3, characters 11-24\nCalled from file \"[36]\", line 3, characters 11-24\nCalled from file \"[36]\", line 3, characters 11-24\nCalled from file \"[36]\", line 3, characters 11-24\nCalled from file \"[36]\", line 3, characters 11-24\nCalled from file \"[36]\", line 3, characters 11-24\nCalled from file \"[36]\", line 3, characters 11-24\nCalled from file \"[36]\", line 3, characters 11-24\nCalled from file \"[36]\", line 3, characters 11-24\nCalled from file \"[36]\", line 3, characters 11-24\nCalled from file \"[36]\", line 3, characters 11-24\nCalled from file \"[36]\", line 3, characters 11-24\nCalled from file \"[36]\", line 3, characters 11-24\nCalled from file \"[36]\", line 3, characters 11-24\nCalled from file \"[36]\", line 3, characters 11-24\nCalled from file \"[36]\", line 3, characters 11-24\nCalled from file \"[36]\", line 3, characters 11-24\nCalled from file \"[36]\", line 3, characters 11-24\nCalled from file \"[36]\", line 3, characters 11-24\nCalled from file \"[36]\", line 3, characters 11-24\nCalled from file \"[36]\", line 3, characters 11-24\nCalled from file \"[36]\", line 3, characters 11-24\nCalled from file \"[36]\", line 3, characters 11-24\nCalled from file \"[36]\", line 3, characters 11-24\nCalled from file \"[36]\", line 3, characters 11-24\nCalled from file \"[36]\", line 3, characters 11-24\nCalled from file \"[36]\", line 3, characters 11-24\nCalled from file \"[36]\", line 3, characters 11-24\nCalled from file \"[36]\", line 3, characters 11-24\nCalled from file \"[36]\", line 3, characters 11-24\nCalled from file \"[36]\", line 3, characters 11-24\nCalled from file \"[36]\", line 3, characters 11-24\nCalled from file \"[36]\", line 3, characters 11-24\nCalled from file \"[36]\", line 3, characters 11-24\nCalled from file \"[36]\", line 3, characters 11-24\nCalled from file \"[36]\", line 3, characters 11-24\nCalled from file \"[36]\", line 3, characters 11-24\nCalled from file \"[36]\", line 3, characters 11-24\nCalled from file \"[36]\", line 3, characters 11-24\nCalled from file \"[36]\", line 3, characters 11-24\nCalled from file \"[36]\", line 3, characters 11-24\nCalled from file \"[36]\", line 3, characters 11-24\nCalled from file \"[36]\", line 3, characters 11-24\nCalled from file \"[36]\", line 3, characters 11-24\nCalled from file \"[36]\", line 3, characters 11-24\nCalled from file \"[36]\", line 3, characters 11-24\nCalled from file \"[36]\", line 3, characters 11-24\nCalled from file \"[36]\", line 3, characters 11-24\nCalled from file \"[36]\", line 3, characters 11-24\nCalled from file \"[36]\", line 3, characters 11-24\nCalled from file \"[36]\", line 3, characters 11-24\nCalled from file \"[36]\", line 3, characters 11-24\nCalled from file \"[36]\", line 3, characters 11-24\nCalled from file \"[36]\", line 3, characters 11-24\nCalled from file \"[36]\", line 3, characters 11-24\nCalled from file \"[36]\", line 3, characters 11-24\nCalled from file \"[36]\", line 3, characters 11-24\nCalled from file \"[36]\", line 3, characters 11-24\nCalled from file \"[36]\", line 3, characters 11-24\nCalled from file \"[36]\", line 3, characters 11-24\nCalled from file \"[36]\", line 3, characters 11-24\nCalled from file \"[36]\", line 3, characters 11-24\nCalled from file \"[36]\", line 3, characters 11-24\nCalled from file \"[36]\", line 3, characters 11-24\nCalled from file \"[36]\", line 3, characters 11-24\nCalled from file \"[36]\", line 3, characters 11-24\nCalled from file \"[36]\", line 3, characters 11-24\nCalled from file \"[36]\", line 3, characters 11-24\nCalled from file \"[36]\", line 3, characters 11-24\nCalled from file \"[36]\", line 3, characters 11-24\nCalled from file \"[36]\", line 3, characters 11-24\nCalled from file \"[36]\", line 3, characters 11-24\nCalled from file \"[36]\", line 3, characters 11-24\nCalled from file \"[36]\", line 3, characters 11-24\nCalled from file \"[36]\", line 3, characters 11-24\nCalled from file \"[36]\", line 3, characters 11-24\nCalled from file \"[36]\", line 3, characters 11-24\nCalled from file \"[36]\", line 3, characters 11-24\nCalled from file \"[36]\", line 3, characters 11-24\nCalled from file \"[36]\", line 3, characters 11-24\nCalled from file \"[36]\", line 3, characters 11-24\nCalled from file \"[36]\", line 3, characters 11-24\nCalled from file \"[36]\", line 3, characters 11-24\nCalled from file \"[36]\", line 3, characters 11-24\nCalled from file \"[36]\", line 3, characters 11-24\nCalled from file \"[36]\", line 3, characters 11-24\nCalled from file \"[36]\", line 3, characters 11-24\nCalled from file \"[36]\", line 3, characters 11-24\nCalled from file \"[36]\", line 3, characters 11-24\nCalled from file \"[36]\", line 3, characters 11-24\nCalled from file \"[36]\", line 3, characters 11-24\nCalled from file \"[36]\", line 3, characters 11-24\nCalled from file \"[36]\", line 3, characters 11-24\nCalled from file \"[36]\", line 3, characters 11-24\nCalled from file \"[36]\", line 3, characters 11-24\nCalled from file \"[36]\", line 3, characters 11-24\nCalled from file \"[36]\", line 3, characters 11-24\nCalled from file \"[36]\", line 3, characters 11-24\nCalled from file \"[36]\", line 3, characters 11-24\nCalled from file \"[36]\", line 3, characters 11-24\nCalled from file \"[36]\", line 3, characters 11-24\nCalled from file \"[36]\", line 3, characters 11-24\nCalled from file \"[36]\", line 3, characters 11-24\nCalled from file \"[36]\", line 3, characters 11-24\nCalled from file \"[36]\", line 3, characters 11-24\nCalled from file \"[36]\", line 3, characters 11-24\nCalled from file \"[36]\", line 3, characters 11-24\nCalled from file \"[36]\", line 3, characters 11-24\nCalled from file \"[36]\", line 3, characters 11-24\nCalled from file \"[36]\", line 3, characters 11-24\nCalled from file \"[36]\", line 3, characters 11-24\nCalled from file \"[36]\", line 3, characters 11-24\nCalled from file \"[36]\", line 3, characters 11-24\nCalled from file \"[36]\", line 3, characters 11-24\nCalled from file \"[36]\", line 3, characters 11-24\nCalled from file \"[36]\", line 3, characters 11-24\nCalled from file \"[36]\", line 3, characters 11-24\nCalled from file \"[36]\", line 3, characters 11-24\nCalled from file \"[36]\", line 3, characters 11-24\nCalled from file \"[36]\", line 3, characters 11-24\nCalled from file \"[36]\", line 3, characters 11-24\nCalled from file \"[36]\", line 3, characters 11-24\nCalled from file \"[36]\", line 3, characters 11-24\nCalled from file \"[36]\", line 3, characters 11-24\nCalled from file \"[36]\", line 3, characters 11-24\nCalled from file \"[36]\", line 3, characters 11-24\nCalled from file \"[36]\", line 3, characters 11-24\nCalled from file \"[36]\", line 3, characters 11-24\nCalled from file \"[36]\", line 3, characters 11-24\nCalled from file \"[36]\", line 3, characters 11-24\nCalled from file \"[36]\", line 3, characters 11-24\nCalled from file \"[36]\", line 3, characters 11-24\nCalled from file \"[36]\", line 3, characters 11-24\nCalled from file \"[36]\", line 3, characters 11-24\nCalled from file \"[36]\", line 3, characters 11-24\nCalled from file \"[36]\", line 3, characters 11-24\nCalled from file \"[36]\", line 3, characters 11-24\nCalled from file \"[36]\", line 3, characters 11-24\nCalled from file \"[36]\", line 3, characters 11-24\nCalled from file \"[36]\", line 3, characters 11-24\nCalled from file \"[36]\", line 3, characters 11-24\nCalled from file \"[36]\", line 3, characters 11-24\nCalled from file \"[36]\", line 3, characters 11-24\nCalled from file \"[36]\", line 3, characters 11-24\nCalled from file \"[36]\", line 3, characters 11-24\nCalled from file \"[36]\", line 3, characters 11-24\nCalled from file \"[36]\", line 3, characters 11-24\nCalled from file \"[36]\", line 3, characters 11-24\nCalled from file \"[36]\", line 3, characters 11-24\nCalled from file \"[36]\", line 3, characters 11-24\nCalled from file \"[36]\", line 3, characters 11-24\nCalled from file \"[36]\", line 3, characters 11-24\nCalled from file \"[36]\", line 3, characters 11-24\nCalled from file \"[36]\", line 3, characters 11-24\nCalled from file \"[36]\", line 3, characters 11-24\nCalled from file \"[36]\", line 3, characters 11-24\nCalled from file \"[36]\", line 3, characters 11-24\nCalled from file \"[36]\", line 3, characters 11-24\nCalled from file \"[36]\", line 3, characters 11-24\nCalled from file \"[36]\", line 3, characters 11-24\nCalled from file \"[36]\", line 3, characters 11-24\nCalled from file \"[36]\", line 3, characters 11-24\nCalled from file \"[36]\", line 3, characters 11-24\nCalled from file \"[36]\", line 3, characters 11-24\nCalled from file \"[36]\", line 3, characters 11-24\nCalled from file \"[36]\", line 3, characters 11-24\nCalled from file \"[36]\", line 3, characters 11-24\nCalled from file \"[36]\", line 3, characters 11-24\nCalled from file \"[36]\", line 3, characters 11-24\nCalled from file \"[36]\", line 3, characters 11-24\nCalled from file \"[36]\", line 3, characters 11-24\nCalled from file \"[36]\", line 3, characters 11-24\nCalled from file \"[36]\", line 3, characters 11-24\nCalled from file \"[36]\", line 3, characters 11-24\nCalled from file \"[36]\", line 3, characters 11-24\nCalled from file \"[36]\", line 3, characters 11-24\nCalled from file \"[36]\", line 3, characters 11-24\nCalled from file \"[36]\", line 3, characters 11-24\nCalled from file \"[36]\", line 3, characters 11-24\nCalled from file \"[36]\", line 3, characters 11-24\nCalled from file \"[36]\", line 3, characters 11-24\nCalled from file \"[36]\", line 3, characters 11-24\nCalled from file \"[36]\", line 3, characters 11-24\nCalled from file \"[36]\", line 3, characters 11-24\nCalled from file \"[36]\", line 3, characters 11-24\nCalled from file \"[36]\", line 3, characters 11-24\nCalled from file \"[36]\", line 3, characters 11-24\nCalled from file \"[36]\", line 3, characters 11-24\nCalled from file \"[36]\", line 3, characters 11-24\nCalled from file \"[36]\", line 3, characters 11-24\nCalled from file \"[36]\", line 3, characters 11-24\nCalled from file \"[36]\", line 3, characters 11-24\nCalled from file \"[36]\", line 3, characters 11-24\nCalled from file \"[36]\", line 3, characters 11-24\nCalled from file \"[36]\", line 3, characters 11-24\nCalled from file \"[36]\", line 3, characters 11-24\nCalled from file \"[36]\", line 3, characters 11-24\nCalled from file \"[36]\", line 3, characters 11-24\nCalled from file \"[36]\", line 3, characters 11-24\nCalled from file \"[36]\", line 3, characters 11-24\nCalled from file \"[36]\", line 3, characters 11-24\nCalled from file \"[36]\", line 3, characters 11-24\nCalled from file \"[36]\", line 3, characters 11-24\nCalled from file \"[36]\", line 3, characters 11-24\nCalled from file \"[36]\", line 3, characters 11-24\nCalled from file \"[36]\", line 3, characters 11-24\nCalled from file \"[36]\", line 3, characters 11-24\nCalled from file \"[36]\", line 3, characters 11-24\nCalled from file \"[36]\", line 3, characters 11-24\nCalled from file \"[36]\", line 3, characters 11-24\nCalled from file \"[36]\", line 3, characters 11-24\nCalled from file \"[36]\", line 3, characters 11-24\nCalled from file \"[36]\", line 3, characters 11-24\nCalled from file \"[36]\", line 3, characters 11-24\nCalled from file \"[36]\", line 3, characters 11-24\nCalled from file \"[36]\", line 3, characters 11-24\nCalled from file \"[36]\", line 3, characters 11-24\nCalled from file \"[36]\", line 3, characters 11-24\nCalled from file \"[36]\", line 3, characters 11-24\nCalled from file \"[36]\", line 3, characters 11-24\nCalled from file \"[36]\", line 3, characters 11-24\nCalled from file \"[36]\", line 3, characters 11-24\nCalled from file \"[36]\", line 3, characters 11-24\nCalled from file \"[36]\", line 3, characters 11-24\nCalled from file \"[36]\", line 3, characters 11-24\nCalled from file \"[36]\", line 3, characters 11-24\nCalled from file \"[36]\", line 3, characters 11-24\nCalled from file \"[36]\", line 3, characters 11-24\nCalled from file \"[36]\", line 3, characters 11-24\nCalled from file \"[36]\", line 3, characters 11-24\nCalled from file \"[36]\", line 3, characters 11-24\nCalled from file \"[36]\", line 3, characters 11-24\nCalled from file \"[36]\", line 3, characters 11-24\nCalled from file \"[36]\", line 3, characters 11-24\nCalled from file \"[36]\", line 3, characters 11-24\nCalled from file \"[36]\", line 3, characters 11-24\nCalled from file \"[36]\", line 3, characters 11-24\nCalled from file \"[36]\", line 3, characters 11-24\nCalled from file \"[36]\", line 3, characters 11-24\nCalled from file \"[36]\", line 3, characters 11-24\nCalled from file \"[36]\", line 3, characters 11-24\nCalled from file \"[36]\", line 3, characters 11-24\nCalled from file \"[36]\", line 3, characters 11-24\nCalled from file \"[36]\", line 3, characters 11-24\nCalled from file \"[36]\", line 3, characters 11-24\nCalled from file \"[36]\", line 3, characters 11-24\nCalled from file \"[36]\", line 3, characters 11-24\nCalled from file \"[36]\", line 3, characters 11-24\nCalled from file \"[36]\", line 3, characters 11-24\nCalled from file \"[36]\", line 3, characters 11-24\nCalled from file \"[36]\", line 3, characters 11-24\nCalled from file \"[36]\", line 3, characters 11-24\nCalled from file \"[36]\", line 3, characters 11-24\nCalled from file \"[36]\", line 3, characters 11-24\nCalled from file \"[36]\", line 3, characters 11-24\nCalled from file \"[36]\", line 3, characters 11-24\nCalled from file \"[36]\", line 3, characters 11-24\nCalled from file \"[36]\", line 3, characters 11-24\nCalled from file \"[36]\", line 3, characters 11-24\nCalled from file \"[36]\", line 3, characters 11-24\nCalled from file \"[36]\", line 3, characters 11-24\nCalled from file \"[36]\", line 3, characters 11-24\nCalled from file \"[36]\", line 3, characters 11-24\nCalled from file \"[36]\", line 3, characters 11-24\nCalled from file \"[36]\", line 3, characters 11-24\nCalled from file \"[36]\", line 3, characters 11-24\nCalled from file \"[36]\", line 3, characters 11-24\nCalled from file \"[36]\", line 3, characters 11-24\nCalled from file \"[36]\", line 3, characters 11-24\nCalled from file \"[36]\", line 3, characters 11-24\nCalled from file \"[36]\", line 3, characters 11-24\nCalled from file \"[36]\", line 3, characters 11-24\nCalled from file \"[36]\", line 3, characters 11-24\nCalled from file \"[36]\", line 3, characters 11-24\nCalled from file \"[36]\", line 3, characters 11-24\nCalled from file \"[36]\", line 3, characters 11-24\nCalled from file \"[36]\", line 3, characters 11-24\nCalled from file \"[36]\", line 3, characters 11-24\nCalled from file \"[36]\", line 3, characters 11-24\nCalled from file \"[36]\", line 3, characters 11-24\nCalled from file \"[36]\", line 3, characters 11-24\nCalled from file \"[36]\", line 3, characters 11-24\nCalled from file \"[36]\", line 3, characters 11-24\nCalled from file \"[36]\", line 3, characters 11-24\nCalled from file \"[36]\", line 3, characters 11-24\nCalled from file \"[36]\", line 3, characters 11-24\nCalled from file \"[36]\", line 3, characters 11-24\nCalled from file \"[36]\", line 3, characters 11-24\nCalled from file \"[36]\", line 3, characters 11-24\nCalled from file \"[36]\", line 3, characters 11-24\nCalled from file \"[36]\", line 3, characters 11-24\nCalled from file \"[36]\", line 3, characters 11-24\nCalled from file \"[36]\", line 3, characters 11-24\nCalled from file \"[36]\", line 3, characters 11-24\nCalled from file \"[36]\", line 3, characters 11-24\nCalled from file \"[36]\", line 3, characters 11-24\nCalled from file \"[36]\", line 3, characters 11-24\nCalled from file \"[36]\", line 3, characters 11-24\nCalled from file \"[36]\", line 3, characters 11-24\nCalled from file \"[36]\", line 3, characters 11-24\nCalled from file \"[36]\", line 3, characters 11-24\nCalled from file \"[36]\", line 3, characters 11-24\nCalled from file \"[36]\", line 3, characters 11-24\nCalled from file \"[36]\", line 3, characters 11-24\nCalled from file \"[36]\", line 3, characters 11-24\nCalled from file \"[36]\", line 3, characters 11-24\nCalled from file \"[36]\", line 3, characters 11-24\nCalled from file \"[36]\", line 3, characters 11-24\nCalled from file \"[36]\", line 3, characters 11-24\nCalled from file \"[36]\", line 3, characters 11-24\nCalled from file \"[36]\", line 3, characters 11-24\nCalled from file \"[36]\", line 3, characters 11-24\nCalled from file \"[36]\", line 3, characters 11-24\nCalled from file \"[36]\", line 3, characters 11-24\nCalled from file \"[36]\", line 3, characters 11-24\nCalled from file \"[36]\", line 3, characters 11-24\nCalled from file \"[36]\", line 3, characters 11-24\nCalled from file \"[36]\", line 3, characters 11-24\nCalled from file \"[36]\", line 3, characters 11-24\nCalled from file \"[36]\", line 3, characters 11-24\nCalled from file \"[36]\", line 3, characters 11-24\nCalled from file \"[36]\", line 3, characters 11-24\nCalled from file \"[36]\", line 3, characters 11-24\nCalled from file \"[36]\", line 3, characters 11-24\nCalled from file \"[36]\", line 3, characters 11-24\nCalled from file \"[36]\", line 3, characters 11-24\nCalled from file \"[36]\", line 3, characters 11-24\nCalled from file \"[36]\", line 3, characters 11-24\nCalled from file \"[36]\", line 3, characters 11-24\nCalled from file \"[36]\", line 3, characters 11-24\nCalled from file \"[36]\", line 3, characters 11-24\nCalled from file \"[36]\", line 3, characters 11-24\nCalled from file \"[36]\", line 3, characters 11-24\nCalled from file \"[36]\", line 3, characters 11-24\nCalled from file \"[36]\", line 3, characters 11-24\nCalled from file \"[36]\", line 3, characters 11-24\nCalled from file \"[36]\", line 3, characters 11-24\nCalled from file \"[36]\", line 3, characters 11-24\nCalled from file \"[36]\", line 3, characters 11-24\nCalled from file \"[36]\", line 3, characters 11-24\nCalled from file \"[36]\", line 3, characters 11-24\nCalled from file \"[36]\", line 3, characters 11-24\nCalled from file \"[36]\", line 3, characters 11-24\nCalled from file \"[36]\", line 3, characters 11-24\nCalled from file \"[36]\", line 3, characters 11-24\nCalled from file \"[36]\", line 3, characters 11-24\nCalled from file \"[36]\", line 3, characters 11-24\nCalled from file \"[36]\", line 3, characters 11-24\nCalled from file \"[36]\", line 3, characters 11-24\nCalled from file \"[36]\", line 3, characters 11-24\nCalled from file \"[36]\", line 3, characters 11-24\nCalled from file \"[36]\", line 3, characters 11-24\nCalled from file \"[36]\", line 3, characters 11-24\nCalled from file \"[36]\", line 3, characters 11-24\nCalled from file \"[36]\", line 3, characters 11-24\nCalled from file \"[36]\", line 3, characters 11-24\nCalled from file \"[36]\", line 3, characters 11-24\nCalled from file \"[36]\", line 3, characters 11-24\nCalled from file \"[36]\", line 3, characters 11-24\nCalled from file \"[36]\", line 3, characters 11-24\nCalled from file \"[36]\", line 3, characters 11-24\nCalled from file \"[36]\", line 3, characters 11-24\nCalled from file \"[36]\", line 3, characters 11-24\nCalled from file \"[36]\", line 3, characters 11-24\nCalled from file \"[36]\", line 3, characters 11-24\nCalled from file \"[36]\", line 3, characters 11-24\nCalled from file \"[36]\", line 3, characters 11-24\nCalled from file \"[36]\", line 3, characters 11-24\nCalled from file \"[36]\", line 3, characters 11-24\nCalled from file \"[36]\", line 3, characters 11-24\nCalled from file \"[36]\", line 3, characters 11-24\nCalled from file \"[36]\", line 3, characters 11-24\nCalled from file \"[36]\", line 3, characters 11-24\nCalled from file \"[36]\", line 3, characters 11-24\nCalled from file \"[36]\", line 3, characters 11-24\nCalled from file \"[36]\", line 3, characters 11-24\nCalled from file \"[36]\", line 3, characters 11-24\nCalled from file \"[36]\", line 3, characters 11-24\nCalled from file \"[36]\", line 3, characters 11-24\nCalled from file \"[36]\", line 3, characters 11-24\nCalled from file \"[36]\", line 3, characters 11-24\nCalled from file \"[36]\", line 3, characters 11-24\nCalled from file \"[36]\", line 3, characters 11-24\nCalled from file \"[36]\", line 3, characters 11-24\nCalled from file \"[36]\", line 3, characters 11-24\nCalled from file \"[36]\", line 3, characters 11-24\nCalled from file \"[36]\", line 3, characters 11-24\nCalled from file \"[36]\", line 3, characters 11-24\nCalled from file \"[36]\", line 3, characters 11-24\nCalled from file \"[36]\", line 3, characters 11-24\nCalled from file \"[36]\", line 3, characters 11-24\nCalled from file \"[36]\", line 3, characters 11-24\nCalled from file \"[36]\", line 3, characters 11-24\nCalled from file \"[36]\", line 3, characters 11-24\nCalled from file \"[36]\", line 3, characters 11-24\nCalled from file \"[36]\", line 3, characters 11-24\nCalled from file \"[36]\", line 3, characters 11-24\nCalled from file \"[36]\", line 3, characters 11-24\nCalled from file \"[36]\", line 3, characters 11-24\nCalled from file \"[36]\", line 3, characters 11-24\nCalled from file \"[36]\", line 3, characters 11-24\nCalled from file \"[36]\", line 3, characters 11-24\nCalled from file \"[36]\", line 3, characters 11-24\nCalled from file \"[36]\", line 3, characters 11-24\nCalled from file \"[36]\", line 3, characters 11-24\nCalled from file \"[36]\", line 3, characters 11-24\nCalled from file \"[36]\", line 3, characters 11-24\nCalled from file \"[36]\", line 3, characters 11-24\nCalled from file \"[36]\", line 3, characters 11-24\nCalled from file \"[36]\", line 3, characters 11-24\nCalled from file \"[36]\", line 3, characters 11-24\nCalled from file \"[36]\", line 3, characters 11-24\nCalled from file \"[36]\", line 3, characters 11-24\nCalled from file \"[36]\", line 3, characters 11-24\nCalled from file \"[36]\", line 3, characters 11-24\nCalled from file \"[36]\", line 3, characters 11-24\nCalled from file \"[36]\", line 3, characters 11-24\nCalled from file \"[36]\", line 3, characters 11-24\nCalled from file \"[36]\", line 3, characters 11-24\nCalled from file \"[36]\", line 3, characters 11-24\nCalled from file \"[36]\", line 3, characters 11-24\nCalled from file \"[36]\", line 3, characters 11-24\nCalled from file \"[36]\", line 3, characters 11-24\nCalled from file \"[36]\", line 3, characters 11-24\nCalled from file \"[36]\", line 3, characters 11-24\nCalled from file \"[36]\", line 3, characters 11-24\nCalled from file \"[36]\", line 3, characters 11-24\nCalled from file \"[36]\", line 3, characters 11-24\nCalled from file \"[36]\", line 3, characters 11-24\nCalled from file \"[36]\", line 3, characters 11-24\nCalled from file \"[36]\", line 3, characters 11-24\nCalled from file \"[36]\", line 3, characters 11-24\nCalled from file \"[36]\", line 3, characters 11-24\nCalled from file \"[36]\", line 3, characters 11-24\nCalled from file \"[36]\", line 3, characters 11-24\nCalled from file \"[36]\", line 3, characters 11-24\nCalled from file \"[36]\", line 3, characters 11-24\nCalled from file \"[36]\", line 3, characters 11-24\nCalled from file \"[36]\", line 3, characters 11-24\nCalled from file \"[36]\", line 3, characters 11-24\nCalled from file \"[36]\", line 3, characters 11-24\nCalled from file \"[36]\", line 3, characters 11-24\nCalled from file \"[36]\", line 3, characters 11-24\nCalled from file \"[36]\", line 3, characters 11-24\nCalled from file \"[36]\", line 3, characters 11-24\nCalled from file \"[36]\", line 3, characters 11-24\nCalled from file \"[36]\", line 3, characters 11-24\nCalled from file \"[36]\", line 3, characters 11-24\nCalled from file \"[36]\", line 3, characters 11-24\nCalled from file \"[36]\", line 3, characters 11-24\nCalled from file \"[36]\", line 3, characters 11-24\nCalled from file \"[36]\", line 3, characters 11-24\nCalled from file \"[36]\", line 3, characters 11-24\nCalled from file \"[36]\", line 3, characters 11-24\nCalled from file \"[36]\", line 3, characters 11-24\nCalled from file \"[36]\", line 3, characters 11-24\nCalled from file \"[36]\", line 3, characters 11-24\nCalled from file \"[36]\", line 3, characters 11-24\nCalled from file \"[36]\", line 3, characters 11-24\nCalled from file \"[36]\", line 3, characters 11-24\nCalled from file \"[36]\", line 3, characters 11-24\nCalled from file \"[36]\", line 3, characters 11-24\nCalled from file \"[36]\", line 3, characters 11-24\nCalled from file \"[36]\", line 3, characters 11-24\nCalled from file \"[36]\", line 3, characters 11-24\nCalled from file \"[36]\", line 3, characters 11-24\nCalled from file \"[36]\", line 3, characters 11-24\nCalled from file \"[36]\", line 3, characters 11-24\nCalled from file \"[36]\", line 3, characters 11-24\nCalled from file \"[36]\", line 3, characters 11-24\nCalled from file \"[36]\", line 3, characters 11-24\nCalled from file \"[36]\", line 3, characters 11-24\nCalled from file \"[36]\", line 3, characters 11-24\nCalled from file \"[36]\", line 3, characters 11-24\nCalled from file \"[36]\", line 3, characters 11-24\nCalled from file \"[36]\", line 3, characters 11-24\nCalled from file \"[36]\", line 3, characters 11-24\nCalled from file \"[36]\", line 3, characters 11-24\nCalled from file \"[36]\", line 3, characters 11-24\nCalled from file \"[36]\", line 3, characters 11-24\nCalled from file \"[36]\", line 3, characters 11-24\nCalled from file \"[36]\", line 3, characters 11-24\nCalled from file \"[36]\", line 3, characters 11-24\nCalled from file \"[36]\", line 3, characters 11-24\nCalled from file \"[36]\", line 3, characters 11-24\nCalled from file \"[36]\", line 3, characters 11-24\nCalled from file \"[36]\", line 3, characters 11-24\nCalled from file \"[36]\", line 3, characters 11-24\nCalled from file \"[36]\", line 3, characters 11-24\nCalled from file \"[36]\", line 3, characters 11-24\nCalled from file \"[36]\", line 3, characters 11-24\nCalled from file \"[36]\", line 3, characters 11-24\nCalled from file \"[36]\", line 3, characters 11-24\nCalled from file \"[36]\", line 3, characters 11-24\nCalled from file \"[36]\", line 3, characters 11-24\nCalled from file \"[36]\", line 3, characters 11-24\nCalled from file \"[36]\", line 3, characters 11-24\nCalled from file \"[36]\", line 3, characters 11-24\nCalled from file \"[36]\", line 3, characters 11-24\nCalled from file \"[36]\", line 3, characters 11-24\nCalled from file \"[36]\", line 3, characters 11-24\nCalled from file \"[36]\", line 3, characters 11-24\nCalled from file \"[36]\", line 3, characters 11-24\nCalled from file \"[36]\", line 3, characters 11-24\nCalled from file \"[36]\", line 3, characters 11-24\nCalled from file \"[36]\", line 3, characters 11-24\nCalled from file \"[36]\", line 3, characters 11-24\nCalled from file \"[36]\", line 3, characters 11-24\nCalled from file \"[36]\", line 3, characters 11-24\nCalled from file \"[36]\", line 3, characters 11-24\nCalled from file \"[36]\", line 3, characters 11-24\nCalled from file \"[36]\", line 3, characters 11-24\nCalled from file \"[36]\", line 3, characters 11-24\nCalled from file \"[36]\", line 3, characters 11-24\nCalled from file \"[36]\", line 3, characters 11-24\nCalled from file \"[36]\", line 3, characters 11-24\nCalled from file \"[36]\", line 3, characters 11-24\nCalled from file \"[36]\", line 3, characters 11-24\nCalled from file \"[36]\", line 3, characters 11-24\nCalled from file \"[36]\", line 3, characters 11-24\nCalled from file \"[36]\", line 3, characters 11-24\nCalled from file \"[36]\", line 3, characters 11-24\nCalled from file \"[36]\", line 3, characters 11-24\nCalled from file \"[36]\", line 3, characters 11-24\nCalled from file \"[36]\", line 3, characters 11-24\nCalled from file \"[36]\", line 3, characters 11-24\nCalled from file \"[36]\", line 3, characters 11-24\nCalled from file \"[36]\", line 3, characters 11-24\nCalled from file \"[36]\", line 3, characters 11-24\nCalled from file \"[36]\", line 3, characters 11-24\nCalled from file \"[36]\", line 3, characters 11-24\nCalled from file \"[36]\", line 3, characters 11-24\nCalled from file \"[36]\", line 3, characters 11-24\nCalled from file \"[36]\", line 3, characters 11-24\nCalled from file \"[36]\", line 3, characters 11-24\nCalled from file \"[36]\", line 3, characters 11-24\nCalled from file \"[36]\", line 3, characters 11-24\nCalled from file \"[36]\", line 3, characters 11-24\nCalled from file \"[36]\", line 3, characters 11-24\nCalled from file \"[36]\", line 3, characters 11-24\nCalled from file \"[36]\", line 3, characters 11-24\nCalled from file \"[36]\", line 3, characters 11-24\nCalled from file \"[36]\", line 3, characters 11-24\nCalled from file \"[36]\", line 3, characters 11-24\nCalled from file \"[36]\", line 3, characters 11-24\nCalled from file \"[36]\", line 3, characters 11-24\nCalled from file \"[36]\", line 3, characters 11-24\nCalled from file \"[36]\", line 3, characters 11-24\nCalled from file \"[36]\", line 3, characters 11-24\nCalled from file \"[36]\", line 3, characters 11-24\nCalled from file \"[36]\", line 3, characters 11-24\nCalled from file \"[36]\", line 3, characters 11-24\nCalled from file \"[36]\", line 3, characters 11-24\nCalled from file \"[36]\", line 3, characters 11-24\nCalled from file \"[36]\", line 3, characters 11-24\nCalled from file \"[36]\", line 3, characters 11-24\nCalled from file \"[36]\", line 3, characters 11-24\nCalled from file \"[36]\", line 3, characters 11-24\nCalled from file \"[36]\", line 3, characters 11-24\nCalled from file \"[36]\", line 3, characters 11-24\nCalled from file \"[36]\", line 3, characters 11-24\nCalled from file \"[36]\", line 3, characters 11-24\nCalled from file \"[36]\", line 3, characters 11-24\nCalled from file \"[36]\", line 3, characters 11-24\nCalled from file \"[36]\", line 3, characters 11-24\nCalled from file \"[36]\", line 3, characters 11-24\nCalled from file \"[36]\", line 3, characters 11-24\nCalled from file \"[36]\", line 3, characters 11-24\nCalled from file \"[36]\", line 3, characters 11-24\nCalled from file \"[36]\", line 3, characters 11-24\nCalled from file \"[36]\", line 3, characters 11-24\nCalled from file \"[36]\", line 3, characters 11-24\nCalled from file \"[36]\", line 3, characters 11-24\nCalled from file \"[36]\", line 3, characters 11-24\nCalled from file \"[36]\", line 3, characters 11-24\nCalled from file \"[36]\", line 3, characters 11-24\nCalled from file \"[36]\", line 3, characters 11-24\nCalled from file \"[36]\", line 3, characters 11-24\nCalled from file \"[36]\", line 3, characters 11-24\nCalled from file \"[36]\", line 3, characters 11-24\nCalled from file \"[36]\", line 3, characters 11-24\nCalled from file \"[36]\", line 3, characters 11-24\nCalled from file \"[36]\", line 3, characters 11-24\nCalled from file \"[36]\", line 3, characters 11-24\nCalled from file \"[36]\", line 3, characters 11-24\nCalled from file \"[36]\", line 3, characters 11-24\nCalled from file \"[36]\", line 3, characters 11-24\nCalled from file \"[36]\", line 3, characters 11-24\nCalled from file \"[36]\", line 3, characters 11-24\nCalled from file \"[36]\", line 3, characters 11-24\nCalled from file \"[36]\", line 3, characters 11-24\nCalled from file \"[36]\", line 3, characters 11-24\nCalled from file \"[36]\", line 3, characters 11-24\nCalled from file \"[36]\", line 3, characters 11-24\nCalled from file \"[36]\", line 3, characters 11-24\nCalled from file \"[36]\", line 3, characters 11-24\nCalled from file \"[36]\", line 3, characters 11-24\nCalled from file \"[36]\", line 3, characters 11-24\nCalled from file \"[36]\", line 3, characters 11-24\nCalled from file \"[36]\", line 3, characters 11-24\nCalled from file \"[36]\", line 3, characters 11-24\nCalled from file \"[36]\", line 3, characters 11-24\nCalled from file \"[36]\", line 3, characters 11-24\nCalled from file \"[36]\", line 3, characters 11-24\nCalled from file \"[36]\", line 3, characters 11-24\nCalled from file \"[36]\", line 3, characters 11-24\nCalled from file \"[36]\", line 3, characters 11-24\nCalled from file \"[36]\", line 3, characters 11-24\nCalled from file \"[36]\", line 3, characters 11-24\nCalled from file \"[36]\", line 3, characters 11-24\nCalled from file \"[36]\", line 3, characters 11-24\nCalled from file \"[36]\", line 3, characters 11-24\nCalled from file \"[36]\", line 3, characters 11-24\nCalled from file \"[36]\", line 3, characters 11-24\nCalled from file \"[36]\", line 3, characters 11-24\nCalled from file \"[36]\", line 3, characters 11-24\nCalled from file \"[36]\", line 3, characters 11-24\nCalled from file \"[36]\", line 3, characters 11-24\nCalled from file \"[36]\", line 3, characters 11-24\nCalled from file \"[36]\", line 3, characters 11-24\nCalled from file \"[36]\", line 3, characters 11-24\nCalled from file \"[36]\", line 3, characters 11-24\nCalled from file \"[36]\", line 3, characters 11-24\nCalled from file \"[36]\", line 3, characters 11-24\nCalled from file \"[36]\", line 3, characters 11-24\nCalled from file \"[36]\", line 3, characters 11-24\nCalled from file \"[36]\", line 3, characters 11-24\nCalled from file \"[36]\", line 3, characters 11-24\nCalled from file \"[36]\", line 3, characters 11-24\nCalled from file \"[36]\", line 3, characters 11-24\nCalled from file \"[36]\", line 3, characters 11-24\nCalled from file \"[36]\", line 3, characters 11-24\nCalled from file \"[36]\", line 3, characters 11-24\nCalled from file \"[36]\", line 3, characters 11-24\nCalled from file \"[36]\", line 3, characters 11-24\nCalled from file \"[36]\", line 3, characters 11-24\nCalled from file \"[36]\", line 3, characters 11-24\nCalled from file \"[36]\", line 3, characters 11-24\nCalled from file \"[36]\", line 3, characters 11-24\nCalled from file \"[36]\", line 3, characters 11-24\nCalled from file \"[36]\", line 3, characters 11-24\nCalled from file \"[36]\", line 3, characters 11-24\nCalled from file \"[36]\", line 3, characters 11-24\nCalled from file \"[36]\", line 3, characters 11-24\nCalled from file \"[36]\", line 3, characters 11-24\nCalled from file \"[36]\", line 3, characters 11-24\nCalled from file \"[36]\", line 3, characters 11-24\nCalled from file \"[36]\", line 3, characters 11-24\nCalled from file \"[36]\", line 3, characters 11-24\nCalled from file \"[36]\", line 3, characters 11-24\nCalled from file \"[36]\", line 3, characters 11-24\nCalled from file \"[36]\", line 3, characters 11-24\nCalled from file \"[36]\", line 3, characters 11-24\nCalled from file \"[36]\", line 3, characters 11-24\nCalled from file \"[36]\", line 3, characters 11-24\nCalled from file \"[36]\", line 3, characters 11-24\nCalled from file \"[36]\", line 3, characters 11-24\nCalled from file \"[36]\", line 3, characters 11-24\nCalled from file \"[36]\", line 3, characters 11-24\nCalled from file \"[36]\", line 3, characters 11-24\nCalled from file \"[36]\", line 3, characters 11-24\nCalled from file \"[36]\", line 3, characters 11-24\nCalled from file \"[36]\", line 3, characters 11-24\nCalled from file \"[36]\", line 3, characters 11-24\nCalled from file \"[36]\", line 3, characters 11-24\nCalled from file \"[36]\", line 3, characters 11-24\nCalled from file \"[36]\", line 3, characters 11-24\nCalled from file \"[36]\", line 3, characters 11-24\nCalled from file \"[36]\", line 3, characters 11-24\nCalled from file \"[36]\", line 3, characters 11-24\nCalled from file \"[36]\", line 3, characters 11-24\nCalled from file \"[36]\", line 3, characters 11-24\nCalled from file \"[36]\", line 3, characters 11-24\nCalled from file \"[36]\", line 3, characters 11-24\nCalled from file \"[36]\", line 3, characters 11-24\nCalled from file \"[36]\", line 3, characters 11-24\nCalled from file \"[36]\", line 3, characters 11-24\nCalled from file \"[36]\", line 3, characters 11-24\nCalled from file \"[36]\", line 3, characters 11-24\nCalled from file \"[36]\", line 3, characters 11-24\nCalled from file \"[36]\", line 3, characters 11-24\nCalled from file \"[36]\", line 3, characters 11-24\nCalled from file \"[36]\", line 3, characters 11-24\nCalled from file \"[36]\", line 3, characters 11-24\nCalled from file \"[36]\", line 3, characters 11-24\nCalled from file \"[36]\", line 3, characters 11-24\nCalled from file \"[36]\", line 3, characters 11-24\nCalled from file \"[36]\", line 3, characters 11-24\nCalled from file \"[36]\", line 3, characters 11-24\nCalled from file \"[36]\", line 3, characters 11-24\nCalled from file \"[36]\", line 3, characters 11-24\nCalled from file \"[36]\", line 3, characters 11-24\nCalled from file \"[36]\", line 3, characters 11-24\nCalled from file \"[36]\", line 3, characters 11-24\nCalled from file \"[36]\", line 3, characters 11-24\nCalled from file \"[36]\", line 3, characters 11-24\nCalled from file \"[36]\", line 3, characters 11-24\nCalled from file \"[36]\", line 3, characters 11-24\nCalled from file \"[36]\", line 3, characters 11-24\nCalled from file \"[36]\", line 3, characters 11-24\nCalled from file \"[36]\", line 3, characters 11-24\nCalled from file \"[36]\", line 3, characters 11-24\nCalled from file \"[36]\", line 3, characters 11-24\nCalled from file \"[36]\", line 3, characters 11-24\nCalled from file \"[36]\", line 3, characters 11-24\nCalled from file \"[36]\", line 3, characters 11-24\nCalled from file \"[36]\", line 3, characters 11-24\nCalled from file \"[36]\", line 3, characters 11-24\nCalled from file \"[36]\", line 3, characters 11-24\nCalled from file \"[36]\", line 3, characters 11-24\nCalled from file \"[36]\", line 3, characters 11-24\nCalled from file \"[36]\", line 3, characters 11-24\nCalled from file \"[36]\", line 3, characters 11-24\nCalled from file \"[36]\", line 3, characters 11-24\nCalled from file \"[36]\", line 3, characters 11-24\nCalled from file \"[36]\", line 3, characters 11-24\nCalled from file \"[36]\", line 3, characters 11-24\nCalled from file \"[36]\", line 3, characters 11-24\nCalled from file \"[36]\", line 3, characters 11-24\nCalled from file \"[36]\", line 3, characters 11-24\nCalled from file \"[36]\", line 3, characters 11-24\nCalled from file \"[36]\", line 3, characters 11-24\nCalled from file \"[36]\", line 3, characters 11-24\nCalled from file \"[36]\", line 3, characters 11-24\nCalled from file \"[36]\", line 3, characters 11-24\nCalled from file \"[36]\", line 3, characters 11-24\nCalled from file \"[36]\", line 3, characters 11-24\nCalled from file \"[36]\", line 3, characters 11-24\nCalled from file \"[36]\", line 3, characters 11-24\nCalled from file \"[36]\", line 3, characters 11-24\nCalled from file \"[36]\", line 3, characters 11-24\nCalled from file \"[36]\", line 3, characters 11-24\nCalled from file \"[36]\", line 3, characters 11-24\nCalled from file \"[36]\", line 3, characters 11-24\nCalled from file \"[36]\", line 3, characters 11-24\nCalled from file \"[36]\", line 3, characters 11-24\nCalled from file \"[36]\", line 3, characters 11-24\nCalled from file \"[36]\", line 3, characters 11-24\nCalled from file \"[36]\", line 3, characters 11-24\nCalled from file \"[36]\", line 3, characters 11-24\nCalled from file \"[36]\", line 3, characters 11-24\nCalled from file \"[36]\", line 3, characters 11-24\nCalled from file \"[36]\", line 3, characters 11-24\nCalled from file \"[36]\", line 3, characters 11-24\nCalled from file \"[36]\", line 3, characters 11-24\nCalled from file \"[36]\", line 3, characters 11-24\nCalled from file \"[36]\", line 3, characters 11-24\nCalled from file \"[36]\", line 3, characters 11-24\nCalled from file \"[36]\", line 3, characters 11-24\nCalled from file \"[36]\", line 3, characters 11-24\nCalled from file \"[36]\", line 3, characters 11-24\nCalled from file \"[36]\", line 3, characters 11-24\nCalled from file \"[36]\", line 3, characters 11-24\nCalled from file \"[36]\", line 3, characters 11-24\nCalled from file \"[36]\", line 3, characters 11-24\nCalled from file \"[36]\", line 3, characters 11-24\nCalled from file \"[36]\", line 3, characters 11-24\nCalled from file \"[36]\", line 3, characters 11-24\nCalled from file \"[36]\", line 3, characters 11-24\nCalled from file \"[36]\", line 3, characters 11-24\nCalled from file \"[36]\", line 3, characters 11-24\nCalled from file \"[36]\", line 3, characters 11-24\nCalled from file \"[36]\", line 3, characters 11-24\nCalled from file \"[36]\", line 3, characters 11-24\nCalled from file \"[36]\", line 3, characters 11-24\nCalled from file \"[36]\", line 3, characters 11-24\nCalled from file \"[36]\", line 3, characters 11-24\nCalled from file \"[36]\", line 3, characters 11-24\nCalled from file \"[36]\", line 3, characters 11-24\nCalled from file \"[36]\", line 3, characters 11-24\nCalled from file \"[36]\", line 3, characters 11-24\nCalled from file \"[36]\", line 3, characters 11-24\nCalled from file \"[36]\", line 3, characters 11-24\nCalled from file \"[36]\", line 3, characters 11-24\nCalled from file \"[36]\", line 3, characters 11-24\nCalled from file \"[36]\", line 3, characters 11-24\nCalled from file \"[36]\", line 3, characters 11-24\nCalled from file \"[36]\", line 3, characters 11-24\nCalled from file \"[36]\", line 3, characters 11-24\nCalled from file \"[36]\", line 3, characters 11-24\nCalled from file \"[36]\", line 3, characters 11-24\nCalled from file \"[36]\", line 3, characters 11-24\nCalled from file \"[36]\", line 3, characters 11-24\nCalled from file \"[36]\", line 3, characters 11-24\nCalled from file \"[36]\", line 3, characters 11-24\nCalled from file \"[36]\", line 3, characters 11-24\nCalled from file \"[36]\", line 3, characters 11-24\nCalled from file \"[36]\", line 3, characters 11-24\nCalled from file \"[36]\", line 3, characters 11-24\nCalled from file \"[36]\", line 3, characters 11-24\nCalled from file \"[36]\", line 3, characters 11-24\nCalled from file \"[36]\", line 3, characters 11-24\nCalled from file \"[36]\", line 3, characters 11-24\nCalled from file \"[36]\", line 3, characters 11-24\nCalled from file \"[36]\", line 3, characters 11-24\nCalled from file \"[36]\", line 3, characters 11-24\nCalled from file \"[36]\", line 3, characters 11-24\nCalled from file \"[36]\", line 3, characters 11-24\nCalled from file \"[36]\", line 3, characters 11-24\nCalled from file \"[36]\", line 3, characters 11-24\nCalled from file \"[36]\", line 3, characters 11-24\nCalled from file \"[36]\", line 3, characters 11-24\nCalled from file \"[36]\", line 3, characters 11-24\nCalled from file \"[36]\", line 3, characters 11-24\nCalled from file \"[36]\", line 3, characters 11-24\nCalled from file \"[36]\", line 3, characters 11-24\nCalled from file \"[36]\", line 3, characters 11-24\nCalled from file \"[36]\", line 3, characters 11-24\nCalled from file \"[36]\", line 3, characters 11-24\nCalled from file \"[36]\", line 3, characters 11-24\nCalled from file \"[36]\", line 3, characters 11-24\nCalled from file \"[36]\", line 3, characters 11-24\nCalled from file \"[36]\", line 3, characters 11-24\nCalled from file \"[36]\", line 3, characters 11-24\nCalled from file \"[36]\", line 3, characters 11-24\nCalled from file \"[36]\", line 3, characters 11-24\nCalled from file \"[36]\", line 3, characters 11-24\nCalled from file \"[36]\", line 3, characters 11-24\nCalled from file \"[36]\", line 3, characters 11-24\nCalled from file \"[36]\", line 3, characters 11-24\nCalled from file \"[36]\", line 3, characters 11-24\nCalled from file \"[36]\", line 3, characters 11-24\nCalled from file \"[36]\", line 3, characters 11-24\nCalled from file \"[36]\", line 3, characters 11-24\nCalled from file \"[36]\", line 3, characters 11-24\nCalled from file \"[36]\", line 3, characters 11-24\nCalled from file \"[36]\", line 3, characters 11-24\nCalled from file \"[36]\", line 3, characters 11-24\nCalled from file \"[36]\", line 3, characters 11-24\nCalled from file \"[36]\", line 3, characters 11-24\nCalled from file \"[36]\", line 3, characters 11-24\nCalled from file \"[36]\", line 3, characters 11-24\nCalled from file \"[36]\", line 3, characters 11-24\nCalled from file \"[36]\", line 3, characters 11-24\nCalled from file \"[36]\", line 3, characters 11-24\nCalled from file \"[36]\", line 3, characters 11-24\nCalled from file \"[36]\", line 3, characters 11-24\nCalled from file \"[36]\", line 3, characters 11-24\nCalled from file \"[36]\", line 3, characters 11-24\nCalled from file \"[36]\", line 3, characters 11-24\nCalled from file \"[36]\", line 3, characters 11-24\nCalled from file \"[36]\", line 3, characters 11-24\nCalled from file \"[36]\", line 3, characters 11-24\nCalled from file \"[36]\", line 3, characters 11-24\nCalled from file \"[36]\", line 3, characters 11-24\nCalled from file \"[36]\", line 3, characters 11-24\nCalled from file \"[36]\", line 3, characters 11-24\nCalled from file \"[36]\", line 3, characters 11-24\nCalled from file \"[36]\", line 3, characters 11-24\nCalled from file \"[36]\", line 3, characters 11-24\nCalled from file \"[36]\", line 3, characters 11-24\nCalled from file \"[36]\", line 3, characters 11-24\nCalled from file \"[36]\", line 3, characters 11-24\nCalled from file \"[36]\", line 3, characters 11-24\nCalled from file \"[36]\", line 3, characters 11-24\nCalled from file \"[36]\", line 3, characters 11-24\nCalled from file \"[36]\", line 3, characters 11-24\nCalled from file \"[36]\", line 3, characters 11-24\nCalled from file \"[36]\", line 3, characters 11-24\nCalled from file \"[36]\", line 3, characters 11-24\nCalled from file \"[36]\", line 3, characters 11-24\nCalled from file \"[36]\", line 3, characters 11-24\nCalled from file \"[36]\", line 3, characters 11-24\nCalled from file \"[36]\", line 3, characters 11-24\nCalled from file \"[36]\", line 3, characters 11-24\nCalled from file \"[36]\", line 3, characters 11-24\nCalled from file \"[36]\", line 3, characters 11-24\nCalled from file \"[36]\", line 3, characters 11-24\nCalled from file \"[36]\", line 3, characters 11-24\nCalled from file \"[36]\", line 3, characters 11-24\nCalled from file \"[36]\", line 3, characters 11-24\nCalled from file \"[36]\", line 3, characters 11-24\nCalled from file \"[36]\", line 3, characters 11-24\nCalled from file \"[36]\", line 3, characters 11-24\nCalled from file \"[36]\", line 3, characters 11-24\nCalled from file \"[36]\", line 3, characters 11-24\nCalled from file \"[36]\", line 3, characters 11-24\nCalled from file \"[36]\", line 3, characters 11-24\nCalled from file \"[36]\", line 3, characters 11-24\nCalled from file \"[36]\", line 3, characters 11-24\nCalled from file \"[36]\", line 3, characters 11-24\nCalled from file \"[36]\", line 3, characters 11-24\nCalled from file \"[36]\", line 3, characters 11-24\nCalled from file \"[36]\", line 3, characters 11-24\nCalled from file \"[36]\", line 3, characters 11-24\nCalled from file \"[36]\", line 3, characters 11-24\nCalled from file \"[36]\", line 3, characters 11-24\nCalled from file \"[36]\", line 3, characters 11-24\nCalled from file \"[36]\", line 3, characters 11-24\nCalled from file \"[36]\", line 3, characters 11-24\nCalled from file \"[36]\", line 3, characters 11-24\nCalled from file \"[36]\", line 3, characters 11-24\nCalled from file \"[36]\", line 3, characters 11-24\nCalled from file \"[36]\", line 3, characters 11-24\nCalled from file \"[36]\", line 3, characters 11-24\nCalled from file \"[36]\", line 3, characters 11-24\nCalled from file \"[36]\", line 3, characters 11-24\nCalled from file \"[36]\", line 3, characters 11-24\nCalled from file \"[36]\", line 3, characters 11-24\nCalled from file \"[36]\", line 3, characters 11-24\nCalled from file \"[36]\", line 3, characters 11-24\nCalled from file \"[36]\", line 3, characters 11-24\nCalled from file \"[36]\", line 3, characters 11-24\nCalled from file \"[36]\", line 3, characters 11-24\nCalled from file \"[36]\", line 3, characters 11-24\nCalled from file \"[36]\", line 3, characters 11-24\nCalled from file \"[36]\", line 3, characters 11-24\nCalled from file \"[36]\", line 3, characters 11-24\nCalled from file \"[36]\", line 3, characters 11-24\nCalled from file \"[36]\", line 3, characters 11-24\nCalled from file \"[36]\", line 3, characters 11-24\nCalled from file \"[36]\", line 3, characters 11-24\nCalled from file \"[36]\", line 3, characters 11-24\nCalled from file \"[36]\", line 3, characters 11-24\nCalled from file \"[36]\", line 3, characters 11-24\nCalled from file \"[36]\", line 3, characters 11-24\nCalled from file \"[36]\", line 3, characters 11-24\nCalled from file \"[36]\", line 3, characters 11-24\nCalled from file \"[36]\", line 3, characters 11-24\n\u001b[0m"
     ]
    }
   ],
   "source": [
    "findsum 1000000"
   ]
  },
  {
   "cell_type": "markdown",
   "metadata": {
    "slideshow": {
     "slide_type": "slide"
    }
   },
   "source": [
    "## Stack buildup\n",
    "\n",
    "```ocaml\n",
    "let rec findsum n = \n",
    "  if n <= 0 then 0\n",
    "  else n + findsum (n-1)\n",
    "```\n",
    "\n",
    "Some work `\"+ n\"` left to do after the recursive call returns. This builds up stack frames."
   ]
  },
  {
   "cell_type": "markdown",
   "metadata": {
    "slideshow": {
     "slide_type": "slide"
    }
   },
   "source": [
    "## Stack buildup\n",
    "\n",
    "For `findsum 5`:\n",
    "\n",
    "* `5 + (findsum 4)`\n",
    "* `4 + (findsum 3)`\n",
    "* `3 + (findsum 2)`\n",
    "* `2 + (findsum 1)`\n",
    "* `1 + (findsum 0)`\n",
    "* the number `n` kept in stack frame.\n",
    "* This causes stackoverflow for small values itself.\n"
   ]
  },
  {
   "cell_type": "markdown",
   "metadata": {
    "slideshow": {
     "slide_type": "slide"
    }
   },
   "source": [
    "## Tail recursion\n",
    "\n",
    "Rewrite the function such that the recursive call is the last thing that the function does:"
   ]
  },
  {
   "cell_type": "code",
   "execution_count": null,
   "metadata": {},
   "outputs": [],
   "source": [
    "let rec findsum_tailrec acc n = \n",
    "  if n <= 0 then acc\n",
    "  else findsum_tailrec (n + acc) (n-1)\n",
    "  \n",
    "let findsum_tailrec n = findsum_tailrec 0 n"
   ]
  },
  {
   "cell_type": "code",
   "execution_count": null,
   "metadata": {},
   "outputs": [],
   "source": [
    "findsum_tailrec 1000000000"
   ]
  },
  {
   "cell_type": "markdown",
   "metadata": {
    "slideshow": {
     "slide_type": "slide"
    }
   },
   "source": [
    "## Tail recursion\n",
    "\n",
    "```ocaml\n",
    "let rec findsum_tailrec n acc = \n",
    "  if n <= 0 then acc\n",
    "  else findsum_tailrec (n-1) (n + acc)\n",
    "```\n",
    "\n",
    "* No work left to do when the recursive call returns except return result to caller.\n",
    "* OCaml compiler does **tail call optimisation** that pops current call frame before invoking recursive call. \n",
    "  + No stack buildup => equivalent to writing a tight loop. "
   ]
  }
 ],
 "metadata": {
  "celltoolbar": "Slideshow",
  "kernelspec": {
   "display_name": "OCaml 4.10",
   "language": "OCaml",
   "name": "ocaml-jupyter"
  },
  "language_info": {
   "codemirror_mode": "text/x-ocaml",
   "file_extension": ".ml",
   "mimetype": "text/x-ocaml",
   "name": "OCaml",
   "nbconverter_exporter": null,
   "pygments_lexer": "OCaml",
   "version": "4.10.0"
  }
 },
 "nbformat": 4,
 "nbformat_minor": 2
}
