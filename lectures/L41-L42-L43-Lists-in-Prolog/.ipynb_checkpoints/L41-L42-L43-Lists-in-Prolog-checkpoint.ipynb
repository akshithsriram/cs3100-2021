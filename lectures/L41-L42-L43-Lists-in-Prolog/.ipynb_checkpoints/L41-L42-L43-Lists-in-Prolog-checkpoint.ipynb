{
 "cells": [
  {
   "cell_type": "markdown",
   "metadata": {
    "slideshow": {
     "slide_type": "slide"
    }
   },
   "source": [
    "## Review\n",
    "\n",
    "### Previously\n",
    "\n",
    "* Solving a logic puzzle\n",
    "\n",
    "### This lecture\n",
    "\n",
    "* Programming with Lists\n",
    "* And many concepts in the process\n",
    "  + Arithmetic\n",
    "  + Last call optimisation\n",
    "  + Backtracking & Choice points."
   ]
  },
  {
   "cell_type": "markdown",
   "metadata": {
    "slideshow": {
     "slide_type": "slide"
    }
   },
   "source": [
    "## Trouble with Zebras\n",
    "\n",
    "* Our zebra puzzle only works with 5 houses.\n",
    "  + Problem is the 5-tuple `street(H1,H2,H3,H4,H5)`.\n",
    "* Need to rewrite the entire program if more houses were added.\n",
    "* What we really need is **lists**."
   ]
  },
  {
   "cell_type": "markdown",
   "metadata": {
    "slideshow": {
     "slide_type": "slide"
    }
   },
   "source": [
    "## Support for lists in Prolog\n",
    "\n",
    "* Notated with square brackets `[1,2,3,4]`.\n",
    "* The empty list is `[]`.\n",
    "* List pattern matching is `[H | T]`, where `H` is a list element and `T` is a list.\n",
    "  + Can also match `[1,2,3 | T]`.\n"
   ]
  },
  {
   "cell_type": "markdown",
   "metadata": {
    "slideshow": {
     "slide_type": "slide"
    }
   },
   "source": [
    "## Quiz\n",
    "\n",
    "Which of these unify?\n",
    "\n",
    "1. `[1,2] = [H | [2]]`\n",
    "2. `[1,2] = [1 | 2]`\n",
    "3. `[1,2] = [X,Y | []]`\n",
    "4. `[1,2] = [ _ | [1,2]]`"
   ]
  },
  {
   "cell_type": "markdown",
   "metadata": {
    "slideshow": {
     "slide_type": "slide"
    }
   },
   "source": [
    "## Quiz\n",
    "\n",
    "Which of these unify?\n",
    "\n",
    "1. `[1,2] = [H | [2]]` **yes - H=1**\n",
    "2. `[1,2] = [1 | 2]` **no - RHS is not a list**\n",
    "3. `[1,2] = [X,Y | []]` **yes - X=1,Y=2**\n",
    "4. `[1,2] = [ _ | [1,2]]` **no - RHS unifies with a list `[X,1,2]`**"
   ]
  },
  {
   "cell_type": "markdown",
   "metadata": {
    "slideshow": {
     "slide_type": "slide"
    }
   },
   "source": [
    "## Finding the last element of the list"
   ]
  },
  {
   "cell_type": "code",
   "execution_count": null,
   "metadata": {},
   "outputs": [],
   "source": [
    "last([H],H).\n",
    "last([_ | T], V) :- last(T, V)."
   ]
  },
  {
   "cell_type": "code",
   "execution_count": null,
   "metadata": {
    "scrolled": true
   },
   "outputs": [],
   "source": [
    "?- last([1,2],X)."
   ]
  },
  {
   "cell_type": "markdown",
   "metadata": {
    "slideshow": {
     "slide_type": "slide"
    }
   },
   "source": [
    "## Tracing the example by hand\n",
    "\n",
    "    last([1,2],X)."
   ]
  },
  {
   "cell_type": "markdown",
   "metadata": {
    "slideshow": {
     "slide_type": "slide"
    }
   },
   "source": [
    "## Quiz\n",
    "```prolog\n",
    "last([H],H).\n",
    "last([_ | T], V) :- last(T, V).\n",
    "```\n",
    "What happens if I ask for `last([],X)`?\n",
    "\n",
    "1. pattern match exception\n",
    "2. Prolog says false.\n",
    "3. Prolog says true, X = [].\n",
    "4. Prolog says true, X = ???."
   ]
  },
  {
   "cell_type": "markdown",
   "metadata": {
    "slideshow": {
     "slide_type": "slide"
    }
   },
   "source": [
    "## Quiz\n",
    "```prolog\n",
    "last([H],H).\n",
    "last([_ | T], V) :- last(T, V).\n",
    "```\n",
    "What happens if I ask for `last([],X)`?\n",
    "\n",
    "1. pattern match exception\n",
    "2. Prolog says false. **✓**\n",
    "3. Prolog says true, X = [].\n",
    "4. Prolog says true, X = ???."
   ]
  },
  {
   "cell_type": "markdown",
   "metadata": {
    "slideshow": {
     "slide_type": "slide"
    }
   },
   "source": [
    "## Tracing the example in SWI-Prolog\n",
    "\n",
    "    last ([1,2],X)\n",
    "    \n",
    "Show what happens with `;` after the first result."
   ]
  },
  {
   "cell_type": "markdown",
   "metadata": {
    "slideshow": {
     "slide_type": "slide"
    }
   },
   "source": [
    "## Arithmetic\n",
    "\n",
    "* How do we compute the **length** of the list?\n",
    "  + We need support for arithmetic. \n",
    "* Arithmetic is quite natural in imperative and functional paradigms.\n",
    "  + Since **computation is deduction** in logic programming, arithmetic is quite special."
   ]
  },
  {
   "cell_type": "markdown",
   "metadata": {
    "slideshow": {
     "slide_type": "slide"
    }
   },
   "source": [
    "## Arithmetic equality != Unification\n",
    "\n",
    "`=` operator is used up by unification."
   ]
  },
  {
   "cell_type": "code",
   "execution_count": null,
   "metadata": {},
   "outputs": [],
   "source": [
    "?- A = 1+2."
   ]
  },
  {
   "cell_type": "code",
   "execution_count": null,
   "metadata": {},
   "outputs": [],
   "source": [
    "?- 1+2 = 3."
   ]
  },
  {
   "cell_type": "code",
   "execution_count": null,
   "metadata": {},
   "outputs": [],
   "source": [
    "?- A = money+power."
   ]
  },
  {
   "cell_type": "markdown",
   "metadata": {
    "slideshow": {
     "slide_type": "slide"
    }
   },
   "source": [
    "## Use the `is` operator\n",
    "\n",
    "The “is” operator tells prolog to evaluate the righthand expression numerically and unify with the left."
   ]
  },
  {
   "cell_type": "code",
   "execution_count": null,
   "metadata": {},
   "outputs": [],
   "source": [
    "?- X is 1, A is X+2."
   ]
  },
  {
   "cell_type": "code",
   "execution_count": null,
   "metadata": {},
   "outputs": [],
   "source": [
    "?- A is money+power."
   ]
  },
  {
   "cell_type": "markdown",
   "metadata": {
    "slideshow": {
     "slide_type": "slide"
    }
   },
   "source": [
    "## Restriction on `is` operator\n",
    "\n",
    "The RHS must be a ground term (no variables). Prolog doesn't do algebra."
   ]
  },
  {
   "cell_type": "code",
   "execution_count": null,
   "metadata": {},
   "outputs": [],
   "source": [
    "?- B is 1, A is B+2."
   ]
  },
  {
   "cell_type": "code",
   "execution_count": null,
   "metadata": {},
   "outputs": [],
   "source": [
    "?- B is 1, 3 is B+1."
   ]
  },
  {
   "cell_type": "markdown",
   "metadata": {
    "slideshow": {
     "slide_type": "slide"
    }
   },
   "source": [
    "## Quiz\n",
    "\n",
    "What is the result of `A is *(3,+(1,2))?`\n",
    "\n",
    "1. Error\n",
    "2. 9\n",
    "3. 8\n",
    "4. 6"
   ]
  },
  {
   "cell_type": "markdown",
   "metadata": {
    "slideshow": {
     "slide_type": "slide"
    }
   },
   "source": [
    "## Quiz\n",
    "\n",
    "What is the result of `A is *(3,+(1,2))?`\n",
    "\n",
    "1. Error\n",
    "2. 9 **✓**\n",
    "3. 8\n",
    "4. 6"
   ]
  },
  {
   "cell_type": "markdown",
   "metadata": {
    "slideshow": {
     "slide_type": "slide"
    }
   },
   "source": [
    "## Arithmetic\n",
    "\n",
    "There is support for `+,*, /, <, =<, >, >=`,etc."
   ]
  },
  {
   "cell_type": "code",
   "execution_count": null,
   "metadata": {},
   "outputs": [],
   "source": [
    "?- A is /(5,6)."
   ]
  },
  {
   "cell_type": "markdown",
   "metadata": {
    "slideshow": {
     "slide_type": "slide"
    }
   },
   "source": [
    "## List Sum\n",
    "\n",
    "Compute the sum of the list. This is the example we saw in the first Prolog lecture. "
   ]
  },
  {
   "cell_type": "code",
   "execution_count": 20,
   "metadata": {
    "slideshow": {
     "slide_type": "-"
    }
   },
   "outputs": [
    {
     "name": "stdout",
     "output_type": "stream",
     "text": [
      "Added 2 clauses(s)."
     ]
    }
   ],
   "source": [
    "sum([],0).\n",
    "sum([H | T], N) :- sum(T,M), N is M+H."
   ]
  },
  {
   "cell_type": "code",
   "execution_count": 21,
   "metadata": {},
   "outputs": [
    {
     "name": "stdout",
     "output_type": "stream",
     "text": [
      "X = 6 ."
     ]
    }
   ],
   "source": [
    "?- sum([1,2,3],X)."
   ]
  },
  {
   "cell_type": "code",
   "execution_count": 22,
   "metadata": {},
   "outputs": [
    {
     "ename": "",
     "evalue": "",
     "output_type": "error",
     "traceback": [
      "ERROR: Caused by: '  sum(X,3)'. Returned: 'error(instantiation_error, context(:(system, /(is, 2)), _2204))'."
     ]
    }
   ],
   "source": [
    "?- sum(X,3)."
   ]
  },
  {
   "cell_type": "markdown",
   "metadata": {},
   "source": [
    "Trace `?- sum(X,3)` by hand and in `swipl`."
   ]
  },
  {
   "cell_type": "markdown",
   "metadata": {
    "slideshow": {
     "slide_type": "slide"
    }
   },
   "source": [
    "## Length of list"
   ]
  },
  {
   "cell_type": "code",
   "execution_count": 23,
   "metadata": {},
   "outputs": [
    {
     "name": "stdout",
     "output_type": "stream",
     "text": [
      "Added 2 clauses(s)."
     ]
    }
   ],
   "source": [
    "len([],0).\n",
    "len([_ | T], N) :- len(T,M), N is M+1."
   ]
  },
  {
   "cell_type": "code",
   "execution_count": 24,
   "metadata": {},
   "outputs": [
    {
     "name": "stdout",
     "output_type": "stream",
     "text": [
      "X = 3 ."
     ]
    }
   ],
   "source": [
    "?- len([1,2,3],X)."
   ]
  },
  {
   "cell_type": "markdown",
   "metadata": {
    "slideshow": {
     "slide_type": "slide"
    }
   },
   "source": [
    "## Last call optimisation\n",
    "\n",
    "* `len` uses O(N) stack space."
   ]
  },
  {
   "cell_type": "markdown",
   "metadata": {
    "slideshow": {
     "slide_type": "slide"
    }
   },
   "source": [
    "## Trace `len` by hand\n",
    "    \n",
    "    ?- len([1,2],X)"
   ]
  },
  {
   "cell_type": "markdown",
   "metadata": {
    "slideshow": {
     "slide_type": "slide"
    }
   },
   "source": [
    "## Tail recursive length"
   ]
  },
  {
   "cell_type": "code",
   "execution_count": null,
   "metadata": {},
   "outputs": [],
   "source": [
    "len2([],Acc,Acc).\n",
    "len2([H|T],Acc,N) :- M is Acc+1, len2(T,M,N)."
   ]
  },
  {
   "cell_type": "code",
   "execution_count": null,
   "metadata": {
    "scrolled": true
   },
   "outputs": [],
   "source": [
    "?- len2([1,2],0,X)."
   ]
  },
  {
   "cell_type": "markdown",
   "metadata": {
    "slideshow": {
     "slide_type": "slide"
    }
   },
   "source": [
    "## Trace `len2` by hand.\n",
    "\n",
    "    ?- len2([1,2],0,X)."
   ]
  },
  {
   "cell_type": "markdown",
   "metadata": {
    "slideshow": {
     "slide_type": "slide"
    }
   },
   "source": [
    "## Predicate Overloading"
   ]
  },
  {
   "cell_type": "code",
   "execution_count": null,
   "metadata": {},
   "outputs": [],
   "source": [
    "len2(L,X) :- len2(L,0,X)."
   ]
  },
  {
   "cell_type": "code",
   "execution_count": null,
   "metadata": {
    "scrolled": true
   },
   "outputs": [],
   "source": [
    "?- len2([1,2,3],X)."
   ]
  },
  {
   "cell_type": "markdown",
   "metadata": {
    "slideshow": {
     "slide_type": "slide"
    }
   },
   "source": [
    "## Last Call Optimisation\n",
    "\n",
    "* This technique is applied by the prolog interpreter\n",
    "* The last clause of the rule is executed as a branch and not a call\n",
    "* We can only do this if the rule is **determinate** up to that point\n",
    "  + No further choices for the rule\n",
    "  + Relates to **choice points** (to be seen)."
   ]
  }
 ],
 "metadata": {
  "celltoolbar": "Slideshow",
  "kernelspec": {
   "display_name": "SWI-Prolog",
   "language": "",
   "name": "jswipl"
  },
  "language_info": {
   "mimetype": "text/plain",
   "name": "swipl"
  }
 },
 "nbformat": 4,
 "nbformat_minor": 2
}
