{
 "cells": [
  {
   "cell_type": "markdown",
   "metadata": {
    "slideshow": {
     "slide_type": "slide"
    }
   },
   "source": [
    "<center>\n",
    "    <h1 style=\"text-align:center\"> CS3100 PoP (2021) </h1>\n",
    "    <h2 style=\"text-align:center\"> Lecture 19: Lambda Calculus </h2>\n",
    "</center>"
   ]
  },
  {
   "cell_type": "markdown",
   "metadata": {
    "slideshow": {
     "slide_type": "slide"
    }
   },
   "source": [
    "### Story so far :\n",
    "\n",
    "* Functional programming through Ocaml\n",
    "    + Syntax, static semantics, dynamic semantics, type checking.\n",
    "    + Let expressions, definitions, if-then-else.\n",
    "    + Anonymous functions, function definitions, pattern matching.\n",
    "    + Data types - lists, tuples, records, variants, exceptions, try.\n",
    "    + Higher order functions - map, filter and fold."
   ]
  },
  {
   "cell_type": "markdown",
   "metadata": {
    "slideshow": {
     "slide_type": "slide"
    }
   },
   "source": [
    "### Today (and the rest of this week)\n",
    "\n",
    "* Lambda Calculus: Basis of FP!\n",
    "  + Origin, Syntax, substitution, alpha equivalence."
   ]
  },
  {
   "cell_type": "markdown",
   "metadata": {
    "slideshow": {
     "slide_type": "slide"
    }
   },
   "source": [
    "## Computability\n",
    "    \n",
    "<h3> In 1900s </h3>\n",
    "\n",
    "* David Hilbert : There is a curious similarity between process of mathematical proofs and computation.\n",
    "* Both are applying pre-defined set of algorithmic steps (rules of inferences) to an initial set of \"data\" (axioms) to produce the output data (theorems with their proofs).\n",
    "* Startling question : Can process of mathematical proof be automated?\n",
    "* To say yes or no - one needs a formal model of computation."
   ]
  },
  {
   "cell_type": "markdown",
   "metadata": {
    "slideshow": {
     "slide_type": "fragment"
    }
   },
   "source": [
    "* What does it mean for the function $f : \\mathbb{N} \\rightarrow \\mathbb{N}$ to be *computable*?\n",
    "* **Informal definition:** A function is computable if using pencil-and-paper you can compute $f(n)$ for any $n$.\n",
    "* Three different researchers attempted to formalise *computability*."
   ]
  },
  {
   "cell_type": "markdown",
   "metadata": {
    "slideshow": {
     "slide_type": "slide"
    }
   },
   "source": [
    "## Alan Turning\n",
    "\n",
    "<img src=\"images/turing.jpg\" style=\"float:left\" width=\"150\">\n",
    "\n",
    "<div style=\"float:left;width:75%\">\n",
    "    \n",
    "* Defined a mathematical model of computation -- **The Turing Machine** (1935)\n",
    "  + view input as a string over an alphabet.\n",
    "  + defined notion of computation by Turing machine, acceptance, rejection, looping, halting.\n",
    "  + A function is computable if and only if it can be computed by a turning machine.\n",
    "* A programming language is turing complete if:\n",
    "  + It can map every turing machine to a program.\n",
    "  + A program can be written to simulate a universal turing machine. \n",
    "  + It is a superset of a known turning complete language.\n",
    "</div>"
   ]
  },
  {
   "cell_type": "markdown",
   "metadata": {
    "slideshow": {
     "slide_type": "slide"
    }
   },
   "source": [
    "## Alonzo Church\n",
    "\n",
    "<img src=\"images/church.jpg\" style=\"float:left\" width=\"150\">\n",
    "\n",
    "<div style=\"padding-left:10px; float:left;width:75%\">\n",
    "<br>\n",
    "    \n",
    "* Developed the **λ-calculus** as a formal system for mathematical logic (1929 - 1932).\n",
    "* Postulated that a function is computable (in the intuitive sense) if and only if it can be written as a lambda term (1935).\n",
    "* Church was Turing's PhD advisor!\n",
    "* Turing showed that the systems defined by Church and his system were equivalent.\n",
    "  + **Church-Turing Thesis**\n",
    "\n",
    "</div>"
   ]
  },
  {
   "cell_type": "markdown",
   "metadata": {
    "slideshow": {
     "slide_type": "slide"
    }
   },
   "source": [
    "## Kurt Gödel\n",
    "\n",
    "<img src=\"images/godel.jpg\" style=\"float:left\" width=\"150\">\n",
    "\n",
    "<div style=\"padding-left:10px; float:left;width:75%\"><br>\n",
    "    \n",
    "* Defined the class of **general recursive functions** as the smallest set of functions containing \n",
    "  + all the constant functions\n",
    "  + the successor function and \n",
    "  + closed under certain operations (such as compositions and recursion). \n",
    "* He postulated that a function is computable (in the intuitive sense) if and only if it is general recursive.\n",
    "* Famous for Gödel's Incompleteness Theorems - producing a mathematical statement about natural numbers which is not provable within the axiom system (the Peano's axiom system) for natural numbers.\n",
    "</div>"
   ]
  },
  {
   "cell_type": "markdown",
   "metadata": {
    "slideshow": {
     "slide_type": "slide"
    }
   },
   "source": [
    "## Impact of Church-Turing thesis\n",
    "\n",
    "* The **“Church-Turing Thesis”** is by itself is one of the most important ideas on computer science\n",
    "  + The impact of Church and Turing’s models goes far beyond the thesis itself."
   ]
  },
  {
   "cell_type": "markdown",
   "metadata": {
    "slideshow": {
     "slide_type": "slide"
    }
   },
   "source": [
    "## Impact of Church-Turing thesis\n",
    "\n",
    "* Oddly, however, the impact of each has been in almost completely separate communities\n",
    "  + Turing Machines $\\Rightarrow$ Algorithms & Complexity\n",
    "  + Lambda Calculus $\\Rightarrow$ Programming Languages\n",
    "* Not accidental\n",
    "  + Turing machines are quite low level $\\Rightarrow$ well suited for measuring resources (**efficiency**).\n",
    "  + Lambda Calculus is quite high level $\\Rightarrow$ well suited for abstraction and composition (**structure**)."
   ]
  },
  {
   "cell_type": "markdown",
   "metadata": {
    "slideshow": {
     "slide_type": "slide"
    }
   },
   "source": [
    "## Programming Language Expressiveness\n",
    "\n",
    "* So what language features are needed to express all computable functions?\n",
    "  + *What's the minimal language that is Turing Complete?*\n",
    "* Observe that many features that we have seen in this class were syntactic sugar\n",
    "  + **Multi-argument functions** - simulate using partial application\n",
    "  + **For loop, while loop** - simulate using recursive functions"
   ]
  },
  {
   "cell_type": "markdown",
   "metadata": {
    "slideshow": {
     "slide_type": "fragment"
    }
   },
   "source": [
    "<center>\n",
    "\n",
    "<h1 style=\"text-align:center\"> All you need is Functions.</i> </h1>\n",
    "</center>"
   ]
  },
  {
   "cell_type": "markdown",
   "metadata": {
    "slideshow": {
     "slide_type": "slide"
    }
   },
   "source": [
    "## Lambda Calculus : Syntax\n",
    "\n",
    "\\\\[\n",
    "\\begin{array}{rcll}\n",
    "e & ::=  & x & \\text{(Variable)} \\\\\n",
    "  & \\mid & \\lambda x.e & \\text{(Abstraction)} \\\\\n",
    "  & \\mid & e~e & \\text{(Application)}\n",
    "\\end{array}\n",
    "\\\\]"
   ]
  },
  {
   "cell_type": "markdown",
   "metadata": {
    "slideshow": {
     "slide_type": "fragment"
    }
   },
   "source": [
    "* This grammar describes ASTs; not for parsing (ambiguous!)\n",
    "* Lambda expressions also known as lambda **terms**\n",
    "* $\\lambda x.e$ is like `fun x -> e`"
   ]
  },
  {
   "cell_type": "markdown",
   "metadata": {
    "slideshow": {
     "slide_type": "fragment"
    }
   },
   "source": [
    "<center>\n",
    "    \n",
    "<h2 style=\"text-align:center\"> That's it! Nothing but higher order functions </h2>\n",
    "</center>"
   ]
  },
  {
   "cell_type": "markdown",
   "metadata": {
    "slideshow": {
     "slide_type": "slide"
    }
   },
   "source": [
    "## Why Study Lambda Calculus?\n",
    "\n",
    "* It is a \"core\" language\n",
    "  + Very small but still Turing complete\n",
    "* But with it can explore general ideas\n",
    "  + Language features, semantics, proof systems, algorithms, ...\n",
    "* Plus, higher-order, anonymous functions (aka lambdas) are now very popular!\n",
    "  + C++ (C++11), PHP (PHP 5.3.0), C# (C# v2.0), Delphi (since 2009), Objective C, Java 8, Swift, Python, Ruby (Procs), ...\n",
    "  + and functional languages like OCaml, Haskell, F#, ..."
   ]
  },
  {
   "cell_type": "markdown",
   "metadata": {
    "slideshow": {
     "slide_type": "slide"
    }
   },
   "source": [
    "## Two Conventions\n",
    "\n",
    "1. Scope of $\\lambda$ extends as far right as possible\n",
    "  + Subject to scope delimited by parentheses\n",
    "  + $\\lambda x. \\lambda y.x~y~$ is the same as $\\lambda x.(\\lambda y.(x~y))$"
   ]
  },
  {
   "cell_type": "markdown",
   "metadata": {
    "slideshow": {
     "slide_type": "fragment"
    }
   },
   "source": [
    "2. Function Application is left-associative\n",
    "  + `x y z` is `(x y) z`\n",
    "  + Same rule as OCaml"
   ]
  },
  {
   "cell_type": "markdown",
   "metadata": {
    "slideshow": {
     "slide_type": "slide"
    }
   },
   "source": [
    "## Lambda calculus interpreter in OCaml\n",
    "\n",
    "* In Assignment 2, you will be implementing a lambda calculus interpreter in OCaml.\n",
    "* What is the Abstract Syntax Tree (AST)?\n",
    "\n",
    "```ocaml\n",
    "type expr = \n",
    "  | Var of string\n",
    "  | Lam of string * expr\n",
    "  | App of expr * expr\n",
    "```"
   ]
  }
 ],
 "metadata": {
  "celltoolbar": "Slideshow",
  "kernelspec": {
   "display_name": "OCaml 4.10",
   "language": "OCaml",
   "name": "ocaml-jupyter"
  },
  "language_info": {
   "codemirror_mode": "text/x-ocaml",
   "file_extension": ".ml",
   "mimetype": "text/x-ocaml",
   "name": "OCaml",
   "nbconverter_exporter": null,
   "pygments_lexer": "OCaml",
   "version": "4.10.0"
  }
 },
 "nbformat": 4,
 "nbformat_minor": 2
}
