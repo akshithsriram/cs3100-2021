{
 "cells": [
  {
   "cell_type": "markdown",
   "metadata": {
    "slideshow": {
     "slide_type": "slide"
    }
   },
   "source": [
    "<center>\n",
    "\n",
    "<h2 style=\"text-align:center\"> CS3100 PoP (Lecture 22 : Sep 17, 4:50pm) </h2>    \n",
    "<h1 style=\"text-align:center\"> Lambda Calculus : Semantics </h1>\n",
    "</center>"
   ]
  },
  {
   "cell_type": "markdown",
   "metadata": {
    "slideshow": {
     "slide_type": "slide"
    }
   },
   "source": [
    "## Review\n",
    "\n",
    "### Last time\n",
    "\n",
    "* Lambda Calculus: Syntax\n",
    "    + History, Terms, Alpha-equivalence, Substitution.\n",
    "\n",
    "### Today\n",
    "\n",
    "* Lambda Calculus: Semantics\n",
    "  + Reductions, Church-Rosser Theorem."
   ]
  },
  {
   "cell_type": "markdown",
   "metadata": {
    "slideshow": {
     "slide_type": "slide"
    }
   },
   "source": [
    "$(\\lambda x.M) ~N$"
   ]
  },
  {
   "cell_type": "markdown",
   "metadata": {
    "slideshow": {
     "slide_type": "slide"
    }
   },
   "source": [
    "## β-reduction\n",
    "\n",
    "* Lambda Calculus we have been looking so far is **untyped**.\n",
    "  + No static semantics, only dynamic semantics!\n",
    "* A term of the form $(\\lambda x.M) ~N$ is called a **β-redex**.\n",
    "* The act of evaluating lambda calculus terms is called **β-reduction**. \n",
    "  + β-reduction replaces $(\\lambda x.M) ~N$ with $M[N/x]$.\n",
    "* A term without β-reduxes is said to be in **β-normal form**."
   ]
  },
  {
   "cell_type": "markdown",
   "metadata": {
    "slideshow": {
     "slide_type": "slide"
    }
   },
   "source": [
    "## β-reduction, formally\n",
    "\n",
    "$\n",
    "\\require{color}\n",
    "\\newcommand{\\inferrule}[2]{\\displaystyle{\\frac{#1}{#2}}}\n",
    "\\newcommand{\\yb}[1]{\\colorbox{yellow}{$#1$}}\n",
    "\\newcommand{\\rb}[1]{\\colorbox{red}{$#1$}}\n",
    "\\newcommand{\\betastar}{\\rightarrow_{\\beta^*}}\n",
    "$\n",
    "\n",
    "\\\\[\n",
    "\\begin{array}{cc}\n",
    "\\inferrule{}{(\\lambda x.M)~N \\rightarrow_{\\beta} M[N/x]} & \n",
    "\\inferrule{M \\rightarrow_{\\beta} M'}{\\lambda x.M \\rightarrow_{\\beta} \\lambda x.M'} \\\\ \\\\\n",
    "\\inferrule{M \\rightarrow_{\\beta} M'}{M~N \\rightarrow_{\\beta} M'~N} & \n",
    "\\inferrule{N \\rightarrow_{\\beta} N'}{M~N \\rightarrow_{\\beta} M~N'}\n",
    "\\end{array}\n",
    "\\\\]"
   ]
  },
  {
   "cell_type": "markdown",
   "metadata": {
    "slideshow": {
     "slide_type": "slide"
    }
   },
   "source": [
    "## Example\n",
    "\n",
    "\\\\[\n",
    "\\begin{array}{rl}\n",
    " & (\\lambda \\yb{x}.x ~x) ~\\yb{((\\lambda x. y) ~z)} \\\\ \n",
    "\\rightarrow_{\\beta} & ((\\lambda \\yb{x}. y) ~\\yb{z}) ~~((\\lambda x. y) ~z) \\\\\n",
    "\\rightarrow_{\\beta} & y ~((\\lambda \\yb{x}. y) ~\\yb{z}) \\\\\n",
    "\\rightarrow_{\\beta} & y ~y\n",
    "\\end{array}\n",
    "\\\\]\n"
   ]
  },
  {
   "cell_type": "markdown",
   "metadata": {
    "slideshow": {
     "slide_type": "slide"
    }
   },
   "source": [
    "## Example\n",
    "\n",
    "\\\\[\n",
    "\\begin{array}{rl}\n",
    " & (\\lambda \\yb{x}.x ~x) ~\\yb{((\\lambda x. y) ~z)} \\\\ \n",
    "\\rightarrow_{\\beta} & ((\\lambda x. y) ~z) ~~((\\lambda \\yb{x}. y) ~\\yb{z}) \\\\\n",
    "\\rightarrow_{\\beta} & ((\\lambda \\yb{x}. y) ~\\yb{z}) ~y\\\\\n",
    "\\rightarrow_{\\beta} & y ~y\n",
    "\\end{array}\n",
    "\\\\]\n"
   ]
  },
  {
   "cell_type": "markdown",
   "metadata": {
    "slideshow": {
     "slide_type": "slide"
    }
   },
   "source": [
    "## Example\n",
    "\n",
    "\\\\[\n",
    "\\begin{array}{rl}\n",
    " & (\\lambda x.x ~x) ((\\lambda \\colorbox{yellow}{$x$}. y) ~\\yb{z}) \\\\ \n",
    "\\rightarrow_{\\beta} & (\\lambda \\yb{x}.x ~x) ~\\yb{y} \\\\\n",
    "\\rightarrow_{\\beta} & y ~y\n",
    "\\end{array}\n",
    "\\\\]"
   ]
  },
  {
   "cell_type": "markdown",
   "metadata": {
    "slideshow": {
     "slide_type": "slide"
    }
   },
   "source": [
    "## Many steps of β-reduction\n",
    "\n",
    "\\\\[\n",
    "\\begin{array}{c}\n",
    "\\inferrule{M =_{\\alpha} M'}{M \\rightarrow_{\\beta^*} M'} \\\\ \\\\\n",
    "\\inferrule{M \\rightarrow_{\\beta} M' \\quad M' \\rightarrow_{\\beta^*} M''}{M \\rightarrow_{\\beta^*} M''}\n",
    "\\end{array}\n",
    "\\\\]"
   ]
  },
  {
   "cell_type": "markdown",
   "metadata": {
    "slideshow": {
     "slide_type": "slide"
    }
   },
   "source": [
    "## Church-Rosser Theorem\n",
    "\n",
    "If $M \\betastar M_1$ and $M \\betastar M_2$ then there exists an $M'$ such that $M_1 \\betastar M'$ and $M_2 \\betastar M'$.\n",
    "\n",
    "<center>\n",
    "    \n",
    "<img src=\"images/church_rosser.png\" width=\"600\">\n",
    "</center>"
   ]
  },
  {
   "cell_type": "markdown",
   "metadata": {
    "slideshow": {
     "slide_type": "slide"
    }
   },
   "source": [
    "## β-normal form\n",
    "\n",
    "* \"β-normal form\" $\\Rightarrow$ \"contains no reduxes\"\n",
    "* **Theorem** (Uniqueness of β-normal forms). If $M \\betastar N_1$ and $M \\betastar N_2$ and $N_1$ and $N_2$ are in β-normal form, then $N_1 =_{\\alpha} N_2$."
   ]
  },
  {
   "cell_type": "markdown",
   "metadata": {
    "slideshow": {
     "slide_type": "fragment"
    }
   },
   "source": [
    "* **Proof.** By Church-Rosser, obtain an $N$ such that $N_1 \\betastar N$ and $N_2 \\betastar N$. But $N_1$ and $N_2$ are in β-normal form. Hence, $N =_{\\alpha} N_1 =_{\\alpha} N_2$."
   ]
  },
  {
   "cell_type": "markdown",
   "metadata": {
    "slideshow": {
     "slide_type": "slide"
    }
   },
   "source": [
    "## β-equivalence\n",
    "\n",
    "$M_1 =_{\\beta} M_2$ iff there exists an $M'$ such that $M_1 \\betastar M'$ and $M_2 \\betastar M'$."
   ]
  },
  {
   "cell_type": "markdown",
   "metadata": {
    "slideshow": {
     "slide_type": "fragment"
    }
   },
   "source": [
    "In OCaml, we might say,\n",
    "\n",
    "* `(fun x -> x + 1) 1` $=_{\\alpha}$ `(fun y -> y + 1) 1`\n",
    "* `(fun x -> x + 1) 1` $=_{\\beta}$ `(fun y -> y + 1) 1`\n",
    "* `(fun x -> x + 1) 1` $=_{\\beta}$ `(fun y -> y) 2`\n",
    "* `(fun x -> x + 1) 1` $\\neq_{\\alpha}$ `(fun y -> y) 2`"
   ]
  }
 ],
 "metadata": {
  "celltoolbar": "Slideshow",
  "kernelspec": {
   "display_name": "OCaml 4.10",
   "language": "OCaml",
   "name": "ocaml-jupyter"
  },
  "language_info": {
   "codemirror_mode": "text/x-ocaml",
   "file_extension": ".ml",
   "mimetype": "text/x-ocaml",
   "name": "OCaml",
   "nbconverter_exporter": null,
   "pygments_lexer": "OCaml",
   "version": "4.10.0"
  }
 },
 "nbformat": 4,
 "nbformat_minor": 2
}
