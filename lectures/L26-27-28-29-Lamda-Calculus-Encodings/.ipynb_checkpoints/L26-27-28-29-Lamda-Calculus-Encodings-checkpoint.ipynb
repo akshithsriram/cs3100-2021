{
 "cells": [
  {
   "cell_type": "markdown",
   "metadata": {
    "slideshow": {
     "slide_type": "slide"
    }
   },
   "source": [
    "<center>\n",
    "<h1 style=\"text-align:center\"> CS3100-2021 - Lecture 26 - Sep 28, 11am </h1>    \n",
    "<h1 style=\"text-align:center\"> Lambda Calculus : Encodings </h1>\n",
    "</center>"
   ]
  },
  {
   "cell_type": "markdown",
   "metadata": {
    "slideshow": {
     "slide_type": "slide"
    }
   },
   "source": [
    "## Context\n",
    "\n",
    "### Previously\n",
    "\n",
    "* Semantics of untyped lambda calculus\n",
    "  + β-reductions, reduction strategies, normal forms, extensionality\n",
    "  \n",
    "### Today\n",
    "\n",
    "* Encodings\n",
    "  + Booleans, Arithmetic, Pairs, Recursion"
   ]
  },
  {
   "cell_type": "markdown",
   "metadata": {
    "slideshow": {
     "slide_type": "slide"
    }
   },
   "source": [
    "## Power of Lambdas\n",
    "\n",
    "* Despite its simplicity, the lambda calculus is quite expressive: it is **Turing complete**!\n",
    "* Means we can encode any computation we want\n",
    "  + if we are sufficiently clever...\n",
    "* Examples\n",
    "  + Booleans & predicate logic.\n",
    "  + Pairs\n",
    "  + Lists\n",
    "  + Natural numbers & arithmetic.\n",
    "  \n",
    "$\\newcommand{\\br}{\\rightarrow_{\\beta}}$"
   ]
  },
  {
   "cell_type": "code",
   "execution_count": 19,
   "metadata": {
    "slideshow": {
     "slide_type": "slide"
    }
   },
   "outputs": [
    {
     "data": {
      "text/plain": [
       "val p : string -> Syntax.expr = <fun>\n"
      ]
     },
     "execution_count": 19,
     "metadata": {},
     "output_type": "execute_result"
    },
    {
     "data": {
      "text/plain": [
       "val var : string -> Syntax.expr = <fun>\n"
      ]
     },
     "execution_count": 19,
     "metadata": {},
     "output_type": "execute_result"
    },
    {
     "data": {
      "text/plain": [
       "val app : Syntax.expr list -> Syntax.expr = <fun>\n"
      ]
     },
     "execution_count": 19,
     "metadata": {},
     "output_type": "execute_result"
    },
    {
     "data": {
      "text/plain": [
       "val lam : string -> Syntax.expr -> Syntax.expr = <fun>\n"
      ]
     },
     "execution_count": 19,
     "metadata": {},
     "output_type": "execute_result"
    },
    {
     "data": {
      "text/plain": [
       "val eval : ?log:bool -> ?depth:int -> Syntax.expr -> string = <fun>\n"
      ]
     },
     "execution_count": 19,
     "metadata": {},
     "output_type": "execute_result"
    }
   ],
   "source": [
    "#use \"init.ml\"\n",
    "\n",
    "let p = Lambda_parse.parse_string                                                   \n",
    "let var x = Var x                                                                 \n",
    "let app l =\n",
    "  match l with \n",
    "  | [] -> failwith \"ill typed app\"\n",
    "  | [x] -> x\n",
    "  | x::y::xs -> List.fold_left (fun expr v -> App (expr, v)) (App(x,y)) xs\n",
    "let lam x e = Lam(x,e)                                                              \n",
    "                                                                                    \n",
    "let eval ?(log=true) ?(depth=1000) s = \n",
    "     s  \n",
    "  |> Eval.eval ~log ~depth Eval.reduce_normal \n",
    "  |> Syntax.string_of_expr"
   ]
  },
  {
   "cell_type": "code",
   "execution_count": 20,
   "metadata": {},
   "outputs": [
    {
     "data": {
      "text/plain": [
       "- : Syntax.expr = Lam (\"x\", Var \"x\")\n"
      ]
     },
     "execution_count": 20,
     "metadata": {},
     "output_type": "execute_result"
    },
    {
     "data": {
      "text/plain": [
       "- : Syntax.expr = Var \"x\"\n"
      ]
     },
     "execution_count": 20,
     "metadata": {},
     "output_type": "execute_result"
    },
    {
     "data": {
      "text/plain": [
       "- : Syntax.expr = App (App (Var \"x\", Var \"y\"), Var \"z\")\n"
      ]
     },
     "execution_count": 20,
     "metadata": {},
     "output_type": "execute_result"
    },
    {
     "data": {
      "text/plain": [
       "- : Syntax.expr = Lam (\"x\", Var \"y\")\n"
      ]
     },
     "execution_count": 20,
     "metadata": {},
     "output_type": "execute_result"
    }
   ],
   "source": [
    "p \"\\\\x.x\";;\n",
    "var \"x\";;\n",
    "app [var \"x\"; var \"y\"; var \"z\"];;\n",
    "lam \"x\" (var \"y\");;"
   ]
  },
  {
   "cell_type": "markdown",
   "metadata": {
    "slideshow": {
     "slide_type": "slide"
    }
   },
   "source": [
    "## Booleans"
   ]
  },
  {
   "cell_type": "code",
   "execution_count": 21,
   "metadata": {
    "slideshow": {
     "slide_type": "fragment"
    }
   },
   "outputs": [
    {
     "data": {
      "text/plain": [
       "val tru : Syntax.expr = Lam (\"t\", Lam (\"f\", Var \"t\"))\n"
      ]
     },
     "execution_count": 21,
     "metadata": {},
     "output_type": "execute_result"
    },
    {
     "data": {
      "text/plain": [
       "val fls : Syntax.expr = Lam (\"t\", Lam (\"f\", Var \"f\"))\n"
      ]
     },
     "execution_count": 21,
     "metadata": {},
     "output_type": "execute_result"
    }
   ],
   "source": [
    "let tru = p \"\\\\t.\\\\f.t\"\n",
    "let fls = p \"\\\\t.\\\\f.f\""
   ]
  },
  {
   "cell_type": "markdown",
   "metadata": {
    "slideshow": {
     "slide_type": "fragment"
    }
   },
   "source": [
    "* Now we can define a `test` function such that\n",
    "  + `test tru v w` $\\br$ `v`\n",
    "  + `test fls v w` $\\br$ `w`"
   ]
  },
  {
   "cell_type": "code",
   "execution_count": 22,
   "metadata": {
    "slideshow": {
     "slide_type": "fragment"
    }
   },
   "outputs": [
    {
     "data": {
      "text/plain": [
       "val test : Syntax.expr =\n",
       "  Lam (\"l\", Lam (\"m\", Lam (\"n\", App (App (Var \"l\", Var \"m\"), Var \"n\"))))\n"
      ]
     },
     "execution_count": 22,
     "metadata": {},
     "output_type": "execute_result"
    }
   ],
   "source": [
    "let test = p \"\\\\l.\\\\m.\\\\n.l m n\""
   ]
  },
  {
   "cell_type": "markdown",
   "metadata": {
    "slideshow": {
     "slide_type": "slide"
    }
   },
   "source": [
    "## Booleans\n",
    "\n",
    "Now \n",
    "\n",
    "```ocaml\n",
    "test tru v w\n",
    "```\n",
    "\n",
    "evaluates to"
   ]
  },
  {
   "cell_type": "code",
   "execution_count": 23,
   "metadata": {
    "slideshow": {
     "slide_type": "fragment"
    }
   },
   "outputs": [
    {
     "name": "stdout",
     "output_type": "stream",
     "text": [
      "= (λl.λm.λn.l m n) ((λx.x) (λt.λf.t)) (λx.x) (λx.λy.x)\n",
      "= (λm.λn.(λx.x) (λt.λf.t) m n) (λx.x) (λx.λy.x)\n",
      "= (λn.(λx.x) (λt.λf.t) (λx.x) n) (λx.λy.x)\n",
      "= (λx.x) (λt.λf.t) (λx.x) (λx.λy.x)\n",
      "= (λt.λf.t) (λx.x) (λx.λy.x)\n",
      "= (λf.λx.x) (λx.λy.x)\n",
      "= λx.x\n"
     ]
    },
    {
     "data": {
      "text/plain": [
       "- : string = \"λx.x\"\n"
      ]
     },
     "execution_count": 23,
     "metadata": {},
     "output_type": "execute_result"
    }
   ],
   "source": [
    "eval @@ app [test; tru1; lam \"x\" (var \"x\"); lam \"x\" (lam \"y\" (var \"x\"))]"
   ]
  },
  {
   "cell_type": "markdown",
   "metadata": {
    "slideshow": {
     "slide_type": "slide"
    }
   },
   "source": [
    "## Booleans\n",
    "\n",
    "Similarly,\n",
    "\n",
    "```ocaml\n",
    "test fls v w\n",
    "```\n",
    "\n",
    "evaluates to"
   ]
  },
  {
   "cell_type": "code",
   "execution_count": null,
   "metadata": {},
   "outputs": [],
   "source": [
    "eval @@ app [test; fls; var \"v\"; var \"w\"]"
   ]
  },
  {
   "cell_type": "markdown",
   "metadata": {
    "slideshow": {
     "slide_type": "slide"
    }
   },
   "source": [
    "## Booleans"
   ]
  },
  {
   "cell_type": "markdown",
   "metadata": {
    "slideshow": {
     "slide_type": "-"
    }
   },
   "source": [
    "`fls` itself is a function. `test fls v w` is equivalent to `fls v w`."
   ]
  },
  {
   "cell_type": "code",
   "execution_count": null,
   "metadata": {
    "slideshow": {
     "slide_type": "fragment"
    }
   },
   "outputs": [],
   "source": [
    "eval @@ app [fls; var \"v\"; var \"w\"]"
   ]
  },
  {
   "cell_type": "markdown",
   "metadata": {
    "slideshow": {
     "slide_type": "slide"
    }
   },
   "source": [
    "## Logical operators\n",
    "\n",
    "```ocaml\n",
    "and = λb.λc.b c fls\n",
    "or = λb.λc.b tru c\n",
    "not = λb.b fls tru\n",
    "```"
   ]
  },
  {
   "cell_type": "code",
   "execution_count": 24,
   "metadata": {
    "slideshow": {
     "slide_type": "fragment"
    }
   },
   "outputs": [
    {
     "data": {
      "text/plain": [
       "val and_ : Syntax.expr =\n",
       "  Lam (\"b\",\n",
       "   Lam (\"c\", App (App (Var \"b\", Var \"c\"), Lam (\"t\", Lam (\"f\", Var \"f\")))))\n"
      ]
     },
     "execution_count": 24,
     "metadata": {},
     "output_type": "execute_result"
    },
    {
     "data": {
      "text/plain": [
       "val or_ : Syntax.expr =\n",
       "  Lam (\"b\",\n",
       "   Lam (\"c\", App (App (Var \"b\", Lam (\"t\", Lam (\"f\", Var \"t\"))), Var \"c\")))\n"
      ]
     },
     "execution_count": 24,
     "metadata": {},
     "output_type": "execute_result"
    },
    {
     "data": {
      "text/plain": [
       "val not_ : Syntax.expr =\n",
       "  Lam (\"b\",\n",
       "   App (App (Var \"b\", Lam (\"t\", Lam (\"f\", Var \"f\"))),\n",
       "    Lam (\"t\", Lam (\"f\", Var \"t\"))))\n"
      ]
     },
     "execution_count": 24,
     "metadata": {},
     "output_type": "execute_result"
    }
   ],
   "source": [
    "let and_ = lam \"b\" (lam \"c\" (app [var \"b\"; var \"c\"; fls]))\n",
    "let or_ = lam \"b\" (lam \"c\" (app [var \"b\"; tru; var \"c\"]))\n",
    "let not_ = lam \"b\" (app [var \"b\"; fls; tru])"
   ]
  },
  {
   "cell_type": "markdown",
   "metadata": {
    "slideshow": {
     "slide_type": "slide"
    }
   },
   "source": [
    "## Logical Operators"
   ]
  },
  {
   "cell_type": "code",
   "execution_count": 25,
   "metadata": {
    "slideshow": {
     "slide_type": "-"
    }
   },
   "outputs": [
    {
     "data": {
      "text/plain": [
       "- : string = \"λt.λf.f\"\n"
      ]
     },
     "execution_count": 25,
     "metadata": {},
     "output_type": "execute_result"
    },
    {
     "name": "stdout",
     "output_type": "stream",
     "text": [
      "= (λb.λc.b c (λt.λf.f)) (λt.λf.t) (λt.λf.f)\n",
      "= (λc.(λt.λf.t) c (λt.λf.f)) (λt.λf.f)\n",
      "= (λt.λf.t) (λt.λf.f) (λt.λf.f)\n",
      "= (λf.λt.λf.f) (λt.λf.f)\n",
      "= λt.λf.f\n"
     ]
    }
   ],
   "source": [
    "eval @@ app [and_; tru; fls]"
   ]
  },
  {
   "cell_type": "markdown",
   "metadata": {
    "slideshow": {
     "slide_type": "fragment"
    }
   },
   "source": [
    "The above is a **proof** for `true /\\ false = false`"
   ]
  },
  {
   "cell_type": "markdown",
   "metadata": {
    "slideshow": {
     "slide_type": "slide"
    }
   },
   "source": [
    "## Logical operators\n",
    "\n",
    "Encode implies using standard formulation.\n",
    "\n",
    "\\\\[\n",
    "\\begin{array}{rl}\n",
    " & p \\implies q \\equiv \\neg p \\vee q \\\\\n",
    "\\mathbf{Theorem 1.}  & \\forall a,b.~ a \\wedge b \\implies a\n",
    "\\end{array}\n",
    "\\\\]"
   ]
  },
  {
   "cell_type": "code",
   "execution_count": 26,
   "metadata": {
    "slideshow": {
     "slide_type": "fragment"
    }
   },
   "outputs": [
    {
     "data": {
      "text/plain": [
       "val implies : Syntax.expr =\n",
       "  Lam (\"p\",\n",
       "   Lam (\"q\",\n",
       "    App\n",
       "     (App\n",
       "       (Lam (\"b\",\n",
       "         Lam (\"c\",\n",
       "          App (App (Var \"b\", Lam (\"t\", Lam (\"f\", Var \"t\"))), Var \"c\"))),\n",
       "       App\n",
       "        (Lam (\"b\",\n",
       "          App (App (Var \"b\", Lam (\"t\", Lam (\"f\", Var \"f\"))),\n",
       "           Lam (\"t\", Lam (\"f\", Var \"t\")))),\n",
       "        Var \"p\")),\n",
       "     Var \"q\")))\n"
      ]
     },
     "execution_count": 26,
     "metadata": {},
     "output_type": "execute_result"
    },
    {
     "data": {
      "text/plain": [
       "val thm1 : Syntax.expr =\n",
       "  Lam (\"a\",\n",
       "   Lam (\"b\",\n",
       "    App\n",
       "     (App\n",
       "       (Lam (\"p\",\n",
       "         Lam (\"q\",\n",
       "          App\n",
       "           (App\n",
       "             (Lam (\"b\",\n",
       "               Lam (\"c\",\n",
       "                App (App (Var \"b\", Lam (\"t\", Lam (\"f\", Var \"t\"))), Var \"c\"))),\n",
       "             App\n",
       "              (Lam (\"b\",\n",
       "                App (App (Var \"b\", Lam (\"t\", Lam (\"f\", Var \"f\"))),\n",
       "                 Lam (\"t\", Lam (\"f\", Var \"t\")))),\n",
       "              Var \"p\")),\n",
       "           Var \"q\"))),\n",
       "       App\n",
       "        (App\n",
       "          (Lam (\"b\",\n",
       "            Lam (\"c\",\n",
       "             App (App (Var \"b\", Var \"c\"), Lam (\"t\", Lam (\"f\", Var \"f\"))))),\n",
       "          Var \"a\"),\n",
       "        Var \"b\")),\n",
       "     Var \"a\")))\n"
      ]
     },
     "execution_count": 26,
     "metadata": {},
     "output_type": "execute_result"
    }
   ],
   "source": [
    "let implies = lam \"p\" (lam \"q\" (app [or_; app [not_; var \"p\"]; var \"q\"]))\n",
    "let thm1 = lam \"a\" (lam \"b\" (app [implies; app [and_; var \"a\"; var \"b\"]; var \"a\"]))"
   ]
  },
  {
   "cell_type": "markdown",
   "metadata": {
    "slideshow": {
     "slide_type": "slide"
    }
   },
   "source": [
    "## Logical operators\n",
    "\n",
    "Prove $~~\\forall a,b. a \\wedge b \\implies a~~$ by case analysis:"
   ]
  },
  {
   "cell_type": "code",
   "execution_count": 27,
   "metadata": {},
   "outputs": [
    {
     "data": {
      "text/plain": [
       "- : string = \"λt.λf.t\"\n"
      ]
     },
     "execution_count": 27,
     "metadata": {},
     "output_type": "execute_result"
    }
   ],
   "source": [
    "eval ~log:false (app [thm1; tru; tru])"
   ]
  },
  {
   "cell_type": "code",
   "execution_count": 28,
   "metadata": {},
   "outputs": [
    {
     "data": {
      "text/plain": [
       "- : string = \"λt.λf.t\"\n"
      ]
     },
     "execution_count": 28,
     "metadata": {},
     "output_type": "execute_result"
    }
   ],
   "source": [
    "eval ~log:false (app [thm1; tru; fls])"
   ]
  },
  {
   "cell_type": "code",
   "execution_count": 29,
   "metadata": {},
   "outputs": [
    {
     "data": {
      "text/plain": [
       "- : string = \"λt.λf.t\"\n"
      ]
     },
     "execution_count": 29,
     "metadata": {},
     "output_type": "execute_result"
    }
   ],
   "source": [
    "eval ~log:false (app [thm1; fls; tru])"
   ]
  },
  {
   "cell_type": "code",
   "execution_count": 30,
   "metadata": {},
   "outputs": [
    {
     "data": {
      "text/plain": [
       "- : string = \"λt.λf.t\"\n"
      ]
     },
     "execution_count": 30,
     "metadata": {},
     "output_type": "execute_result"
    }
   ],
   "source": [
    "eval ~log:false (app [thm1; fls; fls])"
   ]
  },
  {
   "cell_type": "markdown",
   "metadata": {
    "slideshow": {
     "slide_type": "fragment"
    }
   },
   "source": [
    "**QED.**"
   ]
  },
  {
   "cell_type": "markdown",
   "metadata": {
    "slideshow": {
     "slide_type": "slide"
    }
   },
   "source": [
    "## Quiz\n",
    "\n",
    "What is the lambda calculus encoding for `xor x y`\n",
    "\n",
    "| x | y | xor x y |\n",
    "|---|---|:-------:|\n",
    "| T | T |    F    |\n",
    "| T | F |    T    |\n",
    "| F | T |    T    |\n",
    "| F | F |    F    |\n",
    "\n",
    "1. x x y\n",
    "2. x (y tru fls) y\n",
    "3. x (y fls tru) y\n",
    "4. y x y"
   ]
  },
  {
   "cell_type": "markdown",
   "metadata": {
    "slideshow": {
     "slide_type": "slide"
    }
   },
   "source": [
    "## Quiz\n",
    "\n",
    "What is the lambda calculus encoding for `xor x y`\n",
    "\n",
    "| x | y | xor x y |\n",
    "|---|---|:-------:|\n",
    "| T | T |    F    |\n",
    "| T | F |    T    |\n",
    "| F | T |    T    |\n",
    "| F | F |    F    |\n",
    "\n",
    "1. x x y\n",
    "2. x (y tru fls) y\n",
    "3. x (y fls tru) y ✅\n",
    "4. y x y"
   ]
  },
  {
   "cell_type": "markdown",
   "metadata": {
    "slideshow": {
     "slide_type": "slide"
    }
   },
   "source": [
    "## Pairs"
   ]
  },
  {
   "cell_type": "code",
   "execution_count": 31,
   "metadata": {},
   "outputs": [
    {
     "data": {
      "text/plain": [
       "val mk_pair : 'a -> 'b -> 'a * 'b = <fun>\n"
      ]
     },
     "execution_count": 31,
     "metadata": {},
     "output_type": "execute_result"
    },
    {
     "data": {
      "text/plain": [
       "val fst : 'a * 'b -> 'a = <fun>\n"
      ]
     },
     "execution_count": 31,
     "metadata": {},
     "output_type": "execute_result"
    },
    {
     "data": {
      "text/plain": [
       "val snd : 'a * 'b -> 'b = <fun>\n"
      ]
     },
     "execution_count": 31,
     "metadata": {},
     "output_type": "execute_result"
    }
   ],
   "source": [
    "let mk_pair x y = (x,y)\n",
    "let fst (x,y) = x\n",
    "let snd (x,y) = y"
   ]
  },
  {
   "cell_type": "markdown",
   "metadata": {
    "slideshow": {
     "slide_type": "slide"
    }
   },
   "source": [
    "## Pairs\n",
    "\n",
    "* Encoding of a pair `(f,s)`\n",
    "  + Pair Constructor : (f,s) = λf.λs.λb.b f s"
   ]
  },
  {
   "cell_type": "code",
   "execution_count": 32,
   "metadata": {},
   "outputs": [
    {
     "data": {
      "text/plain": [
       "val pair : Syntax.expr =\n",
       "  Lam (\"f\", Lam (\"s\", Lam (\"b\", App (App (Var \"b\", Var \"f\"), Var \"s\"))))\n"
      ]
     },
     "execution_count": 32,
     "metadata": {},
     "output_type": "execute_result"
    }
   ],
   "source": [
    "let pair = p \"λf.λs.λb.b f s\""
   ]
  },
  {
   "cell_type": "markdown",
   "metadata": {
    "slideshow": {
     "slide_type": "slide"
    }
   },
   "source": [
    "## Pairs"
   ]
  },
  {
   "cell_type": "code",
   "execution_count": 33,
   "metadata": {},
   "outputs": [
    {
     "name": "stdout",
     "output_type": "stream",
     "text": [
      "= (λf.λs.λb.b f s) v w\n",
      "= (λs.λb.b v s) w\n",
      "= λb.b v w\n"
     ]
    },
    {
     "data": {
      "text/plain": [
       "- : string = \"λb.b v w\"\n"
      ]
     },
     "execution_count": 33,
     "metadata": {},
     "output_type": "execute_result"
    }
   ],
   "source": [
    "eval @@ app [pair; var \"v\"; var \"w\"]"
   ]
  },
  {
   "cell_type": "markdown",
   "metadata": {},
   "source": [
    "* The pair **value** is a function that takes a **boolean** as an argument and applies the elements of the pair to it.\n",
    "* `b` is a boolean is a **convention** that we should follow.\n",
    "  + No type safety."
   ]
  },
  {
   "cell_type": "markdown",
   "metadata": {
    "slideshow": {
     "slide_type": "slide"
    }
   },
   "source": [
    "## Pair accessor functions\n",
    "\n",
    "* Recall that a pair value is a function `λb.b v w` \n",
    "  + where `v` and `w` are the first and second elements of the pair.\n",
    "* We can define accessors `fst` and `snd` as follows:\n",
    "  + fst = λp.p tru\n",
    "  + snd = λp.p fls"
   ]
  },
  {
   "cell_type": "code",
   "execution_count": 34,
   "metadata": {},
   "outputs": [
    {
     "data": {
      "text/plain": [
       "val fst : Syntax.expr =\n",
       "  Lam (\"p\", App (Var \"p\", Lam (\"t\", Lam (\"f\", Var \"t\"))))\n"
      ]
     },
     "execution_count": 34,
     "metadata": {},
     "output_type": "execute_result"
    },
    {
     "data": {
      "text/plain": [
       "val snd : Syntax.expr =\n",
       "  Lam (\"p\", App (Var \"p\", Lam (\"t\", Lam (\"f\", Var \"f\"))))\n"
      ]
     },
     "execution_count": 34,
     "metadata": {},
     "output_type": "execute_result"
    }
   ],
   "source": [
    "let fst = lam \"p\" (app [var \"p\"; tru])\n",
    "let snd = lam \"p\" (app [var \"p\"; fls])"
   ]
  },
  {
   "cell_type": "markdown",
   "metadata": {
    "slideshow": {
     "slide_type": "slide"
    }
   },
   "source": [
    "## Pair accessor functions"
   ]
  },
  {
   "cell_type": "code",
   "execution_count": 35,
   "metadata": {
    "scrolled": false
   },
   "outputs": [
    {
     "name": "stdout",
     "output_type": "stream",
     "text": [
      "= (λp.p (λt.λf.t)) ((λf.λs.λb.b f s) v w)\n",
      "= (λf.λs.λb.b f s) v w (λt.λf.t)\n",
      "= (λs.λb.b v s) w (λt.λf.t)\n",
      "= (λb.b v w) (λt.λf.t)\n",
      "= (λt.λf.t) v w\n",
      "= (λf.v) w\n",
      "= v\n"
     ]
    },
    {
     "data": {
      "text/plain": [
       "- : string = \"v\"\n"
      ]
     },
     "execution_count": 35,
     "metadata": {},
     "output_type": "execute_result"
    }
   ],
   "source": [
    "eval ~log:true @@ app [fst; app[pair; var \"v\"; var \"w\"]]"
   ]
  },
  {
   "cell_type": "code",
   "execution_count": 36,
   "metadata": {},
   "outputs": [
    {
     "name": "stdout",
     "output_type": "stream",
     "text": [
      "= (λp.p (λt.λf.f)) ((λf.λs.λb.b f s) v w)\n",
      "= (λf.λs.λb.b f s) v w (λt.λf.f)\n",
      "= (λs.λb.b v s) w (λt.λf.f)\n",
      "= (λb.b v w) (λt.λf.f)\n",
      "= (λt.λf.f) v w\n",
      "= (λf.f) w\n",
      "= w\n"
     ]
    },
    {
     "data": {
      "text/plain": [
       "- : string = \"w\"\n"
      ]
     },
     "execution_count": 36,
     "metadata": {},
     "output_type": "execute_result"
    }
   ],
   "source": [
    "eval ~log:true @@ app [snd; app [pair; var \"v\"; var \"w\"]]"
   ]
  },
  {
   "cell_type": "markdown",
   "metadata": {
    "slideshow": {
     "slide_type": "slide"
    }
   },
   "source": [
    "## Pair swap function\n",
    "\n",
    "In OCaml,\n",
    "\n",
    "```ocaml\n",
    "let swap p = (snd p, fst p)\n",
    "```\n",
    "\n",
    "In lambda calculus,\n",
    "\n",
    "```ocaml\n",
    "swap = λp.λb.b (snd p) (fst p)\n",
    "```"
   ]
  },
  {
   "cell_type": "code",
   "execution_count": 37,
   "metadata": {},
   "outputs": [
    {
     "data": {
      "text/plain": [
       "val swap : Syntax.expr =\n",
       "  Lam (\"p\",\n",
       "   Lam (\"b\",\n",
       "    App\n",
       "     (App (Var \"b\",\n",
       "       App (Lam (\"p\", App (Var \"p\", Lam (\"t\", Lam (\"f\", Var \"f\")))), Var \"p\")),\n",
       "     App (Lam (\"p\", App (Var \"p\", Lam (\"t\", Lam (\"f\", Var \"t\")))), Var \"p\"))))\n"
      ]
     },
     "execution_count": 37,
     "metadata": {},
     "output_type": "execute_result"
    }
   ],
   "source": [
    "let swap = lam \"p\" (lam \"b\" (app [var \"b\"; app [snd;var \"p\"]; app [fst; var \"p\"]]))"
   ]
  },
  {
   "cell_type": "markdown",
   "metadata": {
    "slideshow": {
     "slide_type": "slide"
    }
   },
   "source": [
    "## Pair swap function\n",
    "\n",
    "Let's try\n",
    "\n",
    "```ocaml\n",
    "fst (swap (v,w))\n",
    "```"
   ]
  },
  {
   "cell_type": "code",
   "execution_count": 40,
   "metadata": {},
   "outputs": [
    {
     "name": "stdout",
     "output_type": "stream",
     "text": [
      "= (λp.p (λt.λf.f)) ((λp.λb.b ((λp.p (λt.λf.f)) p) ((λp.p (λt.λf.t)) p)) ((λf.λs.λb.b f s) v w))\n",
      "= (λp.λb.b ((λp.p (λt.λf.f)) p) ((λp.p (λt.λf.t)) p)) ((λf.λs.λb.b f s) v w) (λt.λf.f)\n",
      "= (λb.b ((λp.p (λt.λf.f)) ((λf.λs.λb.b f s) v w)) ((λp.p (λt.λf.t)) ((λf.λs.λb.b f s) v w))) (λt.λf.f)\n",
      "= (λt.λf.f) ((λp.p (λt.λf.f)) ((λf.λs.λb.b f s) v w)) ((λp.p (λt.λf.t)) ((λf.λs.λb.b f s) v w))\n",
      "= (λf.f) ((λp.p (λt.λf.t)) ((λf.λs.λb.b f s) v w))\n",
      "= (λp.p (λt.λf.t)) ((λf.λs.λb.b f s) v w)\n",
      "= (λf.λs.λb.b f s) v w (λt.λf.t)\n",
      "= (λs.λb.b v s) w (λt.λf.t)\n",
      "= (λb.b v w) (λt.λf.t)\n",
      "= (λt.λf.t) v w\n",
      "= (λf.v) w\n",
      "= v\n"
     ]
    },
    {
     "data": {
      "text/plain": [
       "- : string = \"v\"\n"
      ]
     },
     "execution_count": 40,
     "metadata": {},
     "output_type": "execute_result"
    }
   ],
   "source": [
    "eval ~log:true @@ app [snd; app [swap; app[pair; var \"v\"; var \"w\"]]]"
   ]
  },
  {
   "cell_type": "markdown",
   "metadata": {
    "slideshow": {
     "slide_type": "slide"
    }
   },
   "source": [
    "## Natural numbers\n",
    "\n",
    "* 0 = λs.λz.z\n",
    "* 1 = λs.λz.s z\n",
    "* 2 = λs.λz.s (s z)\n",
    "* 3 = λs.λz.s (s (s z))\n",
    "\n",
    "i.e., n = λs.λz.(apply `s` n times to `z`)\n",
    "\n",
    "Also known as **Church numerals**."
   ]
  },
  {
   "cell_type": "markdown",
   "metadata": {
    "slideshow": {
     "slide_type": "slide"
    }
   },
   "source": [
    "## Natural numbers"
   ]
  },
  {
   "cell_type": "code",
   "execution_count": 41,
   "metadata": {
    "slideshow": {
     "slide_type": "-"
    }
   },
   "outputs": [
    {
     "data": {
      "text/plain": [
       "val zero : Syntax.expr = Lam (\"s\", Lam (\"z\", Var \"z\"))\n"
      ]
     },
     "execution_count": 41,
     "metadata": {},
     "output_type": "execute_result"
    },
    {
     "data": {
      "text/plain": [
       "val one : Syntax.expr = Lam (\"s\", Lam (\"z\", App (Var \"s\", Var \"z\")))\n"
      ]
     },
     "execution_count": 41,
     "metadata": {},
     "output_type": "execute_result"
    },
    {
     "data": {
      "text/plain": [
       "val two : Syntax.expr =\n",
       "  Lam (\"s\", Lam (\"z\", App (Var \"s\", App (Var \"s\", Var \"z\"))))\n"
      ]
     },
     "execution_count": 41,
     "metadata": {},
     "output_type": "execute_result"
    },
    {
     "data": {
      "text/plain": [
       "val three : Syntax.expr =\n",
       "  Lam (\"s\", Lam (\"z\", App (Var \"s\", App (Var \"s\", App (Var \"s\", Var \"z\")))))\n"
      ]
     },
     "execution_count": 41,
     "metadata": {},
     "output_type": "execute_result"
    }
   ],
   "source": [
    "let zero = p (\"λs.λz.z\")\n",
    "let one = p (\"λs.λz.s z\")\n",
    "let two = p (\"λs.λz.s (s z)\")\n",
    "let three = p (\"λs.λz.s (s (s z))\")"
   ]
  },
  {
   "cell_type": "markdown",
   "metadata": {
    "slideshow": {
     "slide_type": "slide"
    }
   },
   "source": [
    "## Quiz\n",
    "\n",
    "What will be the OCaml type of church encoded number 2: $\\lambda s.\\lambda z.s (s ~z)$?\n",
    "\n",
    "1. `('a -> 'b) -> 'a -> 'b`\n",
    "2. `('a -> 'a) -> 'a -> 'a` \n",
    "3. `('a -> 'a) -> 'b -> int`\n",
    "4. `(int -> int) -> int -> int`"
   ]
  },
  {
   "cell_type": "markdown",
   "metadata": {
    "slideshow": {
     "slide_type": "slide"
    }
   },
   "source": [
    "## Quiz\n",
    "\n",
    "What will be the OCaml type of church encoded number 2: $\\lambda s.\\lambda z.s~(s ~z)$?\n",
    "\n",
    "1. `('a -> 'b) -> 'a -> 'b`\n",
    "2. `('a -> 'a) -> 'a -> 'a` ✅\n",
    "3. `('a -> 'a) -> 'b -> int`\n",
    "4. `(int -> int) -> int -> int`"
   ]
  },
  {
   "cell_type": "markdown",
   "metadata": {
    "slideshow": {
     "slide_type": "slide"
    }
   },
   "source": [
    "## Operations on numbers: Successor\n",
    "\n",
    "Successor function is:\n",
    "\n",
    "```ocaml\n",
    "scc = λn.λs.λz.s (n s z)\n",
    "```"
   ]
  },
  {
   "cell_type": "code",
   "execution_count": 42,
   "metadata": {
    "slideshow": {
     "slide_type": "fragment"
    }
   },
   "outputs": [
    {
     "data": {
      "text/plain": [
       "val scc : Syntax.expr =\n",
       "  Lam (\"n\",\n",
       "   Lam (\"s\", Lam (\"z\", App (Var \"s\", App (App (Var \"n\", Var \"s\"), Var \"z\")))))\n"
      ]
     },
     "execution_count": 42,
     "metadata": {},
     "output_type": "execute_result"
    }
   ],
   "source": [
    "let scc = p (\"λn.λs.λz.s (n s z)\")"
   ]
  },
  {
   "cell_type": "code",
   "execution_count": 44,
   "metadata": {
    "scrolled": true,
    "slideshow": {
     "slide_type": "-"
    }
   },
   "outputs": [
    {
     "name": "stdout",
     "output_type": "stream",
     "text": [
      "= (λn.λs.λz.s (n s z)) (λs.λz.s z)\n",
      "= λs.λz.s ((λs.λz.s z) s z)\n",
      "= λs.λz.s ((λz.s z) z)\n",
      "= λs.λz.s (s z)\n"
     ]
    },
    {
     "data": {
      "text/plain": [
       "- : string = \"λs.λz.s (s z)\"\n"
      ]
     },
     "execution_count": 44,
     "metadata": {},
     "output_type": "execute_result"
    }
   ],
   "source": [
    "eval @@ app [scc; one]"
   ]
  },
  {
   "cell_type": "markdown",
   "metadata": {
    "slideshow": {
     "slide_type": "slide"
    }
   },
   "source": [
    "## Operations on numbers : is_zero\n",
    "\n",
    "Check if the given number is zero:\n",
    "\n",
    "```ocaml\n",
    "is_zero = λn.n (λy.fls) tru\n",
    "```"
   ]
  },
  {
   "cell_type": "code",
   "execution_count": 45,
   "metadata": {
    "slideshow": {
     "slide_type": "fragment"
    }
   },
   "outputs": [
    {
     "data": {
      "text/plain": [
       "val is_zero : Syntax.expr =\n",
       "  Lam (\"n\",\n",
       "   App (App (Var \"n\", Lam (\"y\", Lam (\"t\", Lam (\"f\", Var \"f\")))),\n",
       "    Lam (\"t\", Lam (\"f\", Var \"t\"))))\n"
      ]
     },
     "execution_count": 45,
     "metadata": {},
     "output_type": "execute_result"
    }
   ],
   "source": [
    "let is_zero = lam \"n\" (app [var \"n\"; lam \"y\" fls; tru])"
   ]
  },
  {
   "cell_type": "markdown",
   "metadata": {
    "slideshow": {
     "slide_type": "slide"
    }
   },
   "source": [
    "## Operations on numbers : is_zero"
   ]
  },
  {
   "cell_type": "code",
   "execution_count": 47,
   "metadata": {},
   "outputs": [
    {
     "name": "stdout",
     "output_type": "stream",
     "text": [
      "= (λn.n (λy.λt.λf.f) (λt.λf.t)) (λs.λz.z)\n",
      "= (λs.λz.z) (λy.λt.λf.f) (λt.λf.t)\n",
      "= (λz.z) (λt.λf.t)\n",
      "= λt.λf.t\n"
     ]
    },
    {
     "data": {
      "text/plain": [
       "- : string = \"λt.λf.t\"\n"
      ]
     },
     "execution_count": 47,
     "metadata": {},
     "output_type": "execute_result"
    }
   ],
   "source": [
    "eval @@ app [is_zero; zero]"
   ]
  },
  {
   "cell_type": "code",
   "execution_count": 49,
   "metadata": {},
   "outputs": [
    {
     "name": "stdout",
     "output_type": "stream",
     "text": [
      "= (λn.n (λy.λt.λf.f) (λt.λf.t)) (λs.λz.s (s z))\n",
      "= (λs.λz.s (s z)) (λy.λt.λf.f) (λt.λf.t)\n",
      "= (λz.(λy.λt.λf.f) ((λy.λt.λf.f) z)) (λt.λf.t)\n",
      "= (λy.λt.λf.f) ((λy.λt.λf.f) (λt.λf.t))\n",
      "= λt.λf.f\n"
     ]
    },
    {
     "data": {
      "text/plain": [
       "- : string = \"λt.λf.f\"\n"
      ]
     },
     "execution_count": 49,
     "metadata": {},
     "output_type": "execute_result"
    }
   ],
   "source": [
    "eval @@ app [is_zero; two]"
   ]
  },
  {
   "cell_type": "markdown",
   "metadata": {
    "slideshow": {
     "slide_type": "slide"
    }
   },
   "source": [
    "## Arithmetic\n",
    "\n",
    "```ocaml\n",
    "plus = λm.λn.λs.λz.m s (n s z)\n",
    "mult = λm.λn.λs.λz.m (n s) z\n",
    "```"
   ]
  },
  {
   "cell_type": "code",
   "execution_count": 50,
   "metadata": {
    "slideshow": {
     "slide_type": "fragment"
    }
   },
   "outputs": [
    {
     "data": {
      "text/plain": [
       "val plus : Syntax.expr =\n",
       "  Lam (\"m\",\n",
       "   Lam (\"n\",\n",
       "    Lam (\"s\",\n",
       "     Lam (\"z\",\n",
       "      App (App (Var \"m\", Var \"s\"), App (App (Var \"n\", Var \"s\"), Var \"z\"))))))\n"
      ]
     },
     "execution_count": 50,
     "metadata": {},
     "output_type": "execute_result"
    },
    {
     "data": {
      "text/plain": [
       "val mult : Syntax.expr =\n",
       "  Lam (\"m\",\n",
       "   Lam (\"n\",\n",
       "    Lam (\"s\",\n",
       "     Lam (\"z\", App (App (Var \"m\", App (Var \"n\", Var \"s\")), Var \"z\")))))\n"
      ]
     },
     "execution_count": 50,
     "metadata": {},
     "output_type": "execute_result"
    }
   ],
   "source": [
    "let plus = p (\"λm.λn.λs.λz.m s (n s z)\")\n",
    "let mult = p (\"λm.λn.λs.λz.m (n s) z\")"
   ]
  },
  {
   "cell_type": "markdown",
   "metadata": {
    "slideshow": {
     "slide_type": "slide"
    }
   },
   "source": [
    "## Arithmetic: addition"
   ]
  },
  {
   "cell_type": "code",
   "execution_count": 51,
   "metadata": {
    "scrolled": false
   },
   "outputs": [
    {
     "name": "stdout",
     "output_type": "stream",
     "text": [
      "= (λm.λn.λs.λz.m s (n s z)) (λs.λz.s z) (λs.λz.s (s z))\n",
      "= (λn.λs.λz.(λs.λz.s z) s (n s z)) (λs.λz.s (s z))\n",
      "= λs.λz.(λs.λz.s z) s ((λs.λz.s (s z)) s z)\n",
      "= λs.λz.(λz.s z) ((λs.λz.s (s z)) s z)\n",
      "= λs.λz.s ((λs.λz.s (s z)) s z)\n",
      "= λs.λz.s ((λz.s (s z)) z)\n",
      "= λs.λz.s (s (s z))\n"
     ]
    },
    {
     "data": {
      "text/plain": [
       "- : string = \"λs.λz.s (s (s z))\"\n"
      ]
     },
     "execution_count": 51,
     "metadata": {},
     "output_type": "execute_result"
    }
   ],
   "source": [
    "eval @@ app [plus; one; two]"
   ]
  },
  {
   "cell_type": "markdown",
   "metadata": {
    "slideshow": {
     "slide_type": "fragment"
    }
   },
   "source": [
    "Proves 1 + 2 = 3. Can build a theory of arithmetic over lambda calculus."
   ]
  },
  {
   "cell_type": "markdown",
   "metadata": {
    "slideshow": {
     "slide_type": "slide"
    }
   },
   "source": [
    "## Arithmetic: multiplication"
   ]
  },
  {
   "cell_type": "code",
   "execution_count": 52,
   "metadata": {
    "scrolled": true
   },
   "outputs": [
    {
     "name": "stdout",
     "output_type": "stream",
     "text": [
      "= (λm.λn.λs.λz.m (n s) z) (λs.λz.s (s z)) (λs.λz.s (s (s z)))\n",
      "= (λn.λs.λz.(λs.λz.s (s z)) (n s) z) (λs.λz.s (s (s z)))\n",
      "= λs.λz.(λs.λz.s (s z)) ((λs.λz.s (s (s z))) s) z\n",
      "= λs.λz.(λz.(λs.λz.s (s (s z))) s ((λs.λz.s (s (s z))) s z)) z\n",
      "= λs.λz.(λs.λz.s (s (s z))) s ((λs.λz.s (s (s z))) s z)\n",
      "= λs.λz.(λz.s (s (s z))) ((λs.λz.s (s (s z))) s z)\n",
      "= λs.λz.s (s (s ((λs.λz.s (s (s z))) s z)))\n",
      "= λs.λz.s (s (s ((λz.s (s (s z))) z)))\n",
      "= λs.λz.s (s (s (s (s (s z)))))\n"
     ]
    },
    {
     "data": {
      "text/plain": [
       "- : string = \"λs.λz.s (s (s (s (s (s z)))))\"\n"
      ]
     },
     "execution_count": 52,
     "metadata": {},
     "output_type": "execute_result"
    }
   ],
   "source": [
    "eval @@ app [mult; two; three]"
   ]
  },
  {
   "cell_type": "markdown",
   "metadata": {
    "slideshow": {
     "slide_type": "slide"
    }
   },
   "source": [
    "## Arithmetic: predecessor\n",
    "\n",
    "It turns out predecessor function is much more tricky compared to successor. \n",
    "\n",
    "```ocaml\n",
    "zz = pair zero zero\n",
    "ss = λp. pair (snd p) (plus one (snd p))\n",
    "```"
   ]
  },
  {
   "cell_type": "markdown",
   "metadata": {
    "slideshow": {
     "slide_type": "fragment"
    }
   },
   "source": [
    "```ocaml\n",
    "zz = (0,0)\n",
    "ss zz = (0,1)\n",
    "ss (ss zz) = (1,2)\n",
    "ss (ss (ss zz)) = (2,3)\n",
    "```\n",
    "etc."
   ]
  },
  {
   "cell_type": "markdown",
   "metadata": {
    "slideshow": {
     "slide_type": "slide"
    }
   },
   "source": [
    "## Arithmetic: predecessor\n",
    "\n",
    "It turns out predecessor function is much more tricky compared to successor. \n",
    "\n",
    "```ocaml\n",
    "zz = pair zero zero\n",
    "ss = λp. pair (snd p) (plus one (snd p))\n",
    "prd = λm. fst (m ss zz)\n",
    "```"
   ]
  },
  {
   "cell_type": "code",
   "execution_count": 53,
   "metadata": {
    "collapsed": true,
    "slideshow": {
     "slide_type": "fragment"
    }
   },
   "outputs": [
    {
     "data": {
      "text/plain": [
       "val zz : Syntax.expr =\n",
       "  App\n",
       "   (App\n",
       "     (Lam (\"f\", Lam (\"s\", Lam (\"b\", App (App (Var \"b\", Var \"f\"), Var \"s\")))),\n",
       "     Lam (\"s\", Lam (\"z\", Var \"z\"))),\n",
       "   Lam (\"s\", Lam (\"z\", Var \"z\")))\n"
      ]
     },
     "execution_count": 53,
     "metadata": {},
     "output_type": "execute_result"
    },
    {
     "data": {
      "text/plain": [
       "val ss : Syntax.expr =\n",
       "  Lam (\"p\",\n",
       "   App\n",
       "    (App\n",
       "      (Lam (\"f\", Lam (\"s\", Lam (\"b\", App (App (Var \"b\", Var \"f\"), Var \"s\")))),\n",
       "      App (Lam (\"p\", App (Var \"p\", Lam (\"t\", Lam (\"f\", Var \"f\")))), Var \"p\")),\n",
       "    App\n",
       "     (App\n",
       "       (Lam (\"m\",\n",
       "         Lam (\"n\",\n",
       "          Lam (\"s\",\n",
       "           Lam (\"z\",\n",
       "            App (App (Var \"m\", Var \"s\"),\n",
       "             App (App (Var \"n\", Var \"s\"), Var \"z\")))))),\n",
       "       Lam (\"s\", Lam (\"z\", App (Var \"s\", Var \"z\")))),\n",
       "     App (Lam (\"p\", App (Var \"p\", Lam (\"t\", Lam (\"f\", Var \"f\")))), Var \"p\"))))\n"
      ]
     },
     "execution_count": 53,
     "metadata": {},
     "output_type": "execute_result"
    },
    {
     "data": {
      "text/plain": [
       "val prd : Syntax.expr =\n",
       "  Lam (\"m\",\n",
       "   App (Lam (\"p\", App (Var \"p\", Lam (\"t\", Lam (\"f\", Var \"t\")))),\n",
       "    App\n",
       "     (App (Var \"m\",\n",
       "       Lam (\"p\",\n",
       "        App\n",
       "         (App\n",
       "           (Lam (\"f\",\n",
       "             Lam (\"s\", Lam (\"b\", App (App (Var \"b\", Var \"f\"), Var \"s\")))),\n",
       "           App (Lam (\"p\", App (Var \"p\", Lam (\"t\", Lam (\"f\", Var \"f\")))),\n",
       "            Var \"p\")),\n",
       "         App\n",
       "          (App\n",
       "            (Lam (\"m\",\n",
       "              Lam (\"n\",\n",
       "               Lam (\"s\",\n",
       "                Lam (\"z\",\n",
       "                 App (App (Var \"m\", Var \"s\"),\n",
       "                  App (App (Var \"n\", Var \"s\"), Var \"z\")))))),\n",
       "            Lam (\"s\", Lam (\"z\", App (Var \"s\", Var \"z\")))),\n",
       "          App (Lam (\"p\", App (Var \"p\", Lam (\"t\", Lam (\"f\", Var \"f\")))),\n",
       "           Var \"p\"))))),\n",
       "     App\n",
       "      (App\n",
       "        (Lam (\"f\",\n",
       "          Lam (\"s\", Lam (\"b\", App (App (Var \"b\", Var \"f\"), Var \"s\")))),\n",
       "        Lam (\"s\", Lam (\"z\", Var \"z\"))),\n",
       "      Lam (\"s\", Lam (\"z\", Var \"z\"))))))\n"
      ]
     },
     "execution_count": 53,
     "metadata": {},
     "output_type": "execute_result"
    }
   ],
   "source": [
    "let zz = app [pair; zero; zero]\n",
    "let ss = lam \"p\" (app [pair; app [snd; var \"p\"]; app [plus; one; app [snd; var \"p\"]]])\n",
    "let prd = lam \"m\" (app [fst; app [var \"m\"; ss; zz]])"
   ]
  },
  {
   "cell_type": "markdown",
   "metadata": {
    "slideshow": {
     "slide_type": "slide"
    }
   },
   "source": [
    "## Arithmetic: Predecessor"
   ]
  },
  {
   "cell_type": "code",
   "execution_count": 56,
   "metadata": {},
   "outputs": [
    {
     "data": {
      "text/plain": [
       "- : string = \"λs.λz.s (s z)\"\n"
      ]
     },
     "execution_count": 56,
     "metadata": {},
     "output_type": "execute_result"
    }
   ],
   "source": [
    "eval ~log:false @@ app [prd; three]"
   ]
  },
  {
   "cell_type": "code",
   "execution_count": 57,
   "metadata": {},
   "outputs": [
    {
     "data": {
      "text/plain": [
       "- : string = \"λs.λz.z\"\n"
      ]
     },
     "execution_count": 57,
     "metadata": {},
     "output_type": "execute_result"
    }
   ],
   "source": [
    "eval ~log:false @@ app [prd; zero]"
   ]
  },
  {
   "cell_type": "markdown",
   "metadata": {
    "slideshow": {
     "slide_type": "slide"
    }
   },
   "source": [
    "## Arithmetic: Subtraction\n",
    "\n",
    "`sub` computes `m-n`:\n",
    "\n",
    "```ocaml\n",
    "sub = λm.λn.n prd m\n",
    "```\n",
    "\n",
    "Intuition: apply predecessor `n` times on `m`."
   ]
  },
  {
   "cell_type": "code",
   "execution_count": 59,
   "metadata": {},
   "outputs": [
    {
     "data": {
      "text/plain": [
       "val sub : Syntax.expr =\n",
       "  Lam (\"m\",\n",
       "   Lam (\"n\",\n",
       "    App\n",
       "     (App (Var \"n\",\n",
       "       Lam (\"m\",\n",
       "        App (Lam (\"p\", App (Var \"p\", Lam (\"t\", Lam (\"f\", Var \"t\")))),\n",
       "         App\n",
       "          (App (Var \"m\",\n",
       "            Lam (\"p\",\n",
       "             App\n",
       "              (App\n",
       "                (Lam (\"f\",\n",
       "                  Lam (\"s\", Lam (\"b\", App (App (Var \"b\", Var \"f\"), Var \"s\")))),\n",
       "                App (Lam (\"p\", App (Var \"p\", Lam (\"t\", Lam (\"f\", Var \"f\")))),\n",
       "                 Var \"p\")),\n",
       "              App\n",
       "               (App\n",
       "                 (Lam (\"m\",\n",
       "                   Lam (\"n\",\n",
       "                    Lam (\"s\",\n",
       "                     Lam (\"z\",\n",
       "                      App (App (Var \"m\", Var \"s\"),\n",
       "                       App (App (Var \"n\", Var \"s\"), Var \"z\")))))),\n",
       "                 Lam (\"s\", Lam (\"z\", App (Var \"s\", Var \"z\")))),\n",
       "               App (Lam (\"p\", App (Var \"p\", Lam (\"t\", Lam (\"f\", Var \"f\")))),\n",
       "                Var \"p\"))))),\n",
       "          App\n",
       "           (App\n",
       "             (Lam (\"f\",\n",
       "               Lam (\"s\", Lam (\"b\", App (App (Var \"b\", Var \"f\"), Var \"s\")))),\n",
       "             Lam (\"s\", Lam (\"z\", Var \"z\"))),\n",
       "           Lam (\"s\", Lam (\"z\", Var \"z\"))))))),\n",
       "     Var \"m\")))\n"
      ]
     },
     "execution_count": 59,
     "metadata": {},
     "output_type": "execute_result"
    }
   ],
   "source": [
    "let sub = lam \"m\" (lam \"n\" (app [var \"n\"; prd; var \"m\"]))"
   ]
  },
  {
   "cell_type": "markdown",
   "metadata": {
    "slideshow": {
     "slide_type": "slide"
    }
   },
   "source": [
    "## Arithmetic: Subtraction"
   ]
  },
  {
   "cell_type": "code",
   "execution_count": 61,
   "metadata": {},
   "outputs": [
    {
     "data": {
      "text/plain": [
       "- : string = \"λs.λz.s z\"\n"
      ]
     },
     "execution_count": 61,
     "metadata": {},
     "output_type": "execute_result"
    }
   ],
   "source": [
    "eval ~log:false @@ app [sub; three; two]"
   ]
  },
  {
   "cell_type": "code",
   "execution_count": 62,
   "metadata": {},
   "outputs": [
    {
     "data": {
      "text/plain": [
       "- : string = \"λs.λz.z\"\n"
      ]
     },
     "execution_count": 62,
     "metadata": {},
     "output_type": "execute_result"
    }
   ],
   "source": [
    "eval ~log:false @@ app [sub; two; three]"
   ]
  },
  {
   "cell_type": "markdown",
   "metadata": {
    "slideshow": {
     "slide_type": "slide"
    }
   },
   "source": [
    "## Arithmetic: equal\n",
    "\n",
    "* `m - n = 0` $\\implies$ `m = n`.\n",
    "  + But we operate on natural numbers.\n",
    "  + `3 - 4 = 0` $\\implies$ `3 = 4`.\n",
    "* `m - n = 0 && n - m = 0` $\\implies$ `m = n`."
   ]
  },
  {
   "cell_type": "code",
   "execution_count": 63,
   "metadata": {},
   "outputs": [
    {
     "data": {
      "text/plain": [
       "val equal : Syntax.expr =\n",
       "  Lam (\"m\",\n",
       "   Lam (\"n\",\n",
       "    App\n",
       "     (App\n",
       "       (Lam (\"b\",\n",
       "         Lam (\"c\",\n",
       "          App (App (Var \"b\", Var \"c\"), Lam (\"t\", Lam (\"f\", Var \"f\"))))),\n",
       "       App\n",
       "        (Lam (\"n\",\n",
       "          App (App (Var \"n\", Lam (\"y\", Lam (\"t\", Lam (\"f\", Var \"f\")))),\n",
       "           Lam (\"t\", Lam (\"f\", Var \"t\")))),\n",
       "        App\n",
       "         (App\n",
       "           (Lam (\"m\",\n",
       "             Lam (\"n\",\n",
       "              App\n",
       "               (App (Var \"n\",\n",
       "                 Lam (\"m\",\n",
       "                  App\n",
       "                   (Lam (\"p\", App (Var \"p\", Lam (\"t\", Lam (\"f\", Var \"t\")))),\n",
       "                   App\n",
       "                    (App (Var \"m\",\n",
       "                      Lam (\"p\",\n",
       "                       App\n",
       "                        (App\n",
       "                          (Lam (\"f\",\n",
       "                            Lam (\"s\",\n",
       "                             Lam (\"b\", App (App (Var \"b\", Var \"f\"), Var \"s\")))),\n",
       "                          App\n",
       "                           (Lam (\"p\",\n",
       "                             App (Var \"p\", Lam (\"t\", Lam (\"f\", Var \"f\")))),\n",
       "                           Var \"p\")),\n",
       "                        App\n",
       "                         (App\n",
       "                           (Lam (\"m\",\n",
       "                             Lam (\"n\",\n",
       "                              Lam (\"s\",\n",
       "                               Lam (\"z\",\n",
       "                                App (App (Var \"m\", Var \"s\"),\n",
       "                                 App (App (Var \"n\", Var \"s\"), Var \"z\")))))),\n",
       "                           Lam (\"s\", Lam (\"z\", App (Var \"s\", Var \"z\")))),\n",
       "                         App\n",
       "                          (Lam (\"p\",\n",
       "                            App (Var \"p\", Lam (\"t\", Lam (\"f\", Var \"f\")))),\n",
       "                          Var \"p\"))))),\n",
       "                    App\n",
       "                     (App\n",
       "                       (Lam (\"f\",\n",
       "                         Lam (\"s\",\n",
       "                          Lam (\"b\", App (App (Var \"b\", Var \"f\"), Var \"s\")))),\n",
       "                       Lam (\"s\", Lam (\"z\", Var \"z\"))),\n",
       "                     Lam (\"s\", Lam (\"z\", Var \"z\"))))))),\n",
       "               Var \"m\"))),\n",
       "           Var \"m\"),\n",
       "         Var \"n\"))),\n",
       "     App\n",
       "      (Lam (\"n\",\n",
       "        App (App (Var \"n\", Lam (\"y\", Lam (\"t\", Lam (\"f\", Var \"f\")))),\n",
       "         Lam (\"t\", Lam (\"f\", Var \"t\")))),\n",
       "      App\n",
       "       (App\n",
       "         (Lam (\"m\",\n",
       "           Lam (\"n\",\n",
       "            App\n",
       "             (App (Var \"n\",\n",
       "               Lam (\"m\",\n",
       "                App (Lam (\"p\", App (Var \"p\", Lam (\"t\", Lam (\"f\", Var \"t\")))),\n",
       "                 App\n",
       "                  (App (Var \"m\",\n",
       "                    Lam (\"p\",\n",
       "                     App\n",
       "                      (App\n",
       "                        (Lam (\"f\",\n",
       "                          Lam (\"s\",\n",
       "                           Lam (\"b\", App (App (Var \"b\", Var \"f\"), Var \"s\")))),\n",
       "                        App\n",
       "                         (Lam (\"p\",\n",
       "                           App (Var \"p\", Lam (\"t\", Lam (\"f\", Var \"f\")))),\n",
       "                         Var \"p\")),\n",
       "                      App\n",
       "                       (App\n",
       "                         (Lam (\"m\",\n",
       "                           Lam (\"n\",\n",
       "                            Lam (\"s\",\n",
       "                             Lam (\"z\",\n",
       "                              App (App (Var \"m\", Var \"s\"),\n",
       "                               App (App (Var \"n\", Var \"s\"), Var \"z\")))))),\n",
       "                         Lam (\"s\", Lam (\"z\", App (Var \"s\", Var \"z\")))),\n",
       "                       App (Lam (...), ...))))),\n",
       "                  ...)))),\n",
       "             ...))),\n",
       "         ...),\n",
       "       ...)))))\n"
      ]
     },
     "execution_count": 63,
     "metadata": {},
     "output_type": "execute_result"
    }
   ],
   "source": [
    "let equal = \n",
    "  let mnz = app [is_zero; app [sub; var \"m\"; var \"n\"]] in\n",
    "  let nmz = app [is_zero; app [sub; var \"n\"; var \"m\"]] in\n",
    "  lam \"m\" (lam \"n\" (app [and_; mnz; nmz]))"
   ]
  },
  {
   "cell_type": "markdown",
   "metadata": {
    "slideshow": {
     "slide_type": "slide"
    }
   },
   "source": [
    "## Arithmetic: equal"
   ]
  },
  {
   "cell_type": "code",
   "execution_count": 64,
   "metadata": {},
   "outputs": [
    {
     "data": {
      "text/plain": [
       "- : string = \"λt.λf.t\"\n"
      ]
     },
     "execution_count": 64,
     "metadata": {},
     "output_type": "execute_result"
    }
   ],
   "source": [
    "eval ~log:false @@ app [equal; two; two]"
   ]
  },
  {
   "cell_type": "code",
   "execution_count": 65,
   "metadata": {},
   "outputs": [
    {
     "data": {
      "text/plain": [
       "- : string = \"λt.λf.f\"\n"
      ]
     },
     "execution_count": 65,
     "metadata": {},
     "output_type": "execute_result"
    }
   ],
   "source": [
    "eval ~log:false @@ app [equal; app[sub; three; two]; two]"
   ]
  },
  {
   "cell_type": "code",
   "execution_count": 67,
   "metadata": {},
   "outputs": [
    {
     "name": "stdout",
     "output_type": "stream",
     "text": [
      "= (λm.λn.(λb.λc.b c (λt.λf.f)) ((λn.n (λy.λt.λf.f) (λt.λf.t)) ((λm.λn.n (λm.(λp.p (λt.λf.t)) (m (λp.(λf.λs.λb.b f s) ((λp.p (λt.λf.f)) p) ((λm.λn.λs.λz.m s (n s z)) (λs.λz.s z) ((λp.p (λt.λf.f)) p))) ((λf.λs.λb.b f s) (λs.λz.z) (λs.λz.z)))) m) m n)) ((λn.n (λy.λt.λf.f) (λt.λf.t)) ((λm.λn.n (λm.(λp.p (λt.λf.t)) (m (λp.(λf.λs.λb.b f s) ((λp.p (λt.λf.f)) p) ((λm.λn.λs.λz.m s (n s z)) (λs.λz.s z) ((λp.p (λt.λf.f)) p))) ((λf.λs.λb.b f s) (λs.λz.z) (λs.λz.z)))) m) n m))) ((λm.λn.n (λm.(λp.p (λt.λf.t)) (m (λp.(λf.λs.λb.b f s) ((λp.p (λt.λf.f)) p) ((λm.λn.λs.λz.m s (n s z)) (λs.λz.s z) ((λp.p (λt.λf.f)) p))) ((λf.λs.λb.b f s) (λs.λz.z) (λs.λz.z)))) m) (λs.λz.s (s z)) (λs.λz.s (s (s z)))) (λs.λz.z)\n",
      "= (λn.(λb.λc.b c (λt.λf.f)) ((λn.n (λy.λt.λf.f) (λt.λf.t)) ((λm.λn.n (λm.(λp.p (λt.λf.t)) (m (λp.(λf.λs.λb.b f s) ((λp.p (λt.λf.f)) p) ((λm.λn.λs.λz.m s (n s z)) (λs.λz.s z) ((λp.p (λt.λf.f)) p))) ((λf.λs.λb.b f s) (λs.λz.z) (λs.λz.z)))) m) ((λm.λn.n (λm.(λp.p (λt.λf.t)) (m (λp.(λf.λs.λb.b f s) ((λp.p (λt.λf.f)) p) ((λm.λn.λs.λz.m s (n s z)) (λs.λz.s z) ((λp.p (λt.λf.f)) p))) ((λf.λs.λb.b f s) (λs.λz.z) (λs.λz.z)))) m) (λs.λz.s (s z)) (λs.λz.s (s (s z)))) n)) ((λn.n (λy.λt.λf.f) (λt.λf.t)) ((λm.λn.n (λm.(λp.p (λt.λf.t)) (m (λp.(λf.λs.λb.b f s) ((λp.p (λt.λf.f)) p) ((λm.λn.λs.λz.m s (n s z)) (λs.λz.s z) ((λp.p (λt.λf.f)) p))) ((λf.λs.λb.b f s) (λs.λz.z) (λs.λz.z)))) m) n ((λm.λn.n (λm.(λp.p (λt.λf.t)) (m (λp.(λf.λs.λb.b f s) ((λp.p (λt.λf.f)) p) ((λm.λn.λs.λz.m s (n s z)) (λs.λz.s z) ((λp.p (λt.λf.f)) p))) ((λf.λs.λb.b f s) (λs.λz.z) (λs.λz.z)))) m) (λs.λz.s (s z)) (λs.λz.s (s (s z))))))) (λs.λz.z)\n",
      "= (λb.λc.b c (λt.λf.f)) ((λn.n (λy.λt.λf.f) (λt.λf.t)) ((λm.λn.n (λm.(λp.p (λt.λf.t)) (m (λp.(λf.λs.λb.b f s) ((λp.p (λt.λf.f)) p) ((λm.λn.λs.λz.m s (n s z)) (λs.λz.s z) ((λp.p (λt.λf.f)) p))) ((λf.λs.λb.b f s) (λs.λz.z) (λs.λz.z)))) m) ((λm.λn.n (λm.(λp.p (λt.λf.t)) (m (λp.(λf.λs.λb.b f s) ((λp.p (λt.λf.f)) p) ((λm.λn.λs.λz.m s (n s z)) (λs.λz.s z) ((λp.p (λt.λf.f)) p))) ((λf.λs.λb.b f s) (λs.λz.z) (λs.λz.z)))) m) (λs.λz.s (s z)) (λs.λz.s (s (s z)))) (λs.λz.z))) ((λn.n (λy.λt.λf.f) (λt.λf.t)) ((λm.λn.n (λm.(λp.p (λt.λf.t)) (m (λp.(λf.λs.λb.b f s) ((λp.p (λt.λf.f)) p) ((λm.λn.λs.λz.m s (n s z)) (λs.λz.s z) ((λp.p (λt.λf.f)) p))) ((λf.λs.λb.b f s) (λs.λz.z) (λs.λz.z)))) m) (λs.λz.z) ((λm.λn.n (λm.(λp.p (λt.λf.t)) (m (λp.(λf.λs.λb.b f s) ((λp.p (λt.λf.f)) p) ((λm.λn.λs.λz.m s (n s z)) (λs.λz.s z) ((λp.p (λt.λf.f)) p))) ((λf.λs.λb.b f s) (λs.λz.z) (λs.λz.z)))) m) (λs.λz.s (s z)) (λs.λz.s (s (s z))))))\n",
      "= (λc.(λn.n (λy.λt.λf.f) (λt.λf.t)) ((λm.λn.n (λm.(λp.p (λt.λf.t)) (m (λp.(λf.λs.λb.b f s) ((λp.p (λt.λf.f)) p) ((λm.λn.λs.λz.m s (n s z)) (λs.λz.s z) ((λp.p (λt.λf.f)) p))) ((λf.λs.λb.b f s) (λs.λz.z) (λs.λz.z)))) m) ((λm.λn.n (λm.(λp.p (λt.λf.t)) (m (λp.(λf.λs.λb.b f s) ((λp.p (λt.λf.f)) p) ((λm.λn.λs.λz.m s (n s z)) (λs.λz.s z) ((λp.p (λt.λf.f)) p))) ((λf.λs.λb.b f s) (λs.λz.z) (λs.λz.z)))) m) (λs.λz.s (s z)) (λs.λz.s (s (s z)))) (λs.λz.z)) c (λt.λf.f)) ((λn.n (λy.λt.λf.f) (λt.λf.t)) ((λm.λn.n (λm.(λp.p (λt.λf.t)) (m (λp.(λf.λs.λb.b f s) ((λp.p (λt.λf.f)) p) ((λm.λn.λs.λz.m s (n s z)) (λs.λz.s z) ((λp.p (λt.λf.f)) p))) ((λf.λs.λb.b f s) (λs.λz.z) (λs.λz.z)))) m) (λs.λz.z) ((λm.λn.n (λm.(λp.p (λt.λf.t)) (m (λp.(λf.λs.λb.b f s) ((λp.p (λt.λf.f)) p) ((λm.λn.λs.λz.m s (n s z)) (λs.λz.s z) ((λp.p (λt.λf.f)) p))) ((λf.λs.λb.b f s) (λs.λz.z) (λs.λz.z)))) m) (λs.λz.s (s z)) (λs.λz.s (s (s z))))))\n",
      "= (λn.n (λy.λt.λf.f) (λt.λf.t)) ((λm.λn.n (λm.(λp.p (λt.λf.t)) (m (λp.(λf.λs.λb.b f s) ((λp.p (λt.λf.f)) p) ((λm.λn.λs.λz.m s (n s z)) (λs.λz.s z) ((λp.p (λt.λf.f)) p))) ((λf.λs.λb.b f s) (λs.λz.z) (λs.λz.z)))) m) ((λm.λn.n (λm.(λp.p (λt.λf.t)) (m (λp.(λf.λs.λb.b f s) ((λp.p (λt.λf.f)) p) ((λm.λn.λs.λz.m s (n s z)) (λs.λz.s z) ((λp.p (λt.λf.f)) p))) ((λf.λs.λb.b f s) (λs.λz.z) (λs.λz.z)))) m) (λs.λz.s (s z)) (λs.λz.s (s (s z)))) (λs.λz.z)) ((λn.n (λy.λt.λf.f) (λt.λf.t)) ((λm.λn.n (λm.(λp.p (λt.λf.t)) (m (λp.(λf.λs.λb.b f s) ((λp.p (λt.λf.f)) p) ((λm.λn.λs.λz.m s (n s z)) (λs.λz.s z) ((λp.p (λt.λf.f)) p))) ((λf.λs.λb.b f s) (λs.λz.z) (λs.λz.z)))) m) (λs.λz.z) ((λm.λn.n (λm.(λp.p (λt.λf.t)) (m (λp.(λf.λs.λb.b f s) ((λp.p (λt.λf.f)) p) ((λm.λn.λs.λz.m s (n s z)) (λs.λz.s z) ((λp.p (λt.λf.f)) p))) ((λf.λs.λb.b f s) (λs.λz.z) (λs.λz.z)))) m) (λs.λz.s (s z)) (λs.λz.s (s (s z)))))) (λt.λf.f)\n",
      "= (λm.λn.n (λm.(λp.p (λt.λf.t)) (m (λp.(λf.λs.λb.b f s) ((λp.p (λt.λf.f)) p) ((λm.λn.λs.λz.m s (n s z)) (λs.λz.s z) ((λp.p (λt.λf.f)) p))) ((λf.λs.λb.b f s) (λs.λz.z) (λs.λz.z)))) m) ((λm.λn.n (λm.(λp.p (λt.λf.t)) (m (λp.(λf.λs.λb.b f s) ((λp.p (λt.λf.f)) p) ((λm.λn.λs.λz.m s (n s z)) (λs.λz.s z) ((λp.p (λt.λf.f)) p))) ((λf.λs.λb.b f s) (λs.λz.z) (λs.λz.z)))) m) (λs.λz.s (s z)) (λs.λz.s (s (s z)))) (λs.λz.z) (λy.λt.λf.f) (λt.λf.t) ((λn.n (λy.λt.λf.f) (λt.λf.t)) ((λm.λn.n (λm.(λp.p (λt.λf.t)) (m (λp.(λf.λs.λb.b f s) ((λp.p (λt.λf.f)) p) ((λm.λn.λs.λz.m s (n s z)) (λs.λz.s z) ((λp.p (λt.λf.f)) p))) ((λf.λs.λb.b f s) (λs.λz.z) (λs.λz.z)))) m) (λs.λz.z) ((λm.λn.n (λm.(λp.p (λt.λf.t)) (m (λp.(λf.λs.λb.b f s) ((λp.p (λt.λf.f)) p) ((λm.λn.λs.λz.m s (n s z)) (λs.λz.s z) ((λp.p (λt.λf.f)) p))) ((λf.λs.λb.b f s) (λs.λz.z) (λs.λz.z)))) m) (λs.λz.s (s z)) (λs.λz.s (s (s z)))))) (λt.λf.f)\n",
      "= (λn.n (λm.(λp.p (λt.λf.t)) (m (λp.(λf.λs.λb.b f s) ((λp.p (λt.λf.f)) p) ((λm.λn.λs.λz.m s (n s z)) (λs.λz.s z) ((λp.p (λt.λf.f)) p))) ((λf.λs.λb.b f s) (λs.λz.z) (λs.λz.z)))) ((λm.λn.n (λm.(λp.p (λt.λf.t)) (m (λp.(λf.λs.λb.b f s) ((λp.p (λt.λf.f)) p) ((λm.λn.λs.λz.m s (n s z)) (λs.λz.s z) ((λp.p (λt.λf.f)) p))) ((λf.λs.λb.b f s) (λs.λz.z) (λs.λz.z)))) m) (λs.λz.s (s z)) (λs.λz.s (s (s z))))) (λs.λz.z) (λy.λt.λf.f) (λt.λf.t) ((λn.n (λy.λt.λf.f) (λt.λf.t)) ((λm.λn.n (λm.(λp.p (λt.λf.t)) (m (λp.(λf.λs.λb.b f s) ((λp.p (λt.λf.f)) p) ((λm.λn.λs.λz.m s (n s z)) (λs.λz.s z) ((λp.p (λt.λf.f)) p))) ((λf.λs.λb.b f s) (λs.λz.z) (λs.λz.z)))) m) (λs.λz.z) ((λm.λn.n (λm.(λp.p (λt.λf.t)) (m (λp.(λf.λs.λb.b f s) ((λp.p (λt.λf.f)) p) ((λm.λn.λs.λz.m s (n s z)) (λs.λz.s z) ((λp.p (λt.λf.f)) p))) ((λf.λs.λb.b f s) (λs.λz.z) (λs.λz.z)))) m) (λs.λz.s (s z)) (λs.λz.s (s (s z)))))) (λt.λf.f)\n",
      "= (λs.λz.z) (λm.(λp.p (λt.λf.t)) (m (λp.(λf.λs.λb.b f s) ((λp.p (λt.λf.f)) p) ((λm.λn.λs.λz.m s (n s z)) (λs.λz.s z) ((λp.p (λt.λf.f)) p))) ((λf.λs.λb.b f s) (λs.λz.z) (λs.λz.z)))) ((λm.λn.n (λm.(λp.p (λt.λf.t)) (m (λp.(λf.λs.λb.b f s) ((λp.p (λt.λf.f)) p) ((λm.λn.λs.λz.m s (n s z)) (λs.λz.s z) ((λp.p (λt.λf.f)) p))) ((λf.λs.λb.b f s) (λs.λz.z) (λs.λz.z)))) m) (λs.λz.s (s z)) (λs.λz.s (s (s z)))) (λy.λt.λf.f) (λt.λf.t) ((λn.n (λy.λt.λf.f) (λt.λf.t)) ((λm.λn.n (λm.(λp.p (λt.λf.t)) (m (λp.(λf.λs.λb.b f s) ((λp.p (λt.λf.f)) p) ((λm.λn.λs.λz.m s (n s z)) (λs.λz.s z) ((λp.p (λt.λf.f)) p))) ((λf.λs.λb.b f s) (λs.λz.z) (λs.λz.z)))) m) (λs.λz.z) ((λm.λn.n (λm.(λp.p (λt.λf.t)) (m (λp.(λf.λs.λb.b f s) ((λp.p (λt.λf.f)) p) ((λm.λn.λs.λz.m s (n s z)) (λs.λz.s z) ((λp.p (λt.λf.f)) p))) ((λf.λs.λb.b f s) (λs.λz.z) (λs.λz.z)))) m) (λs.λz.s (s z)) (λs.λz.s (s (s z)))))) (λt.λf.f)\n",
      "= (λz.z) ((λm.λn.n (λm.(λp.p (λt.λf.t)) (m (λp.(λf.λs.λb.b f s) ((λp.p (λt.λf.f)) p) ((λm.λn.λs.λz.m s (n s z)) (λs.λz.s z) ((λp.p (λt.λf.f)) p))) ((λf.λs.λb.b f s) (λs.λz.z) (λs.λz.z)))) m) (λs.λz.s (s z)) (λs.λz.s (s (s z)))) (λy.λt.λf.f) (λt.λf.t) ((λn.n (λy.λt.λf.f) (λt.λf.t)) ((λm.λn.n (λm.(λp.p (λt.λf.t)) (m (λp.(λf.λs.λb.b f s) ((λp.p (λt.λf.f)) p) ((λm.λn.λs.λz.m s (n s z)) (λs.λz.s z) ((λp.p (λt.λf.f)) p))) ((λf.λs.λb.b f s) (λs.λz.z) (λs.λz.z)))) m) (λs.λz.z) ((λm.λn.n (λm.(λp.p (λt.λf.t)) (m (λp.(λf.λs.λb.b f s) ((λp.p (λt.λf.f)) p) ((λm.λn.λs.λz.m s (n s z)) (λs.λz.s z) ((λp.p (λt.λf.f)) p))) ((λf.λs.λb.b f s) (λs.λz.z) (λs.λz.z)))) m) (λs.λz.s (s z)) (λs.λz.s (s (s z)))))) (λt.λf.f)\n",
      "= (λm.λn.n (λm.(λp.p (λt.λf.t)) (m (λp.(λf.λs.λb.b f s) ((λp.p (λt.λf.f)) p) ((λm.λn.λs.λz.m s (n s z)) (λs.λz.s z) ((λp.p (λt.λf.f)) p))) ((λf.λs.λb.b f s) (λs.λz.z) (λs.λz.z)))) m) (λs.λz.s (s z)) (λs.λz.s (s (s z))) (λy.λt.λf.f) (λt.λf.t) ((λn.n (λy.λt.λf.f) (λt.λf.t)) ((λm.λn.n (λm.(λp.p (λt.λf.t)) (m (λp.(λf.λs.λb.b f s) ((λp.p (λt.λf.f)) p) ((λm.λn.λs.λz.m s (n s z)) (λs.λz.s z) ((λp.p (λt.λf.f)) p))) ((λf.λs.λb.b f s) (λs.λz.z) (λs.λz.z)))) m) (λs.λz.z) ((λm.λn.n (λm.(λp.p (λt.λf.t)) (m (λp.(λf.λs.λb.b f s) ((λp.p (λt.λf.f)) p) ((λm.λn.λs.λz.m s (n s z)) (λs.λz.s z) ((λp.p (λt.λf.f)) p))) ((λf.λs.λb.b f s) (λs.λz.z) (λs.λz.z)))) m) (λs.λz.s (s z)) (λs.λz.s (s (s z)))))) (λt.λf.f)\n"
     ]
    },
    {
     "name": "stdout",
     "output_type": "stream",
     "text": [
      "= (λn.n (λm.(λp.p (λt.λf.t)) (m (λp.(λf.λs.λb.b f s) ((λp.p (λt.λf.f)) p) ((λm.λn.λs.λz.m s (n s z)) (λs.λz.s z) ((λp.p (λt.λf.f)) p))) ((λf.λs.λb.b f s) (λs.λz.z) (λs.λz.z)))) (λs.λz.s (s z))) (λs.λz.s (s (s z))) (λy.λt.λf.f) (λt.λf.t) ((λn.n (λy.λt.λf.f) (λt.λf.t)) ((λm.λn.n (λm.(λp.p (λt.λf.t)) (m (λp.(λf.λs.λb.b f s) ((λp.p (λt.λf.f)) p) ((λm.λn.λs.λz.m s (n s z)) (λs.λz.s z) ((λp.p (λt.λf.f)) p))) ((λf.λs.λb.b f s) (λs.λz.z) (λs.λz.z)))) m) (λs.λz.z) ((λm.λn.n (λm.(λp.p (λt.λf.t)) (m (λp.(λf.λs.λb.b f s) ((λp.p (λt.λf.f)) p) ((λm.λn.λs.λz.m s (n s z)) (λs.λz.s z) ((λp.p (λt.λf.f)) p))) ((λf.λs.λb.b f s) (λs.λz.z) (λs.λz.z)))) m) (λs.λz.s (s z)) (λs.λz.s (s (s z)))))) (λt.λf.f)\n",
      "= (λs.λz.s (s (s z))) (λm.(λp.p (λt.λf.t)) (m (λp.(λf.λs.λb.b f s) ((λp.p (λt.λf.f)) p) ((λm.λn.λs.λz.m s (n s z)) (λs.λz.s z) ((λp.p (λt.λf.f)) p))) ((λf.λs.λb.b f s) (λs.λz.z) (λs.λz.z)))) (λs.λz.s (s z)) (λy.λt.λf.f) (λt.λf.t) ((λn.n (λy.λt.λf.f) (λt.λf.t)) ((λm.λn.n (λm.(λp.p (λt.λf.t)) (m (λp.(λf.λs.λb.b f s) ((λp.p (λt.λf.f)) p) ((λm.λn.λs.λz.m s (n s z)) (λs.λz.s z) ((λp.p (λt.λf.f)) p))) ((λf.λs.λb.b f s) (λs.λz.z) (λs.λz.z)))) m) (λs.λz.z) ((λm.λn.n (λm.(λp.p (λt.λf.t)) (m (λp.(λf.λs.λb.b f s) ((λp.p (λt.λf.f)) p) ((λm.λn.λs.λz.m s (n s z)) (λs.λz.s z) ((λp.p (λt.λf.f)) p))) ((λf.λs.λb.b f s) (λs.λz.z) (λs.λz.z)))) m) (λs.λz.s (s z)) (λs.λz.s (s (s z)))))) (λt.λf.f)\n",
      "= (λz.(λm.(λp.p (λt.λf.t)) (m (λp.(λf.λs.λb.b f s) ((λp.p (λt.λf.f)) p) ((λm.λn.λs.λz.m s (n s z)) (λs.λz.s z) ((λp.p (λt.λf.f)) p))) ((λf.λs.λb.b f s) (λs.λz.z) (λs.λz.z)))) ((λm.(λp.p (λt.λf.t)) (m (λp.(λf.λs.λb.b f s) ((λp.p (λt.λf.f)) p) ((λm.λn.λs.λz.m s (n s z)) (λs.λz.s z) ((λp.p (λt.λf.f)) p))) ((λf.λs.λb.b f s) (λs.λz.z) (λs.λz.z)))) ((λm.(λp.p (λt.λf.t)) (m (λp.(λf.λs.λb.b f s) ((λp.p (λt.λf.f)) p) ((λm.λn.λs.λz.m s (n s z)) (λs.λz.s z) ((λp.p (λt.λf.f)) p))) ((λf.λs.λb.b f s) (λs.λz.z) (λs.λz.z)))) z))) (λs.λz.s (s z)) (λy.λt.λf.f) (λt.λf.t) ((λn.n (λy.λt.λf.f) (λt.λf.t)) ((λm.λn.n (λm.(λp.p (λt.λf.t)) (m (λp.(λf.λs.λb.b f s) ((λp.p (λt.λf.f)) p) ((λm.λn.λs.λz.m s (n s z)) (λs.λz.s z) ((λp.p (λt.λf.f)) p))) ((λf.λs.λb.b f s) (λs.λz.z) (λs.λz.z)))) m) (λs.λz.z) ((λm.λn.n (λm.(λp.p (λt.λf.t)) (m (λp.(λf.λs.λb.b f s) ((λp.p (λt.λf.f)) p) ((λm.λn.λs.λz.m s (n s z)) (λs.λz.s z) ((λp.p (λt.λf.f)) p))) ((λf.λs.λb.b f s) (λs.λz.z) (λs.λz.z)))) m) (λs.λz.s (s z)) (λs.λz.s (s (s z)))))) (λt.λf.f)\n",
      "= (λm.(λp.p (λt.λf.t)) (m (λp.(λf.λs.λb.b f s) ((λp.p (λt.λf.f)) p) ((λm.λn.λs.λz.m s (n s z)) (λs.λz.s z) ((λp.p (λt.λf.f)) p))) ((λf.λs.λb.b f s) (λs.λz.z) (λs.λz.z)))) ((λm.(λp.p (λt.λf.t)) (m (λp.(λf.λs.λb.b f s) ((λp.p (λt.λf.f)) p) ((λm.λn.λs.λz.m s (n s z)) (λs.λz.s z) ((λp.p (λt.λf.f)) p))) ((λf.λs.λb.b f s) (λs.λz.z) (λs.λz.z)))) ((λm.(λp.p (λt.λf.t)) (m (λp.(λf.λs.λb.b f s) ((λp.p (λt.λf.f)) p) ((λm.λn.λs.λz.m s (n s z)) (λs.λz.s z) ((λp.p (λt.λf.f)) p))) ((λf.λs.λb.b f s) (λs.λz.z) (λs.λz.z)))) (λs.λz.s (s z)))) (λy.λt.λf.f) (λt.λf.t) ((λn.n (λy.λt.λf.f) (λt.λf.t)) ((λm.λn.n (λm.(λp.p (λt.λf.t)) (m (λp.(λf.λs.λb.b f s) ((λp.p (λt.λf.f)) p) ((λm.λn.λs.λz.m s (n s z)) (λs.λz.s z) ((λp.p (λt.λf.f)) p))) ((λf.λs.λb.b f s) (λs.λz.z) (λs.λz.z)))) m) (λs.λz.z) ((λm.λn.n (λm.(λp.p (λt.λf.t)) (m (λp.(λf.λs.λb.b f s) ((λp.p (λt.λf.f)) p) ((λm.λn.λs.λz.m s (n s z)) (λs.λz.s z) ((λp.p (λt.λf.f)) p))) ((λf.λs.λb.b f s) (λs.λz.z) (λs.λz.z)))) m) (λs.λz.s (s z)) (λs.λz.s (s (s z)))))) (λt.λf.f)\n",
      "= (λp.p (λt.λf.t)) ((λm.(λp.p (λt.λf.t)) (m (λp.(λf.λs.λb.b f s) ((λp.p (λt.λf.f)) p) ((λm.λn.λs.λz.m s (n s z)) (λs.λz.s z) ((λp.p (λt.λf.f)) p))) ((λf.λs.λb.b f s) (λs.λz.z) (λs.λz.z)))) ((λm.(λp.p (λt.λf.t)) (m (λp.(λf.λs.λb.b f s) ((λp.p (λt.λf.f)) p) ((λm.λn.λs.λz.m s (n s z)) (λs.λz.s z) ((λp.p (λt.λf.f)) p))) ((λf.λs.λb.b f s) (λs.λz.z) (λs.λz.z)))) (λs.λz.s (s z))) (λp.(λf.λs.λb.b f s) ((λp.p (λt.λf.f)) p) ((λm.λn.λs.λz.m s (n s z)) (λs.λz.s z) ((λp.p (λt.λf.f)) p))) ((λf.λs.λb.b f s) (λs.λz.z) (λs.λz.z))) (λy.λt.λf.f) (λt.λf.t) ((λn.n (λy.λt.λf.f) (λt.λf.t)) ((λm.λn.n (λm.(λp.p (λt.λf.t)) (m (λp.(λf.λs.λb.b f s) ((λp.p (λt.λf.f)) p) ((λm.λn.λs.λz.m s (n s z)) (λs.λz.s z) ((λp.p (λt.λf.f)) p))) ((λf.λs.λb.b f s) (λs.λz.z) (λs.λz.z)))) m) (λs.λz.z) ((λm.λn.n (λm.(λp.p (λt.λf.t)) (m (λp.(λf.λs.λb.b f s) ((λp.p (λt.λf.f)) p) ((λm.λn.λs.λz.m s (n s z)) (λs.λz.s z) ((λp.p (λt.λf.f)) p))) ((λf.λs.λb.b f s) (λs.λz.z) (λs.λz.z)))) m) (λs.λz.s (s z)) (λs.λz.s (s (s z)))))) (λt.λf.f)\n",
      "= (λm.(λp.p (λt.λf.t)) (m (λp.(λf.λs.λb.b f s) ((λp.p (λt.λf.f)) p) ((λm.λn.λs.λz.m s (n s z)) (λs.λz.s z) ((λp.p (λt.λf.f)) p))) ((λf.λs.λb.b f s) (λs.λz.z) (λs.λz.z)))) ((λm.(λp.p (λt.λf.t)) (m (λp.(λf.λs.λb.b f s) ((λp.p (λt.λf.f)) p) ((λm.λn.λs.λz.m s (n s z)) (λs.λz.s z) ((λp.p (λt.λf.f)) p))) ((λf.λs.λb.b f s) (λs.λz.z) (λs.λz.z)))) (λs.λz.s (s z))) (λp.(λf.λs.λb.b f s) ((λp.p (λt.λf.f)) p) ((λm.λn.λs.λz.m s (n s z)) (λs.λz.s z) ((λp.p (λt.λf.f)) p))) ((λf.λs.λb.b f s) (λs.λz.z) (λs.λz.z)) (λt.λf.t) (λy.λt.λf.f) (λt.λf.t) ((λn.n (λy.λt.λf.f) (λt.λf.t)) ((λm.λn.n (λm.(λp.p (λt.λf.t)) (m (λp.(λf.λs.λb.b f s) ((λp.p (λt.λf.f)) p) ((λm.λn.λs.λz.m s (n s z)) (λs.λz.s z) ((λp.p (λt.λf.f)) p))) ((λf.λs.λb.b f s) (λs.λz.z) (λs.λz.z)))) m) (λs.λz.z) ((λm.λn.n (λm.(λp.p (λt.λf.t)) (m (λp.(λf.λs.λb.b f s) ((λp.p (λt.λf.f)) p) ((λm.λn.λs.λz.m s (n s z)) (λs.λz.s z) ((λp.p (λt.λf.f)) p))) ((λf.λs.λb.b f s) (λs.λz.z) (λs.λz.z)))) m) (λs.λz.s (s z)) (λs.λz.s (s (s z)))))) (λt.λf.f)\n",
      "= (λp.p (λt.λf.t)) ((λm.(λp.p (λt.λf.t)) (m (λp.(λf.λs.λb.b f s) ((λp.p (λt.λf.f)) p) ((λm.λn.λs.λz.m s (n s z)) (λs.λz.s z) ((λp.p (λt.λf.f)) p))) ((λf.λs.λb.b f s) (λs.λz.z) (λs.λz.z)))) (λs.λz.s (s z)) (λp.(λf.λs.λb.b f s) ((λp.p (λt.λf.f)) p) ((λm.λn.λs.λz.m s (n s z)) (λs.λz.s z) ((λp.p (λt.λf.f)) p))) ((λf.λs.λb.b f s) (λs.λz.z) (λs.λz.z))) (λp.(λf.λs.λb.b f s) ((λp.p (λt.λf.f)) p) ((λm.λn.λs.λz.m s (n s z)) (λs.λz.s z) ((λp.p (λt.λf.f)) p))) ((λf.λs.λb.b f s) (λs.λz.z) (λs.λz.z)) (λt.λf.t) (λy.λt.λf.f) (λt.λf.t) ((λn.n (λy.λt.λf.f) (λt.λf.t)) ((λm.λn.n (λm.(λp.p (λt.λf.t)) (m (λp.(λf.λs.λb.b f s) ((λp.p (λt.λf.f)) p) ((λm.λn.λs.λz.m s (n s z)) (λs.λz.s z) ((λp.p (λt.λf.f)) p))) ((λf.λs.λb.b f s) (λs.λz.z) (λs.λz.z)))) m) (λs.λz.z) ((λm.λn.n (λm.(λp.p (λt.λf.t)) (m (λp.(λf.λs.λb.b f s) ((λp.p (λt.λf.f)) p) ((λm.λn.λs.λz.m s (n s z)) (λs.λz.s z) ((λp.p (λt.λf.f)) p))) ((λf.λs.λb.b f s) (λs.λz.z) (λs.λz.z)))) m) (λs.λz.s (s z)) (λs.λz.s (s (s z)))))) (λt.λf.f)\n",
      "= (λm.(λp.p (λt.λf.t)) (m (λp.(λf.λs.λb.b f s) ((λp.p (λt.λf.f)) p) ((λm.λn.λs.λz.m s (n s z)) (λs.λz.s z) ((λp.p (λt.λf.f)) p))) ((λf.λs.λb.b f s) (λs.λz.z) (λs.λz.z)))) (λs.λz.s (s z)) (λp.(λf.λs.λb.b f s) ((λp.p (λt.λf.f)) p) ((λm.λn.λs.λz.m s (n s z)) (λs.λz.s z) ((λp.p (λt.λf.f)) p))) ((λf.λs.λb.b f s) (λs.λz.z) (λs.λz.z)) (λt.λf.t) (λp.(λf.λs.λb.b f s) ((λp.p (λt.λf.f)) p) ((λm.λn.λs.λz.m s (n s z)) (λs.λz.s z) ((λp.p (λt.λf.f)) p))) ((λf.λs.λb.b f s) (λs.λz.z) (λs.λz.z)) (λt.λf.t) (λy.λt.λf.f) (λt.λf.t) ((λn.n (λy.λt.λf.f) (λt.λf.t)) ((λm.λn.n (λm.(λp.p (λt.λf.t)) (m (λp.(λf.λs.λb.b f s) ((λp.p (λt.λf.f)) p) ((λm.λn.λs.λz.m s (n s z)) (λs.λz.s z) ((λp.p (λt.λf.f)) p))) ((λf.λs.λb.b f s) (λs.λz.z) (λs.λz.z)))) m) (λs.λz.z) ((λm.λn.n (λm.(λp.p (λt.λf.t)) (m (λp.(λf.λs.λb.b f s) ((λp.p (λt.λf.f)) p) ((λm.λn.λs.λz.m s (n s z)) (λs.λz.s z) ((λp.p (λt.λf.f)) p))) ((λf.λs.λb.b f s) (λs.λz.z) (λs.λz.z)))) m) (λs.λz.s (s z)) (λs.λz.s (s (s z)))))) (λt.λf.f)\n",
      "= (λp.p (λt.λf.t)) ((λs.λz.s (s z)) (λp.(λf.λs.λb.b f s) ((λp.p (λt.λf.f)) p) ((λm.λn.λs.λz.m s (n s z)) (λs.λz.s z) ((λp.p (λt.λf.f)) p))) ((λf.λs.λb.b f s) (λs.λz.z) (λs.λz.z))) (λp.(λf.λs.λb.b f s) ((λp.p (λt.λf.f)) p) ((λm.λn.λs.λz.m s (n s z)) (λs.λz.s z) ((λp.p (λt.λf.f)) p))) ((λf.λs.λb.b f s) (λs.λz.z) (λs.λz.z)) (λt.λf.t) (λp.(λf.λs.λb.b f s) ((λp.p (λt.λf.f)) p) ((λm.λn.λs.λz.m s (n s z)) (λs.λz.s z) ((λp.p (λt.λf.f)) p))) ((λf.λs.λb.b f s) (λs.λz.z) (λs.λz.z)) (λt.λf.t) (λy.λt.λf.f) (λt.λf.t) ((λn.n (λy.λt.λf.f) (λt.λf.t)) ((λm.λn.n (λm.(λp.p (λt.λf.t)) (m (λp.(λf.λs.λb.b f s) ((λp.p (λt.λf.f)) p) ((λm.λn.λs.λz.m s (n s z)) (λs.λz.s z) ((λp.p (λt.λf.f)) p))) ((λf.λs.λb.b f s) (λs.λz.z) (λs.λz.z)))) m) (λs.λz.z) ((λm.λn.n (λm.(λp.p (λt.λf.t)) (m (λp.(λf.λs.λb.b f s) ((λp.p (λt.λf.f)) p) ((λm.λn.λs.λz.m s (n s z)) (λs.λz.s z) ((λp.p (λt.λf.f)) p))) ((λf.λs.λb.b f s) (λs.λz.z) (λs.λz.z)))) m) (λs.λz.s (s z)) (λs.λz.s (s (s z)))))) (λt.λf.f)\n"
     ]
    },
    {
     "name": "stdout",
     "output_type": "stream",
     "text": [
      "= (λs.λz.s (s z)) (λp.(λf.λs.λb.b f s) ((λp.p (λt.λf.f)) p) ((λm.λn.λs.λz.m s (n s z)) (λs.λz.s z) ((λp.p (λt.λf.f)) p))) ((λf.λs.λb.b f s) (λs.λz.z) (λs.λz.z)) (λt.λf.t) (λp.(λf.λs.λb.b f s) ((λp.p (λt.λf.f)) p) ((λm.λn.λs.λz.m s (n s z)) (λs.λz.s z) ((λp.p (λt.λf.f)) p))) ((λf.λs.λb.b f s) (λs.λz.z) (λs.λz.z)) (λt.λf.t) (λp.(λf.λs.λb.b f s) ((λp.p (λt.λf.f)) p) ((λm.λn.λs.λz.m s (n s z)) (λs.λz.s z) ((λp.p (λt.λf.f)) p))) ((λf.λs.λb.b f s) (λs.λz.z) (λs.λz.z)) (λt.λf.t) (λy.λt.λf.f) (λt.λf.t) ((λn.n (λy.λt.λf.f) (λt.λf.t)) ((λm.λn.n (λm.(λp.p (λt.λf.t)) (m (λp.(λf.λs.λb.b f s) ((λp.p (λt.λf.f)) p) ((λm.λn.λs.λz.m s (n s z)) (λs.λz.s z) ((λp.p (λt.λf.f)) p))) ((λf.λs.λb.b f s) (λs.λz.z) (λs.λz.z)))) m) (λs.λz.z) ((λm.λn.n (λm.(λp.p (λt.λf.t)) (m (λp.(λf.λs.λb.b f s) ((λp.p (λt.λf.f)) p) ((λm.λn.λs.λz.m s (n s z)) (λs.λz.s z) ((λp.p (λt.λf.f)) p))) ((λf.λs.λb.b f s) (λs.λz.z) (λs.λz.z)))) m) (λs.λz.s (s z)) (λs.λz.s (s (s z)))))) (λt.λf.f)\n",
      "= (λz.(λp.(λf.λs.λb.b f s) ((λp.p (λt.λf.f)) p) ((λm.λn.λs.λz.m s (n s z)) (λs.λz.s z) ((λp.p (λt.λf.f)) p))) ((λp.(λf.λs.λb.b f s) ((λp.p (λt.λf.f)) p) ((λm.λn.λs.λz.m s (n s z)) (λs.λz.s z) ((λp.p (λt.λf.f)) p))) z)) ((λf.λs.λb.b f s) (λs.λz.z) (λs.λz.z)) (λt.λf.t) (λp.(λf.λs.λb.b f s) ((λp.p (λt.λf.f)) p) ((λm.λn.λs.λz.m s (n s z)) (λs.λz.s z) ((λp.p (λt.λf.f)) p))) ((λf.λs.λb.b f s) (λs.λz.z) (λs.λz.z)) (λt.λf.t) (λp.(λf.λs.λb.b f s) ((λp.p (λt.λf.f)) p) ((λm.λn.λs.λz.m s (n s z)) (λs.λz.s z) ((λp.p (λt.λf.f)) p))) ((λf.λs.λb.b f s) (λs.λz.z) (λs.λz.z)) (λt.λf.t) (λy.λt.λf.f) (λt.λf.t) ((λn.n (λy.λt.λf.f) (λt.λf.t)) ((λm.λn.n (λm.(λp.p (λt.λf.t)) (m (λp.(λf.λs.λb.b f s) ((λp.p (λt.λf.f)) p) ((λm.λn.λs.λz.m s (n s z)) (λs.λz.s z) ((λp.p (λt.λf.f)) p))) ((λf.λs.λb.b f s) (λs.λz.z) (λs.λz.z)))) m) (λs.λz.z) ((λm.λn.n (λm.(λp.p (λt.λf.t)) (m (λp.(λf.λs.λb.b f s) ((λp.p (λt.λf.f)) p) ((λm.λn.λs.λz.m s (n s z)) (λs.λz.s z) ((λp.p (λt.λf.f)) p))) ((λf.λs.λb.b f s) (λs.λz.z) (λs.λz.z)))) m) (λs.λz.s (s z)) (λs.λz.s (s (s z)))))) (λt.λf.f)\n",
      "= (λp.(λf.λs.λb.b f s) ((λp.p (λt.λf.f)) p) ((λm.λn.λs.λz.m s (n s z)) (λs.λz.s z) ((λp.p (λt.λf.f)) p))) ((λp.(λf.λs.λb.b f s) ((λp.p (λt.λf.f)) p) ((λm.λn.λs.λz.m s (n s z)) (λs.λz.s z) ((λp.p (λt.λf.f)) p))) ((λf.λs.λb.b f s) (λs.λz.z) (λs.λz.z))) (λt.λf.t) (λp.(λf.λs.λb.b f s) ((λp.p (λt.λf.f)) p) ((λm.λn.λs.λz.m s (n s z)) (λs.λz.s z) ((λp.p (λt.λf.f)) p))) ((λf.λs.λb.b f s) (λs.λz.z) (λs.λz.z)) (λt.λf.t) (λp.(λf.λs.λb.b f s) ((λp.p (λt.λf.f)) p) ((λm.λn.λs.λz.m s (n s z)) (λs.λz.s z) ((λp.p (λt.λf.f)) p))) ((λf.λs.λb.b f s) (λs.λz.z) (λs.λz.z)) (λt.λf.t) (λy.λt.λf.f) (λt.λf.t) ((λn.n (λy.λt.λf.f) (λt.λf.t)) ((λm.λn.n (λm.(λp.p (λt.λf.t)) (m (λp.(λf.λs.λb.b f s) ((λp.p (λt.λf.f)) p) ((λm.λn.λs.λz.m s (n s z)) (λs.λz.s z) ((λp.p (λt.λf.f)) p))) ((λf.λs.λb.b f s) (λs.λz.z) (λs.λz.z)))) m) (λs.λz.z) ((λm.λn.n (λm.(λp.p (λt.λf.t)) (m (λp.(λf.λs.λb.b f s) ((λp.p (λt.λf.f)) p) ((λm.λn.λs.λz.m s (n s z)) (λs.λz.s z) ((λp.p (λt.λf.f)) p))) ((λf.λs.λb.b f s) (λs.λz.z) (λs.λz.z)))) m) (λs.λz.s (s z)) (λs.λz.s (s (s z)))))) (λt.λf.f)\n",
      "= (λf.λs.λb.b f s) ((λp.p (λt.λf.f)) ((λp.(λf.λs.λb.b f s) ((λp.p (λt.λf.f)) p) ((λm.λn.λs.λz.m s (n s z)) (λs.λz.s z) ((λp.p (λt.λf.f)) p))) ((λf.λs.λb.b f s) (λs.λz.z) (λs.λz.z)))) ((λm.λn.λs.λz.m s (n s z)) (λs.λz.s z) ((λp.p (λt.λf.f)) ((λp.(λf.λs.λb.b f s) ((λp.p (λt.λf.f)) p) ((λm.λn.λs.λz.m s (n s z)) (λs.λz.s z) ((λp.p (λt.λf.f)) p))) ((λf.λs.λb.b f s) (λs.λz.z) (λs.λz.z))))) (λt.λf.t) (λp.(λf.λs.λb.b f s) ((λp.p (λt.λf.f)) p) ((λm.λn.λs.λz.m s (n s z)) (λs.λz.s z) ((λp.p (λt.λf.f)) p))) ((λf.λs.λb.b f s) (λs.λz.z) (λs.λz.z)) (λt.λf.t) (λp.(λf.λs.λb.b f s) ((λp.p (λt.λf.f)) p) ((λm.λn.λs.λz.m s (n s z)) (λs.λz.s z) ((λp.p (λt.λf.f)) p))) ((λf.λs.λb.b f s) (λs.λz.z) (λs.λz.z)) (λt.λf.t) (λy.λt.λf.f) (λt.λf.t) ((λn.n (λy.λt.λf.f) (λt.λf.t)) ((λm.λn.n (λm.(λp.p (λt.λf.t)) (m (λp.(λf.λs.λb.b f s) ((λp.p (λt.λf.f)) p) ((λm.λn.λs.λz.m s (n s z)) (λs.λz.s z) ((λp.p (λt.λf.f)) p))) ((λf.λs.λb.b f s) (λs.λz.z) (λs.λz.z)))) m) (λs.λz.z) ((λm.λn.n (λm.(λp.p (λt.λf.t)) (m (λp.(λf.λs.λb.b f s) ((λp.p (λt.λf.f)) p) ((λm.λn.λs.λz.m s (n s z)) (λs.λz.s z) ((λp.p (λt.λf.f)) p))) ((λf.λs.λb.b f s) (λs.λz.z) (λs.λz.z)))) m) (λs.λz.s (s z)) (λs.λz.s (s (s z)))))) (λt.λf.f)\n",
      "= (λs.λb.b ((λp.p (λt.λf.f)) ((λp.(λf.λs.λb.b f s) ((λp.p (λt.λf.f)) p) ((λm.λn.λs.λz.m s (n s z)) (λs.λz.s z) ((λp.p (λt.λf.f)) p))) ((λf.λs.λb.b f s) (λs.λz.z) (λs.λz.z)))) s) ((λm.λn.λs.λz.m s (n s z)) (λs.λz.s z) ((λp.p (λt.λf.f)) ((λp.(λf.λs.λb.b f s) ((λp.p (λt.λf.f)) p) ((λm.λn.λs.λz.m s (n s z)) (λs.λz.s z) ((λp.p (λt.λf.f)) p))) ((λf.λs.λb.b f s) (λs.λz.z) (λs.λz.z))))) (λt.λf.t) (λp.(λf.λs.λb.b f s) ((λp.p (λt.λf.f)) p) ((λm.λn.λs.λz.m s (n s z)) (λs.λz.s z) ((λp.p (λt.λf.f)) p))) ((λf.λs.λb.b f s) (λs.λz.z) (λs.λz.z)) (λt.λf.t) (λp.(λf.λs.λb.b f s) ((λp.p (λt.λf.f)) p) ((λm.λn.λs.λz.m s (n s z)) (λs.λz.s z) ((λp.p (λt.λf.f)) p))) ((λf.λs.λb.b f s) (λs.λz.z) (λs.λz.z)) (λt.λf.t) (λy.λt.λf.f) (λt.λf.t) ((λn.n (λy.λt.λf.f) (λt.λf.t)) ((λm.λn.n (λm.(λp.p (λt.λf.t)) (m (λp.(λf.λs.λb.b f s) ((λp.p (λt.λf.f)) p) ((λm.λn.λs.λz.m s (n s z)) (λs.λz.s z) ((λp.p (λt.λf.f)) p))) ((λf.λs.λb.b f s) (λs.λz.z) (λs.λz.z)))) m) (λs.λz.z) ((λm.λn.n (λm.(λp.p (λt.λf.t)) (m (λp.(λf.λs.λb.b f s) ((λp.p (λt.λf.f)) p) ((λm.λn.λs.λz.m s (n s z)) (λs.λz.s z) ((λp.p (λt.λf.f)) p))) ((λf.λs.λb.b f s) (λs.λz.z) (λs.λz.z)))) m) (λs.λz.s (s z)) (λs.λz.s (s (s z)))))) (λt.λf.f)\n",
      "= (λb.b ((λp.p (λt.λf.f)) ((λp.(λf.λs.λb.b f s) ((λp.p (λt.λf.f)) p) ((λm.λn.λs.λz.m s (n s z)) (λs.λz.s z) ((λp.p (λt.λf.f)) p))) ((λf.λs.λb.b f s) (λs.λz.z) (λs.λz.z)))) ((λm.λn.λs.λz.m s (n s z)) (λs.λz.s z) ((λp.p (λt.λf.f)) ((λp.(λf.λs.λb.b f s) ((λp.p (λt.λf.f)) p) ((λm.λn.λs.λz.m s (n s z)) (λs.λz.s z) ((λp.p (λt.λf.f)) p))) ((λf.λs.λb.b f s) (λs.λz.z) (λs.λz.z)))))) (λt.λf.t) (λp.(λf.λs.λb.b f s) ((λp.p (λt.λf.f)) p) ((λm.λn.λs.λz.m s (n s z)) (λs.λz.s z) ((λp.p (λt.λf.f)) p))) ((λf.λs.λb.b f s) (λs.λz.z) (λs.λz.z)) (λt.λf.t) (λp.(λf.λs.λb.b f s) ((λp.p (λt.λf.f)) p) ((λm.λn.λs.λz.m s (n s z)) (λs.λz.s z) ((λp.p (λt.λf.f)) p))) ((λf.λs.λb.b f s) (λs.λz.z) (λs.λz.z)) (λt.λf.t) (λy.λt.λf.f) (λt.λf.t) ((λn.n (λy.λt.λf.f) (λt.λf.t)) ((λm.λn.n (λm.(λp.p (λt.λf.t)) (m (λp.(λf.λs.λb.b f s) ((λp.p (λt.λf.f)) p) ((λm.λn.λs.λz.m s (n s z)) (λs.λz.s z) ((λp.p (λt.λf.f)) p))) ((λf.λs.λb.b f s) (λs.λz.z) (λs.λz.z)))) m) (λs.λz.z) ((λm.λn.n (λm.(λp.p (λt.λf.t)) (m (λp.(λf.λs.λb.b f s) ((λp.p (λt.λf.f)) p) ((λm.λn.λs.λz.m s (n s z)) (λs.λz.s z) ((λp.p (λt.λf.f)) p))) ((λf.λs.λb.b f s) (λs.λz.z) (λs.λz.z)))) m) (λs.λz.s (s z)) (λs.λz.s (s (s z)))))) (λt.λf.f)\n",
      "= (λt.λf.t) ((λp.p (λt.λf.f)) ((λp.(λf.λs.λb.b f s) ((λp.p (λt.λf.f)) p) ((λm.λn.λs.λz.m s (n s z)) (λs.λz.s z) ((λp.p (λt.λf.f)) p))) ((λf.λs.λb.b f s) (λs.λz.z) (λs.λz.z)))) ((λm.λn.λs.λz.m s (n s z)) (λs.λz.s z) ((λp.p (λt.λf.f)) ((λp.(λf.λs.λb.b f s) ((λp.p (λt.λf.f)) p) ((λm.λn.λs.λz.m s (n s z)) (λs.λz.s z) ((λp.p (λt.λf.f)) p))) ((λf.λs.λb.b f s) (λs.λz.z) (λs.λz.z))))) (λp.(λf.λs.λb.b f s) ((λp.p (λt.λf.f)) p) ((λm.λn.λs.λz.m s (n s z)) (λs.λz.s z) ((λp.p (λt.λf.f)) p))) ((λf.λs.λb.b f s) (λs.λz.z) (λs.λz.z)) (λt.λf.t) (λp.(λf.λs.λb.b f s) ((λp.p (λt.λf.f)) p) ((λm.λn.λs.λz.m s (n s z)) (λs.λz.s z) ((λp.p (λt.λf.f)) p))) ((λf.λs.λb.b f s) (λs.λz.z) (λs.λz.z)) (λt.λf.t) (λy.λt.λf.f) (λt.λf.t) ((λn.n (λy.λt.λf.f) (λt.λf.t)) ((λm.λn.n (λm.(λp.p (λt.λf.t)) (m (λp.(λf.λs.λb.b f s) ((λp.p (λt.λf.f)) p) ((λm.λn.λs.λz.m s (n s z)) (λs.λz.s z) ((λp.p (λt.λf.f)) p))) ((λf.λs.λb.b f s) (λs.λz.z) (λs.λz.z)))) m) (λs.λz.z) ((λm.λn.n (λm.(λp.p (λt.λf.t)) (m (λp.(λf.λs.λb.b f s) ((λp.p (λt.λf.f)) p) ((λm.λn.λs.λz.m s (n s z)) (λs.λz.s z) ((λp.p (λt.λf.f)) p))) ((λf.λs.λb.b f s) (λs.λz.z) (λs.λz.z)))) m) (λs.λz.s (s z)) (λs.λz.s (s (s z)))))) (λt.λf.f)\n",
      "= (λf.(λp.p (λt.λf.f)) ((λp.(λf.λs.λb.b f s) ((λp.p (λt.λf.f)) p) ((λm.λn.λs.λz.m s (n s z)) (λs.λz.s z) ((λp.p (λt.λf.f)) p))) ((λf.λs.λb.b f s) (λs.λz.z) (λs.λz.z)))) ((λm.λn.λs.λz.m s (n s z)) (λs.λz.s z) ((λp.p (λt.λf.f)) ((λp.(λf.λs.λb.b f s) ((λp.p (λt.λf.f)) p) ((λm.λn.λs.λz.m s (n s z)) (λs.λz.s z) ((λp.p (λt.λf.f)) p))) ((λf.λs.λb.b f s) (λs.λz.z) (λs.λz.z))))) (λp.(λf.λs.λb.b f s) ((λp.p (λt.λf.f)) p) ((λm.λn.λs.λz.m s (n s z)) (λs.λz.s z) ((λp.p (λt.λf.f)) p))) ((λf.λs.λb.b f s) (λs.λz.z) (λs.λz.z)) (λt.λf.t) (λp.(λf.λs.λb.b f s) ((λp.p (λt.λf.f)) p) ((λm.λn.λs.λz.m s (n s z)) (λs.λz.s z) ((λp.p (λt.λf.f)) p))) ((λf.λs.λb.b f s) (λs.λz.z) (λs.λz.z)) (λt.λf.t) (λy.λt.λf.f) (λt.λf.t) ((λn.n (λy.λt.λf.f) (λt.λf.t)) ((λm.λn.n (λm.(λp.p (λt.λf.t)) (m (λp.(λf.λs.λb.b f s) ((λp.p (λt.λf.f)) p) ((λm.λn.λs.λz.m s (n s z)) (λs.λz.s z) ((λp.p (λt.λf.f)) p))) ((λf.λs.λb.b f s) (λs.λz.z) (λs.λz.z)))) m) (λs.λz.z) ((λm.λn.n (λm.(λp.p (λt.λf.t)) (m (λp.(λf.λs.λb.b f s) ((λp.p (λt.λf.f)) p) ((λm.λn.λs.λz.m s (n s z)) (λs.λz.s z) ((λp.p (λt.λf.f)) p))) ((λf.λs.λb.b f s) (λs.λz.z) (λs.λz.z)))) m) (λs.λz.s (s z)) (λs.λz.s (s (s z)))))) (λt.λf.f)\n"
     ]
    },
    {
     "name": "stdout",
     "output_type": "stream",
     "text": [
      "= (λp.p (λt.λf.f)) ((λp.(λf.λs.λb.b f s) ((λp.p (λt.λf.f)) p) ((λm.λn.λs.λz.m s (n s z)) (λs.λz.s z) ((λp.p (λt.λf.f)) p))) ((λf.λs.λb.b f s) (λs.λz.z) (λs.λz.z))) (λp.(λf.λs.λb.b f s) ((λp.p (λt.λf.f)) p) ((λm.λn.λs.λz.m s (n s z)) (λs.λz.s z) ((λp.p (λt.λf.f)) p))) ((λf.λs.λb.b f s) (λs.λz.z) (λs.λz.z)) (λt.λf.t) (λp.(λf.λs.λb.b f s) ((λp.p (λt.λf.f)) p) ((λm.λn.λs.λz.m s (n s z)) (λs.λz.s z) ((λp.p (λt.λf.f)) p))) ((λf.λs.λb.b f s) (λs.λz.z) (λs.λz.z)) (λt.λf.t) (λy.λt.λf.f) (λt.λf.t) ((λn.n (λy.λt.λf.f) (λt.λf.t)) ((λm.λn.n (λm.(λp.p (λt.λf.t)) (m (λp.(λf.λs.λb.b f s) ((λp.p (λt.λf.f)) p) ((λm.λn.λs.λz.m s (n s z)) (λs.λz.s z) ((λp.p (λt.λf.f)) p))) ((λf.λs.λb.b f s) (λs.λz.z) (λs.λz.z)))) m) (λs.λz.z) ((λm.λn.n (λm.(λp.p (λt.λf.t)) (m (λp.(λf.λs.λb.b f s) ((λp.p (λt.λf.f)) p) ((λm.λn.λs.λz.m s (n s z)) (λs.λz.s z) ((λp.p (λt.λf.f)) p))) ((λf.λs.λb.b f s) (λs.λz.z) (λs.λz.z)))) m) (λs.λz.s (s z)) (λs.λz.s (s (s z)))))) (λt.λf.f)\n",
      "= (λp.(λf.λs.λb.b f s) ((λp.p (λt.λf.f)) p) ((λm.λn.λs.λz.m s (n s z)) (λs.λz.s z) ((λp.p (λt.λf.f)) p))) ((λf.λs.λb.b f s) (λs.λz.z) (λs.λz.z)) (λt.λf.f) (λp.(λf.λs.λb.b f s) ((λp.p (λt.λf.f)) p) ((λm.λn.λs.λz.m s (n s z)) (λs.λz.s z) ((λp.p (λt.λf.f)) p))) ((λf.λs.λb.b f s) (λs.λz.z) (λs.λz.z)) (λt.λf.t) (λp.(λf.λs.λb.b f s) ((λp.p (λt.λf.f)) p) ((λm.λn.λs.λz.m s (n s z)) (λs.λz.s z) ((λp.p (λt.λf.f)) p))) ((λf.λs.λb.b f s) (λs.λz.z) (λs.λz.z)) (λt.λf.t) (λy.λt.λf.f) (λt.λf.t) ((λn.n (λy.λt.λf.f) (λt.λf.t)) ((λm.λn.n (λm.(λp.p (λt.λf.t)) (m (λp.(λf.λs.λb.b f s) ((λp.p (λt.λf.f)) p) ((λm.λn.λs.λz.m s (n s z)) (λs.λz.s z) ((λp.p (λt.λf.f)) p))) ((λf.λs.λb.b f s) (λs.λz.z) (λs.λz.z)))) m) (λs.λz.z) ((λm.λn.n (λm.(λp.p (λt.λf.t)) (m (λp.(λf.λs.λb.b f s) ((λp.p (λt.λf.f)) p) ((λm.λn.λs.λz.m s (n s z)) (λs.λz.s z) ((λp.p (λt.λf.f)) p))) ((λf.λs.λb.b f s) (λs.λz.z) (λs.λz.z)))) m) (λs.λz.s (s z)) (λs.λz.s (s (s z)))))) (λt.λf.f)\n",
      "= (λf.λs.λb.b f s) ((λp.p (λt.λf.f)) ((λf.λs.λb.b f s) (λs.λz.z) (λs.λz.z))) ((λm.λn.λs.λz.m s (n s z)) (λs.λz.s z) ((λp.p (λt.λf.f)) ((λf.λs.λb.b f s) (λs.λz.z) (λs.λz.z)))) (λt.λf.f) (λp.(λf.λs.λb.b f s) ((λp.p (λt.λf.f)) p) ((λm.λn.λs.λz.m s (n s z)) (λs.λz.s z) ((λp.p (λt.λf.f)) p))) ((λf.λs.λb.b f s) (λs.λz.z) (λs.λz.z)) (λt.λf.t) (λp.(λf.λs.λb.b f s) ((λp.p (λt.λf.f)) p) ((λm.λn.λs.λz.m s (n s z)) (λs.λz.s z) ((λp.p (λt.λf.f)) p))) ((λf.λs.λb.b f s) (λs.λz.z) (λs.λz.z)) (λt.λf.t) (λy.λt.λf.f) (λt.λf.t) ((λn.n (λy.λt.λf.f) (λt.λf.t)) ((λm.λn.n (λm.(λp.p (λt.λf.t)) (m (λp.(λf.λs.λb.b f s) ((λp.p (λt.λf.f)) p) ((λm.λn.λs.λz.m s (n s z)) (λs.λz.s z) ((λp.p (λt.λf.f)) p))) ((λf.λs.λb.b f s) (λs.λz.z) (λs.λz.z)))) m) (λs.λz.z) ((λm.λn.n (λm.(λp.p (λt.λf.t)) (m (λp.(λf.λs.λb.b f s) ((λp.p (λt.λf.f)) p) ((λm.λn.λs.λz.m s (n s z)) (λs.λz.s z) ((λp.p (λt.λf.f)) p))) ((λf.λs.λb.b f s) (λs.λz.z) (λs.λz.z)))) m) (λs.λz.s (s z)) (λs.λz.s (s (s z)))))) (λt.λf.f)\n",
      "= (λs.λb.b ((λp.p (λt.λf.f)) ((λf.λs.λb.b f s) (λs.λz.z) (λs.λz.z))) s) ((λm.λn.λs.λz.m s (n s z)) (λs.λz.s z) ((λp.p (λt.λf.f)) ((λf.λs.λb.b f s) (λs.λz.z) (λs.λz.z)))) (λt.λf.f) (λp.(λf.λs.λb.b f s) ((λp.p (λt.λf.f)) p) ((λm.λn.λs.λz.m s (n s z)) (λs.λz.s z) ((λp.p (λt.λf.f)) p))) ((λf.λs.λb.b f s) (λs.λz.z) (λs.λz.z)) (λt.λf.t) (λp.(λf.λs.λb.b f s) ((λp.p (λt.λf.f)) p) ((λm.λn.λs.λz.m s (n s z)) (λs.λz.s z) ((λp.p (λt.λf.f)) p))) ((λf.λs.λb.b f s) (λs.λz.z) (λs.λz.z)) (λt.λf.t) (λy.λt.λf.f) (λt.λf.t) ((λn.n (λy.λt.λf.f) (λt.λf.t)) ((λm.λn.n (λm.(λp.p (λt.λf.t)) (m (λp.(λf.λs.λb.b f s) ((λp.p (λt.λf.f)) p) ((λm.λn.λs.λz.m s (n s z)) (λs.λz.s z) ((λp.p (λt.λf.f)) p))) ((λf.λs.λb.b f s) (λs.λz.z) (λs.λz.z)))) m) (λs.λz.z) ((λm.λn.n (λm.(λp.p (λt.λf.t)) (m (λp.(λf.λs.λb.b f s) ((λp.p (λt.λf.f)) p) ((λm.λn.λs.λz.m s (n s z)) (λs.λz.s z) ((λp.p (λt.λf.f)) p))) ((λf.λs.λb.b f s) (λs.λz.z) (λs.λz.z)))) m) (λs.λz.s (s z)) (λs.λz.s (s (s z)))))) (λt.λf.f)\n",
      "= (λb.b ((λp.p (λt.λf.f)) ((λf.λs.λb.b f s) (λs.λz.z) (λs.λz.z))) ((λm.λn.λs.λz.m s (n s z)) (λs.λz.s z) ((λp.p (λt.λf.f)) ((λf.λs.λb.b f s) (λs.λz.z) (λs.λz.z))))) (λt.λf.f) (λp.(λf.λs.λb.b f s) ((λp.p (λt.λf.f)) p) ((λm.λn.λs.λz.m s (n s z)) (λs.λz.s z) ((λp.p (λt.λf.f)) p))) ((λf.λs.λb.b f s) (λs.λz.z) (λs.λz.z)) (λt.λf.t) (λp.(λf.λs.λb.b f s) ((λp.p (λt.λf.f)) p) ((λm.λn.λs.λz.m s (n s z)) (λs.λz.s z) ((λp.p (λt.λf.f)) p))) ((λf.λs.λb.b f s) (λs.λz.z) (λs.λz.z)) (λt.λf.t) (λy.λt.λf.f) (λt.λf.t) ((λn.n (λy.λt.λf.f) (λt.λf.t)) ((λm.λn.n (λm.(λp.p (λt.λf.t)) (m (λp.(λf.λs.λb.b f s) ((λp.p (λt.λf.f)) p) ((λm.λn.λs.λz.m s (n s z)) (λs.λz.s z) ((λp.p (λt.λf.f)) p))) ((λf.λs.λb.b f s) (λs.λz.z) (λs.λz.z)))) m) (λs.λz.z) ((λm.λn.n (λm.(λp.p (λt.λf.t)) (m (λp.(λf.λs.λb.b f s) ((λp.p (λt.λf.f)) p) ((λm.λn.λs.λz.m s (n s z)) (λs.λz.s z) ((λp.p (λt.λf.f)) p))) ((λf.λs.λb.b f s) (λs.λz.z) (λs.λz.z)))) m) (λs.λz.s (s z)) (λs.λz.s (s (s z)))))) (λt.λf.f)\n",
      "= (λt.λf.f) ((λp.p (λt.λf.f)) ((λf.λs.λb.b f s) (λs.λz.z) (λs.λz.z))) ((λm.λn.λs.λz.m s (n s z)) (λs.λz.s z) ((λp.p (λt.λf.f)) ((λf.λs.λb.b f s) (λs.λz.z) (λs.λz.z)))) (λp.(λf.λs.λb.b f s) ((λp.p (λt.λf.f)) p) ((λm.λn.λs.λz.m s (n s z)) (λs.λz.s z) ((λp.p (λt.λf.f)) p))) ((λf.λs.λb.b f s) (λs.λz.z) (λs.λz.z)) (λt.λf.t) (λp.(λf.λs.λb.b f s) ((λp.p (λt.λf.f)) p) ((λm.λn.λs.λz.m s (n s z)) (λs.λz.s z) ((λp.p (λt.λf.f)) p))) ((λf.λs.λb.b f s) (λs.λz.z) (λs.λz.z)) (λt.λf.t) (λy.λt.λf.f) (λt.λf.t) ((λn.n (λy.λt.λf.f) (λt.λf.t)) ((λm.λn.n (λm.(λp.p (λt.λf.t)) (m (λp.(λf.λs.λb.b f s) ((λp.p (λt.λf.f)) p) ((λm.λn.λs.λz.m s (n s z)) (λs.λz.s z) ((λp.p (λt.λf.f)) p))) ((λf.λs.λb.b f s) (λs.λz.z) (λs.λz.z)))) m) (λs.λz.z) ((λm.λn.n (λm.(λp.p (λt.λf.t)) (m (λp.(λf.λs.λb.b f s) ((λp.p (λt.λf.f)) p) ((λm.λn.λs.λz.m s (n s z)) (λs.λz.s z) ((λp.p (λt.λf.f)) p))) ((λf.λs.λb.b f s) (λs.λz.z) (λs.λz.z)))) m) (λs.λz.s (s z)) (λs.λz.s (s (s z)))))) (λt.λf.f)\n",
      "= (λf.f) ((λm.λn.λs.λz.m s (n s z)) (λs.λz.s z) ((λp.p (λt.λf.f)) ((λf.λs.λb.b f s) (λs.λz.z) (λs.λz.z)))) (λp.(λf.λs.λb.b f s) ((λp.p (λt.λf.f)) p) ((λm.λn.λs.λz.m s (n s z)) (λs.λz.s z) ((λp.p (λt.λf.f)) p))) ((λf.λs.λb.b f s) (λs.λz.z) (λs.λz.z)) (λt.λf.t) (λp.(λf.λs.λb.b f s) ((λp.p (λt.λf.f)) p) ((λm.λn.λs.λz.m s (n s z)) (λs.λz.s z) ((λp.p (λt.λf.f)) p))) ((λf.λs.λb.b f s) (λs.λz.z) (λs.λz.z)) (λt.λf.t) (λy.λt.λf.f) (λt.λf.t) ((λn.n (λy.λt.λf.f) (λt.λf.t)) ((λm.λn.n (λm.(λp.p (λt.λf.t)) (m (λp.(λf.λs.λb.b f s) ((λp.p (λt.λf.f)) p) ((λm.λn.λs.λz.m s (n s z)) (λs.λz.s z) ((λp.p (λt.λf.f)) p))) ((λf.λs.λb.b f s) (λs.λz.z) (λs.λz.z)))) m) (λs.λz.z) ((λm.λn.n (λm.(λp.p (λt.λf.t)) (m (λp.(λf.λs.λb.b f s) ((λp.p (λt.λf.f)) p) ((λm.λn.λs.λz.m s (n s z)) (λs.λz.s z) ((λp.p (λt.λf.f)) p))) ((λf.λs.λb.b f s) (λs.λz.z) (λs.λz.z)))) m) (λs.λz.s (s z)) (λs.λz.s (s (s z)))))) (λt.λf.f)\n",
      "= (λm.λn.λs.λz.m s (n s z)) (λs.λz.s z) ((λp.p (λt.λf.f)) ((λf.λs.λb.b f s) (λs.λz.z) (λs.λz.z))) (λp.(λf.λs.λb.b f s) ((λp.p (λt.λf.f)) p) ((λm.λn.λs.λz.m s (n s z)) (λs.λz.s z) ((λp.p (λt.λf.f)) p))) ((λf.λs.λb.b f s) (λs.λz.z) (λs.λz.z)) (λt.λf.t) (λp.(λf.λs.λb.b f s) ((λp.p (λt.λf.f)) p) ((λm.λn.λs.λz.m s (n s z)) (λs.λz.s z) ((λp.p (λt.λf.f)) p))) ((λf.λs.λb.b f s) (λs.λz.z) (λs.λz.z)) (λt.λf.t) (λy.λt.λf.f) (λt.λf.t) ((λn.n (λy.λt.λf.f) (λt.λf.t)) ((λm.λn.n (λm.(λp.p (λt.λf.t)) (m (λp.(λf.λs.λb.b f s) ((λp.p (λt.λf.f)) p) ((λm.λn.λs.λz.m s (n s z)) (λs.λz.s z) ((λp.p (λt.λf.f)) p))) ((λf.λs.λb.b f s) (λs.λz.z) (λs.λz.z)))) m) (λs.λz.z) ((λm.λn.n (λm.(λp.p (λt.λf.t)) (m (λp.(λf.λs.λb.b f s) ((λp.p (λt.λf.f)) p) ((λm.λn.λs.λz.m s (n s z)) (λs.λz.s z) ((λp.p (λt.λf.f)) p))) ((λf.λs.λb.b f s) (λs.λz.z) (λs.λz.z)))) m) (λs.λz.s (s z)) (λs.λz.s (s (s z)))))) (λt.λf.f)\n",
      "= (λn.λs.λz.(λs.λz.s z) s (n s z)) ((λp.p (λt.λf.f)) ((λf.λs.λb.b f s) (λs.λz.z) (λs.λz.z))) (λp.(λf.λs.λb.b f s) ((λp.p (λt.λf.f)) p) ((λm.λn.λs.λz.m s (n s z)) (λs.λz.s z) ((λp.p (λt.λf.f)) p))) ((λf.λs.λb.b f s) (λs.λz.z) (λs.λz.z)) (λt.λf.t) (λp.(λf.λs.λb.b f s) ((λp.p (λt.λf.f)) p) ((λm.λn.λs.λz.m s (n s z)) (λs.λz.s z) ((λp.p (λt.λf.f)) p))) ((λf.λs.λb.b f s) (λs.λz.z) (λs.λz.z)) (λt.λf.t) (λy.λt.λf.f) (λt.λf.t) ((λn.n (λy.λt.λf.f) (λt.λf.t)) ((λm.λn.n (λm.(λp.p (λt.λf.t)) (m (λp.(λf.λs.λb.b f s) ((λp.p (λt.λf.f)) p) ((λm.λn.λs.λz.m s (n s z)) (λs.λz.s z) ((λp.p (λt.λf.f)) p))) ((λf.λs.λb.b f s) (λs.λz.z) (λs.λz.z)))) m) (λs.λz.z) ((λm.λn.n (λm.(λp.p (λt.λf.t)) (m (λp.(λf.λs.λb.b f s) ((λp.p (λt.λf.f)) p) ((λm.λn.λs.λz.m s (n s z)) (λs.λz.s z) ((λp.p (λt.λf.f)) p))) ((λf.λs.λb.b f s) (λs.λz.z) (λs.λz.z)))) m) (λs.λz.s (s z)) (λs.λz.s (s (s z)))))) (λt.λf.f)\n"
     ]
    },
    {
     "name": "stdout",
     "output_type": "stream",
     "text": [
      "= (λs.λz.(λs.λz.s z) s ((λp.p (λt.λf.f)) ((λf.λs.λb.b f s) (λs.λz.z) (λs.λz.z)) s z)) (λp.(λf.λs.λb.b f s) ((λp.p (λt.λf.f)) p) ((λm.λn.λs.λz.m s (n s z)) (λs.λz.s z) ((λp.p (λt.λf.f)) p))) ((λf.λs.λb.b f s) (λs.λz.z) (λs.λz.z)) (λt.λf.t) (λp.(λf.λs.λb.b f s) ((λp.p (λt.λf.f)) p) ((λm.λn.λs.λz.m s (n s z)) (λs.λz.s z) ((λp.p (λt.λf.f)) p))) ((λf.λs.λb.b f s) (λs.λz.z) (λs.λz.z)) (λt.λf.t) (λy.λt.λf.f) (λt.λf.t) ((λn.n (λy.λt.λf.f) (λt.λf.t)) ((λm.λn.n (λm.(λp.p (λt.λf.t)) (m (λp.(λf.λs.λb.b f s) ((λp.p (λt.λf.f)) p) ((λm.λn.λs.λz.m s (n s z)) (λs.λz.s z) ((λp.p (λt.λf.f)) p))) ((λf.λs.λb.b f s) (λs.λz.z) (λs.λz.z)))) m) (λs.λz.z) ((λm.λn.n (λm.(λp.p (λt.λf.t)) (m (λp.(λf.λs.λb.b f s) ((λp.p (λt.λf.f)) p) ((λm.λn.λs.λz.m s (n s z)) (λs.λz.s z) ((λp.p (λt.λf.f)) p))) ((λf.λs.λb.b f s) (λs.λz.z) (λs.λz.z)))) m) (λs.λz.s (s z)) (λs.λz.s (s (s z)))))) (λt.λf.f)\n",
      "= (λz.(λs.λz.s z) (λp.(λf.λs.λb.b f s) ((λp.p (λt.λf.f)) p) ((λm.λn.λs.λz.m s (n s z)) (λs.λz.s z) ((λp.p (λt.λf.f)) p))) ((λp.p (λt.λf.f)) ((λf.λs.λb.b f s) (λs.λz.z) (λs.λz.z)) (λp.(λf.λs.λb.b f s) ((λp.p (λt.λf.f)) p) ((λm.λn.λs.λz.m s (n s z)) (λs.λz.s z) ((λp.p (λt.λf.f)) p))) z)) ((λf.λs.λb.b f s) (λs.λz.z) (λs.λz.z)) (λt.λf.t) (λp.(λf.λs.λb.b f s) ((λp.p (λt.λf.f)) p) ((λm.λn.λs.λz.m s (n s z)) (λs.λz.s z) ((λp.p (λt.λf.f)) p))) ((λf.λs.λb.b f s) (λs.λz.z) (λs.λz.z)) (λt.λf.t) (λy.λt.λf.f) (λt.λf.t) ((λn.n (λy.λt.λf.f) (λt.λf.t)) ((λm.λn.n (λm.(λp.p (λt.λf.t)) (m (λp.(λf.λs.λb.b f s) ((λp.p (λt.λf.f)) p) ((λm.λn.λs.λz.m s (n s z)) (λs.λz.s z) ((λp.p (λt.λf.f)) p))) ((λf.λs.λb.b f s) (λs.λz.z) (λs.λz.z)))) m) (λs.λz.z) ((λm.λn.n (λm.(λp.p (λt.λf.t)) (m (λp.(λf.λs.λb.b f s) ((λp.p (λt.λf.f)) p) ((λm.λn.λs.λz.m s (n s z)) (λs.λz.s z) ((λp.p (λt.λf.f)) p))) ((λf.λs.λb.b f s) (λs.λz.z) (λs.λz.z)))) m) (λs.λz.s (s z)) (λs.λz.s (s (s z)))))) (λt.λf.f)\n",
      "= (λs.λz.s z) (λp.(λf.λs.λb.b f s) ((λp.p (λt.λf.f)) p) ((λm.λn.λs.λz.m s (n s z)) (λs.λz.s z) ((λp.p (λt.λf.f)) p))) ((λp.p (λt.λf.f)) ((λf.λs.λb.b f s) (λs.λz.z) (λs.λz.z)) (λp.(λf.λs.λb.b f s) ((λp.p (λt.λf.f)) p) ((λm.λn.λs.λz.m s (n s z)) (λs.λz.s z) ((λp.p (λt.λf.f)) p))) ((λf.λs.λb.b f s) (λs.λz.z) (λs.λz.z))) (λt.λf.t) (λp.(λf.λs.λb.b f s) ((λp.p (λt.λf.f)) p) ((λm.λn.λs.λz.m s (n s z)) (λs.λz.s z) ((λp.p (λt.λf.f)) p))) ((λf.λs.λb.b f s) (λs.λz.z) (λs.λz.z)) (λt.λf.t) (λy.λt.λf.f) (λt.λf.t) ((λn.n (λy.λt.λf.f) (λt.λf.t)) ((λm.λn.n (λm.(λp.p (λt.λf.t)) (m (λp.(λf.λs.λb.b f s) ((λp.p (λt.λf.f)) p) ((λm.λn.λs.λz.m s (n s z)) (λs.λz.s z) ((λp.p (λt.λf.f)) p))) ((λf.λs.λb.b f s) (λs.λz.z) (λs.λz.z)))) m) (λs.λz.z) ((λm.λn.n (λm.(λp.p (λt.λf.t)) (m (λp.(λf.λs.λb.b f s) ((λp.p (λt.λf.f)) p) ((λm.λn.λs.λz.m s (n s z)) (λs.λz.s z) ((λp.p (λt.λf.f)) p))) ((λf.λs.λb.b f s) (λs.λz.z) (λs.λz.z)))) m) (λs.λz.s (s z)) (λs.λz.s (s (s z)))))) (λt.λf.f)\n",
      "= (λz.(λp.(λf.λs.λb.b f s) ((λp.p (λt.λf.f)) p) ((λm.λn.λs.λz.m s (n s z)) (λs.λz.s z) ((λp.p (λt.λf.f)) p))) z) ((λp.p (λt.λf.f)) ((λf.λs.λb.b f s) (λs.λz.z) (λs.λz.z)) (λp.(λf.λs.λb.b f s) ((λp.p (λt.λf.f)) p) ((λm.λn.λs.λz.m s (n s z)) (λs.λz.s z) ((λp.p (λt.λf.f)) p))) ((λf.λs.λb.b f s) (λs.λz.z) (λs.λz.z))) (λt.λf.t) (λp.(λf.λs.λb.b f s) ((λp.p (λt.λf.f)) p) ((λm.λn.λs.λz.m s (n s z)) (λs.λz.s z) ((λp.p (λt.λf.f)) p))) ((λf.λs.λb.b f s) (λs.λz.z) (λs.λz.z)) (λt.λf.t) (λy.λt.λf.f) (λt.λf.t) ((λn.n (λy.λt.λf.f) (λt.λf.t)) ((λm.λn.n (λm.(λp.p (λt.λf.t)) (m (λp.(λf.λs.λb.b f s) ((λp.p (λt.λf.f)) p) ((λm.λn.λs.λz.m s (n s z)) (λs.λz.s z) ((λp.p (λt.λf.f)) p))) ((λf.λs.λb.b f s) (λs.λz.z) (λs.λz.z)))) m) (λs.λz.z) ((λm.λn.n (λm.(λp.p (λt.λf.t)) (m (λp.(λf.λs.λb.b f s) ((λp.p (λt.λf.f)) p) ((λm.λn.λs.λz.m s (n s z)) (λs.λz.s z) ((λp.p (λt.λf.f)) p))) ((λf.λs.λb.b f s) (λs.λz.z) (λs.λz.z)))) m) (λs.λz.s (s z)) (λs.λz.s (s (s z)))))) (λt.λf.f)\n",
      "= (λp.(λf.λs.λb.b f s) ((λp.p (λt.λf.f)) p) ((λm.λn.λs.λz.m s (n s z)) (λs.λz.s z) ((λp.p (λt.λf.f)) p))) ((λp.p (λt.λf.f)) ((λf.λs.λb.b f s) (λs.λz.z) (λs.λz.z)) (λp.(λf.λs.λb.b f s) ((λp.p (λt.λf.f)) p) ((λm.λn.λs.λz.m s (n s z)) (λs.λz.s z) ((λp.p (λt.λf.f)) p))) ((λf.λs.λb.b f s) (λs.λz.z) (λs.λz.z))) (λt.λf.t) (λp.(λf.λs.λb.b f s) ((λp.p (λt.λf.f)) p) ((λm.λn.λs.λz.m s (n s z)) (λs.λz.s z) ((λp.p (λt.λf.f)) p))) ((λf.λs.λb.b f s) (λs.λz.z) (λs.λz.z)) (λt.λf.t) (λy.λt.λf.f) (λt.λf.t) ((λn.n (λy.λt.λf.f) (λt.λf.t)) ((λm.λn.n (λm.(λp.p (λt.λf.t)) (m (λp.(λf.λs.λb.b f s) ((λp.p (λt.λf.f)) p) ((λm.λn.λs.λz.m s (n s z)) (λs.λz.s z) ((λp.p (λt.λf.f)) p))) ((λf.λs.λb.b f s) (λs.λz.z) (λs.λz.z)))) m) (λs.λz.z) ((λm.λn.n (λm.(λp.p (λt.λf.t)) (m (λp.(λf.λs.λb.b f s) ((λp.p (λt.λf.f)) p) ((λm.λn.λs.λz.m s (n s z)) (λs.λz.s z) ((λp.p (λt.λf.f)) p))) ((λf.λs.λb.b f s) (λs.λz.z) (λs.λz.z)))) m) (λs.λz.s (s z)) (λs.λz.s (s (s z)))))) (λt.λf.f)\n",
      "= (λf.λs.λb.b f s) ((λp.p (λt.λf.f)) ((λp.p (λt.λf.f)) ((λf.λs.λb.b f s) (λs.λz.z) (λs.λz.z)) (λp.(λf.λs.λb.b f s) ((λp.p (λt.λf.f)) p) ((λm.λn.λs.λz.m s (n s z)) (λs.λz.s z) ((λp.p (λt.λf.f)) p))) ((λf.λs.λb.b f s) (λs.λz.z) (λs.λz.z)))) ((λm.λn.λs.λz.m s (n s z)) (λs.λz.s z) ((λp.p (λt.λf.f)) ((λp.p (λt.λf.f)) ((λf.λs.λb.b f s) (λs.λz.z) (λs.λz.z)) (λp.(λf.λs.λb.b f s) ((λp.p (λt.λf.f)) p) ((λm.λn.λs.λz.m s (n s z)) (λs.λz.s z) ((λp.p (λt.λf.f)) p))) ((λf.λs.λb.b f s) (λs.λz.z) (λs.λz.z))))) (λt.λf.t) (λp.(λf.λs.λb.b f s) ((λp.p (λt.λf.f)) p) ((λm.λn.λs.λz.m s (n s z)) (λs.λz.s z) ((λp.p (λt.λf.f)) p))) ((λf.λs.λb.b f s) (λs.λz.z) (λs.λz.z)) (λt.λf.t) (λy.λt.λf.f) (λt.λf.t) ((λn.n (λy.λt.λf.f) (λt.λf.t)) ((λm.λn.n (λm.(λp.p (λt.λf.t)) (m (λp.(λf.λs.λb.b f s) ((λp.p (λt.λf.f)) p) ((λm.λn.λs.λz.m s (n s z)) (λs.λz.s z) ((λp.p (λt.λf.f)) p))) ((λf.λs.λb.b f s) (λs.λz.z) (λs.λz.z)))) m) (λs.λz.z) ((λm.λn.n (λm.(λp.p (λt.λf.t)) (m (λp.(λf.λs.λb.b f s) ((λp.p (λt.λf.f)) p) ((λm.λn.λs.λz.m s (n s z)) (λs.λz.s z) ((λp.p (λt.λf.f)) p))) ((λf.λs.λb.b f s) (λs.λz.z) (λs.λz.z)))) m) (λs.λz.s (s z)) (λs.λz.s (s (s z)))))) (λt.λf.f)\n",
      "= (λs.λb.b ((λp.p (λt.λf.f)) ((λp.p (λt.λf.f)) ((λf.λs.λb.b f s) (λs.λz.z) (λs.λz.z)) (λp.(λf.λs.λb.b f s) ((λp.p (λt.λf.f)) p) ((λm.λn.λs.λz.m s (n s z)) (λs.λz.s z) ((λp.p (λt.λf.f)) p))) ((λf.λs.λb.b f s) (λs.λz.z) (λs.λz.z)))) s) ((λm.λn.λs.λz.m s (n s z)) (λs.λz.s z) ((λp.p (λt.λf.f)) ((λp.p (λt.λf.f)) ((λf.λs.λb.b f s) (λs.λz.z) (λs.λz.z)) (λp.(λf.λs.λb.b f s) ((λp.p (λt.λf.f)) p) ((λm.λn.λs.λz.m s (n s z)) (λs.λz.s z) ((λp.p (λt.λf.f)) p))) ((λf.λs.λb.b f s) (λs.λz.z) (λs.λz.z))))) (λt.λf.t) (λp.(λf.λs.λb.b f s) ((λp.p (λt.λf.f)) p) ((λm.λn.λs.λz.m s (n s z)) (λs.λz.s z) ((λp.p (λt.λf.f)) p))) ((λf.λs.λb.b f s) (λs.λz.z) (λs.λz.z)) (λt.λf.t) (λy.λt.λf.f) (λt.λf.t) ((λn.n (λy.λt.λf.f) (λt.λf.t)) ((λm.λn.n (λm.(λp.p (λt.λf.t)) (m (λp.(λf.λs.λb.b f s) ((λp.p (λt.λf.f)) p) ((λm.λn.λs.λz.m s (n s z)) (λs.λz.s z) ((λp.p (λt.λf.f)) p))) ((λf.λs.λb.b f s) (λs.λz.z) (λs.λz.z)))) m) (λs.λz.z) ((λm.λn.n (λm.(λp.p (λt.λf.t)) (m (λp.(λf.λs.λb.b f s) ((λp.p (λt.λf.f)) p) ((λm.λn.λs.λz.m s (n s z)) (λs.λz.s z) ((λp.p (λt.λf.f)) p))) ((λf.λs.λb.b f s) (λs.λz.z) (λs.λz.z)))) m) (λs.λz.s (s z)) (λs.λz.s (s (s z)))))) (λt.λf.f)\n",
      "= (λb.b ((λp.p (λt.λf.f)) ((λp.p (λt.λf.f)) ((λf.λs.λb.b f s) (λs.λz.z) (λs.λz.z)) (λp.(λf.λs.λb.b f s) ((λp.p (λt.λf.f)) p) ((λm.λn.λs.λz.m s (n s z)) (λs.λz.s z) ((λp.p (λt.λf.f)) p))) ((λf.λs.λb.b f s) (λs.λz.z) (λs.λz.z)))) ((λm.λn.λs.λz.m s (n s z)) (λs.λz.s z) ((λp.p (λt.λf.f)) ((λp.p (λt.λf.f)) ((λf.λs.λb.b f s) (λs.λz.z) (λs.λz.z)) (λp.(λf.λs.λb.b f s) ((λp.p (λt.λf.f)) p) ((λm.λn.λs.λz.m s (n s z)) (λs.λz.s z) ((λp.p (λt.λf.f)) p))) ((λf.λs.λb.b f s) (λs.λz.z) (λs.λz.z)))))) (λt.λf.t) (λp.(λf.λs.λb.b f s) ((λp.p (λt.λf.f)) p) ((λm.λn.λs.λz.m s (n s z)) (λs.λz.s z) ((λp.p (λt.λf.f)) p))) ((λf.λs.λb.b f s) (λs.λz.z) (λs.λz.z)) (λt.λf.t) (λy.λt.λf.f) (λt.λf.t) ((λn.n (λy.λt.λf.f) (λt.λf.t)) ((λm.λn.n (λm.(λp.p (λt.λf.t)) (m (λp.(λf.λs.λb.b f s) ((λp.p (λt.λf.f)) p) ((λm.λn.λs.λz.m s (n s z)) (λs.λz.s z) ((λp.p (λt.λf.f)) p))) ((λf.λs.λb.b f s) (λs.λz.z) (λs.λz.z)))) m) (λs.λz.z) ((λm.λn.n (λm.(λp.p (λt.λf.t)) (m (λp.(λf.λs.λb.b f s) ((λp.p (λt.λf.f)) p) ((λm.λn.λs.λz.m s (n s z)) (λs.λz.s z) ((λp.p (λt.λf.f)) p))) ((λf.λs.λb.b f s) (λs.λz.z) (λs.λz.z)))) m) (λs.λz.s (s z)) (λs.λz.s (s (s z)))))) (λt.λf.f)\n",
      "= (λt.λf.t) ((λp.p (λt.λf.f)) ((λp.p (λt.λf.f)) ((λf.λs.λb.b f s) (λs.λz.z) (λs.λz.z)) (λp.(λf.λs.λb.b f s) ((λp.p (λt.λf.f)) p) ((λm.λn.λs.λz.m s (n s z)) (λs.λz.s z) ((λp.p (λt.λf.f)) p))) ((λf.λs.λb.b f s) (λs.λz.z) (λs.λz.z)))) ((λm.λn.λs.λz.m s (n s z)) (λs.λz.s z) ((λp.p (λt.λf.f)) ((λp.p (λt.λf.f)) ((λf.λs.λb.b f s) (λs.λz.z) (λs.λz.z)) (λp.(λf.λs.λb.b f s) ((λp.p (λt.λf.f)) p) ((λm.λn.λs.λz.m s (n s z)) (λs.λz.s z) ((λp.p (λt.λf.f)) p))) ((λf.λs.λb.b f s) (λs.λz.z) (λs.λz.z))))) (λp.(λf.λs.λb.b f s) ((λp.p (λt.λf.f)) p) ((λm.λn.λs.λz.m s (n s z)) (λs.λz.s z) ((λp.p (λt.λf.f)) p))) ((λf.λs.λb.b f s) (λs.λz.z) (λs.λz.z)) (λt.λf.t) (λy.λt.λf.f) (λt.λf.t) ((λn.n (λy.λt.λf.f) (λt.λf.t)) ((λm.λn.n (λm.(λp.p (λt.λf.t)) (m (λp.(λf.λs.λb.b f s) ((λp.p (λt.λf.f)) p) ((λm.λn.λs.λz.m s (n s z)) (λs.λz.s z) ((λp.p (λt.λf.f)) p))) ((λf.λs.λb.b f s) (λs.λz.z) (λs.λz.z)))) m) (λs.λz.z) ((λm.λn.n (λm.(λp.p (λt.λf.t)) (m (λp.(λf.λs.λb.b f s) ((λp.p (λt.λf.f)) p) ((λm.λn.λs.λz.m s (n s z)) (λs.λz.s z) ((λp.p (λt.λf.f)) p))) ((λf.λs.λb.b f s) (λs.λz.z) (λs.λz.z)))) m) (λs.λz.s (s z)) (λs.λz.s (s (s z)))))) (λt.λf.f)\n"
     ]
    },
    {
     "name": "stdout",
     "output_type": "stream",
     "text": [
      "= (λf.(λp.p (λt.λf.f)) ((λp.p (λt.λf.f)) ((λf.λs.λb.b f s) (λs.λz.z) (λs.λz.z)) (λp.(λf.λs.λb.b f s) ((λp.p (λt.λf.f)) p) ((λm.λn.λs.λz.m s (n s z)) (λs.λz.s z) ((λp.p (λt.λf.f)) p))) ((λf.λs.λb.b f s) (λs.λz.z) (λs.λz.z)))) ((λm.λn.λs.λz.m s (n s z)) (λs.λz.s z) ((λp.p (λt.λf.f)) ((λp.p (λt.λf.f)) ((λf.λs.λb.b f s) (λs.λz.z) (λs.λz.z)) (λp.(λf.λs.λb.b f s) ((λp.p (λt.λf.f)) p) ((λm.λn.λs.λz.m s (n s z)) (λs.λz.s z) ((λp.p (λt.λf.f)) p))) ((λf.λs.λb.b f s) (λs.λz.z) (λs.λz.z))))) (λp.(λf.λs.λb.b f s) ((λp.p (λt.λf.f)) p) ((λm.λn.λs.λz.m s (n s z)) (λs.λz.s z) ((λp.p (λt.λf.f)) p))) ((λf.λs.λb.b f s) (λs.λz.z) (λs.λz.z)) (λt.λf.t) (λy.λt.λf.f) (λt.λf.t) ((λn.n (λy.λt.λf.f) (λt.λf.t)) ((λm.λn.n (λm.(λp.p (λt.λf.t)) (m (λp.(λf.λs.λb.b f s) ((λp.p (λt.λf.f)) p) ((λm.λn.λs.λz.m s (n s z)) (λs.λz.s z) ((λp.p (λt.λf.f)) p))) ((λf.λs.λb.b f s) (λs.λz.z) (λs.λz.z)))) m) (λs.λz.z) ((λm.λn.n (λm.(λp.p (λt.λf.t)) (m (λp.(λf.λs.λb.b f s) ((λp.p (λt.λf.f)) p) ((λm.λn.λs.λz.m s (n s z)) (λs.λz.s z) ((λp.p (λt.λf.f)) p))) ((λf.λs.λb.b f s) (λs.λz.z) (λs.λz.z)))) m) (λs.λz.s (s z)) (λs.λz.s (s (s z)))))) (λt.λf.f)\n",
      "= (λp.p (λt.λf.f)) ((λp.p (λt.λf.f)) ((λf.λs.λb.b f s) (λs.λz.z) (λs.λz.z)) (λp.(λf.λs.λb.b f s) ((λp.p (λt.λf.f)) p) ((λm.λn.λs.λz.m s (n s z)) (λs.λz.s z) ((λp.p (λt.λf.f)) p))) ((λf.λs.λb.b f s) (λs.λz.z) (λs.λz.z))) (λp.(λf.λs.λb.b f s) ((λp.p (λt.λf.f)) p) ((λm.λn.λs.λz.m s (n s z)) (λs.λz.s z) ((λp.p (λt.λf.f)) p))) ((λf.λs.λb.b f s) (λs.λz.z) (λs.λz.z)) (λt.λf.t) (λy.λt.λf.f) (λt.λf.t) ((λn.n (λy.λt.λf.f) (λt.λf.t)) ((λm.λn.n (λm.(λp.p (λt.λf.t)) (m (λp.(λf.λs.λb.b f s) ((λp.p (λt.λf.f)) p) ((λm.λn.λs.λz.m s (n s z)) (λs.λz.s z) ((λp.p (λt.λf.f)) p))) ((λf.λs.λb.b f s) (λs.λz.z) (λs.λz.z)))) m) (λs.λz.z) ((λm.λn.n (λm.(λp.p (λt.λf.t)) (m (λp.(λf.λs.λb.b f s) ((λp.p (λt.λf.f)) p) ((λm.λn.λs.λz.m s (n s z)) (λs.λz.s z) ((λp.p (λt.λf.f)) p))) ((λf.λs.λb.b f s) (λs.λz.z) (λs.λz.z)))) m) (λs.λz.s (s z)) (λs.λz.s (s (s z)))))) (λt.λf.f)\n",
      "= (λp.p (λt.λf.f)) ((λf.λs.λb.b f s) (λs.λz.z) (λs.λz.z)) (λp.(λf.λs.λb.b f s) ((λp.p (λt.λf.f)) p) ((λm.λn.λs.λz.m s (n s z)) (λs.λz.s z) ((λp.p (λt.λf.f)) p))) ((λf.λs.λb.b f s) (λs.λz.z) (λs.λz.z)) (λt.λf.f) (λp.(λf.λs.λb.b f s) ((λp.p (λt.λf.f)) p) ((λm.λn.λs.λz.m s (n s z)) (λs.λz.s z) ((λp.p (λt.λf.f)) p))) ((λf.λs.λb.b f s) (λs.λz.z) (λs.λz.z)) (λt.λf.t) (λy.λt.λf.f) (λt.λf.t) ((λn.n (λy.λt.λf.f) (λt.λf.t)) ((λm.λn.n (λm.(λp.p (λt.λf.t)) (m (λp.(λf.λs.λb.b f s) ((λp.p (λt.λf.f)) p) ((λm.λn.λs.λz.m s (n s z)) (λs.λz.s z) ((λp.p (λt.λf.f)) p))) ((λf.λs.λb.b f s) (λs.λz.z) (λs.λz.z)))) m) (λs.λz.z) ((λm.λn.n (λm.(λp.p (λt.λf.t)) (m (λp.(λf.λs.λb.b f s) ((λp.p (λt.λf.f)) p) ((λm.λn.λs.λz.m s (n s z)) (λs.λz.s z) ((λp.p (λt.λf.f)) p))) ((λf.λs.λb.b f s) (λs.λz.z) (λs.λz.z)))) m) (λs.λz.s (s z)) (λs.λz.s (s (s z)))))) (λt.λf.f)\n",
      "= (λf.λs.λb.b f s) (λs.λz.z) (λs.λz.z) (λt.λf.f) (λp.(λf.λs.λb.b f s) ((λp.p (λt.λf.f)) p) ((λm.λn.λs.λz.m s (n s z)) (λs.λz.s z) ((λp.p (λt.λf.f)) p))) ((λf.λs.λb.b f s) (λs.λz.z) (λs.λz.z)) (λt.λf.f) (λp.(λf.λs.λb.b f s) ((λp.p (λt.λf.f)) p) ((λm.λn.λs.λz.m s (n s z)) (λs.λz.s z) ((λp.p (λt.λf.f)) p))) ((λf.λs.λb.b f s) (λs.λz.z) (λs.λz.z)) (λt.λf.t) (λy.λt.λf.f) (λt.λf.t) ((λn.n (λy.λt.λf.f) (λt.λf.t)) ((λm.λn.n (λm.(λp.p (λt.λf.t)) (m (λp.(λf.λs.λb.b f s) ((λp.p (λt.λf.f)) p) ((λm.λn.λs.λz.m s (n s z)) (λs.λz.s z) ((λp.p (λt.λf.f)) p))) ((λf.λs.λb.b f s) (λs.λz.z) (λs.λz.z)))) m) (λs.λz.z) ((λm.λn.n (λm.(λp.p (λt.λf.t)) (m (λp.(λf.λs.λb.b f s) ((λp.p (λt.λf.f)) p) ((λm.λn.λs.λz.m s (n s z)) (λs.λz.s z) ((λp.p (λt.λf.f)) p))) ((λf.λs.λb.b f s) (λs.λz.z) (λs.λz.z)))) m) (λs.λz.s (s z)) (λs.λz.s (s (s z)))))) (λt.λf.f)\n",
      "= (λs.λb.b (λs.λz.z) s) (λs.λz.z) (λt.λf.f) (λp.(λf.λs.λb.b f s) ((λp.p (λt.λf.f)) p) ((λm.λn.λs.λz.m s (n s z)) (λs.λz.s z) ((λp.p (λt.λf.f)) p))) ((λf.λs.λb.b f s) (λs.λz.z) (λs.λz.z)) (λt.λf.f) (λp.(λf.λs.λb.b f s) ((λp.p (λt.λf.f)) p) ((λm.λn.λs.λz.m s (n s z)) (λs.λz.s z) ((λp.p (λt.λf.f)) p))) ((λf.λs.λb.b f s) (λs.λz.z) (λs.λz.z)) (λt.λf.t) (λy.λt.λf.f) (λt.λf.t) ((λn.n (λy.λt.λf.f) (λt.λf.t)) ((λm.λn.n (λm.(λp.p (λt.λf.t)) (m (λp.(λf.λs.λb.b f s) ((λp.p (λt.λf.f)) p) ((λm.λn.λs.λz.m s (n s z)) (λs.λz.s z) ((λp.p (λt.λf.f)) p))) ((λf.λs.λb.b f s) (λs.λz.z) (λs.λz.z)))) m) (λs.λz.z) ((λm.λn.n (λm.(λp.p (λt.λf.t)) (m (λp.(λf.λs.λb.b f s) ((λp.p (λt.λf.f)) p) ((λm.λn.λs.λz.m s (n s z)) (λs.λz.s z) ((λp.p (λt.λf.f)) p))) ((λf.λs.λb.b f s) (λs.λz.z) (λs.λz.z)))) m) (λs.λz.s (s z)) (λs.λz.s (s (s z)))))) (λt.λf.f)\n",
      "= (λb.b (λs.λz.z) (λs.λz.z)) (λt.λf.f) (λp.(λf.λs.λb.b f s) ((λp.p (λt.λf.f)) p) ((λm.λn.λs.λz.m s (n s z)) (λs.λz.s z) ((λp.p (λt.λf.f)) p))) ((λf.λs.λb.b f s) (λs.λz.z) (λs.λz.z)) (λt.λf.f) (λp.(λf.λs.λb.b f s) ((λp.p (λt.λf.f)) p) ((λm.λn.λs.λz.m s (n s z)) (λs.λz.s z) ((λp.p (λt.λf.f)) p))) ((λf.λs.λb.b f s) (λs.λz.z) (λs.λz.z)) (λt.λf.t) (λy.λt.λf.f) (λt.λf.t) ((λn.n (λy.λt.λf.f) (λt.λf.t)) ((λm.λn.n (λm.(λp.p (λt.λf.t)) (m (λp.(λf.λs.λb.b f s) ((λp.p (λt.λf.f)) p) ((λm.λn.λs.λz.m s (n s z)) (λs.λz.s z) ((λp.p (λt.λf.f)) p))) ((λf.λs.λb.b f s) (λs.λz.z) (λs.λz.z)))) m) (λs.λz.z) ((λm.λn.n (λm.(λp.p (λt.λf.t)) (m (λp.(λf.λs.λb.b f s) ((λp.p (λt.λf.f)) p) ((λm.λn.λs.λz.m s (n s z)) (λs.λz.s z) ((λp.p (λt.λf.f)) p))) ((λf.λs.λb.b f s) (λs.λz.z) (λs.λz.z)))) m) (λs.λz.s (s z)) (λs.λz.s (s (s z)))))) (λt.λf.f)\n",
      "= (λt.λf.f) (λs.λz.z) (λs.λz.z) (λp.(λf.λs.λb.b f s) ((λp.p (λt.λf.f)) p) ((λm.λn.λs.λz.m s (n s z)) (λs.λz.s z) ((λp.p (λt.λf.f)) p))) ((λf.λs.λb.b f s) (λs.λz.z) (λs.λz.z)) (λt.λf.f) (λp.(λf.λs.λb.b f s) ((λp.p (λt.λf.f)) p) ((λm.λn.λs.λz.m s (n s z)) (λs.λz.s z) ((λp.p (λt.λf.f)) p))) ((λf.λs.λb.b f s) (λs.λz.z) (λs.λz.z)) (λt.λf.t) (λy.λt.λf.f) (λt.λf.t) ((λn.n (λy.λt.λf.f) (λt.λf.t)) ((λm.λn.n (λm.(λp.p (λt.λf.t)) (m (λp.(λf.λs.λb.b f s) ((λp.p (λt.λf.f)) p) ((λm.λn.λs.λz.m s (n s z)) (λs.λz.s z) ((λp.p (λt.λf.f)) p))) ((λf.λs.λb.b f s) (λs.λz.z) (λs.λz.z)))) m) (λs.λz.z) ((λm.λn.n (λm.(λp.p (λt.λf.t)) (m (λp.(λf.λs.λb.b f s) ((λp.p (λt.λf.f)) p) ((λm.λn.λs.λz.m s (n s z)) (λs.λz.s z) ((λp.p (λt.λf.f)) p))) ((λf.λs.λb.b f s) (λs.λz.z) (λs.λz.z)))) m) (λs.λz.s (s z)) (λs.λz.s (s (s z)))))) (λt.λf.f)\n",
      "= (λf.f) (λs.λz.z) (λp.(λf.λs.λb.b f s) ((λp.p (λt.λf.f)) p) ((λm.λn.λs.λz.m s (n s z)) (λs.λz.s z) ((λp.p (λt.λf.f)) p))) ((λf.λs.λb.b f s) (λs.λz.z) (λs.λz.z)) (λt.λf.f) (λp.(λf.λs.λb.b f s) ((λp.p (λt.λf.f)) p) ((λm.λn.λs.λz.m s (n s z)) (λs.λz.s z) ((λp.p (λt.λf.f)) p))) ((λf.λs.λb.b f s) (λs.λz.z) (λs.λz.z)) (λt.λf.t) (λy.λt.λf.f) (λt.λf.t) ((λn.n (λy.λt.λf.f) (λt.λf.t)) ((λm.λn.n (λm.(λp.p (λt.λf.t)) (m (λp.(λf.λs.λb.b f s) ((λp.p (λt.λf.f)) p) ((λm.λn.λs.λz.m s (n s z)) (λs.λz.s z) ((λp.p (λt.λf.f)) p))) ((λf.λs.λb.b f s) (λs.λz.z) (λs.λz.z)))) m) (λs.λz.z) ((λm.λn.n (λm.(λp.p (λt.λf.t)) (m (λp.(λf.λs.λb.b f s) ((λp.p (λt.λf.f)) p) ((λm.λn.λs.λz.m s (n s z)) (λs.λz.s z) ((λp.p (λt.λf.f)) p))) ((λf.λs.λb.b f s) (λs.λz.z) (λs.λz.z)))) m) (λs.λz.s (s z)) (λs.λz.s (s (s z)))))) (λt.λf.f)\n",
      "= (λs.λz.z) (λp.(λf.λs.λb.b f s) ((λp.p (λt.λf.f)) p) ((λm.λn.λs.λz.m s (n s z)) (λs.λz.s z) ((λp.p (λt.λf.f)) p))) ((λf.λs.λb.b f s) (λs.λz.z) (λs.λz.z)) (λt.λf.f) (λp.(λf.λs.λb.b f s) ((λp.p (λt.λf.f)) p) ((λm.λn.λs.λz.m s (n s z)) (λs.λz.s z) ((λp.p (λt.λf.f)) p))) ((λf.λs.λb.b f s) (λs.λz.z) (λs.λz.z)) (λt.λf.t) (λy.λt.λf.f) (λt.λf.t) ((λn.n (λy.λt.λf.f) (λt.λf.t)) ((λm.λn.n (λm.(λp.p (λt.λf.t)) (m (λp.(λf.λs.λb.b f s) ((λp.p (λt.λf.f)) p) ((λm.λn.λs.λz.m s (n s z)) (λs.λz.s z) ((λp.p (λt.λf.f)) p))) ((λf.λs.λb.b f s) (λs.λz.z) (λs.λz.z)))) m) (λs.λz.z) ((λm.λn.n (λm.(λp.p (λt.λf.t)) (m (λp.(λf.λs.λb.b f s) ((λp.p (λt.λf.f)) p) ((λm.λn.λs.λz.m s (n s z)) (λs.λz.s z) ((λp.p (λt.λf.f)) p))) ((λf.λs.λb.b f s) (λs.λz.z) (λs.λz.z)))) m) (λs.λz.s (s z)) (λs.λz.s (s (s z)))))) (λt.λf.f)\n",
      "= (λz.z) ((λf.λs.λb.b f s) (λs.λz.z) (λs.λz.z)) (λt.λf.f) (λp.(λf.λs.λb.b f s) ((λp.p (λt.λf.f)) p) ((λm.λn.λs.λz.m s (n s z)) (λs.λz.s z) ((λp.p (λt.λf.f)) p))) ((λf.λs.λb.b f s) (λs.λz.z) (λs.λz.z)) (λt.λf.t) (λy.λt.λf.f) (λt.λf.t) ((λn.n (λy.λt.λf.f) (λt.λf.t)) ((λm.λn.n (λm.(λp.p (λt.λf.t)) (m (λp.(λf.λs.λb.b f s) ((λp.p (λt.λf.f)) p) ((λm.λn.λs.λz.m s (n s z)) (λs.λz.s z) ((λp.p (λt.λf.f)) p))) ((λf.λs.λb.b f s) (λs.λz.z) (λs.λz.z)))) m) (λs.λz.z) ((λm.λn.n (λm.(λp.p (λt.λf.t)) (m (λp.(λf.λs.λb.b f s) ((λp.p (λt.λf.f)) p) ((λm.λn.λs.λz.m s (n s z)) (λs.λz.s z) ((λp.p (λt.λf.f)) p))) ((λf.λs.λb.b f s) (λs.λz.z) (λs.λz.z)))) m) (λs.λz.s (s z)) (λs.λz.s (s (s z)))))) (λt.λf.f)\n"
     ]
    },
    {
     "name": "stdout",
     "output_type": "stream",
     "text": [
      "= (λf.λs.λb.b f s) (λs.λz.z) (λs.λz.z) (λt.λf.f) (λp.(λf.λs.λb.b f s) ((λp.p (λt.λf.f)) p) ((λm.λn.λs.λz.m s (n s z)) (λs.λz.s z) ((λp.p (λt.λf.f)) p))) ((λf.λs.λb.b f s) (λs.λz.z) (λs.λz.z)) (λt.λf.t) (λy.λt.λf.f) (λt.λf.t) ((λn.n (λy.λt.λf.f) (λt.λf.t)) ((λm.λn.n (λm.(λp.p (λt.λf.t)) (m (λp.(λf.λs.λb.b f s) ((λp.p (λt.λf.f)) p) ((λm.λn.λs.λz.m s (n s z)) (λs.λz.s z) ((λp.p (λt.λf.f)) p))) ((λf.λs.λb.b f s) (λs.λz.z) (λs.λz.z)))) m) (λs.λz.z) ((λm.λn.n (λm.(λp.p (λt.λf.t)) (m (λp.(λf.λs.λb.b f s) ((λp.p (λt.λf.f)) p) ((λm.λn.λs.λz.m s (n s z)) (λs.λz.s z) ((λp.p (λt.λf.f)) p))) ((λf.λs.λb.b f s) (λs.λz.z) (λs.λz.z)))) m) (λs.λz.s (s z)) (λs.λz.s (s (s z)))))) (λt.λf.f)\n",
      "= (λs.λb.b (λs.λz.z) s) (λs.λz.z) (λt.λf.f) (λp.(λf.λs.λb.b f s) ((λp.p (λt.λf.f)) p) ((λm.λn.λs.λz.m s (n s z)) (λs.λz.s z) ((λp.p (λt.λf.f)) p))) ((λf.λs.λb.b f s) (λs.λz.z) (λs.λz.z)) (λt.λf.t) (λy.λt.λf.f) (λt.λf.t) ((λn.n (λy.λt.λf.f) (λt.λf.t)) ((λm.λn.n (λm.(λp.p (λt.λf.t)) (m (λp.(λf.λs.λb.b f s) ((λp.p (λt.λf.f)) p) ((λm.λn.λs.λz.m s (n s z)) (λs.λz.s z) ((λp.p (λt.λf.f)) p))) ((λf.λs.λb.b f s) (λs.λz.z) (λs.λz.z)))) m) (λs.λz.z) ((λm.λn.n (λm.(λp.p (λt.λf.t)) (m (λp.(λf.λs.λb.b f s) ((λp.p (λt.λf.f)) p) ((λm.λn.λs.λz.m s (n s z)) (λs.λz.s z) ((λp.p (λt.λf.f)) p))) ((λf.λs.λb.b f s) (λs.λz.z) (λs.λz.z)))) m) (λs.λz.s (s z)) (λs.λz.s (s (s z)))))) (λt.λf.f)\n",
      "= (λb.b (λs.λz.z) (λs.λz.z)) (λt.λf.f) (λp.(λf.λs.λb.b f s) ((λp.p (λt.λf.f)) p) ((λm.λn.λs.λz.m s (n s z)) (λs.λz.s z) ((λp.p (λt.λf.f)) p))) ((λf.λs.λb.b f s) (λs.λz.z) (λs.λz.z)) (λt.λf.t) (λy.λt.λf.f) (λt.λf.t) ((λn.n (λy.λt.λf.f) (λt.λf.t)) ((λm.λn.n (λm.(λp.p (λt.λf.t)) (m (λp.(λf.λs.λb.b f s) ((λp.p (λt.λf.f)) p) ((λm.λn.λs.λz.m s (n s z)) (λs.λz.s z) ((λp.p (λt.λf.f)) p))) ((λf.λs.λb.b f s) (λs.λz.z) (λs.λz.z)))) m) (λs.λz.z) ((λm.λn.n (λm.(λp.p (λt.λf.t)) (m (λp.(λf.λs.λb.b f s) ((λp.p (λt.λf.f)) p) ((λm.λn.λs.λz.m s (n s z)) (λs.λz.s z) ((λp.p (λt.λf.f)) p))) ((λf.λs.λb.b f s) (λs.λz.z) (λs.λz.z)))) m) (λs.λz.s (s z)) (λs.λz.s (s (s z)))))) (λt.λf.f)\n",
      "= (λt.λf.f) (λs.λz.z) (λs.λz.z) (λp.(λf.λs.λb.b f s) ((λp.p (λt.λf.f)) p) ((λm.λn.λs.λz.m s (n s z)) (λs.λz.s z) ((λp.p (λt.λf.f)) p))) ((λf.λs.λb.b f s) (λs.λz.z) (λs.λz.z)) (λt.λf.t) (λy.λt.λf.f) (λt.λf.t) ((λn.n (λy.λt.λf.f) (λt.λf.t)) ((λm.λn.n (λm.(λp.p (λt.λf.t)) (m (λp.(λf.λs.λb.b f s) ((λp.p (λt.λf.f)) p) ((λm.λn.λs.λz.m s (n s z)) (λs.λz.s z) ((λp.p (λt.λf.f)) p))) ((λf.λs.λb.b f s) (λs.λz.z) (λs.λz.z)))) m) (λs.λz.z) ((λm.λn.n (λm.(λp.p (λt.λf.t)) (m (λp.(λf.λs.λb.b f s) ((λp.p (λt.λf.f)) p) ((λm.λn.λs.λz.m s (n s z)) (λs.λz.s z) ((λp.p (λt.λf.f)) p))) ((λf.λs.λb.b f s) (λs.λz.z) (λs.λz.z)))) m) (λs.λz.s (s z)) (λs.λz.s (s (s z)))))) (λt.λf.f)\n",
      "= (λf.f) (λs.λz.z) (λp.(λf.λs.λb.b f s) ((λp.p (λt.λf.f)) p) ((λm.λn.λs.λz.m s (n s z)) (λs.λz.s z) ((λp.p (λt.λf.f)) p))) ((λf.λs.λb.b f s) (λs.λz.z) (λs.λz.z)) (λt.λf.t) (λy.λt.λf.f) (λt.λf.t) ((λn.n (λy.λt.λf.f) (λt.λf.t)) ((λm.λn.n (λm.(λp.p (λt.λf.t)) (m (λp.(λf.λs.λb.b f s) ((λp.p (λt.λf.f)) p) ((λm.λn.λs.λz.m s (n s z)) (λs.λz.s z) ((λp.p (λt.λf.f)) p))) ((λf.λs.λb.b f s) (λs.λz.z) (λs.λz.z)))) m) (λs.λz.z) ((λm.λn.n (λm.(λp.p (λt.λf.t)) (m (λp.(λf.λs.λb.b f s) ((λp.p (λt.λf.f)) p) ((λm.λn.λs.λz.m s (n s z)) (λs.λz.s z) ((λp.p (λt.λf.f)) p))) ((λf.λs.λb.b f s) (λs.λz.z) (λs.λz.z)))) m) (λs.λz.s (s z)) (λs.λz.s (s (s z)))))) (λt.λf.f)\n",
      "= (λs.λz.z) (λp.(λf.λs.λb.b f s) ((λp.p (λt.λf.f)) p) ((λm.λn.λs.λz.m s (n s z)) (λs.λz.s z) ((λp.p (λt.λf.f)) p))) ((λf.λs.λb.b f s) (λs.λz.z) (λs.λz.z)) (λt.λf.t) (λy.λt.λf.f) (λt.λf.t) ((λn.n (λy.λt.λf.f) (λt.λf.t)) ((λm.λn.n (λm.(λp.p (λt.λf.t)) (m (λp.(λf.λs.λb.b f s) ((λp.p (λt.λf.f)) p) ((λm.λn.λs.λz.m s (n s z)) (λs.λz.s z) ((λp.p (λt.λf.f)) p))) ((λf.λs.λb.b f s) (λs.λz.z) (λs.λz.z)))) m) (λs.λz.z) ((λm.λn.n (λm.(λp.p (λt.λf.t)) (m (λp.(λf.λs.λb.b f s) ((λp.p (λt.λf.f)) p) ((λm.λn.λs.λz.m s (n s z)) (λs.λz.s z) ((λp.p (λt.λf.f)) p))) ((λf.λs.λb.b f s) (λs.λz.z) (λs.λz.z)))) m) (λs.λz.s (s z)) (λs.λz.s (s (s z)))))) (λt.λf.f)\n",
      "= (λz.z) ((λf.λs.λb.b f s) (λs.λz.z) (λs.λz.z)) (λt.λf.t) (λy.λt.λf.f) (λt.λf.t) ((λn.n (λy.λt.λf.f) (λt.λf.t)) ((λm.λn.n (λm.(λp.p (λt.λf.t)) (m (λp.(λf.λs.λb.b f s) ((λp.p (λt.λf.f)) p) ((λm.λn.λs.λz.m s (n s z)) (λs.λz.s z) ((λp.p (λt.λf.f)) p))) ((λf.λs.λb.b f s) (λs.λz.z) (λs.λz.z)))) m) (λs.λz.z) ((λm.λn.n (λm.(λp.p (λt.λf.t)) (m (λp.(λf.λs.λb.b f s) ((λp.p (λt.λf.f)) p) ((λm.λn.λs.λz.m s (n s z)) (λs.λz.s z) ((λp.p (λt.λf.f)) p))) ((λf.λs.λb.b f s) (λs.λz.z) (λs.λz.z)))) m) (λs.λz.s (s z)) (λs.λz.s (s (s z)))))) (λt.λf.f)\n",
      "= (λf.λs.λb.b f s) (λs.λz.z) (λs.λz.z) (λt.λf.t) (λy.λt.λf.f) (λt.λf.t) ((λn.n (λy.λt.λf.f) (λt.λf.t)) ((λm.λn.n (λm.(λp.p (λt.λf.t)) (m (λp.(λf.λs.λb.b f s) ((λp.p (λt.λf.f)) p) ((λm.λn.λs.λz.m s (n s z)) (λs.λz.s z) ((λp.p (λt.λf.f)) p))) ((λf.λs.λb.b f s) (λs.λz.z) (λs.λz.z)))) m) (λs.λz.z) ((λm.λn.n (λm.(λp.p (λt.λf.t)) (m (λp.(λf.λs.λb.b f s) ((λp.p (λt.λf.f)) p) ((λm.λn.λs.λz.m s (n s z)) (λs.λz.s z) ((λp.p (λt.λf.f)) p))) ((λf.λs.λb.b f s) (λs.λz.z) (λs.λz.z)))) m) (λs.λz.s (s z)) (λs.λz.s (s (s z)))))) (λt.λf.f)\n",
      "= (λs.λb.b (λs.λz.z) s) (λs.λz.z) (λt.λf.t) (λy.λt.λf.f) (λt.λf.t) ((λn.n (λy.λt.λf.f) (λt.λf.t)) ((λm.λn.n (λm.(λp.p (λt.λf.t)) (m (λp.(λf.λs.λb.b f s) ((λp.p (λt.λf.f)) p) ((λm.λn.λs.λz.m s (n s z)) (λs.λz.s z) ((λp.p (λt.λf.f)) p))) ((λf.λs.λb.b f s) (λs.λz.z) (λs.λz.z)))) m) (λs.λz.z) ((λm.λn.n (λm.(λp.p (λt.λf.t)) (m (λp.(λf.λs.λb.b f s) ((λp.p (λt.λf.f)) p) ((λm.λn.λs.λz.m s (n s z)) (λs.λz.s z) ((λp.p (λt.λf.f)) p))) ((λf.λs.λb.b f s) (λs.λz.z) (λs.λz.z)))) m) (λs.λz.s (s z)) (λs.λz.s (s (s z)))))) (λt.λf.f)\n",
      "= (λb.b (λs.λz.z) (λs.λz.z)) (λt.λf.t) (λy.λt.λf.f) (λt.λf.t) ((λn.n (λy.λt.λf.f) (λt.λf.t)) ((λm.λn.n (λm.(λp.p (λt.λf.t)) (m (λp.(λf.λs.λb.b f s) ((λp.p (λt.λf.f)) p) ((λm.λn.λs.λz.m s (n s z)) (λs.λz.s z) ((λp.p (λt.λf.f)) p))) ((λf.λs.λb.b f s) (λs.λz.z) (λs.λz.z)))) m) (λs.λz.z) ((λm.λn.n (λm.(λp.p (λt.λf.t)) (m (λp.(λf.λs.λb.b f s) ((λp.p (λt.λf.f)) p) ((λm.λn.λs.λz.m s (n s z)) (λs.λz.s z) ((λp.p (λt.λf.f)) p))) ((λf.λs.λb.b f s) (λs.λz.z) (λs.λz.z)))) m) (λs.λz.s (s z)) (λs.λz.s (s (s z)))))) (λt.λf.f)\n",
      "= (λt.λf.t) (λs.λz.z) (λs.λz.z) (λy.λt.λf.f) (λt.λf.t) ((λn.n (λy.λt.λf.f) (λt.λf.t)) ((λm.λn.n (λm.(λp.p (λt.λf.t)) (m (λp.(λf.λs.λb.b f s) ((λp.p (λt.λf.f)) p) ((λm.λn.λs.λz.m s (n s z)) (λs.λz.s z) ((λp.p (λt.λf.f)) p))) ((λf.λs.λb.b f s) (λs.λz.z) (λs.λz.z)))) m) (λs.λz.z) ((λm.λn.n (λm.(λp.p (λt.λf.t)) (m (λp.(λf.λs.λb.b f s) ((λp.p (λt.λf.f)) p) ((λm.λn.λs.λz.m s (n s z)) (λs.λz.s z) ((λp.p (λt.λf.f)) p))) ((λf.λs.λb.b f s) (λs.λz.z) (λs.λz.z)))) m) (λs.λz.s (s z)) (λs.λz.s (s (s z)))))) (λt.λf.f)\n",
      "= (λf.λs.λz.z) (λs.λz.z) (λy.λt.λf.f) (λt.λf.t) ((λn.n (λy.λt.λf.f) (λt.λf.t)) ((λm.λn.n (λm.(λp.p (λt.λf.t)) (m (λp.(λf.λs.λb.b f s) ((λp.p (λt.λf.f)) p) ((λm.λn.λs.λz.m s (n s z)) (λs.λz.s z) ((λp.p (λt.λf.f)) p))) ((λf.λs.λb.b f s) (λs.λz.z) (λs.λz.z)))) m) (λs.λz.z) ((λm.λn.n (λm.(λp.p (λt.λf.t)) (m (λp.(λf.λs.λb.b f s) ((λp.p (λt.λf.f)) p) ((λm.λn.λs.λz.m s (n s z)) (λs.λz.s z) ((λp.p (λt.λf.f)) p))) ((λf.λs.λb.b f s) (λs.λz.z) (λs.λz.z)))) m) (λs.λz.s (s z)) (λs.λz.s (s (s z)))))) (λt.λf.f)\n",
      "= (λs.λz.z) (λy.λt.λf.f) (λt.λf.t) ((λn.n (λy.λt.λf.f) (λt.λf.t)) ((λm.λn.n (λm.(λp.p (λt.λf.t)) (m (λp.(λf.λs.λb.b f s) ((λp.p (λt.λf.f)) p) ((λm.λn.λs.λz.m s (n s z)) (λs.λz.s z) ((λp.p (λt.λf.f)) p))) ((λf.λs.λb.b f s) (λs.λz.z) (λs.λz.z)))) m) (λs.λz.z) ((λm.λn.n (λm.(λp.p (λt.λf.t)) (m (λp.(λf.λs.λb.b f s) ((λp.p (λt.λf.f)) p) ((λm.λn.λs.λz.m s (n s z)) (λs.λz.s z) ((λp.p (λt.λf.f)) p))) ((λf.λs.λb.b f s) (λs.λz.z) (λs.λz.z)))) m) (λs.λz.s (s z)) (λs.λz.s (s (s z)))))) (λt.λf.f)\n",
      "= (λz.z) (λt.λf.t) ((λn.n (λy.λt.λf.f) (λt.λf.t)) ((λm.λn.n (λm.(λp.p (λt.λf.t)) (m (λp.(λf.λs.λb.b f s) ((λp.p (λt.λf.f)) p) ((λm.λn.λs.λz.m s (n s z)) (λs.λz.s z) ((λp.p (λt.λf.f)) p))) ((λf.λs.λb.b f s) (λs.λz.z) (λs.λz.z)))) m) (λs.λz.z) ((λm.λn.n (λm.(λp.p (λt.λf.t)) (m (λp.(λf.λs.λb.b f s) ((λp.p (λt.λf.f)) p) ((λm.λn.λs.λz.m s (n s z)) (λs.λz.s z) ((λp.p (λt.λf.f)) p))) ((λf.λs.λb.b f s) (λs.λz.z) (λs.λz.z)))) m) (λs.λz.s (s z)) (λs.λz.s (s (s z)))))) (λt.λf.f)\n",
      "= (λt.λf.t) ((λn.n (λy.λt.λf.f) (λt.λf.t)) ((λm.λn.n (λm.(λp.p (λt.λf.t)) (m (λp.(λf.λs.λb.b f s) ((λp.p (λt.λf.f)) p) ((λm.λn.λs.λz.m s (n s z)) (λs.λz.s z) ((λp.p (λt.λf.f)) p))) ((λf.λs.λb.b f s) (λs.λz.z) (λs.λz.z)))) m) (λs.λz.z) ((λm.λn.n (λm.(λp.p (λt.λf.t)) (m (λp.(λf.λs.λb.b f s) ((λp.p (λt.λf.f)) p) ((λm.λn.λs.λz.m s (n s z)) (λs.λz.s z) ((λp.p (λt.λf.f)) p))) ((λf.λs.λb.b f s) (λs.λz.z) (λs.λz.z)))) m) (λs.λz.s (s z)) (λs.λz.s (s (s z)))))) (λt.λf.f)\n"
     ]
    },
    {
     "name": "stdout",
     "output_type": "stream",
     "text": [
      "= (λf.(λn.n (λy.λt.λf.f) (λt.λf.t)) ((λm.λn.n (λm.(λp.p (λt.λf.t)) (m (λp.(λf.λs.λb.b f s) ((λp.p (λt.λf.f)) p) ((λm.λn.λs.λz.m s (n s z)) (λs.λz.s z) ((λp.p (λt.λf.f)) p))) ((λf.λs.λb.b f s) (λs.λz.z) (λs.λz.z)))) m) (λs.λz.z) ((λm.λn.n (λm.(λp.p (λt.λf.t)) (m (λp.(λf.λs.λb.b f s) ((λp.p (λt.λf.f)) p) ((λm.λn.λs.λz.m s (n s z)) (λs.λz.s z) ((λp.p (λt.λf.f)) p))) ((λf.λs.λb.b f s) (λs.λz.z) (λs.λz.z)))) m) (λs.λz.s (s z)) (λs.λz.s (s (s z)))))) (λt.λf.f)\n",
      "= (λn.n (λy.λt.λf.f) (λt.λf.t)) ((λm.λn.n (λm.(λp.p (λt.λf.t)) (m (λp.(λf.λs.λb.b f s) ((λp.p (λt.λf.f)) p) ((λm.λn.λs.λz.m s (n s z)) (λs.λz.s z) ((λp.p (λt.λf.f)) p))) ((λf.λs.λb.b f s) (λs.λz.z) (λs.λz.z)))) m) (λs.λz.z) ((λm.λn.n (λm.(λp.p (λt.λf.t)) (m (λp.(λf.λs.λb.b f s) ((λp.p (λt.λf.f)) p) ((λm.λn.λs.λz.m s (n s z)) (λs.λz.s z) ((λp.p (λt.λf.f)) p))) ((λf.λs.λb.b f s) (λs.λz.z) (λs.λz.z)))) m) (λs.λz.s (s z)) (λs.λz.s (s (s z)))))\n",
      "= (λm.λn.n (λm.(λp.p (λt.λf.t)) (m (λp.(λf.λs.λb.b f s) ((λp.p (λt.λf.f)) p) ((λm.λn.λs.λz.m s (n s z)) (λs.λz.s z) ((λp.p (λt.λf.f)) p))) ((λf.λs.λb.b f s) (λs.λz.z) (λs.λz.z)))) m) (λs.λz.z) ((λm.λn.n (λm.(λp.p (λt.λf.t)) (m (λp.(λf.λs.λb.b f s) ((λp.p (λt.λf.f)) p) ((λm.λn.λs.λz.m s (n s z)) (λs.λz.s z) ((λp.p (λt.λf.f)) p))) ((λf.λs.λb.b f s) (λs.λz.z) (λs.λz.z)))) m) (λs.λz.s (s z)) (λs.λz.s (s (s z)))) (λy.λt.λf.f) (λt.λf.t)\n",
      "= (λn.n (λm.(λp.p (λt.λf.t)) (m (λp.(λf.λs.λb.b f s) ((λp.p (λt.λf.f)) p) ((λm.λn.λs.λz.m s (n s z)) (λs.λz.s z) ((λp.p (λt.λf.f)) p))) ((λf.λs.λb.b f s) (λs.λz.z) (λs.λz.z)))) (λs.λz.z)) ((λm.λn.n (λm.(λp.p (λt.λf.t)) (m (λp.(λf.λs.λb.b f s) ((λp.p (λt.λf.f)) p) ((λm.λn.λs.λz.m s (n s z)) (λs.λz.s z) ((λp.p (λt.λf.f)) p))) ((λf.λs.λb.b f s) (λs.λz.z) (λs.λz.z)))) m) (λs.λz.s (s z)) (λs.λz.s (s (s z)))) (λy.λt.λf.f) (λt.λf.t)\n",
      "= (λm.λn.n (λm.(λp.p (λt.λf.t)) (m (λp.(λf.λs.λb.b f s) ((λp.p (λt.λf.f)) p) ((λm.λn.λs.λz.m s (n s z)) (λs.λz.s z) ((λp.p (λt.λf.f)) p))) ((λf.λs.λb.b f s) (λs.λz.z) (λs.λz.z)))) m) (λs.λz.s (s z)) (λs.λz.s (s (s z))) (λm.(λp.p (λt.λf.t)) (m (λp.(λf.λs.λb.b f s) ((λp.p (λt.λf.f)) p) ((λm.λn.λs.λz.m s (n s z)) (λs.λz.s z) ((λp.p (λt.λf.f)) p))) ((λf.λs.λb.b f s) (λs.λz.z) (λs.λz.z)))) (λs.λz.z) (λy.λt.λf.f) (λt.λf.t)\n",
      "= (λn.n (λm.(λp.p (λt.λf.t)) (m (λp.(λf.λs.λb.b f s) ((λp.p (λt.λf.f)) p) ((λm.λn.λs.λz.m s (n s z)) (λs.λz.s z) ((λp.p (λt.λf.f)) p))) ((λf.λs.λb.b f s) (λs.λz.z) (λs.λz.z)))) (λs.λz.s (s z))) (λs.λz.s (s (s z))) (λm.(λp.p (λt.λf.t)) (m (λp.(λf.λs.λb.b f s) ((λp.p (λt.λf.f)) p) ((λm.λn.λs.λz.m s (n s z)) (λs.λz.s z) ((λp.p (λt.λf.f)) p))) ((λf.λs.λb.b f s) (λs.λz.z) (λs.λz.z)))) (λs.λz.z) (λy.λt.λf.f) (λt.λf.t)\n",
      "= (λs.λz.s (s (s z))) (λm.(λp.p (λt.λf.t)) (m (λp.(λf.λs.λb.b f s) ((λp.p (λt.λf.f)) p) ((λm.λn.λs.λz.m s (n s z)) (λs.λz.s z) ((λp.p (λt.λf.f)) p))) ((λf.λs.λb.b f s) (λs.λz.z) (λs.λz.z)))) (λs.λz.s (s z)) (λm.(λp.p (λt.λf.t)) (m (λp.(λf.λs.λb.b f s) ((λp.p (λt.λf.f)) p) ((λm.λn.λs.λz.m s (n s z)) (λs.λz.s z) ((λp.p (λt.λf.f)) p))) ((λf.λs.λb.b f s) (λs.λz.z) (λs.λz.z)))) (λs.λz.z) (λy.λt.λf.f) (λt.λf.t)\n",
      "= (λz.(λm.(λp.p (λt.λf.t)) (m (λp.(λf.λs.λb.b f s) ((λp.p (λt.λf.f)) p) ((λm.λn.λs.λz.m s (n s z)) (λs.λz.s z) ((λp.p (λt.λf.f)) p))) ((λf.λs.λb.b f s) (λs.λz.z) (λs.λz.z)))) ((λm.(λp.p (λt.λf.t)) (m (λp.(λf.λs.λb.b f s) ((λp.p (λt.λf.f)) p) ((λm.λn.λs.λz.m s (n s z)) (λs.λz.s z) ((λp.p (λt.λf.f)) p))) ((λf.λs.λb.b f s) (λs.λz.z) (λs.λz.z)))) ((λm.(λp.p (λt.λf.t)) (m (λp.(λf.λs.λb.b f s) ((λp.p (λt.λf.f)) p) ((λm.λn.λs.λz.m s (n s z)) (λs.λz.s z) ((λp.p (λt.λf.f)) p))) ((λf.λs.λb.b f s) (λs.λz.z) (λs.λz.z)))) z))) (λs.λz.s (s z)) (λm.(λp.p (λt.λf.t)) (m (λp.(λf.λs.λb.b f s) ((λp.p (λt.λf.f)) p) ((λm.λn.λs.λz.m s (n s z)) (λs.λz.s z) ((λp.p (λt.λf.f)) p))) ((λf.λs.λb.b f s) (λs.λz.z) (λs.λz.z)))) (λs.λz.z) (λy.λt.λf.f) (λt.λf.t)\n",
      "= (λm.(λp.p (λt.λf.t)) (m (λp.(λf.λs.λb.b f s) ((λp.p (λt.λf.f)) p) ((λm.λn.λs.λz.m s (n s z)) (λs.λz.s z) ((λp.p (λt.λf.f)) p))) ((λf.λs.λb.b f s) (λs.λz.z) (λs.λz.z)))) ((λm.(λp.p (λt.λf.t)) (m (λp.(λf.λs.λb.b f s) ((λp.p (λt.λf.f)) p) ((λm.λn.λs.λz.m s (n s z)) (λs.λz.s z) ((λp.p (λt.λf.f)) p))) ((λf.λs.λb.b f s) (λs.λz.z) (λs.λz.z)))) ((λm.(λp.p (λt.λf.t)) (m (λp.(λf.λs.λb.b f s) ((λp.p (λt.λf.f)) p) ((λm.λn.λs.λz.m s (n s z)) (λs.λz.s z) ((λp.p (λt.λf.f)) p))) ((λf.λs.λb.b f s) (λs.λz.z) (λs.λz.z)))) (λs.λz.s (s z)))) (λm.(λp.p (λt.λf.t)) (m (λp.(λf.λs.λb.b f s) ((λp.p (λt.λf.f)) p) ((λm.λn.λs.λz.m s (n s z)) (λs.λz.s z) ((λp.p (λt.λf.f)) p))) ((λf.λs.λb.b f s) (λs.λz.z) (λs.λz.z)))) (λs.λz.z) (λy.λt.λf.f) (λt.λf.t)\n",
      "= (λp.p (λt.λf.t)) ((λm.(λp.p (λt.λf.t)) (m (λp.(λf.λs.λb.b f s) ((λp.p (λt.λf.f)) p) ((λm.λn.λs.λz.m s (n s z)) (λs.λz.s z) ((λp.p (λt.λf.f)) p))) ((λf.λs.λb.b f s) (λs.λz.z) (λs.λz.z)))) ((λm.(λp.p (λt.λf.t)) (m (λp.(λf.λs.λb.b f s) ((λp.p (λt.λf.f)) p) ((λm.λn.λs.λz.m s (n s z)) (λs.λz.s z) ((λp.p (λt.λf.f)) p))) ((λf.λs.λb.b f s) (λs.λz.z) (λs.λz.z)))) (λs.λz.s (s z))) (λp.(λf.λs.λb.b f s) ((λp.p (λt.λf.f)) p) ((λm.λn.λs.λz.m s (n s z)) (λs.λz.s z) ((λp.p (λt.λf.f)) p))) ((λf.λs.λb.b f s) (λs.λz.z) (λs.λz.z))) (λm.(λp.p (λt.λf.t)) (m (λp.(λf.λs.λb.b f s) ((λp.p (λt.λf.f)) p) ((λm.λn.λs.λz.m s (n s z)) (λs.λz.s z) ((λp.p (λt.λf.f)) p))) ((λf.λs.λb.b f s) (λs.λz.z) (λs.λz.z)))) (λs.λz.z) (λy.λt.λf.f) (λt.λf.t)\n",
      "= (λm.(λp.p (λt.λf.t)) (m (λp.(λf.λs.λb.b f s) ((λp.p (λt.λf.f)) p) ((λm.λn.λs.λz.m s (n s z)) (λs.λz.s z) ((λp.p (λt.λf.f)) p))) ((λf.λs.λb.b f s) (λs.λz.z) (λs.λz.z)))) ((λm.(λp.p (λt.λf.t)) (m (λp.(λf.λs.λb.b f s) ((λp.p (λt.λf.f)) p) ((λm.λn.λs.λz.m s (n s z)) (λs.λz.s z) ((λp.p (λt.λf.f)) p))) ((λf.λs.λb.b f s) (λs.λz.z) (λs.λz.z)))) (λs.λz.s (s z))) (λp.(λf.λs.λb.b f s) ((λp.p (λt.λf.f)) p) ((λm.λn.λs.λz.m s (n s z)) (λs.λz.s z) ((λp.p (λt.λf.f)) p))) ((λf.λs.λb.b f s) (λs.λz.z) (λs.λz.z)) (λt.λf.t) (λm.(λp.p (λt.λf.t)) (m (λp.(λf.λs.λb.b f s) ((λp.p (λt.λf.f)) p) ((λm.λn.λs.λz.m s (n s z)) (λs.λz.s z) ((λp.p (λt.λf.f)) p))) ((λf.λs.λb.b f s) (λs.λz.z) (λs.λz.z)))) (λs.λz.z) (λy.λt.λf.f) (λt.λf.t)\n",
      "= (λp.p (λt.λf.t)) ((λm.(λp.p (λt.λf.t)) (m (λp.(λf.λs.λb.b f s) ((λp.p (λt.λf.f)) p) ((λm.λn.λs.λz.m s (n s z)) (λs.λz.s z) ((λp.p (λt.λf.f)) p))) ((λf.λs.λb.b f s) (λs.λz.z) (λs.λz.z)))) (λs.λz.s (s z)) (λp.(λf.λs.λb.b f s) ((λp.p (λt.λf.f)) p) ((λm.λn.λs.λz.m s (n s z)) (λs.λz.s z) ((λp.p (λt.λf.f)) p))) ((λf.λs.λb.b f s) (λs.λz.z) (λs.λz.z))) (λp.(λf.λs.λb.b f s) ((λp.p (λt.λf.f)) p) ((λm.λn.λs.λz.m s (n s z)) (λs.λz.s z) ((λp.p (λt.λf.f)) p))) ((λf.λs.λb.b f s) (λs.λz.z) (λs.λz.z)) (λt.λf.t) (λm.(λp.p (λt.λf.t)) (m (λp.(λf.λs.λb.b f s) ((λp.p (λt.λf.f)) p) ((λm.λn.λs.λz.m s (n s z)) (λs.λz.s z) ((λp.p (λt.λf.f)) p))) ((λf.λs.λb.b f s) (λs.λz.z) (λs.λz.z)))) (λs.λz.z) (λy.λt.λf.f) (λt.λf.t)\n",
      "= (λm.(λp.p (λt.λf.t)) (m (λp.(λf.λs.λb.b f s) ((λp.p (λt.λf.f)) p) ((λm.λn.λs.λz.m s (n s z)) (λs.λz.s z) ((λp.p (λt.λf.f)) p))) ((λf.λs.λb.b f s) (λs.λz.z) (λs.λz.z)))) (λs.λz.s (s z)) (λp.(λf.λs.λb.b f s) ((λp.p (λt.λf.f)) p) ((λm.λn.λs.λz.m s (n s z)) (λs.λz.s z) ((λp.p (λt.λf.f)) p))) ((λf.λs.λb.b f s) (λs.λz.z) (λs.λz.z)) (λt.λf.t) (λp.(λf.λs.λb.b f s) ((λp.p (λt.λf.f)) p) ((λm.λn.λs.λz.m s (n s z)) (λs.λz.s z) ((λp.p (λt.λf.f)) p))) ((λf.λs.λb.b f s) (λs.λz.z) (λs.λz.z)) (λt.λf.t) (λm.(λp.p (λt.λf.t)) (m (λp.(λf.λs.λb.b f s) ((λp.p (λt.λf.f)) p) ((λm.λn.λs.λz.m s (n s z)) (λs.λz.s z) ((λp.p (λt.λf.f)) p))) ((λf.λs.λb.b f s) (λs.λz.z) (λs.λz.z)))) (λs.λz.z) (λy.λt.λf.f) (λt.λf.t)\n",
      "= (λp.p (λt.λf.t)) ((λs.λz.s (s z)) (λp.(λf.λs.λb.b f s) ((λp.p (λt.λf.f)) p) ((λm.λn.λs.λz.m s (n s z)) (λs.λz.s z) ((λp.p (λt.λf.f)) p))) ((λf.λs.λb.b f s) (λs.λz.z) (λs.λz.z))) (λp.(λf.λs.λb.b f s) ((λp.p (λt.λf.f)) p) ((λm.λn.λs.λz.m s (n s z)) (λs.λz.s z) ((λp.p (λt.λf.f)) p))) ((λf.λs.λb.b f s) (λs.λz.z) (λs.λz.z)) (λt.λf.t) (λp.(λf.λs.λb.b f s) ((λp.p (λt.λf.f)) p) ((λm.λn.λs.λz.m s (n s z)) (λs.λz.s z) ((λp.p (λt.λf.f)) p))) ((λf.λs.λb.b f s) (λs.λz.z) (λs.λz.z)) (λt.λf.t) (λm.(λp.p (λt.λf.t)) (m (λp.(λf.λs.λb.b f s) ((λp.p (λt.λf.f)) p) ((λm.λn.λs.λz.m s (n s z)) (λs.λz.s z) ((λp.p (λt.λf.f)) p))) ((λf.λs.λb.b f s) (λs.λz.z) (λs.λz.z)))) (λs.λz.z) (λy.λt.λf.f) (λt.λf.t)\n",
      "= (λs.λz.s (s z)) (λp.(λf.λs.λb.b f s) ((λp.p (λt.λf.f)) p) ((λm.λn.λs.λz.m s (n s z)) (λs.λz.s z) ((λp.p (λt.λf.f)) p))) ((λf.λs.λb.b f s) (λs.λz.z) (λs.λz.z)) (λt.λf.t) (λp.(λf.λs.λb.b f s) ((λp.p (λt.λf.f)) p) ((λm.λn.λs.λz.m s (n s z)) (λs.λz.s z) ((λp.p (λt.λf.f)) p))) ((λf.λs.λb.b f s) (λs.λz.z) (λs.λz.z)) (λt.λf.t) (λp.(λf.λs.λb.b f s) ((λp.p (λt.λf.f)) p) ((λm.λn.λs.λz.m s (n s z)) (λs.λz.s z) ((λp.p (λt.λf.f)) p))) ((λf.λs.λb.b f s) (λs.λz.z) (λs.λz.z)) (λt.λf.t) (λm.(λp.p (λt.λf.t)) (m (λp.(λf.λs.λb.b f s) ((λp.p (λt.λf.f)) p) ((λm.λn.λs.λz.m s (n s z)) (λs.λz.s z) ((λp.p (λt.λf.f)) p))) ((λf.λs.λb.b f s) (λs.λz.z) (λs.λz.z)))) (λs.λz.z) (λy.λt.λf.f) (λt.λf.t)\n"
     ]
    },
    {
     "name": "stdout",
     "output_type": "stream",
     "text": [
      "= (λz.(λp.(λf.λs.λb.b f s) ((λp.p (λt.λf.f)) p) ((λm.λn.λs.λz.m s (n s z)) (λs.λz.s z) ((λp.p (λt.λf.f)) p))) ((λp.(λf.λs.λb.b f s) ((λp.p (λt.λf.f)) p) ((λm.λn.λs.λz.m s (n s z)) (λs.λz.s z) ((λp.p (λt.λf.f)) p))) z)) ((λf.λs.λb.b f s) (λs.λz.z) (λs.λz.z)) (λt.λf.t) (λp.(λf.λs.λb.b f s) ((λp.p (λt.λf.f)) p) ((λm.λn.λs.λz.m s (n s z)) (λs.λz.s z) ((λp.p (λt.λf.f)) p))) ((λf.λs.λb.b f s) (λs.λz.z) (λs.λz.z)) (λt.λf.t) (λp.(λf.λs.λb.b f s) ((λp.p (λt.λf.f)) p) ((λm.λn.λs.λz.m s (n s z)) (λs.λz.s z) ((λp.p (λt.λf.f)) p))) ((λf.λs.λb.b f s) (λs.λz.z) (λs.λz.z)) (λt.λf.t) (λm.(λp.p (λt.λf.t)) (m (λp.(λf.λs.λb.b f s) ((λp.p (λt.λf.f)) p) ((λm.λn.λs.λz.m s (n s z)) (λs.λz.s z) ((λp.p (λt.λf.f)) p))) ((λf.λs.λb.b f s) (λs.λz.z) (λs.λz.z)))) (λs.λz.z) (λy.λt.λf.f) (λt.λf.t)\n",
      "= (λp.(λf.λs.λb.b f s) ((λp.p (λt.λf.f)) p) ((λm.λn.λs.λz.m s (n s z)) (λs.λz.s z) ((λp.p (λt.λf.f)) p))) ((λp.(λf.λs.λb.b f s) ((λp.p (λt.λf.f)) p) ((λm.λn.λs.λz.m s (n s z)) (λs.λz.s z) ((λp.p (λt.λf.f)) p))) ((λf.λs.λb.b f s) (λs.λz.z) (λs.λz.z))) (λt.λf.t) (λp.(λf.λs.λb.b f s) ((λp.p (λt.λf.f)) p) ((λm.λn.λs.λz.m s (n s z)) (λs.λz.s z) ((λp.p (λt.λf.f)) p))) ((λf.λs.λb.b f s) (λs.λz.z) (λs.λz.z)) (λt.λf.t) (λp.(λf.λs.λb.b f s) ((λp.p (λt.λf.f)) p) ((λm.λn.λs.λz.m s (n s z)) (λs.λz.s z) ((λp.p (λt.λf.f)) p))) ((λf.λs.λb.b f s) (λs.λz.z) (λs.λz.z)) (λt.λf.t) (λm.(λp.p (λt.λf.t)) (m (λp.(λf.λs.λb.b f s) ((λp.p (λt.λf.f)) p) ((λm.λn.λs.λz.m s (n s z)) (λs.λz.s z) ((λp.p (λt.λf.f)) p))) ((λf.λs.λb.b f s) (λs.λz.z) (λs.λz.z)))) (λs.λz.z) (λy.λt.λf.f) (λt.λf.t)\n",
      "= (λf.λs.λb.b f s) ((λp.p (λt.λf.f)) ((λp.(λf.λs.λb.b f s) ((λp.p (λt.λf.f)) p) ((λm.λn.λs.λz.m s (n s z)) (λs.λz.s z) ((λp.p (λt.λf.f)) p))) ((λf.λs.λb.b f s) (λs.λz.z) (λs.λz.z)))) ((λm.λn.λs.λz.m s (n s z)) (λs.λz.s z) ((λp.p (λt.λf.f)) ((λp.(λf.λs.λb.b f s) ((λp.p (λt.λf.f)) p) ((λm.λn.λs.λz.m s (n s z)) (λs.λz.s z) ((λp.p (λt.λf.f)) p))) ((λf.λs.λb.b f s) (λs.λz.z) (λs.λz.z))))) (λt.λf.t) (λp.(λf.λs.λb.b f s) ((λp.p (λt.λf.f)) p) ((λm.λn.λs.λz.m s (n s z)) (λs.λz.s z) ((λp.p (λt.λf.f)) p))) ((λf.λs.λb.b f s) (λs.λz.z) (λs.λz.z)) (λt.λf.t) (λp.(λf.λs.λb.b f s) ((λp.p (λt.λf.f)) p) ((λm.λn.λs.λz.m s (n s z)) (λs.λz.s z) ((λp.p (λt.λf.f)) p))) ((λf.λs.λb.b f s) (λs.λz.z) (λs.λz.z)) (λt.λf.t) (λm.(λp.p (λt.λf.t)) (m (λp.(λf.λs.λb.b f s) ((λp.p (λt.λf.f)) p) ((λm.λn.λs.λz.m s (n s z)) (λs.λz.s z) ((λp.p (λt.λf.f)) p))) ((λf.λs.λb.b f s) (λs.λz.z) (λs.λz.z)))) (λs.λz.z) (λy.λt.λf.f) (λt.λf.t)\n",
      "= (λs.λb.b ((λp.p (λt.λf.f)) ((λp.(λf.λs.λb.b f s) ((λp.p (λt.λf.f)) p) ((λm.λn.λs.λz.m s (n s z)) (λs.λz.s z) ((λp.p (λt.λf.f)) p))) ((λf.λs.λb.b f s) (λs.λz.z) (λs.λz.z)))) s) ((λm.λn.λs.λz.m s (n s z)) (λs.λz.s z) ((λp.p (λt.λf.f)) ((λp.(λf.λs.λb.b f s) ((λp.p (λt.λf.f)) p) ((λm.λn.λs.λz.m s (n s z)) (λs.λz.s z) ((λp.p (λt.λf.f)) p))) ((λf.λs.λb.b f s) (λs.λz.z) (λs.λz.z))))) (λt.λf.t) (λp.(λf.λs.λb.b f s) ((λp.p (λt.λf.f)) p) ((λm.λn.λs.λz.m s (n s z)) (λs.λz.s z) ((λp.p (λt.λf.f)) p))) ((λf.λs.λb.b f s) (λs.λz.z) (λs.λz.z)) (λt.λf.t) (λp.(λf.λs.λb.b f s) ((λp.p (λt.λf.f)) p) ((λm.λn.λs.λz.m s (n s z)) (λs.λz.s z) ((λp.p (λt.λf.f)) p))) ((λf.λs.λb.b f s) (λs.λz.z) (λs.λz.z)) (λt.λf.t) (λm.(λp.p (λt.λf.t)) (m (λp.(λf.λs.λb.b f s) ((λp.p (λt.λf.f)) p) ((λm.λn.λs.λz.m s (n s z)) (λs.λz.s z) ((λp.p (λt.λf.f)) p))) ((λf.λs.λb.b f s) (λs.λz.z) (λs.λz.z)))) (λs.λz.z) (λy.λt.λf.f) (λt.λf.t)\n",
      "= (λb.b ((λp.p (λt.λf.f)) ((λp.(λf.λs.λb.b f s) ((λp.p (λt.λf.f)) p) ((λm.λn.λs.λz.m s (n s z)) (λs.λz.s z) ((λp.p (λt.λf.f)) p))) ((λf.λs.λb.b f s) (λs.λz.z) (λs.λz.z)))) ((λm.λn.λs.λz.m s (n s z)) (λs.λz.s z) ((λp.p (λt.λf.f)) ((λp.(λf.λs.λb.b f s) ((λp.p (λt.λf.f)) p) ((λm.λn.λs.λz.m s (n s z)) (λs.λz.s z) ((λp.p (λt.λf.f)) p))) ((λf.λs.λb.b f s) (λs.λz.z) (λs.λz.z)))))) (λt.λf.t) (λp.(λf.λs.λb.b f s) ((λp.p (λt.λf.f)) p) ((λm.λn.λs.λz.m s (n s z)) (λs.λz.s z) ((λp.p (λt.λf.f)) p))) ((λf.λs.λb.b f s) (λs.λz.z) (λs.λz.z)) (λt.λf.t) (λp.(λf.λs.λb.b f s) ((λp.p (λt.λf.f)) p) ((λm.λn.λs.λz.m s (n s z)) (λs.λz.s z) ((λp.p (λt.λf.f)) p))) ((λf.λs.λb.b f s) (λs.λz.z) (λs.λz.z)) (λt.λf.t) (λm.(λp.p (λt.λf.t)) (m (λp.(λf.λs.λb.b f s) ((λp.p (λt.λf.f)) p) ((λm.λn.λs.λz.m s (n s z)) (λs.λz.s z) ((λp.p (λt.λf.f)) p))) ((λf.λs.λb.b f s) (λs.λz.z) (λs.λz.z)))) (λs.λz.z) (λy.λt.λf.f) (λt.λf.t)\n",
      "= (λt.λf.t) ((λp.p (λt.λf.f)) ((λp.(λf.λs.λb.b f s) ((λp.p (λt.λf.f)) p) ((λm.λn.λs.λz.m s (n s z)) (λs.λz.s z) ((λp.p (λt.λf.f)) p))) ((λf.λs.λb.b f s) (λs.λz.z) (λs.λz.z)))) ((λm.λn.λs.λz.m s (n s z)) (λs.λz.s z) ((λp.p (λt.λf.f)) ((λp.(λf.λs.λb.b f s) ((λp.p (λt.λf.f)) p) ((λm.λn.λs.λz.m s (n s z)) (λs.λz.s z) ((λp.p (λt.λf.f)) p))) ((λf.λs.λb.b f s) (λs.λz.z) (λs.λz.z))))) (λp.(λf.λs.λb.b f s) ((λp.p (λt.λf.f)) p) ((λm.λn.λs.λz.m s (n s z)) (λs.λz.s z) ((λp.p (λt.λf.f)) p))) ((λf.λs.λb.b f s) (λs.λz.z) (λs.λz.z)) (λt.λf.t) (λp.(λf.λs.λb.b f s) ((λp.p (λt.λf.f)) p) ((λm.λn.λs.λz.m s (n s z)) (λs.λz.s z) ((λp.p (λt.λf.f)) p))) ((λf.λs.λb.b f s) (λs.λz.z) (λs.λz.z)) (λt.λf.t) (λm.(λp.p (λt.λf.t)) (m (λp.(λf.λs.λb.b f s) ((λp.p (λt.λf.f)) p) ((λm.λn.λs.λz.m s (n s z)) (λs.λz.s z) ((λp.p (λt.λf.f)) p))) ((λf.λs.λb.b f s) (λs.λz.z) (λs.λz.z)))) (λs.λz.z) (λy.λt.λf.f) (λt.λf.t)\n",
      "= (λf.(λp.p (λt.λf.f)) ((λp.(λf.λs.λb.b f s) ((λp.p (λt.λf.f)) p) ((λm.λn.λs.λz.m s (n s z)) (λs.λz.s z) ((λp.p (λt.λf.f)) p))) ((λf.λs.λb.b f s) (λs.λz.z) (λs.λz.z)))) ((λm.λn.λs.λz.m s (n s z)) (λs.λz.s z) ((λp.p (λt.λf.f)) ((λp.(λf.λs.λb.b f s) ((λp.p (λt.λf.f)) p) ((λm.λn.λs.λz.m s (n s z)) (λs.λz.s z) ((λp.p (λt.λf.f)) p))) ((λf.λs.λb.b f s) (λs.λz.z) (λs.λz.z))))) (λp.(λf.λs.λb.b f s) ((λp.p (λt.λf.f)) p) ((λm.λn.λs.λz.m s (n s z)) (λs.λz.s z) ((λp.p (λt.λf.f)) p))) ((λf.λs.λb.b f s) (λs.λz.z) (λs.λz.z)) (λt.λf.t) (λp.(λf.λs.λb.b f s) ((λp.p (λt.λf.f)) p) ((λm.λn.λs.λz.m s (n s z)) (λs.λz.s z) ((λp.p (λt.λf.f)) p))) ((λf.λs.λb.b f s) (λs.λz.z) (λs.λz.z)) (λt.λf.t) (λm.(λp.p (λt.λf.t)) (m (λp.(λf.λs.λb.b f s) ((λp.p (λt.λf.f)) p) ((λm.λn.λs.λz.m s (n s z)) (λs.λz.s z) ((λp.p (λt.λf.f)) p))) ((λf.λs.λb.b f s) (λs.λz.z) (λs.λz.z)))) (λs.λz.z) (λy.λt.λf.f) (λt.λf.t)\n",
      "= (λp.p (λt.λf.f)) ((λp.(λf.λs.λb.b f s) ((λp.p (λt.λf.f)) p) ((λm.λn.λs.λz.m s (n s z)) (λs.λz.s z) ((λp.p (λt.λf.f)) p))) ((λf.λs.λb.b f s) (λs.λz.z) (λs.λz.z))) (λp.(λf.λs.λb.b f s) ((λp.p (λt.λf.f)) p) ((λm.λn.λs.λz.m s (n s z)) (λs.λz.s z) ((λp.p (λt.λf.f)) p))) ((λf.λs.λb.b f s) (λs.λz.z) (λs.λz.z)) (λt.λf.t) (λp.(λf.λs.λb.b f s) ((λp.p (λt.λf.f)) p) ((λm.λn.λs.λz.m s (n s z)) (λs.λz.s z) ((λp.p (λt.λf.f)) p))) ((λf.λs.λb.b f s) (λs.λz.z) (λs.λz.z)) (λt.λf.t) (λm.(λp.p (λt.λf.t)) (m (λp.(λf.λs.λb.b f s) ((λp.p (λt.λf.f)) p) ((λm.λn.λs.λz.m s (n s z)) (λs.λz.s z) ((λp.p (λt.λf.f)) p))) ((λf.λs.λb.b f s) (λs.λz.z) (λs.λz.z)))) (λs.λz.z) (λy.λt.λf.f) (λt.λf.t)\n",
      "= (λp.(λf.λs.λb.b f s) ((λp.p (λt.λf.f)) p) ((λm.λn.λs.λz.m s (n s z)) (λs.λz.s z) ((λp.p (λt.λf.f)) p))) ((λf.λs.λb.b f s) (λs.λz.z) (λs.λz.z)) (λt.λf.f) (λp.(λf.λs.λb.b f s) ((λp.p (λt.λf.f)) p) ((λm.λn.λs.λz.m s (n s z)) (λs.λz.s z) ((λp.p (λt.λf.f)) p))) ((λf.λs.λb.b f s) (λs.λz.z) (λs.λz.z)) (λt.λf.t) (λp.(λf.λs.λb.b f s) ((λp.p (λt.λf.f)) p) ((λm.λn.λs.λz.m s (n s z)) (λs.λz.s z) ((λp.p (λt.λf.f)) p))) ((λf.λs.λb.b f s) (λs.λz.z) (λs.λz.z)) (λt.λf.t) (λm.(λp.p (λt.λf.t)) (m (λp.(λf.λs.λb.b f s) ((λp.p (λt.λf.f)) p) ((λm.λn.λs.λz.m s (n s z)) (λs.λz.s z) ((λp.p (λt.λf.f)) p))) ((λf.λs.λb.b f s) (λs.λz.z) (λs.λz.z)))) (λs.λz.z) (λy.λt.λf.f) (λt.λf.t)\n",
      "= (λf.λs.λb.b f s) ((λp.p (λt.λf.f)) ((λf.λs.λb.b f s) (λs.λz.z) (λs.λz.z))) ((λm.λn.λs.λz.m s (n s z)) (λs.λz.s z) ((λp.p (λt.λf.f)) ((λf.λs.λb.b f s) (λs.λz.z) (λs.λz.z)))) (λt.λf.f) (λp.(λf.λs.λb.b f s) ((λp.p (λt.λf.f)) p) ((λm.λn.λs.λz.m s (n s z)) (λs.λz.s z) ((λp.p (λt.λf.f)) p))) ((λf.λs.λb.b f s) (λs.λz.z) (λs.λz.z)) (λt.λf.t) (λp.(λf.λs.λb.b f s) ((λp.p (λt.λf.f)) p) ((λm.λn.λs.λz.m s (n s z)) (λs.λz.s z) ((λp.p (λt.λf.f)) p))) ((λf.λs.λb.b f s) (λs.λz.z) (λs.λz.z)) (λt.λf.t) (λm.(λp.p (λt.λf.t)) (m (λp.(λf.λs.λb.b f s) ((λp.p (λt.λf.f)) p) ((λm.λn.λs.λz.m s (n s z)) (λs.λz.s z) ((λp.p (λt.λf.f)) p))) ((λf.λs.λb.b f s) (λs.λz.z) (λs.λz.z)))) (λs.λz.z) (λy.λt.λf.f) (λt.λf.t)\n",
      "= (λs.λb.b ((λp.p (λt.λf.f)) ((λf.λs.λb.b f s) (λs.λz.z) (λs.λz.z))) s) ((λm.λn.λs.λz.m s (n s z)) (λs.λz.s z) ((λp.p (λt.λf.f)) ((λf.λs.λb.b f s) (λs.λz.z) (λs.λz.z)))) (λt.λf.f) (λp.(λf.λs.λb.b f s) ((λp.p (λt.λf.f)) p) ((λm.λn.λs.λz.m s (n s z)) (λs.λz.s z) ((λp.p (λt.λf.f)) p))) ((λf.λs.λb.b f s) (λs.λz.z) (λs.λz.z)) (λt.λf.t) (λp.(λf.λs.λb.b f s) ((λp.p (λt.λf.f)) p) ((λm.λn.λs.λz.m s (n s z)) (λs.λz.s z) ((λp.p (λt.λf.f)) p))) ((λf.λs.λb.b f s) (λs.λz.z) (λs.λz.z)) (λt.λf.t) (λm.(λp.p (λt.λf.t)) (m (λp.(λf.λs.λb.b f s) ((λp.p (λt.λf.f)) p) ((λm.λn.λs.λz.m s (n s z)) (λs.λz.s z) ((λp.p (λt.λf.f)) p))) ((λf.λs.λb.b f s) (λs.λz.z) (λs.λz.z)))) (λs.λz.z) (λy.λt.λf.f) (λt.λf.t)\n"
     ]
    },
    {
     "name": "stdout",
     "output_type": "stream",
     "text": [
      "= (λb.b ((λp.p (λt.λf.f)) ((λf.λs.λb.b f s) (λs.λz.z) (λs.λz.z))) ((λm.λn.λs.λz.m s (n s z)) (λs.λz.s z) ((λp.p (λt.λf.f)) ((λf.λs.λb.b f s) (λs.λz.z) (λs.λz.z))))) (λt.λf.f) (λp.(λf.λs.λb.b f s) ((λp.p (λt.λf.f)) p) ((λm.λn.λs.λz.m s (n s z)) (λs.λz.s z) ((λp.p (λt.λf.f)) p))) ((λf.λs.λb.b f s) (λs.λz.z) (λs.λz.z)) (λt.λf.t) (λp.(λf.λs.λb.b f s) ((λp.p (λt.λf.f)) p) ((λm.λn.λs.λz.m s (n s z)) (λs.λz.s z) ((λp.p (λt.λf.f)) p))) ((λf.λs.λb.b f s) (λs.λz.z) (λs.λz.z)) (λt.λf.t) (λm.(λp.p (λt.λf.t)) (m (λp.(λf.λs.λb.b f s) ((λp.p (λt.λf.f)) p) ((λm.λn.λs.λz.m s (n s z)) (λs.λz.s z) ((λp.p (λt.λf.f)) p))) ((λf.λs.λb.b f s) (λs.λz.z) (λs.λz.z)))) (λs.λz.z) (λy.λt.λf.f) (λt.λf.t)\n",
      "= (λt.λf.f) ((λp.p (λt.λf.f)) ((λf.λs.λb.b f s) (λs.λz.z) (λs.λz.z))) ((λm.λn.λs.λz.m s (n s z)) (λs.λz.s z) ((λp.p (λt.λf.f)) ((λf.λs.λb.b f s) (λs.λz.z) (λs.λz.z)))) (λp.(λf.λs.λb.b f s) ((λp.p (λt.λf.f)) p) ((λm.λn.λs.λz.m s (n s z)) (λs.λz.s z) ((λp.p (λt.λf.f)) p))) ((λf.λs.λb.b f s) (λs.λz.z) (λs.λz.z)) (λt.λf.t) (λp.(λf.λs.λb.b f s) ((λp.p (λt.λf.f)) p) ((λm.λn.λs.λz.m s (n s z)) (λs.λz.s z) ((λp.p (λt.λf.f)) p))) ((λf.λs.λb.b f s) (λs.λz.z) (λs.λz.z)) (λt.λf.t) (λm.(λp.p (λt.λf.t)) (m (λp.(λf.λs.λb.b f s) ((λp.p (λt.λf.f)) p) ((λm.λn.λs.λz.m s (n s z)) (λs.λz.s z) ((λp.p (λt.λf.f)) p))) ((λf.λs.λb.b f s) (λs.λz.z) (λs.λz.z)))) (λs.λz.z) (λy.λt.λf.f) (λt.λf.t)\n",
      "= (λf.f) ((λm.λn.λs.λz.m s (n s z)) (λs.λz.s z) ((λp.p (λt.λf.f)) ((λf.λs.λb.b f s) (λs.λz.z) (λs.λz.z)))) (λp.(λf.λs.λb.b f s) ((λp.p (λt.λf.f)) p) ((λm.λn.λs.λz.m s (n s z)) (λs.λz.s z) ((λp.p (λt.λf.f)) p))) ((λf.λs.λb.b f s) (λs.λz.z) (λs.λz.z)) (λt.λf.t) (λp.(λf.λs.λb.b f s) ((λp.p (λt.λf.f)) p) ((λm.λn.λs.λz.m s (n s z)) (λs.λz.s z) ((λp.p (λt.λf.f)) p))) ((λf.λs.λb.b f s) (λs.λz.z) (λs.λz.z)) (λt.λf.t) (λm.(λp.p (λt.λf.t)) (m (λp.(λf.λs.λb.b f s) ((λp.p (λt.λf.f)) p) ((λm.λn.λs.λz.m s (n s z)) (λs.λz.s z) ((λp.p (λt.λf.f)) p))) ((λf.λs.λb.b f s) (λs.λz.z) (λs.λz.z)))) (λs.λz.z) (λy.λt.λf.f) (λt.λf.t)\n",
      "= (λm.λn.λs.λz.m s (n s z)) (λs.λz.s z) ((λp.p (λt.λf.f)) ((λf.λs.λb.b f s) (λs.λz.z) (λs.λz.z))) (λp.(λf.λs.λb.b f s) ((λp.p (λt.λf.f)) p) ((λm.λn.λs.λz.m s (n s z)) (λs.λz.s z) ((λp.p (λt.λf.f)) p))) ((λf.λs.λb.b f s) (λs.λz.z) (λs.λz.z)) (λt.λf.t) (λp.(λf.λs.λb.b f s) ((λp.p (λt.λf.f)) p) ((λm.λn.λs.λz.m s (n s z)) (λs.λz.s z) ((λp.p (λt.λf.f)) p))) ((λf.λs.λb.b f s) (λs.λz.z) (λs.λz.z)) (λt.λf.t) (λm.(λp.p (λt.λf.t)) (m (λp.(λf.λs.λb.b f s) ((λp.p (λt.λf.f)) p) ((λm.λn.λs.λz.m s (n s z)) (λs.λz.s z) ((λp.p (λt.λf.f)) p))) ((λf.λs.λb.b f s) (λs.λz.z) (λs.λz.z)))) (λs.λz.z) (λy.λt.λf.f) (λt.λf.t)\n",
      "= (λn.λs.λz.(λs.λz.s z) s (n s z)) ((λp.p (λt.λf.f)) ((λf.λs.λb.b f s) (λs.λz.z) (λs.λz.z))) (λp.(λf.λs.λb.b f s) ((λp.p (λt.λf.f)) p) ((λm.λn.λs.λz.m s (n s z)) (λs.λz.s z) ((λp.p (λt.λf.f)) p))) ((λf.λs.λb.b f s) (λs.λz.z) (λs.λz.z)) (λt.λf.t) (λp.(λf.λs.λb.b f s) ((λp.p (λt.λf.f)) p) ((λm.λn.λs.λz.m s (n s z)) (λs.λz.s z) ((λp.p (λt.λf.f)) p))) ((λf.λs.λb.b f s) (λs.λz.z) (λs.λz.z)) (λt.λf.t) (λm.(λp.p (λt.λf.t)) (m (λp.(λf.λs.λb.b f s) ((λp.p (λt.λf.f)) p) ((λm.λn.λs.λz.m s (n s z)) (λs.λz.s z) ((λp.p (λt.λf.f)) p))) ((λf.λs.λb.b f s) (λs.λz.z) (λs.λz.z)))) (λs.λz.z) (λy.λt.λf.f) (λt.λf.t)\n",
      "= (λs.λz.(λs.λz.s z) s ((λp.p (λt.λf.f)) ((λf.λs.λb.b f s) (λs.λz.z) (λs.λz.z)) s z)) (λp.(λf.λs.λb.b f s) ((λp.p (λt.λf.f)) p) ((λm.λn.λs.λz.m s (n s z)) (λs.λz.s z) ((λp.p (λt.λf.f)) p))) ((λf.λs.λb.b f s) (λs.λz.z) (λs.λz.z)) (λt.λf.t) (λp.(λf.λs.λb.b f s) ((λp.p (λt.λf.f)) p) ((λm.λn.λs.λz.m s (n s z)) (λs.λz.s z) ((λp.p (λt.λf.f)) p))) ((λf.λs.λb.b f s) (λs.λz.z) (λs.λz.z)) (λt.λf.t) (λm.(λp.p (λt.λf.t)) (m (λp.(λf.λs.λb.b f s) ((λp.p (λt.λf.f)) p) ((λm.λn.λs.λz.m s (n s z)) (λs.λz.s z) ((λp.p (λt.λf.f)) p))) ((λf.λs.λb.b f s) (λs.λz.z) (λs.λz.z)))) (λs.λz.z) (λy.λt.λf.f) (λt.λf.t)\n",
      "= (λz.(λs.λz.s z) (λp.(λf.λs.λb.b f s) ((λp.p (λt.λf.f)) p) ((λm.λn.λs.λz.m s (n s z)) (λs.λz.s z) ((λp.p (λt.λf.f)) p))) ((λp.p (λt.λf.f)) ((λf.λs.λb.b f s) (λs.λz.z) (λs.λz.z)) (λp.(λf.λs.λb.b f s) ((λp.p (λt.λf.f)) p) ((λm.λn.λs.λz.m s (n s z)) (λs.λz.s z) ((λp.p (λt.λf.f)) p))) z)) ((λf.λs.λb.b f s) (λs.λz.z) (λs.λz.z)) (λt.λf.t) (λp.(λf.λs.λb.b f s) ((λp.p (λt.λf.f)) p) ((λm.λn.λs.λz.m s (n s z)) (λs.λz.s z) ((λp.p (λt.λf.f)) p))) ((λf.λs.λb.b f s) (λs.λz.z) (λs.λz.z)) (λt.λf.t) (λm.(λp.p (λt.λf.t)) (m (λp.(λf.λs.λb.b f s) ((λp.p (λt.λf.f)) p) ((λm.λn.λs.λz.m s (n s z)) (λs.λz.s z) ((λp.p (λt.λf.f)) p))) ((λf.λs.λb.b f s) (λs.λz.z) (λs.λz.z)))) (λs.λz.z) (λy.λt.λf.f) (λt.λf.t)\n",
      "= (λs.λz.s z) (λp.(λf.λs.λb.b f s) ((λp.p (λt.λf.f)) p) ((λm.λn.λs.λz.m s (n s z)) (λs.λz.s z) ((λp.p (λt.λf.f)) p))) ((λp.p (λt.λf.f)) ((λf.λs.λb.b f s) (λs.λz.z) (λs.λz.z)) (λp.(λf.λs.λb.b f s) ((λp.p (λt.λf.f)) p) ((λm.λn.λs.λz.m s (n s z)) (λs.λz.s z) ((λp.p (λt.λf.f)) p))) ((λf.λs.λb.b f s) (λs.λz.z) (λs.λz.z))) (λt.λf.t) (λp.(λf.λs.λb.b f s) ((λp.p (λt.λf.f)) p) ((λm.λn.λs.λz.m s (n s z)) (λs.λz.s z) ((λp.p (λt.λf.f)) p))) ((λf.λs.λb.b f s) (λs.λz.z) (λs.λz.z)) (λt.λf.t) (λm.(λp.p (λt.λf.t)) (m (λp.(λf.λs.λb.b f s) ((λp.p (λt.λf.f)) p) ((λm.λn.λs.λz.m s (n s z)) (λs.λz.s z) ((λp.p (λt.λf.f)) p))) ((λf.λs.λb.b f s) (λs.λz.z) (λs.λz.z)))) (λs.λz.z) (λy.λt.λf.f) (λt.λf.t)\n",
      "= (λz.(λp.(λf.λs.λb.b f s) ((λp.p (λt.λf.f)) p) ((λm.λn.λs.λz.m s (n s z)) (λs.λz.s z) ((λp.p (λt.λf.f)) p))) z) ((λp.p (λt.λf.f)) ((λf.λs.λb.b f s) (λs.λz.z) (λs.λz.z)) (λp.(λf.λs.λb.b f s) ((λp.p (λt.λf.f)) p) ((λm.λn.λs.λz.m s (n s z)) (λs.λz.s z) ((λp.p (λt.λf.f)) p))) ((λf.λs.λb.b f s) (λs.λz.z) (λs.λz.z))) (λt.λf.t) (λp.(λf.λs.λb.b f s) ((λp.p (λt.λf.f)) p) ((λm.λn.λs.λz.m s (n s z)) (λs.λz.s z) ((λp.p (λt.λf.f)) p))) ((λf.λs.λb.b f s) (λs.λz.z) (λs.λz.z)) (λt.λf.t) (λm.(λp.p (λt.λf.t)) (m (λp.(λf.λs.λb.b f s) ((λp.p (λt.λf.f)) p) ((λm.λn.λs.λz.m s (n s z)) (λs.λz.s z) ((λp.p (λt.λf.f)) p))) ((λf.λs.λb.b f s) (λs.λz.z) (λs.λz.z)))) (λs.λz.z) (λy.λt.λf.f) (λt.λf.t)\n",
      "= (λp.(λf.λs.λb.b f s) ((λp.p (λt.λf.f)) p) ((λm.λn.λs.λz.m s (n s z)) (λs.λz.s z) ((λp.p (λt.λf.f)) p))) ((λp.p (λt.λf.f)) ((λf.λs.λb.b f s) (λs.λz.z) (λs.λz.z)) (λp.(λf.λs.λb.b f s) ((λp.p (λt.λf.f)) p) ((λm.λn.λs.λz.m s (n s z)) (λs.λz.s z) ((λp.p (λt.λf.f)) p))) ((λf.λs.λb.b f s) (λs.λz.z) (λs.λz.z))) (λt.λf.t) (λp.(λf.λs.λb.b f s) ((λp.p (λt.λf.f)) p) ((λm.λn.λs.λz.m s (n s z)) (λs.λz.s z) ((λp.p (λt.λf.f)) p))) ((λf.λs.λb.b f s) (λs.λz.z) (λs.λz.z)) (λt.λf.t) (λm.(λp.p (λt.λf.t)) (m (λp.(λf.λs.λb.b f s) ((λp.p (λt.λf.f)) p) ((λm.λn.λs.λz.m s (n s z)) (λs.λz.s z) ((λp.p (λt.λf.f)) p))) ((λf.λs.λb.b f s) (λs.λz.z) (λs.λz.z)))) (λs.λz.z) (λy.λt.λf.f) (λt.λf.t)\n",
      "= (λf.λs.λb.b f s) ((λp.p (λt.λf.f)) ((λp.p (λt.λf.f)) ((λf.λs.λb.b f s) (λs.λz.z) (λs.λz.z)) (λp.(λf.λs.λb.b f s) ((λp.p (λt.λf.f)) p) ((λm.λn.λs.λz.m s (n s z)) (λs.λz.s z) ((λp.p (λt.λf.f)) p))) ((λf.λs.λb.b f s) (λs.λz.z) (λs.λz.z)))) ((λm.λn.λs.λz.m s (n s z)) (λs.λz.s z) ((λp.p (λt.λf.f)) ((λp.p (λt.λf.f)) ((λf.λs.λb.b f s) (λs.λz.z) (λs.λz.z)) (λp.(λf.λs.λb.b f s) ((λp.p (λt.λf.f)) p) ((λm.λn.λs.λz.m s (n s z)) (λs.λz.s z) ((λp.p (λt.λf.f)) p))) ((λf.λs.λb.b f s) (λs.λz.z) (λs.λz.z))))) (λt.λf.t) (λp.(λf.λs.λb.b f s) ((λp.p (λt.λf.f)) p) ((λm.λn.λs.λz.m s (n s z)) (λs.λz.s z) ((λp.p (λt.λf.f)) p))) ((λf.λs.λb.b f s) (λs.λz.z) (λs.λz.z)) (λt.λf.t) (λm.(λp.p (λt.λf.t)) (m (λp.(λf.λs.λb.b f s) ((λp.p (λt.λf.f)) p) ((λm.λn.λs.λz.m s (n s z)) (λs.λz.s z) ((λp.p (λt.λf.f)) p))) ((λf.λs.λb.b f s) (λs.λz.z) (λs.λz.z)))) (λs.λz.z) (λy.λt.λf.f) (λt.λf.t)\n",
      "= (λs.λb.b ((λp.p (λt.λf.f)) ((λp.p (λt.λf.f)) ((λf.λs.λb.b f s) (λs.λz.z) (λs.λz.z)) (λp.(λf.λs.λb.b f s) ((λp.p (λt.λf.f)) p) ((λm.λn.λs.λz.m s (n s z)) (λs.λz.s z) ((λp.p (λt.λf.f)) p))) ((λf.λs.λb.b f s) (λs.λz.z) (λs.λz.z)))) s) ((λm.λn.λs.λz.m s (n s z)) (λs.λz.s z) ((λp.p (λt.λf.f)) ((λp.p (λt.λf.f)) ((λf.λs.λb.b f s) (λs.λz.z) (λs.λz.z)) (λp.(λf.λs.λb.b f s) ((λp.p (λt.λf.f)) p) ((λm.λn.λs.λz.m s (n s z)) (λs.λz.s z) ((λp.p (λt.λf.f)) p))) ((λf.λs.λb.b f s) (λs.λz.z) (λs.λz.z))))) (λt.λf.t) (λp.(λf.λs.λb.b f s) ((λp.p (λt.λf.f)) p) ((λm.λn.λs.λz.m s (n s z)) (λs.λz.s z) ((λp.p (λt.λf.f)) p))) ((λf.λs.λb.b f s) (λs.λz.z) (λs.λz.z)) (λt.λf.t) (λm.(λp.p (λt.λf.t)) (m (λp.(λf.λs.λb.b f s) ((λp.p (λt.λf.f)) p) ((λm.λn.λs.λz.m s (n s z)) (λs.λz.s z) ((λp.p (λt.λf.f)) p))) ((λf.λs.λb.b f s) (λs.λz.z) (λs.λz.z)))) (λs.λz.z) (λy.λt.λf.f) (λt.λf.t)\n"
     ]
    },
    {
     "name": "stdout",
     "output_type": "stream",
     "text": [
      "= (λb.b ((λp.p (λt.λf.f)) ((λp.p (λt.λf.f)) ((λf.λs.λb.b f s) (λs.λz.z) (λs.λz.z)) (λp.(λf.λs.λb.b f s) ((λp.p (λt.λf.f)) p) ((λm.λn.λs.λz.m s (n s z)) (λs.λz.s z) ((λp.p (λt.λf.f)) p))) ((λf.λs.λb.b f s) (λs.λz.z) (λs.λz.z)))) ((λm.λn.λs.λz.m s (n s z)) (λs.λz.s z) ((λp.p (λt.λf.f)) ((λp.p (λt.λf.f)) ((λf.λs.λb.b f s) (λs.λz.z) (λs.λz.z)) (λp.(λf.λs.λb.b f s) ((λp.p (λt.λf.f)) p) ((λm.λn.λs.λz.m s (n s z)) (λs.λz.s z) ((λp.p (λt.λf.f)) p))) ((λf.λs.λb.b f s) (λs.λz.z) (λs.λz.z)))))) (λt.λf.t) (λp.(λf.λs.λb.b f s) ((λp.p (λt.λf.f)) p) ((λm.λn.λs.λz.m s (n s z)) (λs.λz.s z) ((λp.p (λt.λf.f)) p))) ((λf.λs.λb.b f s) (λs.λz.z) (λs.λz.z)) (λt.λf.t) (λm.(λp.p (λt.λf.t)) (m (λp.(λf.λs.λb.b f s) ((λp.p (λt.λf.f)) p) ((λm.λn.λs.λz.m s (n s z)) (λs.λz.s z) ((λp.p (λt.λf.f)) p))) ((λf.λs.λb.b f s) (λs.λz.z) (λs.λz.z)))) (λs.λz.z) (λy.λt.λf.f) (λt.λf.t)\n",
      "= (λt.λf.t) ((λp.p (λt.λf.f)) ((λp.p (λt.λf.f)) ((λf.λs.λb.b f s) (λs.λz.z) (λs.λz.z)) (λp.(λf.λs.λb.b f s) ((λp.p (λt.λf.f)) p) ((λm.λn.λs.λz.m s (n s z)) (λs.λz.s z) ((λp.p (λt.λf.f)) p))) ((λf.λs.λb.b f s) (λs.λz.z) (λs.λz.z)))) ((λm.λn.λs.λz.m s (n s z)) (λs.λz.s z) ((λp.p (λt.λf.f)) ((λp.p (λt.λf.f)) ((λf.λs.λb.b f s) (λs.λz.z) (λs.λz.z)) (λp.(λf.λs.λb.b f s) ((λp.p (λt.λf.f)) p) ((λm.λn.λs.λz.m s (n s z)) (λs.λz.s z) ((λp.p (λt.λf.f)) p))) ((λf.λs.λb.b f s) (λs.λz.z) (λs.λz.z))))) (λp.(λf.λs.λb.b f s) ((λp.p (λt.λf.f)) p) ((λm.λn.λs.λz.m s (n s z)) (λs.λz.s z) ((λp.p (λt.λf.f)) p))) ((λf.λs.λb.b f s) (λs.λz.z) (λs.λz.z)) (λt.λf.t) (λm.(λp.p (λt.λf.t)) (m (λp.(λf.λs.λb.b f s) ((λp.p (λt.λf.f)) p) ((λm.λn.λs.λz.m s (n s z)) (λs.λz.s z) ((λp.p (λt.λf.f)) p))) ((λf.λs.λb.b f s) (λs.λz.z) (λs.λz.z)))) (λs.λz.z) (λy.λt.λf.f) (λt.λf.t)\n",
      "= (λf.(λp.p (λt.λf.f)) ((λp.p (λt.λf.f)) ((λf.λs.λb.b f s) (λs.λz.z) (λs.λz.z)) (λp.(λf.λs.λb.b f s) ((λp.p (λt.λf.f)) p) ((λm.λn.λs.λz.m s (n s z)) (λs.λz.s z) ((λp.p (λt.λf.f)) p))) ((λf.λs.λb.b f s) (λs.λz.z) (λs.λz.z)))) ((λm.λn.λs.λz.m s (n s z)) (λs.λz.s z) ((λp.p (λt.λf.f)) ((λp.p (λt.λf.f)) ((λf.λs.λb.b f s) (λs.λz.z) (λs.λz.z)) (λp.(λf.λs.λb.b f s) ((λp.p (λt.λf.f)) p) ((λm.λn.λs.λz.m s (n s z)) (λs.λz.s z) ((λp.p (λt.λf.f)) p))) ((λf.λs.λb.b f s) (λs.λz.z) (λs.λz.z))))) (λp.(λf.λs.λb.b f s) ((λp.p (λt.λf.f)) p) ((λm.λn.λs.λz.m s (n s z)) (λs.λz.s z) ((λp.p (λt.λf.f)) p))) ((λf.λs.λb.b f s) (λs.λz.z) (λs.λz.z)) (λt.λf.t) (λm.(λp.p (λt.λf.t)) (m (λp.(λf.λs.λb.b f s) ((λp.p (λt.λf.f)) p) ((λm.λn.λs.λz.m s (n s z)) (λs.λz.s z) ((λp.p (λt.λf.f)) p))) ((λf.λs.λb.b f s) (λs.λz.z) (λs.λz.z)))) (λs.λz.z) (λy.λt.λf.f) (λt.λf.t)\n",
      "= (λp.p (λt.λf.f)) ((λp.p (λt.λf.f)) ((λf.λs.λb.b f s) (λs.λz.z) (λs.λz.z)) (λp.(λf.λs.λb.b f s) ((λp.p (λt.λf.f)) p) ((λm.λn.λs.λz.m s (n s z)) (λs.λz.s z) ((λp.p (λt.λf.f)) p))) ((λf.λs.λb.b f s) (λs.λz.z) (λs.λz.z))) (λp.(λf.λs.λb.b f s) ((λp.p (λt.λf.f)) p) ((λm.λn.λs.λz.m s (n s z)) (λs.λz.s z) ((λp.p (λt.λf.f)) p))) ((λf.λs.λb.b f s) (λs.λz.z) (λs.λz.z)) (λt.λf.t) (λm.(λp.p (λt.λf.t)) (m (λp.(λf.λs.λb.b f s) ((λp.p (λt.λf.f)) p) ((λm.λn.λs.λz.m s (n s z)) (λs.λz.s z) ((λp.p (λt.λf.f)) p))) ((λf.λs.λb.b f s) (λs.λz.z) (λs.λz.z)))) (λs.λz.z) (λy.λt.λf.f) (λt.λf.t)\n",
      "= (λp.p (λt.λf.f)) ((λf.λs.λb.b f s) (λs.λz.z) (λs.λz.z)) (λp.(λf.λs.λb.b f s) ((λp.p (λt.λf.f)) p) ((λm.λn.λs.λz.m s (n s z)) (λs.λz.s z) ((λp.p (λt.λf.f)) p))) ((λf.λs.λb.b f s) (λs.λz.z) (λs.λz.z)) (λt.λf.f) (λp.(λf.λs.λb.b f s) ((λp.p (λt.λf.f)) p) ((λm.λn.λs.λz.m s (n s z)) (λs.λz.s z) ((λp.p (λt.λf.f)) p))) ((λf.λs.λb.b f s) (λs.λz.z) (λs.λz.z)) (λt.λf.t) (λm.(λp.p (λt.λf.t)) (m (λp.(λf.λs.λb.b f s) ((λp.p (λt.λf.f)) p) ((λm.λn.λs.λz.m s (n s z)) (λs.λz.s z) ((λp.p (λt.λf.f)) p))) ((λf.λs.λb.b f s) (λs.λz.z) (λs.λz.z)))) (λs.λz.z) (λy.λt.λf.f) (λt.λf.t)\n",
      "= (λf.λs.λb.b f s) (λs.λz.z) (λs.λz.z) (λt.λf.f) (λp.(λf.λs.λb.b f s) ((λp.p (λt.λf.f)) p) ((λm.λn.λs.λz.m s (n s z)) (λs.λz.s z) ((λp.p (λt.λf.f)) p))) ((λf.λs.λb.b f s) (λs.λz.z) (λs.λz.z)) (λt.λf.f) (λp.(λf.λs.λb.b f s) ((λp.p (λt.λf.f)) p) ((λm.λn.λs.λz.m s (n s z)) (λs.λz.s z) ((λp.p (λt.λf.f)) p))) ((λf.λs.λb.b f s) (λs.λz.z) (λs.λz.z)) (λt.λf.t) (λm.(λp.p (λt.λf.t)) (m (λp.(λf.λs.λb.b f s) ((λp.p (λt.λf.f)) p) ((λm.λn.λs.λz.m s (n s z)) (λs.λz.s z) ((λp.p (λt.λf.f)) p))) ((λf.λs.λb.b f s) (λs.λz.z) (λs.λz.z)))) (λs.λz.z) (λy.λt.λf.f) (λt.λf.t)\n",
      "= (λs.λb.b (λs.λz.z) s) (λs.λz.z) (λt.λf.f) (λp.(λf.λs.λb.b f s) ((λp.p (λt.λf.f)) p) ((λm.λn.λs.λz.m s (n s z)) (λs.λz.s z) ((λp.p (λt.λf.f)) p))) ((λf.λs.λb.b f s) (λs.λz.z) (λs.λz.z)) (λt.λf.f) (λp.(λf.λs.λb.b f s) ((λp.p (λt.λf.f)) p) ((λm.λn.λs.λz.m s (n s z)) (λs.λz.s z) ((λp.p (λt.λf.f)) p))) ((λf.λs.λb.b f s) (λs.λz.z) (λs.λz.z)) (λt.λf.t) (λm.(λp.p (λt.λf.t)) (m (λp.(λf.λs.λb.b f s) ((λp.p (λt.λf.f)) p) ((λm.λn.λs.λz.m s (n s z)) (λs.λz.s z) ((λp.p (λt.λf.f)) p))) ((λf.λs.λb.b f s) (λs.λz.z) (λs.λz.z)))) (λs.λz.z) (λy.λt.λf.f) (λt.λf.t)\n",
      "= (λb.b (λs.λz.z) (λs.λz.z)) (λt.λf.f) (λp.(λf.λs.λb.b f s) ((λp.p (λt.λf.f)) p) ((λm.λn.λs.λz.m s (n s z)) (λs.λz.s z) ((λp.p (λt.λf.f)) p))) ((λf.λs.λb.b f s) (λs.λz.z) (λs.λz.z)) (λt.λf.f) (λp.(λf.λs.λb.b f s) ((λp.p (λt.λf.f)) p) ((λm.λn.λs.λz.m s (n s z)) (λs.λz.s z) ((λp.p (λt.λf.f)) p))) ((λf.λs.λb.b f s) (λs.λz.z) (λs.λz.z)) (λt.λf.t) (λm.(λp.p (λt.λf.t)) (m (λp.(λf.λs.λb.b f s) ((λp.p (λt.λf.f)) p) ((λm.λn.λs.λz.m s (n s z)) (λs.λz.s z) ((λp.p (λt.λf.f)) p))) ((λf.λs.λb.b f s) (λs.λz.z) (λs.λz.z)))) (λs.λz.z) (λy.λt.λf.f) (λt.λf.t)\n",
      "= (λt.λf.f) (λs.λz.z) (λs.λz.z) (λp.(λf.λs.λb.b f s) ((λp.p (λt.λf.f)) p) ((λm.λn.λs.λz.m s (n s z)) (λs.λz.s z) ((λp.p (λt.λf.f)) p))) ((λf.λs.λb.b f s) (λs.λz.z) (λs.λz.z)) (λt.λf.f) (λp.(λf.λs.λb.b f s) ((λp.p (λt.λf.f)) p) ((λm.λn.λs.λz.m s (n s z)) (λs.λz.s z) ((λp.p (λt.λf.f)) p))) ((λf.λs.λb.b f s) (λs.λz.z) (λs.λz.z)) (λt.λf.t) (λm.(λp.p (λt.λf.t)) (m (λp.(λf.λs.λb.b f s) ((λp.p (λt.λf.f)) p) ((λm.λn.λs.λz.m s (n s z)) (λs.λz.s z) ((λp.p (λt.λf.f)) p))) ((λf.λs.λb.b f s) (λs.λz.z) (λs.λz.z)))) (λs.λz.z) (λy.λt.λf.f) (λt.λf.t)\n",
      "= (λf.f) (λs.λz.z) (λp.(λf.λs.λb.b f s) ((λp.p (λt.λf.f)) p) ((λm.λn.λs.λz.m s (n s z)) (λs.λz.s z) ((λp.p (λt.λf.f)) p))) ((λf.λs.λb.b f s) (λs.λz.z) (λs.λz.z)) (λt.λf.f) (λp.(λf.λs.λb.b f s) ((λp.p (λt.λf.f)) p) ((λm.λn.λs.λz.m s (n s z)) (λs.λz.s z) ((λp.p (λt.λf.f)) p))) ((λf.λs.λb.b f s) (λs.λz.z) (λs.λz.z)) (λt.λf.t) (λm.(λp.p (λt.λf.t)) (m (λp.(λf.λs.λb.b f s) ((λp.p (λt.λf.f)) p) ((λm.λn.λs.λz.m s (n s z)) (λs.λz.s z) ((λp.p (λt.λf.f)) p))) ((λf.λs.λb.b f s) (λs.λz.z) (λs.λz.z)))) (λs.λz.z) (λy.λt.λf.f) (λt.λf.t)\n",
      "= (λs.λz.z) (λp.(λf.λs.λb.b f s) ((λp.p (λt.λf.f)) p) ((λm.λn.λs.λz.m s (n s z)) (λs.λz.s z) ((λp.p (λt.λf.f)) p))) ((λf.λs.λb.b f s) (λs.λz.z) (λs.λz.z)) (λt.λf.f) (λp.(λf.λs.λb.b f s) ((λp.p (λt.λf.f)) p) ((λm.λn.λs.λz.m s (n s z)) (λs.λz.s z) ((λp.p (λt.λf.f)) p))) ((λf.λs.λb.b f s) (λs.λz.z) (λs.λz.z)) (λt.λf.t) (λm.(λp.p (λt.λf.t)) (m (λp.(λf.λs.λb.b f s) ((λp.p (λt.λf.f)) p) ((λm.λn.λs.λz.m s (n s z)) (λs.λz.s z) ((λp.p (λt.λf.f)) p))) ((λf.λs.λb.b f s) (λs.λz.z) (λs.λz.z)))) (λs.λz.z) (λy.λt.λf.f) (λt.λf.t)\n",
      "= (λz.z) ((λf.λs.λb.b f s) (λs.λz.z) (λs.λz.z)) (λt.λf.f) (λp.(λf.λs.λb.b f s) ((λp.p (λt.λf.f)) p) ((λm.λn.λs.λz.m s (n s z)) (λs.λz.s z) ((λp.p (λt.λf.f)) p))) ((λf.λs.λb.b f s) (λs.λz.z) (λs.λz.z)) (λt.λf.t) (λm.(λp.p (λt.λf.t)) (m (λp.(λf.λs.λb.b f s) ((λp.p (λt.λf.f)) p) ((λm.λn.λs.λz.m s (n s z)) (λs.λz.s z) ((λp.p (λt.λf.f)) p))) ((λf.λs.λb.b f s) (λs.λz.z) (λs.λz.z)))) (λs.λz.z) (λy.λt.λf.f) (λt.λf.t)\n",
      "= (λf.λs.λb.b f s) (λs.λz.z) (λs.λz.z) (λt.λf.f) (λp.(λf.λs.λb.b f s) ((λp.p (λt.λf.f)) p) ((λm.λn.λs.λz.m s (n s z)) (λs.λz.s z) ((λp.p (λt.λf.f)) p))) ((λf.λs.λb.b f s) (λs.λz.z) (λs.λz.z)) (λt.λf.t) (λm.(λp.p (λt.λf.t)) (m (λp.(λf.λs.λb.b f s) ((λp.p (λt.λf.f)) p) ((λm.λn.λs.λz.m s (n s z)) (λs.λz.s z) ((λp.p (λt.λf.f)) p))) ((λf.λs.λb.b f s) (λs.λz.z) (λs.λz.z)))) (λs.λz.z) (λy.λt.λf.f) (λt.λf.t)\n",
      "= (λs.λb.b (λs.λz.z) s) (λs.λz.z) (λt.λf.f) (λp.(λf.λs.λb.b f s) ((λp.p (λt.λf.f)) p) ((λm.λn.λs.λz.m s (n s z)) (λs.λz.s z) ((λp.p (λt.λf.f)) p))) ((λf.λs.λb.b f s) (λs.λz.z) (λs.λz.z)) (λt.λf.t) (λm.(λp.p (λt.λf.t)) (m (λp.(λf.λs.λb.b f s) ((λp.p (λt.λf.f)) p) ((λm.λn.λs.λz.m s (n s z)) (λs.λz.s z) ((λp.p (λt.λf.f)) p))) ((λf.λs.λb.b f s) (λs.λz.z) (λs.λz.z)))) (λs.λz.z) (λy.λt.λf.f) (λt.λf.t)\n",
      "= (λb.b (λs.λz.z) (λs.λz.z)) (λt.λf.f) (λp.(λf.λs.λb.b f s) ((λp.p (λt.λf.f)) p) ((λm.λn.λs.λz.m s (n s z)) (λs.λz.s z) ((λp.p (λt.λf.f)) p))) ((λf.λs.λb.b f s) (λs.λz.z) (λs.λz.z)) (λt.λf.t) (λm.(λp.p (λt.λf.t)) (m (λp.(λf.λs.λb.b f s) ((λp.p (λt.λf.f)) p) ((λm.λn.λs.λz.m s (n s z)) (λs.λz.s z) ((λp.p (λt.λf.f)) p))) ((λf.λs.λb.b f s) (λs.λz.z) (λs.λz.z)))) (λs.λz.z) (λy.λt.λf.f) (λt.λf.t)\n"
     ]
    },
    {
     "name": "stdout",
     "output_type": "stream",
     "text": [
      "= (λt.λf.f) (λs.λz.z) (λs.λz.z) (λp.(λf.λs.λb.b f s) ((λp.p (λt.λf.f)) p) ((λm.λn.λs.λz.m s (n s z)) (λs.λz.s z) ((λp.p (λt.λf.f)) p))) ((λf.λs.λb.b f s) (λs.λz.z) (λs.λz.z)) (λt.λf.t) (λm.(λp.p (λt.λf.t)) (m (λp.(λf.λs.λb.b f s) ((λp.p (λt.λf.f)) p) ((λm.λn.λs.λz.m s (n s z)) (λs.λz.s z) ((λp.p (λt.λf.f)) p))) ((λf.λs.λb.b f s) (λs.λz.z) (λs.λz.z)))) (λs.λz.z) (λy.λt.λf.f) (λt.λf.t)\n",
      "= (λf.f) (λs.λz.z) (λp.(λf.λs.λb.b f s) ((λp.p (λt.λf.f)) p) ((λm.λn.λs.λz.m s (n s z)) (λs.λz.s z) ((λp.p (λt.λf.f)) p))) ((λf.λs.λb.b f s) (λs.λz.z) (λs.λz.z)) (λt.λf.t) (λm.(λp.p (λt.λf.t)) (m (λp.(λf.λs.λb.b f s) ((λp.p (λt.λf.f)) p) ((λm.λn.λs.λz.m s (n s z)) (λs.λz.s z) ((λp.p (λt.λf.f)) p))) ((λf.λs.λb.b f s) (λs.λz.z) (λs.λz.z)))) (λs.λz.z) (λy.λt.λf.f) (λt.λf.t)\n",
      "= (λs.λz.z) (λp.(λf.λs.λb.b f s) ((λp.p (λt.λf.f)) p) ((λm.λn.λs.λz.m s (n s z)) (λs.λz.s z) ((λp.p (λt.λf.f)) p))) ((λf.λs.λb.b f s) (λs.λz.z) (λs.λz.z)) (λt.λf.t) (λm.(λp.p (λt.λf.t)) (m (λp.(λf.λs.λb.b f s) ((λp.p (λt.λf.f)) p) ((λm.λn.λs.λz.m s (n s z)) (λs.λz.s z) ((λp.p (λt.λf.f)) p))) ((λf.λs.λb.b f s) (λs.λz.z) (λs.λz.z)))) (λs.λz.z) (λy.λt.λf.f) (λt.λf.t)\n",
      "= (λz.z) ((λf.λs.λb.b f s) (λs.λz.z) (λs.λz.z)) (λt.λf.t) (λm.(λp.p (λt.λf.t)) (m (λp.(λf.λs.λb.b f s) ((λp.p (λt.λf.f)) p) ((λm.λn.λs.λz.m s (n s z)) (λs.λz.s z) ((λp.p (λt.λf.f)) p))) ((λf.λs.λb.b f s) (λs.λz.z) (λs.λz.z)))) (λs.λz.z) (λy.λt.λf.f) (λt.λf.t)\n",
      "= (λf.λs.λb.b f s) (λs.λz.z) (λs.λz.z) (λt.λf.t) (λm.(λp.p (λt.λf.t)) (m (λp.(λf.λs.λb.b f s) ((λp.p (λt.λf.f)) p) ((λm.λn.λs.λz.m s (n s z)) (λs.λz.s z) ((λp.p (λt.λf.f)) p))) ((λf.λs.λb.b f s) (λs.λz.z) (λs.λz.z)))) (λs.λz.z) (λy.λt.λf.f) (λt.λf.t)\n",
      "= (λs.λb.b (λs.λz.z) s) (λs.λz.z) (λt.λf.t) (λm.(λp.p (λt.λf.t)) (m (λp.(λf.λs.λb.b f s) ((λp.p (λt.λf.f)) p) ((λm.λn.λs.λz.m s (n s z)) (λs.λz.s z) ((λp.p (λt.λf.f)) p))) ((λf.λs.λb.b f s) (λs.λz.z) (λs.λz.z)))) (λs.λz.z) (λy.λt.λf.f) (λt.λf.t)\n",
      "= (λb.b (λs.λz.z) (λs.λz.z)) (λt.λf.t) (λm.(λp.p (λt.λf.t)) (m (λp.(λf.λs.λb.b f s) ((λp.p (λt.λf.f)) p) ((λm.λn.λs.λz.m s (n s z)) (λs.λz.s z) ((λp.p (λt.λf.f)) p))) ((λf.λs.λb.b f s) (λs.λz.z) (λs.λz.z)))) (λs.λz.z) (λy.λt.λf.f) (λt.λf.t)\n",
      "= (λt.λf.t) (λs.λz.z) (λs.λz.z) (λm.(λp.p (λt.λf.t)) (m (λp.(λf.λs.λb.b f s) ((λp.p (λt.λf.f)) p) ((λm.λn.λs.λz.m s (n s z)) (λs.λz.s z) ((λp.p (λt.λf.f)) p))) ((λf.λs.λb.b f s) (λs.λz.z) (λs.λz.z)))) (λs.λz.z) (λy.λt.λf.f) (λt.λf.t)\n",
      "= (λf.λs.λz.z) (λs.λz.z) (λm.(λp.p (λt.λf.t)) (m (λp.(λf.λs.λb.b f s) ((λp.p (λt.λf.f)) p) ((λm.λn.λs.λz.m s (n s z)) (λs.λz.s z) ((λp.p (λt.λf.f)) p))) ((λf.λs.λb.b f s) (λs.λz.z) (λs.λz.z)))) (λs.λz.z) (λy.λt.λf.f) (λt.λf.t)\n",
      "= (λs.λz.z) (λm.(λp.p (λt.λf.t)) (m (λp.(λf.λs.λb.b f s) ((λp.p (λt.λf.f)) p) ((λm.λn.λs.λz.m s (n s z)) (λs.λz.s z) ((λp.p (λt.λf.f)) p))) ((λf.λs.λb.b f s) (λs.λz.z) (λs.λz.z)))) (λs.λz.z) (λy.λt.λf.f) (λt.λf.t)\n",
      "= (λz.z) (λs.λz.z) (λy.λt.λf.f) (λt.λf.t)\n",
      "= (λs.λz.z) (λy.λt.λf.f) (λt.λf.t)\n",
      "= (λz.z) (λt.λf.t)\n",
      "= λt.λf.t\n"
     ]
    },
    {
     "data": {
      "text/plain": [
       "- : string = \"λt.λf.t\"\n"
      ]
     },
     "execution_count": 67,
     "metadata": {},
     "output_type": "execute_result"
    }
   ],
   "source": [
    "eval ~log:true @@ app [equal; app[sub; two; three]; zero]"
   ]
  },
  {
   "cell_type": "markdown",
   "metadata": {
    "slideshow": {
     "slide_type": "slide"
    }
   },
   "source": [
    "## Fixed points or How to get non-termination\n",
    "\n",
    "* Given a function $f$ and some value $x$, if $f(x) = x$ then $x$ is said to be a fixed point for $f$.\n",
    "  + $f(x) = x^2$ has two fixed points 0 and 1. \n",
    "  + $f(x) = x + 1$ has no fixed points.\n",
    "* For lambda calculus, $N$ is said to be a fixed point of $F$ if $F ~N =_{\\beta} N$\n",
    "  + In the untyped lambda calculus, **every term F has a fixed point!**"
   ]
  },
  {
   "cell_type": "markdown",
   "metadata": {
    "slideshow": {
     "slide_type": "slide"
    }
   },
   "source": [
    "## Fixed points\n",
    "\n",
    "* Let `D = λx.x x`, then\n",
    "  + $\\Omega =$ `D D = (λx.x x) (λx.x x)` $\\rightarrow_{\\beta}$ `(λx.x x) (λx.x x)` $= \\Omega$.\n",
    "* So $\\Omega$ is an infinite loop\n",
    "  + In general, self-application is how you get looping"
   ]
  },
  {
   "cell_type": "markdown",
   "metadata": {
    "slideshow": {
     "slide_type": "slide"
    }
   },
   "source": [
    "## Fixed points\n",
    "\n",
    "$\n",
    "\\require{color}\n",
    "\\newcommand{\\yb}[1]{\\colorbox{yellow}{$#1$}}\n",
    "\\newcommand{\\bb}[1]{\\colorbox{lightblue}{$#1$}}\n",
    "$\n",
    "We know $\\Omega = (\\lambda x.x ~x) ~(\\lambda x.x ~x)$.\n",
    "\n",
    "Let $Y = \\bb{\\lambda f}.(\\lambda x.\\bb{f} ~(x ~x)) ~(\\lambda x.\\bb{f} ~(x ~x))$, then\n",
    "\n",
    "\\\\[\n",
    "\\begin{array}{rl}\n",
    "& Y ~F = (\\lambda \\yb{f}.(\\lambda x.f ~(x ~x)) ~(\\lambda x.f ~(x ~x))) ~F \\\\\n",
    "\\rightarrow_{\\beta} & (\\lambda \\yb{x}.F ~(x ~x)) ~\\yb{(\\lambda x.F ~(x ~x))} \\\\\n",
    "\\rightarrow_{\\beta} & F \\yb{((λx.F ~(x ~x)) ~(λx.F ~(x ~x)))} \\\\\n",
    "\\leftarrow_{\\beta} & F ~(Y ~F)\n",
    "\\end{array}\n",
    "\\\\]\n",
    "\n",
    "* Therefore, `Y F = F(Y F)`. "
   ]
  },
  {
   "cell_type": "markdown",
   "metadata": {
    "slideshow": {
     "slide_type": "slide"
    }
   },
   "source": [
    "## Fixed points\n",
    "\n",
    "\\\\[\n",
    "Y~F \\rightarrow_{\\beta} F~(Y~F)\n",
    "\\\\]\n",
    "+ `Y F` is said to be the fixed point of `F`.\n",
    "+ `Y F = F(Y F) = F(F(Y F)) = ...`\n",
    "+ `Y` (`y`-combinator) can be used to achieve recursion."
   ]
  },
  {
   "cell_type": "markdown",
   "metadata": {
    "slideshow": {
     "slide_type": "slide"
    }
   },
   "source": [
    "## Fixed point: Factorial\n",
    "\n",
    "```ocaml\n",
    "fact = λf.λn.if n = 0 then 1 else n * f (n-1)\n",
    "```\n",
    "\n",
    "* Second argument `n` is the integer.\n",
    "* First argument `f` is the function to call for the recursive case.\n",
    "* We will use y-combinator to achieve recursion. "
   ]
  },
  {
   "cell_type": "markdown",
   "metadata": {
    "slideshow": {
     "slide_type": "slide"
    }
   },
   "source": [
    "## Fixed point: Factorial\n",
    "```ocaml\n",
    "fact = λf.λn.if n = 0 then 1 else n * f (n-1)\n",
    "```\n",
    "\n",
    "\\\\[\n",
    "\\begin{array}{rl}\n",
    "& (Y ~\\text{fact}) ~1 \\\\ \n",
    "\\rightarrow_{beta} & ~\\text{fact} ~(\\lambda y ~Y ~\\text{fact} ~y) 1 \\\\\n",
    "\\rightarrow_{beta} & \\text{if } 1 = 0 \\text{ then } 1 \\text{ else } 1 * ((Y \\text{ fact}) ~0) \\\\\n",
    "\\rightarrow_{beta} & 1 * ((Y \\text{ fact}) ~0) \\\\\n",
    "\\rightarrow_{beta} & 1 * (\\text{fact } (Y \\text{ fact}) ~0) \\\\\n",
    "\\rightarrow_{beta} & 1 * \\text{if } 0 = 0 \\text{ then } 1 \\text{ else } 1 * ((Y \\text{ fact}) ~0) \\\\\n",
    "\\rightarrow_{beta} & 1 * 1 \\\\\n",
    "\\rightarrow_{beta} & 1 \\\\\n",
    "\\end{array}\n",
    "\\\\]"
   ]
  },
  {
   "cell_type": "markdown",
   "metadata": {
    "slideshow": {
     "slide_type": "slide"
    }
   },
   "source": [
    "## Fixed point: Factorial\n",
    "```ocaml\n",
    "fact = λf.λn.if n = 0 then 1 else n * f (n-1)\n",
    "```"
   ]
  },
  {
   "cell_type": "code",
   "execution_count": 68,
   "metadata": {},
   "outputs": [
    {
     "data": {
      "text/plain": [
       "val y : Syntax.expr =\n",
       "  Lam (\"f\",\n",
       "   App (Lam (\"x\", App (Var \"f\", App (Var \"x\", Var \"x\"))),\n",
       "    Lam (\"x\", App (Var \"f\", App (Var \"x\", Var \"x\")))))\n"
      ]
     },
     "execution_count": 68,
     "metadata": {},
     "output_type": "execute_result"
    },
    {
     "data": {
      "text/plain": [
       "val fact : Syntax.expr =\n",
       "  Lam (\"f\",\n",
       "   Lam (\"n\",\n",
       "    App\n",
       "     (App\n",
       "       (App\n",
       "         (Lam (\"n\",\n",
       "           App (App (Var \"n\", Lam (\"y\", Lam (\"t\", Lam (\"f\", Var \"f\")))),\n",
       "            Lam (\"t\", Lam (\"f\", Var \"t\")))),\n",
       "         Var \"n\"),\n",
       "       Lam (\"s\", Lam (\"z\", App (Var \"s\", Var \"z\")))),\n",
       "     App\n",
       "      (App\n",
       "        (Lam (\"m\",\n",
       "          Lam (\"n\",\n",
       "           Lam (\"s\",\n",
       "            Lam (\"z\", App (App (Var \"m\", App (Var \"n\", Var \"s\")), Var \"z\"))))),\n",
       "        Var \"n\"),\n",
       "      App (Var \"f\",\n",
       "       App\n",
       "        (Lam (\"m\",\n",
       "          App (Lam (\"p\", App (Var \"p\", Lam (\"t\", Lam (\"f\", Var \"t\")))),\n",
       "           App\n",
       "            (App (Var \"m\",\n",
       "              Lam (\"p\",\n",
       "               App\n",
       "                (App\n",
       "                  (Lam (\"f\",\n",
       "                    Lam (\"s\",\n",
       "                     Lam (\"b\", App (App (Var \"b\", Var \"f\"), Var \"s\")))),\n",
       "                  App\n",
       "                   (Lam (\"p\", App (Var \"p\", Lam (\"t\", Lam (\"f\", Var \"f\")))),\n",
       "                   Var \"p\")),\n",
       "                App\n",
       "                 (App\n",
       "                   (Lam (\"m\",\n",
       "                     Lam (\"n\",\n",
       "                      Lam (\"s\",\n",
       "                       Lam (\"z\",\n",
       "                        App (App (Var \"m\", Var \"s\"),\n",
       "                         App (App (Var \"n\", Var \"s\"), Var \"z\")))))),\n",
       "                   Lam (\"s\", Lam (\"z\", App (Var \"s\", Var \"z\")))),\n",
       "                 App\n",
       "                  (Lam (\"p\", App (Var \"p\", Lam (\"t\", Lam (\"f\", Var \"f\")))),\n",
       "                  Var \"p\"))))),\n",
       "            App\n",
       "             (App\n",
       "               (Lam (\"f\",\n",
       "                 Lam (\"s\", Lam (\"b\", App (App (Var \"b\", Var \"f\"), Var \"s\")))),\n",
       "               Lam (\"s\", Lam (\"z\", Var \"z\"))),\n",
       "             Lam (\"s\", Lam (\"z\", Var \"z\")))))),\n",
       "        Var \"n\"))))))\n"
      ]
     },
     "execution_count": 68,
     "metadata": {},
     "output_type": "execute_result"
    }
   ],
   "source": [
    "let y = p \"λf.(λx.f (x x)) (λx.f (x x))\"\n",
    "let fact = \n",
    "  let tst = app [is_zero; var \"n\"] in\n",
    "  let fb = app [mult; var \"n\"; app [var \"f\"; app [prd; var \"n\"]]] in\n",
    "  lam \"f\" (lam \"n\" (app [tst; one; fb]))"
   ]
  },
  {
   "cell_type": "code",
   "execution_count": 71,
   "metadata": {
    "slideshow": {
     "slide_type": "slide"
    }
   },
   "outputs": [
    {
     "data": {
      "text/plain": [
       "- : string = \"λs.λz.s (s (s (s (s (s z)))))\"\n"
      ]
     },
     "execution_count": 71,
     "metadata": {},
     "output_type": "execute_result"
    }
   ],
   "source": [
    "eval ~log:false ~depth:100000 @@ app [y; fact; three]"
   ]
  },
  {
   "cell_type": "markdown",
   "metadata": {
    "slideshow": {
     "slide_type": "slide"
    }
   },
   "source": [
    "## Quiz\n",
    "\n",
    "The y-combinator Y = λf.(λx.f (x x)) (λx.f (x x)) is a fixed pointer combinator under which reduction strategy?\n",
    "\n",
    "1. Call-by-value\n",
    "2. Call-by-name\n",
    "3. Both\n",
    "4. Neither"
   ]
  },
  {
   "cell_type": "markdown",
   "metadata": {
    "slideshow": {
     "slide_type": "slide"
    }
   },
   "source": [
    "## Quiz\n",
    "\n",
    "The y-combinator Y = λf.(λx.f (x x)) (λx.f (x x)) is a fixed pointer combinator under which reduction strategy?\n",
    "\n",
    "1. Call-by-value\n",
    "2. Call-by-name ✅\n",
    "3. Both\n",
    "4. Neither\n",
    "\n",
    "Under call-by-value, we will keep indefinitely expanding `Y F = F (Y F) = F (F (Y F)) = ...`. "
   ]
  },
  {
   "cell_type": "markdown",
   "metadata": {
    "slideshow": {
     "slide_type": "slide"
    }
   },
   "source": [
    "## Fixed point: Z combinator\n",
    "\n",
    "There is indeed a fixed point combinator for call-by-value called the Z combinator\n",
    "\n",
    "```ocaml\n",
    "Z = λf. (λx. f (λy. x x y)) (λx. f (λy. x x y))\n",
    "```\n",
    "\n",
    "which is just an $\\eta$-expansion of the Y combinator\n",
    "\n",
    "```ocaml\n",
    "Y = λf. (λx. f (x x)) (λx. f (x x))\n",
    "```"
   ]
  },
  {
   "cell_type": "markdown",
   "metadata": {
    "slideshow": {
     "slide_type": "slide"
    }
   },
   "source": [
    "## Fixed point: Z combinator\n",
    "\n",
    "\\\\[\n",
    "\\begin{array}{rl}\n",
    " & Z ~F = (λ\\yb{f}.(λx.f ~(λy.x ~x ~y)) ~(λx.f ~(λy.x ~x ~y))) ~\\yb{F} \\\\\n",
    "\\rightarrow_{\\beta V} & (λ\\yb{x}.F ~(λy.x ~x ~y)) ~\\yb{(λx.F ~(λy.x ~x ~y))} \\\\\n",
    "\\rightarrow_{\\beta V} & F ~(λy.\\yb{(λx.F ~(λy.x ~x ~y)) ~(λx.F ~(λy.x ~x ~y))} ~y)  \\\\\n",
    "\\rightarrow_{\\beta V} & F ~(λy. (Z ~F) ~y)\n",
    "\\end{array}\n",
    "\\\\]\n",
    "\n",
    "The $\\eta$-expansion has prevented further reduction."
   ]
  }
 ],
 "metadata": {
  "celltoolbar": "Slideshow",
  "kernelspec": {
   "display_name": "OCaml 4.10",
   "language": "OCaml",
   "name": "ocaml-jupyter"
  },
  "language_info": {
   "codemirror_mode": "text/x-ocaml",
   "file_extension": ".ml",
   "mimetype": "text/x-ocaml",
   "name": "OCaml",
   "nbconverter_exporter": null,
   "pygments_lexer": "OCaml",
   "version": "4.10.0"
  }
 },
 "nbformat": 4,
 "nbformat_minor": 2
}
