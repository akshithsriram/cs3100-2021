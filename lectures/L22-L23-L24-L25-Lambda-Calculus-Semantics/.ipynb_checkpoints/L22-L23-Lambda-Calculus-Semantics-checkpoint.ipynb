{
 "cells": [
  {
   "cell_type": "markdown",
   "metadata": {
    "slideshow": {
     "slide_type": "slide"
    }
   },
   "source": [
    "<center>\n",
    "\n",
    "<h2 style=\"text-align:center\"> CS3100 PoP (Lecture 22 : Sep 17, 4:50pm) </h2>    \n",
    "<h1 style=\"text-align:center\"> Lambda Calculus : Semantics </h1>\n",
    "</center>"
   ]
  },
  {
   "cell_type": "markdown",
   "metadata": {
    "slideshow": {
     "slide_type": "slide"
    }
   },
   "source": [
    "## Review\n",
    "\n",
    "### Last time\n",
    "\n",
    "* Lambda Calculus: Syntax\n",
    "    + History, Terms, Alpha-equivalence, Substitution.\n",
    "\n",
    "### Today\n",
    "\n",
    "* Lambda Calculus: Semantics\n",
    "  + Reductions, Church-Rosser Theorem."
   ]
  },
  {
   "cell_type": "markdown",
   "metadata": {
    "slideshow": {
     "slide_type": "slide"
    }
   },
   "source": [
    "$(\\lambda x.M) ~N$"
   ]
  },
  {
   "cell_type": "markdown",
   "metadata": {
    "slideshow": {
     "slide_type": "slide"
    }
   },
   "source": [
    "## β-reduction\n",
    "\n",
    "* Lambda Calculus we have been looking so far is **untyped**.\n",
    "  + No static semantics, only dynamic semantics!\n",
    "* A term of the form $(\\lambda x.M) ~N$ is called a **β-redex**.\n",
    "* The act of evaluating lambda calculus terms is called **β-reduction**. \n",
    "  + β-reduction replaces $(\\lambda x.M) ~N$ with $M[N/x]$.\n",
    "* A term without β-reduxes is said to be in **β-normal form**."
   ]
  },
  {
   "cell_type": "markdown",
   "metadata": {
    "slideshow": {
     "slide_type": "slide"
    }
   },
   "source": [
    "## β-reduction, formally\n",
    "\n",
    "$\n",
    "\\require{color}\n",
    "\\newcommand{\\inferrule}[2]{\\displaystyle{\\frac{#1}{#2}}}\n",
    "\\newcommand{\\yb}[1]{\\colorbox{yellow}{$#1$}}\n",
    "\\newcommand{\\rb}[1]{\\colorbox{red}{$#1$}}\n",
    "\\newcommand{\\betastar}{\\rightarrow_{\\beta^*}}\n",
    "$\n",
    "\n",
    "\\\\[\n",
    "\\begin{array}{cc}\n",
    "\\inferrule{}{(\\lambda x.M)~N \\rightarrow_{\\beta} M[N/x]} & \n",
    "\\inferrule{M \\rightarrow_{\\beta} M'}{\\lambda x.M \\rightarrow_{\\beta} \\lambda x.M'} \\\\ \\\\\n",
    "\\inferrule{M \\rightarrow_{\\beta} M'}{M~N \\rightarrow_{\\beta} M'~N} & \n",
    "\\inferrule{N \\rightarrow_{\\beta} N'}{M~N \\rightarrow_{\\beta} M~N'}\n",
    "\\end{array}\n",
    "\\\\]"
   ]
  },
  {
   "cell_type": "markdown",
   "metadata": {
    "slideshow": {
     "slide_type": "slide"
    }
   },
   "source": [
    "## Example\n",
    "\n",
    "\\\\[\n",
    "\\begin{array}{rl}\n",
    " & (\\lambda \\yb{x}.x ~x) ~\\yb{((\\lambda x. y) ~z)} \\\\ \n",
    "\\rightarrow_{\\beta} & ((\\lambda \\yb{x}. y) ~\\yb{z}) ~~((\\lambda x. y) ~z) \\\\\n",
    "\\rightarrow_{\\beta} & y ~((\\lambda \\yb{x}. y) ~\\yb{z}) \\\\\n",
    "\\rightarrow_{\\beta} & y ~y\n",
    "\\end{array}\n",
    "\\\\]\n"
   ]
  },
  {
   "cell_type": "markdown",
   "metadata": {
    "slideshow": {
     "slide_type": "slide"
    }
   },
   "source": [
    "## Example\n",
    "\n",
    "\\\\[\n",
    "\\begin{array}{rl}\n",
    " & (\\lambda \\yb{x}.x ~x) ~\\yb{((\\lambda x. y) ~z)} \\\\ \n",
    "\\rightarrow_{\\beta} & ((\\lambda x. y) ~z) ~~((\\lambda \\yb{x}. y) ~\\yb{z}) \\\\\n",
    "\\rightarrow_{\\beta} & ((\\lambda \\yb{x}. y) ~\\yb{z}) ~y\\\\\n",
    "\\rightarrow_{\\beta} & y ~y\n",
    "\\end{array}\n",
    "\\\\]\n"
   ]
  },
  {
   "cell_type": "markdown",
   "metadata": {
    "slideshow": {
     "slide_type": "slide"
    }
   },
   "source": [
    "## Example\n",
    "\n",
    "\\\\[\n",
    "\\begin{array}{rl}\n",
    " & (\\lambda x.x ~x) ((\\lambda \\colorbox{yellow}{$x$}. y) ~\\yb{z}) \\\\ \n",
    "\\rightarrow_{\\beta} & (\\lambda \\yb{x}.x ~x) ~\\yb{y} \\\\\n",
    "\\rightarrow_{\\beta} & y ~y\n",
    "\\end{array}\n",
    "\\\\]"
   ]
  },
  {
   "cell_type": "markdown",
   "metadata": {
    "slideshow": {
     "slide_type": "slide"
    }
   },
   "source": [
    "## Many steps of β-reduction\n",
    "\n",
    "\\\\[\n",
    "\\begin{array}{c}\n",
    "\\inferrule{M =_{\\alpha} M'}{M \\rightarrow_{\\beta^*} M'} \\\\ \\\\\n",
    "\\inferrule{M \\rightarrow_{\\beta} M' \\quad M' \\rightarrow_{\\beta^*} M''}{M \\rightarrow_{\\beta^*} M''}\n",
    "\\end{array}\n",
    "\\\\]"
   ]
  },
  {
   "cell_type": "markdown",
   "metadata": {
    "slideshow": {
     "slide_type": "slide"
    }
   },
   "source": [
    "## Church-Rosser Theorem\n",
    "\n",
    "If $M \\betastar M_1$ and $M \\betastar M_2$ then there exists an $M'$ such that $M_1 \\betastar M'$ and $M_2 \\betastar M'$.\n",
    "\n",
    "<center>\n",
    "    \n",
    "<img src=\"images/church_rosser.png\" width=\"600\">\n",
    "</center>"
   ]
  },
  {
   "cell_type": "markdown",
   "metadata": {
    "slideshow": {
     "slide_type": "slide"
    }
   },
   "source": [
    "## β-normal form\n",
    "\n",
    "* \"β-normal form\" $\\Rightarrow$ \"contains no reduxes\"\n",
    "* **Theorem** (Uniqueness of β-normal forms). If $M \\betastar N_1$ and $M \\betastar N_2$ and $N_1$ and $N_2$ are in β-normal form, then $N_1 =_{\\alpha} N_2$."
   ]
  },
  {
   "cell_type": "markdown",
   "metadata": {
    "slideshow": {
     "slide_type": "fragment"
    }
   },
   "source": [
    "* **Proof.** By Church-Rosser, obtain an $N$ such that $N_1 \\betastar N$ and $N_2 \\betastar N$. But $N_1$ and $N_2$ are in β-normal form. Hence, $N =_{\\alpha} N_1 =_{\\alpha} N_2$."
   ]
  },
  {
   "cell_type": "markdown",
   "metadata": {
    "slideshow": {
     "slide_type": "slide"
    }
   },
   "source": [
    "## β-equivalence\n",
    "\n",
    "$M_1 =_{\\beta} M_2$ iff there exists an $M'$ such that $M_1 \\betastar M'$ and $M_2 \\betastar M'$."
   ]
  },
  {
   "cell_type": "markdown",
   "metadata": {
    "slideshow": {
     "slide_type": "fragment"
    }
   },
   "source": [
    "In OCaml, we might say,\n",
    "\n",
    "* `(fun x -> x + 1) 1` $=_{\\alpha}$ `(fun y -> y + 1) 1`\n",
    "* `(fun x -> x + 1) 1` $=_{\\beta}$ `(fun y -> y + 1) 1`\n",
    "* `(fun x -> x + 1) 1` $=_{\\beta}$ `(fun y -> y) 2`\n",
    "* `(fun x -> x + 1) 1` $\\neq_{\\alpha}$ `(fun y -> y) 2`"
   ]
  },
  {
   "cell_type": "markdown",
   "metadata": {
    "slideshow": {
     "slide_type": "slide"
    }
   },
   "source": [
    "## Possible Non-termination\n",
    "\n",
    "Some terms do not have a normal form\n",
    "\n",
    "\\\\[\n",
    "\\begin{array}{rcl}\n",
    "\\Omega & = & (\\lambda x.x ~x) ~(\\lambda x.x ~x) \\\\\n",
    "       & \\rightarrow_{\\beta} & (\\lambda x.x ~x) ~(\\lambda x.x ~x) \\\\\n",
    "       & \\rightarrow_{\\beta} & (\\lambda x.x ~x) ~(\\lambda x.x ~x) \\\\\n",
    "       & \\rightarrow_{\\beta} & \\ldots\n",
    "\\end{array}\n",
    "\\\\]"
   ]
  },
  {
   "cell_type": "markdown",
   "metadata": {
    "slideshow": {
     "slide_type": "fragment"
    }
   },
   "source": [
    "Such terms are said to **diverge**."
   ]
  },
  {
   "cell_type": "markdown",
   "metadata": {
    "slideshow": {
     "slide_type": "slide"
    }
   },
   "source": [
    "## Possible Non-termination\n",
    "\n",
    "Other terms may or may not terminate based on the redux chosen to reduce.\n",
    "\n",
    "\\\\[\n",
    "\\begin{array}{rl}\n",
    " & (\\lambda \\yb{x}.y) ~\\yb{((\\lambda x.x ~x) ~(\\lambda x.x ~x))} \\\\\n",
    "\\rightarrow_{\\beta} & y\n",
    "\\end{array}\n",
    "\\\\]"
   ]
  },
  {
   "cell_type": "markdown",
   "metadata": {
    "slideshow": {
     "slide_type": "fragment"
    }
   },
   "source": [
    "\\\\[\n",
    "\\begin{array}{rl}\n",
    " & (\\lambda x.y) ~((\\lambda \\yb{x}.x ~x) ~\\yb{(\\lambda x.x ~x)}) \\\\\n",
    "\\rightarrow_{\\beta} & (\\lambda x.y) ~((\\lambda \\yb{x}.x ~x) \\yb{(\\lambda x.x ~x)}) \\\\\n",
    "\\rightarrow_{\\beta} & \\ldots\n",
    "\\end{array}\n",
    "\\\\]"
   ]
  },
  {
   "cell_type": "markdown",
   "metadata": {
    "slideshow": {
     "slide_type": "slide"
    }
   },
   "source": [
    "## Reduction Strategies\n",
    "\n",
    "* Several different reduction strategies have been studied for lambda calculus.\n",
    "* The β reduction we have seen so far is known as **full β-reduction**\n",
    "  + Any redex in the term can be reduced at any time.\n"
   ]
  },
  {
   "cell_type": "markdown",
   "metadata": {
    "slideshow": {
     "slide_type": "slide"
    }
   },
   "source": [
    "## Full β-reduction formally (recall)\n",
    "\n",
    "\\\\[\n",
    "\\begin{array}{cc}\n",
    "\\inferrule{}{(\\lambda x.M)~N \\rightarrow_{\\beta} M[N/x]} & \n",
    "\\inferrule{M \\rightarrow_{\\beta} M'}{\\lambda x.M \\rightarrow_{\\beta} \\lambda x.M'} \\\\ \\\\\n",
    "\\inferrule{M \\rightarrow_{\\beta} M'}{M~N \\rightarrow_{\\beta} M'~N} & \n",
    "\\inferrule{N \\rightarrow_{\\beta} N'}{M~N \\rightarrow_{\\beta} M~N'}\n",
    "\\end{array}\n",
    "\\\\]"
   ]
  },
  {
   "cell_type": "markdown",
   "metadata": {
    "slideshow": {
     "slide_type": "fragment"
    }
   },
   "source": [
    "* There may be multiple applicable rules for a term.\n",
    "  + The reduction is said to be non-deterministic. "
   ]
  },
  {
   "cell_type": "markdown",
   "metadata": {
    "slideshow": {
     "slide_type": "slide"
    }
   },
   "source": [
    "## Full β-reduction\n",
    "\n",
    "For example, we can choose to reduce the innermost redex first:\n",
    "\n",
    "\\\\[\n",
    "\\begin{array}{rl}\n",
    "  & (\\lambda x.x) ((\\lambda x.x) ~(\\lambda z.(\\lambda x.x) ~z)) \\\\\n",
    "=_{\\alpha} & id ~(id ~(\\lambda z.\\yb{id ~z})) \\\\\n",
    "\\rightarrow_{\\beta} & id ~(\\yb{id ~(\\lambda z.z)}) \\\\\n",
    "\\rightarrow_{\\beta} & \\yb{id ~(\\lambda z.z)} \\\\\n",
    "\\rightarrow_{\\beta} & \\lambda z.z \\\\\n",
    "\\end{array}\n",
    "\\\\]"
   ]
  },
  {
   "cell_type": "markdown",
   "metadata": {
    "slideshow": {
     "slide_type": "slide"
    }
   },
   "source": [
    "## Normal order strategy\n",
    "\n",
    "Reduce leftmost, outermost redex first.\n",
    "\n",
    "\\\\[\n",
    "\\begin{array}{rl}\n",
    "& \\yb{id ~(id ~(\\lambda z.id ~z))} \\\\\n",
    "\\rightarrow_{\\hat{\\beta}} & \\yb{id ~(\\lambda z.id ~z)} \\\\\n",
    "\\rightarrow_{\\hat{\\beta}} & \\lambda z.\\yb{id ~z} \\\\\n",
    "\\rightarrow_{\\hat{\\beta}} & \\lambda z.z \\\\\n",
    "\\end{array}\n",
    "\\\\]"
   ]
  },
  {
   "cell_type": "code",
   "execution_count": 4,
   "metadata": {
    "slideshow": {
     "slide_type": "slide"
    }
   },
   "outputs": [
    {
     "name": "stdout",
     "output_type": "stream",
     "text": [
      "val eval_cbv : ?log:bool -> string -> string = <fun>\n",
      "val eval_cbn : ?log:bool -> string -> string = <fun>\n",
      "val eval_normal : ?log:bool -> string -> string = <fun>\n"
     ]
    }
   ],
   "source": [
    "#use \"init.ml\""
   ]
  },
  {
   "cell_type": "code",
   "execution_count": 5,
   "metadata": {
    "slideshow": {
     "slide_type": "fragment"
    }
   },
   "outputs": [
    {
     "data": {
      "text/plain": [
       "- : string = \"λz.z\"\n"
      ]
     },
     "execution_count": 5,
     "metadata": {},
     "output_type": "execute_result"
    },
    {
     "name": "stdout",
     "output_type": "stream",
     "text": [
      "= (λx.x) (λx.x) ((λx.x) (λz.(λx.x) z))\n",
      "= (λx.x) ((λx.x) (λz.(λx.x) z))\n",
      "= (λx.x) (λz.(λx.x) z)\n",
      "= λz.(λx.x) z\n",
      "= λz.z\n"
     ]
    }
   ],
   "source": [
    "eval_normal ~log:true \"((\\\\x.x) (\\\\x.x)) ((\\\\x.x) (\\\\z.(\\\\x.x) z))\""
   ]
  },
  {
   "cell_type": "markdown",
   "metadata": {
    "slideshow": {
     "slide_type": "slide"
    }
   },
   "source": [
    "## Normal order strategy, formally\n",
    "\n",
    "\\\\[\n",
    "\\begin{array}{cc}\n",
    "\\inferrule{}{(\\lambda x.M)~N \\rightarrow_{\\hat{\\beta}} M[N/x]} & \n",
    "\\inferrule{M \\neq \\lambda x.M_1 \\quad M \\rightarrow_{\\hat{\\beta}} M'}{M~N \\rightarrow_{\\hat{\\beta}} M'~N} \\\\ \\\\\n",
    "\\inferrule{M \\neq \\lambda x.M_1 \\quad M \\nrightarrow_{\\hat{\\beta}} \\quad N \\rightarrow_{\\hat{\\beta}} N'}{M~N \\rightarrow_{\\hat{\\beta}} M~N'} &\n",
    "\\inferrule{M \\rightarrow_{\\hat{\\beta}} M'}{\\lambda x.M \\rightarrow_{\\hat{\\beta}} \\lambda x.M'}\n",
    "\\end{array}\n",
    "\\\\]"
   ]
  },
  {
   "cell_type": "markdown",
   "metadata": {
    "slideshow": {
     "slide_type": "fragment"
    }
   },
   "source": [
    "* Rules are deterministic. (how?)"
   ]
  }
 ],
 "metadata": {
  "celltoolbar": "Slideshow",
  "kernelspec": {
   "display_name": "OCaml 4.10",
   "language": "OCaml",
   "name": "ocaml-jupyter"
  },
  "language_info": {
   "codemirror_mode": "text/x-ocaml",
   "file_extension": ".ml",
   "mimetype": "text/x-ocaml",
   "name": "OCaml",
   "nbconverter_exporter": null,
   "pygments_lexer": "OCaml",
   "version": "4.10.0"
  }
 },
 "nbformat": 4,
 "nbformat_minor": 2
}
