{
 "cells": [
  {
   "cell_type": "markdown",
   "metadata": {},
   "source": [
    "## Thu, Aug 12, 08:00 - Let expressions and Let definitions"
   ]
  },
  {
   "cell_type": "markdown",
   "metadata": {
    "slideshow": {
     "slide_type": "slide"
    }
   },
   "source": [
    "## Recap\n",
    "\n",
    "<h4> Yesterdays Lecture: </h4>\n",
    "\n",
    "Static and Dynamic Semantics of: if-then else expressions\n",
    "\n",
    "\n"
   ]
  },
  {
   "cell_type": "markdown",
   "metadata": {
    "slideshow": {
     "slide_type": "fragment"
    }
   },
   "source": [
    "<h4> Today: </h4>\n",
    "\n",
    "* let expressions.\n",
    "* scope and shadowing"
   ]
  },
  {
   "cell_type": "markdown",
   "metadata": {
    "slideshow": {
     "slide_type": "slide"
    }
   },
   "source": [
    "## Let expression\n",
    "\n",
    "```ocaml\n",
    "let x = e1 in e2\n",
    "```\n",
    "\n",
    "* `x` is an identifier\n",
    "* `e1` is the binding expression\n",
    "* `e2` is the body expression\n",
    "* `let x = e1 in e2` is itself an expression"
   ]
  },
  {
   "cell_type": "code",
   "execution_count": null,
   "metadata": {
    "slideshow": {
     "slide_type": "fragment"
    }
   },
   "outputs": [],
   "source": [
    "let x = 5 in x + 6"
   ]
  },
  {
   "cell_type": "code",
   "execution_count": null,
   "metadata": {
    "slideshow": {
     "slide_type": "slide"
    }
   },
   "outputs": [],
   "source": [
    "let x = 5 in\n",
    "let y = 10 in \n",
    "x + y"
   ]
  },
  {
   "cell_type": "code",
   "execution_count": null,
   "metadata": {
    "slideshow": {
     "slide_type": "slide"
    }
   },
   "outputs": [],
   "source": [
    "let x = 5 in\n",
    "let x = 10 in\n",
    "x"
   ]
  },
  {
   "cell_type": "markdown",
   "metadata": {
    "slideshow": {
     "slide_type": "slide"
    }
   },
   "source": [
    "## Scopes & shadowing\n",
    "\n",
    "```ocaml\n",
    "let x = 5 in \n",
    "let x = 10 in\n",
    "x\n",
    "```\n",
    "is parsed as\n",
    "\n",
    "```ocaml\n",
    "let x = 5 in\n",
    "(let x = 10 in\n",
    " x)\n",
    "```"
   ]
  },
  {
   "cell_type": "markdown",
   "metadata": {
    "slideshow": {
     "slide_type": "fragment"
    }
   },
   "source": [
    "* Importantly, `x` is not mutated; there are two `x`s in different **scopes**.\n",
    "* Inner definitions **shadow** the outer definitions. "
   ]
  },
  {
   "cell_type": "markdown",
   "metadata": {
    "slideshow": {
     "slide_type": "slide"
    }
   },
   "source": [
    "## What is the result of this expression? (Example 1)"
   ]
  },
  {
   "cell_type": "code",
   "execution_count": null,
   "metadata": {
    "slideshow": {
     "slide_type": "slide"
    }
   },
   "outputs": [],
   "source": [
    "let x = 5 in\n",
    "let y = \n",
    "  let x = 10 in\n",
    "  x\n",
    "in\n",
    "x+y"
   ]
  },
  {
   "cell_type": "code",
   "execution_count": null,
   "metadata": {
    "slideshow": {
     "slide_type": "slide"
    }
   },
   "outputs": [],
   "source": [
    "let x = 5 in\n",
    "let y = \n",
    "  let x = \"hello\" in\n",
    "  x\n",
    "in\n",
    "y"
   ]
  },
  {
   "cell_type": "code",
   "execution_count": null,
   "metadata": {
    "slideshow": {
     "slide_type": "slide"
    }
   },
   "outputs": [],
   "source": [
    "let y=4 in \n",
    " let x=8 in \n",
    "  y"
   ]
  },
  {
   "cell_type": "markdown",
   "metadata": {
    "slideshow": {
     "slide_type": "slide"
    }
   },
   "source": [
    "## What is the result of this expression? (Example 2)"
   ]
  },
  {
   "cell_type": "code",
   "execution_count": null,
   "metadata": {
    "slideshow": {
     "slide_type": "slide"
    }
   },
   "outputs": [],
   "source": [
    "let x = 5 in\n",
    "let y = \n",
    "  let x = x+1 in\n",
    "  x\n",
    "in\n",
    "x+y"
   ]
  },
  {
   "cell_type": "markdown",
   "metadata": {
    "slideshow": {
     "slide_type": "slide"
    }
   },
   "source": [
    "## let at the top-level\n",
    "\n",
    "```ocaml\n",
    "let x = e\n",
    "```\n",
    "is implicitly, \"**in** the rest of the program text\""
   ]
  },
  {
   "cell_type": "code",
   "execution_count": null,
   "metadata": {
    "slideshow": {
     "slide_type": "slide"
    }
   },
   "outputs": [],
   "source": [
    "let a = \"Hello\""
   ]
  },
  {
   "cell_type": "code",
   "execution_count": null,
   "metadata": {},
   "outputs": [],
   "source": [
    "let b = \"World\""
   ]
  },
  {
   "cell_type": "code",
   "execution_count": null,
   "metadata": {},
   "outputs": [],
   "source": [
    "let c = a ^ \" \" ^ b"
   ]
  },
  {
   "cell_type": "markdown",
   "metadata": {
    "slideshow": {
     "slide_type": "notes"
    }
   },
   "source": [
    "`^` is the operator from string concatenation. "
   ]
  },
  {
   "cell_type": "markdown",
   "metadata": {
    "slideshow": {
     "slide_type": "slide"
    }
   },
   "source": [
    "## Definitions\n",
    "\n",
    "* The top-level `let x = e` are known as **definitions**.\n",
    "* Definitions give name to a value.\n",
    "* Definitions are not expressions, or vice versa.\n",
    "* But definitions syntactically contain expressions.\n",
    "\n",
    "<center>\n",
    "    \n",
    "<img src=\"images/val-expr-defn.svg\">\n",
    "</center>"
   ]
  },
  {
   "cell_type": "markdown",
   "metadata": {
    "slideshow": {
     "slide_type": "slide"
    }
   },
   "source": [
    "## Let expression\n",
    "\n",
    "<script type=\"text/x-mathjax-config\">\n",
    "  MathJax.Hub.Config({ TeX: { extensions: [\"color.js\"] }});\n",
    "</script>\n",
    "\n",
    "$\n",
    "\\newcommand{\\inferrule}[2]{\\displaystyle{\\frac{#1}{#2}}}\n",
    "\\newcommand{\\ite}[3]{\\text{if }{#1}\\text{ then }{#2}\\text{ else }{#3}}\n",
    "\\newcommand{\\t}[1]{\\color{green}{#1}}\n",
    "\\newcommand{\\true}{\\color{purple}{true}}\n",
    "\\newcommand{\\false}{\\color{purple}{false}}\n",
    "\\newcommand{\\letin}[3]{\\text{let }{{#1} = {#2}}\\text{ in }{#3}}\n",
    "$\n",
    "\n",
    "```ocaml\n",
    "let x = e1 in e2\n",
    "```\n",
    "\n",
    "**Static semantics**\n",
    "\n",
    "\\\\[\n",
    "\\inferrule{x : \\t{t1} \\quad e1 : \\t{t1} \\quad e2 : \\t{t2}}{\\letin{x}{e1}{e2} : \\t{t2}}\n",
    "\\\\]\n",
    "\n",
    "(again omits some details)\n",
    "\n",
    "**Dynamic semantics**\n",
    "\n",
    "\\\\[\n",
    "\\inferrule{e1 \\rightarrow v1 \\quad \\text{substituting } v1 \\text{ for } x \\text{ in } e2 \\rightarrow v2}\n",
    "{\\letin{x}{e1}{e2} \\rightarrow v2}\n",
    "\\\\]"
   ]
  },
  {
   "cell_type": "markdown",
   "metadata": {
    "slideshow": {
     "slide_type": "slide"
    }
   },
   "source": [
    "## Exercise\n",
    "\n",
    "* In OCaml, we cannot use `+` for floating point addition, and instead have to use `+.`. \n",
    "  + Why do you think this is the case?"
   ]
  },
  {
   "cell_type": "code",
   "execution_count": null,
   "metadata": {
    "scrolled": true
   },
   "outputs": [],
   "source": [
    "5.4 +. 6.0"
   ]
  },
  {
   "cell_type": "markdown",
   "metadata": {
    "slideshow": {
     "slide_type": "slide"
    }
   },
   "source": [
    "## Exercise\n",
    "\n",
    "Write down the static semantics for `+` and `+.`. "
   ]
  }
 ],
 "metadata": {
  "celltoolbar": "Slideshow",
  "kernelspec": {
   "display_name": "OCaml 4.10",
   "language": "OCaml",
   "name": "ocaml-jupyter"
  },
  "language_info": {
   "codemirror_mode": "text/x-ocaml",
   "file_extension": ".ml",
   "mimetype": "text/x-ocaml",
   "name": "OCaml",
   "nbconverter_exporter": null,
   "pygments_lexer": "OCaml",
   "version": "4.10.0"
  }
 },
 "nbformat": 4,
 "nbformat_minor": 2
}
