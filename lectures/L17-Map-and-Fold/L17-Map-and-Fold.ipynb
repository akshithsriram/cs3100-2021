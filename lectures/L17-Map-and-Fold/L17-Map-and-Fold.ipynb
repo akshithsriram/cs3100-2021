{
 "cells": [
  {
   "cell_type": "markdown",
   "metadata": {
    "slideshow": {
     "slide_type": "slide"
    }
   },
   "source": [
    "<center>\n",
    "    <h1 style=\"text-align:center\"> CS 3100 : PoP</h1>\n",
    "    <h2 style=\"text-align:center\"> Filter and Fold </h2>\n",
    "    <h3 style=\"text-align:center\"> Lecture 17 : 10am, Wed, Sep 8, 2021<h3>      \n",
    "</center>"
   ]
  },
  {
   "cell_type": "markdown",
   "metadata": {
    "slideshow": {
     "slide_type": "slide"
    }
   },
   "source": [
    "### Yesterday\n",
    "\n",
    "* Higher order Programming\n",
    "* Map\n",
    "\n",
    "### Next\n",
    "\n",
    "* Filter\n",
    "* Fold"
   ]
  },
  {
   "cell_type": "markdown",
   "metadata": {
    "slideshow": {
     "slide_type": "slide"
    }
   },
   "source": [
    "## Map\n",
    "\n",
    "`List.map` takes a higher-order function `f` and  a list `[a1; a2; ...; an]` and and returns `[f a1; f a2; ...; f an]`.\n",
    "\n",
    "We also implemented it as follows :\n",
    "\n",
    "```Ocaml\n",
    "let rec map f l =\n",
    "  match l with\n",
    "  | [] -> []\n",
    "  | x::xs -> f x :: (map f xs)\n",
    "```\n",
    "\n",
    "Syntactic sugar form:"
   ]
  },
  {
   "cell_type": "code",
   "execution_count": 11,
   "metadata": {
    "slideshow": {
     "slide_type": "fragment"
    }
   },
   "outputs": [
    {
     "data": {
      "text/plain": [
       "val map : ('a -> 'b) -> 'a list -> 'b list = <fun>\n"
      ]
     },
     "execution_count": 11,
     "metadata": {},
     "output_type": "execute_result"
    }
   ],
   "source": [
    "let rec map f = function\n",
    "  | [] -> []\n",
    "  | x::xs -> f x :: (map f xs)"
   ]
  },
  {
   "cell_type": "markdown",
   "metadata": {
    "slideshow": {
     "slide_type": "slide"
    }
   },
   "source": [
    "## Filter - another higher order function\n",
    "\n",
    "```Ocaml\n",
    "let rec evens = function\n",
    "  | [] -> []\n",
    "  | h::t -> if even h then h::(evens t) else evens t\n",
    "\n",
    "let rec odds = function  \n",
    "  | [] -> []\n",
    "  | h::t -> if odd h then h::(odds t) else odds t\n",
    "```\n",
    "\n",
    "based on helper functions \n",
    "let even n = \n",
    "  n mod 2 = 0\n",
    "\n",
    "let odd n = \n",
    "  n mod 2 <> 0\n",
    "\n",
    "```Ocaml\n",
    "let even n = \n",
    "  n mod 2 = 0\n",
    "\n",
    "let odd n = \n",
    "  n mod 2 <> 0\n",
    "```"
   ]
  },
  {
   "cell_type": "markdown",
   "metadata": {
    "slideshow": {
     "slide_type": "slide"
    }
   },
   "source": [
    "When applied, evens and odds return the even or odd integers in a list:"
   ]
  },
  {
   "cell_type": "code",
   "execution_count": 15,
   "metadata": {
    "scrolled": true,
    "slideshow": {
     "slide_type": "-"
    }
   },
   "outputs": [
    {
     "data": {
      "text/plain": [
       "val even : int -> bool = <fun>\n"
      ]
     },
     "execution_count": 15,
     "metadata": {},
     "output_type": "execute_result"
    },
    {
     "data": {
      "text/plain": [
       "val odd : int -> bool = <fun>\n"
      ]
     },
     "execution_count": 15,
     "metadata": {},
     "output_type": "execute_result"
    },
    {
     "data": {
      "text/plain": [
       "val evens : int list -> int list = <fun>\n"
      ]
     },
     "execution_count": 15,
     "metadata": {},
     "output_type": "execute_result"
    },
    {
     "data": {
      "text/plain": [
       "val odds : int list -> int list = <fun>\n"
      ]
     },
     "execution_count": 15,
     "metadata": {},
     "output_type": "execute_result"
    },
    {
     "data": {
      "text/plain": [
       "- : int list = [2; 4]\n"
      ]
     },
     "execution_count": 15,
     "metadata": {},
     "output_type": "execute_result"
    }
   ],
   "source": [
    "let even n = \n",
    "  n mod 2 = 0 ;;\n",
    "\n",
    "let odd n = \n",
    "  n mod 2 <> 0 ;;\n",
    "\n",
    "let rec evens = function\n",
    "  | [] -> []\n",
    "  | h::t -> if even h then h::(evens t) else evens t ;;\n",
    "\n",
    "let rec odds = function  \n",
    "  | [] -> []\n",
    "  | h::t -> if odd h then h::(odds t) else odds t ;;\n",
    "\n",
    "evens [1;2;3;4]"
   ]
  },
  {
   "cell_type": "code",
   "execution_count": 16,
   "metadata": {
    "scrolled": false,
    "slideshow": {
     "slide_type": "-"
    }
   },
   "outputs": [
    {
     "data": {
      "text/plain": [
       "- : int list = [1; 3]\n"
      ]
     },
     "execution_count": 16,
     "metadata": {},
     "output_type": "execute_result"
    }
   ],
   "source": [
    "odds [1;2;3;4]"
   ]
  },
  {
   "cell_type": "markdown",
   "metadata": {
    "slideshow": {
     "slide_type": "slide"
    }
   },
   "source": [
    "* Abstract out the function `f`\n",
    "* Let `p` be a predicate and `l` be a list.\n",
    "* `filter p l` is the list of elements of `[l]` that satisfy the predicate `[p]`. \n",
    " * The order of the elements in the input list is preserved.\n",
    " \n",
    "```Ocaml\n",
    "let rec filter f = function\n",
    "  | [] -> []\n",
    "  | h::t -> if f h then h::(filter f t) else filter f t\n",
    "```\n",
    "\n",
    "* `List.filter` does exactly this."
   ]
  },
  {
   "cell_type": "code",
   "execution_count": 42,
   "metadata": {
    "slideshow": {
     "slide_type": "fragment"
    }
   },
   "outputs": [
    {
     "data": {
      "text/plain": [
       "- : int list = [1; 4; 9]\n"
      ]
     },
     "execution_count": 42,
     "metadata": {},
     "output_type": "execute_result"
    }
   ],
   "source": [
    "List.map (fun x -> x*x) [1;2;3]"
   ]
  },
  {
   "cell_type": "markdown",
   "metadata": {
    "slideshow": {
     "slide_type": "slide"
    }
   },
   "source": [
    "## Fold\n",
    "\n",
    "* Fold is a function for combining elements. \n",
    "* Fold is very powerful => very generic / difficult to understand.\n",
    "* Let's take a simple example first."
   ]
  },
  {
   "cell_type": "code",
   "execution_count": 22,
   "metadata": {
    "slideshow": {
     "slide_type": "fragment"
    }
   },
   "outputs": [
    {
     "data": {
      "text/plain": [
       "val sum_of_elements : int -> int list -> int = <fun>\n"
      ]
     },
     "execution_count": 22,
     "metadata": {},
     "output_type": "execute_result"
    },
    {
     "data": {
      "text/plain": [
       "val sum_of_elements : int list -> int = <fun>\n"
      ]
     },
     "execution_count": 22,
     "metadata": {},
     "output_type": "execute_result"
    }
   ],
   "source": [
    "let rec sum_of_elements acc l = \n",
    "  match l with\n",
    "  | [] -> acc\n",
    "  | x::xs -> sum_of_elements (x * acc) xs\n",
    "  \n",
    "let sum_of_elements = sum_of_elements 1"
   ]
  },
  {
   "cell_type": "code",
   "execution_count": 23,
   "metadata": {
    "slideshow": {
     "slide_type": "fragment"
    }
   },
   "outputs": [
    {
     "data": {
      "text/plain": [
       "- : int = 120\n"
      ]
     },
     "execution_count": 23,
     "metadata": {},
     "output_type": "execute_result"
    }
   ],
   "source": [
    "sum_of_elements [1;2;3;4;5]"
   ]
  },
  {
   "cell_type": "markdown",
   "metadata": {
    "slideshow": {
     "slide_type": "slide"
    }
   },
   "source": [
    "## Fold\n",
    "\n",
    "What is going on here?\n",
    "\n",
    "```ocaml\n",
    "let rec sum_of_elements acc l = \n",
    "  match l with\n",
    "  | [] -> acc\n",
    "  | x::xs -> sum_of_elements (x + acc) xs\n",
    "  \n",
    "let sum_of_elements = sum_of_elements 0\n",
    "```\n",
    "\n",
    "* There is **traversal** over the shape of the list.\n",
    "* There is an `accumulator` which keeps track of the current sum so far.\n",
    "* There is a function **`+`** that is applied to each element and accumulator.\n",
    "* There is the `initial value` of the accumulator which is `0`."
   ]
  },
  {
   "cell_type": "markdown",
   "metadata": {
    "slideshow": {
     "slide_type": "slide"
    }
   },
   "source": [
    "## Fold"
   ]
  },
  {
   "cell_type": "code",
   "execution_count": 24,
   "metadata": {},
   "outputs": [
    {
     "data": {
      "text/plain": [
       "- : ('a -> 'b -> 'a) -> 'a -> 'b list -> 'a = <fun>\n"
      ]
     },
     "execution_count": 24,
     "metadata": {},
     "output_type": "execute_result"
    }
   ],
   "source": [
    "List.fold_left"
   ]
  },
  {
   "cell_type": "markdown",
   "metadata": {
    "slideshow": {
     "slide_type": "fragment"
    }
   },
   "source": [
    "* **First argument:** `('a -> 'b -> 'a)` is the function applied to each element. \n",
    "  + `'a` is accumulator and `'b` is current list element\n",
    "* **Second argument:** `'a` is the initial value of the accumulator.\n",
    "* **Third argumment:** `'b list` is the list.\n",
    "* **Result:** `'a` is the value of the accumulator at the end of the traversal."
   ]
  },
  {
   "cell_type": "markdown",
   "metadata": {
    "slideshow": {
     "slide_type": "slide"
    }
   },
   "source": [
    "## Sum of elements using fold_left\n",
    "\n",
    "\n",
    "```ocaml\n",
    "let rec sum_of_elements acc l = \n",
    "  match l with\n",
    "  | [] -> acc\n",
    "  | x::xs -> sum_of_elements (x + acc) xs\n",
    "  \n",
    "let sum_of_elements = sum_of_elements 0\n",
    "```"
   ]
  },
  {
   "cell_type": "code",
   "execution_count": 30,
   "metadata": {
    "slideshow": {
     "slide_type": "fragment"
    }
   },
   "outputs": [
    {
     "data": {
      "text/plain": [
       "val fn : int -> int -> int = <fun>\n"
      ]
     },
     "execution_count": 30,
     "metadata": {},
     "output_type": "execute_result"
    },
    {
     "data": {
      "text/plain": [
       "- : int = 16\n"
      ]
     },
     "execution_count": 30,
     "metadata": {},
     "output_type": "execute_result"
    }
   ],
   "source": [
    "let fn acc x = acc + x;;\n",
    "List.fold_left fn 1 [1;2;3;4;5]"
   ]
  },
  {
   "cell_type": "code",
   "execution_count": null,
   "metadata": {
    "slideshow": {
     "slide_type": "fragment"
    }
   },
   "outputs": [],
   "source": [
    "let rec fold_left f acc l =\n",
    "  match l with \n",
    "  | [] -> acc\n",
    "  | x::xs -> fold_left f (f acc x) xs"
   ]
  },
  {
   "cell_type": "markdown",
   "metadata": {
    "slideshow": {
     "slide_type": "slide"
    }
   },
   "source": [
    "## Fold (left)\n",
    "\n",
    "as natural transformation of the data structure.\n",
    "\n",
    "<center>\n",
    "    \n",
    "<img src=\"images/list_shape.svg\" width=40% style=\"float:left\">\n",
    "<img src=\"images/sum_fold.svg\" width=40% style=\"float:right\">\n",
    "</center>"
   ]
  },
  {
   "cell_type": "markdown",
   "metadata": {
    "slideshow": {
     "slide_type": "slide"
    }
   },
   "source": [
    "## fold_right\n",
    "\n",
    "Fold from the right.\n",
    "\n",
    "<center>\n",
    "    \n",
    "<img src=\"images/list_shape.svg\" width=40% style=\"float:left\">\n",
    "<img src=\"images/fold_right.svg\" width=40% style=\"float:right\">\n",
    "</center>"
   ]
  },
  {
   "cell_type": "markdown",
   "metadata": {
    "slideshow": {
     "slide_type": "slide"
    }
   },
   "source": [
    "## fold_right"
   ]
  },
  {
   "cell_type": "code",
   "execution_count": null,
   "metadata": {
    "slideshow": {
     "slide_type": "-"
    }
   },
   "outputs": [],
   "source": [
    "List.fold_right"
   ]
  },
  {
   "cell_type": "code",
   "execution_count": null,
   "metadata": {
    "slideshow": {
     "slide_type": "fragment"
    }
   },
   "outputs": [],
   "source": [
    "let rec fold_right f l acc = \n",
    "  match l with\n",
    "  | [] -> acc\n",
    "  | x::xs -> f x (fold_right f xs acc)"
   ]
  },
  {
   "cell_type": "markdown",
   "metadata": {
    "slideshow": {
     "slide_type": "fragment"
    }
   },
   "source": [
    "* Not tail recursive!"
   ]
  },
  {
   "cell_type": "markdown",
   "metadata": {
    "slideshow": {
     "slide_type": "slide"
    }
   },
   "source": [
    "## Behold the power of fold\n",
    "\n",
    "Any time you need to traverse the list, you can use `fold`."
   ]
  },
  {
   "cell_type": "code",
   "execution_count": null,
   "metadata": {
    "slideshow": {
     "slide_type": "fragment"
    }
   },
   "outputs": [],
   "source": [
    "let rev l = fold_left (fun acc x -> x :: acc) [] l"
   ]
  },
  {
   "cell_type": "code",
   "execution_count": null,
   "metadata": {
    "slideshow": {
     "slide_type": "fragment"
    }
   },
   "outputs": [],
   "source": [
    "let length l = fold_left (fun acc x -> acc + 1) 0 l"
   ]
  },
  {
   "cell_type": "code",
   "execution_count": null,
   "metadata": {
    "slideshow": {
     "slide_type": "fragment"
    }
   },
   "outputs": [],
   "source": [
    "let map f l = fold_right (fun x acc -> (f x) :: acc) l []"
   ]
  },
  {
   "cell_type": "code",
   "execution_count": 31,
   "metadata": {
    "slideshow": {
     "slide_type": "fragment"
    }
   },
   "outputs": [
    {
     "ename": "error",
     "evalue": "compile_error",
     "output_type": "error",
     "traceback": [
      "File \"[31]\", line 1, characters 17-27:\n1 | let filter f l = fold_right (fun x a -> if f x then x::a else a) l []\n                     ^^^^^^^^^^\nError: Unbound value fold_right\n"
     ]
    }
   ],
   "source": [
    "let filter f l = fold_right (fun x a -> if f x then x::a else a) l []"
   ]
  },
  {
   "cell_type": "markdown",
   "metadata": {
    "slideshow": {
     "slide_type": "fragment"
    }
   },
   "source": [
    "* `map` is not tail recursive since `fold_right` is not a tail recursive function. "
   ]
  },
  {
   "cell_type": "markdown",
   "metadata": {
    "slideshow": {
     "slide_type": "slide"
    }
   },
   "source": [
    "## Exercise 1\n",
    "\n",
    "* Implement `exists : ('a -> bool) -> 'a list -> bool` function using `fold_left`. \n",
    "* `exists p l` returns `true` if there exists an element `e` in `l` such that `p e` is true. Otherwise, `exists p l` returns `false`."
   ]
  },
  {
   "cell_type": "code",
   "execution_count": null,
   "metadata": {},
   "outputs": [],
   "source": [
    "let exists p l = failwith \"not implemented\""
   ]
  },
  {
   "cell_type": "code",
   "execution_count": null,
   "metadata": {},
   "outputs": [],
   "source": [
    "assert (exists (fun e -> e = 0) [1;3;0] = true)"
   ]
  },
  {
   "cell_type": "markdown",
   "metadata": {
    "slideshow": {
     "slide_type": "slide"
    }
   },
   "source": [
    "## Exercise\n",
    "\n",
    "Implement `append : 'a list -> 'a list -> 'a list` using `fold_right`. \n"
   ]
  },
  {
   "cell_type": "code",
   "execution_count": null,
   "metadata": {},
   "outputs": [],
   "source": [
    "let append l1 l2 = failwith \"not implemented\""
   ]
  },
  {
   "cell_type": "code",
   "execution_count": null,
   "metadata": {},
   "outputs": [],
   "source": [
    "assert (append [1;2] [3;4] = [1;2;3;4])"
   ]
  }
 ],
 "metadata": {
  "celltoolbar": "Slideshow",
  "kernelspec": {
   "display_name": "OCaml 4.10",
   "language": "OCaml",
   "name": "ocaml-jupyter"
  },
  "language_info": {
   "codemirror_mode": "text/x-ocaml",
   "file_extension": ".ml",
   "mimetype": "text/x-ocaml",
   "name": "OCaml",
   "nbconverter_exporter": null,
   "pygments_lexer": "OCaml",
   "version": "4.10.0"
  }
 },
 "nbformat": 4,
 "nbformat_minor": 2
}
