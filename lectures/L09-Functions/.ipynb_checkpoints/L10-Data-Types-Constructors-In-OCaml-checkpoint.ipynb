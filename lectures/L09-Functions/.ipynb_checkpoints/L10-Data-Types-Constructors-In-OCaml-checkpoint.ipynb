{
 "cells": [
  {
   "cell_type": "markdown",
   "metadata": {
    "slideshow": {
     "slide_type": "slide"
    }
   },
   "source": [
    "## Standard Types\n",
    "\n",
    "* Constructing new data types from existing types - type constructors.\n",
    "* `lists` and `tuples` which might feel similar to Python;\n",
    "* `records` and `variants` which might feel similar to struct and enum types from C.\n"
   ]
  },
  {
   "cell_type": "markdown",
   "metadata": {
    "slideshow": {
     "slide_type": "slide"
    }
   },
   "source": [
    "## Lists\n",
    "\n",
    "* A sequence of values all of which have the same type - a fundamental data type in most functional languages.\n",
    "* Syntax is as follows:\n",
    "\n",
    "    ** `[]` is the empty list.\n",
    "    ** `e1::e2` - `::` is called the cons operator to construct new lists from existing list by adding an element.\n",
    "    \n",
    "    ** `[e1; e2; ...; en]` - is a syntactic sugar.\n",
    "\n"
   ]
  },
  {
   "cell_type": "code",
   "execution_count": null,
   "metadata": {
    "slideshow": {
     "slide_type": "fragment"
    }
   },
   "outputs": [],
   "source": [
    "1::2::3::[]"
   ]
  },
  {
   "cell_type": "code",
   "execution_count": null,
   "metadata": {
    "slideshow": {
     "slide_type": "fragment"
    }
   },
   "outputs": [],
   "source": [
    "[1;2;3]"
   ]
  },
  {
   "cell_type": "markdown",
   "metadata": {
    "slideshow": {
     "slide_type": "slide"
    }
   },
   "source": [
    "## Lists : Semantics\n",
    "\n",
    "### Static :\n",
    "`[]` : 'a list\n",
    "if `e1 : t` and `e2 : t list` then `e1::e2 : t list`.\n",
    "\n",
    "### Dynamic :\n",
    "* if $e1 \\rightarrow v1$, and if $e2 \\rightarrow v2$, then $e1::e2 \\rightarrow v1::v2$\n",
    "* if $ei \\rightarrow vi$ for all $i \\in \\{1 \\ldots n\\}$, then $[e1; \\ldots ; en] \\rightarrow [v1; \\ldots ; vn]$."
   ]
  },
  {
   "cell_type": "code",
   "execution_count": null,
   "metadata": {},
   "outputs": [],
   "source": [
    "[\"string\";\"abv\"]"
   ]
  },
  {
   "cell_type": "markdown",
   "metadata": {
    "slideshow": {
     "slide_type": "slide"
    }
   },
   "source": [
    "## Tuples\n",
    "\n",
    "* A sequence of values which need not be of the same type.\n",
    "* A tuple with two components is called a *pair*.\n",
    "* A tuple with three components is called a *triple*.\n",
    "* Syntax is as follows:\n",
    "\n",
    "```Ocaml\n",
    "    (e1, e2, ..., en)\n",
    "```\n"
   ]
  },
  {
   "cell_type": "markdown",
   "metadata": {
    "slideshow": {
     "slide_type": "slide"
    }
   },
   "source": [
    "## Tuples : Semantics\n",
    "\n",
    "```Ocaml\n",
    "    (e1, e2, ..., en)\n",
    "```\n",
    "\n",
    "### Static \n",
    "\n",
    "* if for all $i \\in \\{1..n\\}$ it holds that `ei : ti`, then `(e1, \\ldots, en) : t1 * \\ldots tn`.\n",
    "\n",
    "### Dynamic\n",
    "\n",
    "* if for all $i \\in \\{1..n\\}$ it holds that `ei` $\\rightarrow$ `vi`, then `(e1, ..., en)` $\\rightarrow$ `(v1, ..., vn)`."
   ]
  },
  {
   "cell_type": "markdown",
   "metadata": {
    "slideshow": {
     "slide_type": "slide"
    }
   },
   "source": [
    "## Type aliases\n",
    "\n",
    "OCaml supports the definition of aliases for existing types. For example,"
   ]
  },
  {
   "cell_type": "code",
   "execution_count": null,
   "metadata": {},
   "outputs": [],
   "source": [
    "type int_float_pair = int * float"
   ]
  },
  {
   "cell_type": "code",
   "execution_count": null,
   "metadata": {
    "slideshow": {
     "slide_type": "fragment"
    }
   },
   "outputs": [],
   "source": [
    "let x = (10, 3.14)"
   ]
  },
  {
   "cell_type": "code",
   "execution_count": null,
   "metadata": {
    "slideshow": {
     "slide_type": "-"
    }
   },
   "outputs": [],
   "source": [
    "let y : int_float_pair = x"
   ]
  },
  {
   "cell_type": "markdown",
   "metadata": {},
   "source": [
    "## Standard Types\n",
    "\n",
    "* Constructing new data types from existing types - type constructors.\n",
    "* `lists` and `tuples` which might feel similar to Python;\n",
    "* `records` and `variants` which might feel similar to struct and enum types from C.\n",
    "\n",
    "\n",
    "## Lists\n",
    "\n",
    "* A sequence of values all of which have the same type - a fundamental data type in most functional languages.\n",
    "* Syntax is as follows:\n",
    "\n",
    "    ** `[]` is the empty list.\n",
    "    ** `e1::e2` - `::` is called the cons operator to construct new lists from existing list by adding an element.\n",
    "    \n",
    "    ** `[e1; e2; ...; en]` - is a syntactic sugar.\n",
    "\n",
    "\n",
    "\n",
    "1::2::3::[]\n",
    "\n",
    "[1;2;3]\n",
    "\n",
    "## Lists : Semantics\n",
    "\n",
    "### Static :\n",
    "`[]` : 'a list\n",
    "if `e1 : t` and `e2 : t list` then `e1::e2 : t list`.\n",
    "\n",
    "### Dynamic :\n",
    "* if $e1 \\rightarrow v1$, and if $e2 \\rightarrow v2$, then $e1::e2 \\rightarrow v1::v2$\n",
    "* if $ei \\rightarrow vi$ for all $i \\in \\{1 \\ldots n\\}$, then $[e1; \\ldots ; en] \\rightarrow [v1; \\ldots ; vn]$.\n",
    "\n",
    "[\"string\";\"abv\"]\n",
    "\n",
    "## Tuples\n",
    "\n",
    "* A sequence of values which need not be of the same type.\n",
    "* A tuple with two components is called a *pair*.\n",
    "* A tuple with three components is called a *triple*.\n",
    "* Syntax is as follows:\n",
    "\n",
    "```Ocaml\n",
    "    (e1, e2, ..., en)\n",
    "```\n",
    "\n",
    "\n",
    "## Tuples : Semantics\n",
    "\n",
    "```Ocaml\n",
    "    (e1, e2, ..., en)\n",
    "```\n",
    "\n",
    "### Static \n",
    "\n",
    "* if for all $i \\in \\{1..n\\}$ it holds that `ei : ti`, then `(e1, \\ldots, en) : t1 * \\ldots tn`.\n",
    "\n",
    "### Dynamic\n",
    "\n",
    "* if for all $i \\in \\{1..n\\}$ it holds that `ei` $\\rightarrow$ `vi`, then `(e1, ..., en)` $\\rightarrow$ `(v1, ..., vn)`.\n",
    "\n",
    "## Type aliases\n",
    "\n",
    "OCaml supports the definition of aliases for existing types. For example,\n",
    "\n",
    "type int_float_pair = int * float\n",
    "\n",
    "let x = (10, 3.14)\n",
    "\n",
    "let y : int_float_pair = x"
   ]
  }
 ],
 "metadata": {
  "kernelspec": {
   "display_name": "OCaml 4.10",
   "language": "OCaml",
   "name": "ocaml-jupyter"
  },
  "language_info": {
   "codemirror_mode": "text/x-ocaml",
   "file_extension": ".ml",
   "mimetype": "text/x-ocaml",
   "name": "OCaml",
   "nbconverter_exporter": null,
   "pygments_lexer": "OCaml",
   "version": "4.10.0"
  }
 },
 "nbformat": 4,
 "nbformat_minor": 4
}
