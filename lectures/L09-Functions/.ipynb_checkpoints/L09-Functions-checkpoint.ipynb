{
 "cells": [
  {
   "cell_type": "markdown",
   "metadata": {
    "slideshow": {
     "slide_type": "slide"
    }
   },
   "source": [
    "<div style=\"text-align:center\">\n",
    "    <h2> CS3100 - Lecture 09 - Wed, Aug 18, 10am </h2>\n",
    "    <h1> Even More on Functions </h1>\n",
    "</div>"
   ]
  },
  {
   "cell_type": "markdown",
   "metadata": {
    "slideshow": {
     "slide_type": "slide"
    }
   },
   "source": [
    "## Recursive Functions\n",
    "\n",
    "Recursive functions can call themselves. The syntax for recursive function definition is:\n",
    "\n",
    "```ocaml\n",
    "let rec foo x = ...\n",
    "```\n",
    "\n",
    "Notice the `rec` key word."
   ]
  },
  {
   "cell_type": "markdown",
   "metadata": {
    "slideshow": {
     "slide_type": "slide"
    }
   },
   "source": [
    "## Recursive Functions"
   ]
  },
  {
   "cell_type": "code",
   "execution_count": 56,
   "metadata": {
    "slideshow": {
     "slide_type": "-"
    }
   },
   "outputs": [
    {
     "data": {
      "text/plain": [
       "val findsum : int -> int = <fun>\n"
      ]
     },
     "execution_count": 56,
     "metadata": {},
     "output_type": "execute_result"
    }
   ],
   "source": [
    "let rec findsum n = \n",
    "  if n <= 0 then 0\n",
    "  else n + findsum (n-1)"
   ]
  },
  {
   "cell_type": "code",
   "execution_count": 57,
   "metadata": {},
   "outputs": [
    {
     "data": {
      "text/plain": [
       "- : int = 15\n"
      ]
     },
     "execution_count": 57,
     "metadata": {},
     "output_type": "execute_result"
    }
   ],
   "source": [
    "findsum 5"
   ]
  },
  {
   "cell_type": "markdown",
   "metadata": {
    "slideshow": {
     "slide_type": "slide"
    }
   },
   "source": [
    "## Recursing too deep\n",
    "\n",
    "Let's invoke `findsum` with larger numbers. "
   ]
  },
  {
   "cell_type": "code",
   "execution_count": 58,
   "metadata": {},
   "outputs": [
    {
     "ename": "error",
     "evalue": "runtime_error",
     "output_type": "error",
     "traceback": [
      "\u001b[31mStack overflow during evaluation (looping recursion?).\nRaised by primitive operation at file \"[56]\", line 3, characters 11-24\nCalled from file \"[56]\", line 3, characters 11-24\nCalled from file \"[56]\", line 3, characters 11-24\nCalled from file \"[56]\", line 3, characters 11-24\nCalled from file \"[56]\", line 3, characters 11-24\nCalled from file \"[56]\", line 3, characters 11-24\nCalled from file \"[56]\", line 3, characters 11-24\nCalled from file \"[56]\", line 3, characters 11-24\nCalled from file \"[56]\", line 3, characters 11-24\nCalled from file \"[56]\", line 3, characters 11-24\nCalled from file \"[56]\", line 3, characters 11-24\nCalled from file \"[56]\", line 3, characters 11-24\nCalled from file \"[56]\", line 3, characters 11-24\nCalled from file \"[56]\", line 3, characters 11-24\nCalled from file \"[56]\", line 3, characters 11-24\nCalled from file \"[56]\", line 3, characters 11-24\nCalled from file \"[56]\", line 3, characters 11-24\nCalled from file \"[56]\", line 3, characters 11-24\nCalled from file \"[56]\", line 3, characters 11-24\nCalled from file \"[56]\", line 3, characters 11-24\nCalled from file \"[56]\", line 3, characters 11-24\nCalled from file \"[56]\", line 3, characters 11-24\nCalled from file \"[56]\", line 3, characters 11-24\nCalled from file \"[56]\", line 3, characters 11-24\nCalled from file \"[56]\", line 3, characters 11-24\nCalled from file \"[56]\", line 3, characters 11-24\nCalled from file \"[56]\", line 3, characters 11-24\nCalled from file \"[56]\", line 3, characters 11-24\nCalled from file \"[56]\", line 3, characters 11-24\nCalled from file \"[56]\", line 3, characters 11-24\nCalled from file \"[56]\", line 3, characters 11-24\nCalled from file \"[56]\", line 3, characters 11-24\nCalled from file \"[56]\", line 3, characters 11-24\nCalled from file \"[56]\", line 3, characters 11-24\nCalled from file \"[56]\", line 3, characters 11-24\nCalled from file \"[56]\", line 3, characters 11-24\nCalled from file \"[56]\", line 3, characters 11-24\nCalled from file \"[56]\", line 3, characters 11-24\nCalled from file \"[56]\", line 3, characters 11-24\nCalled from file \"[56]\", line 3, characters 11-24\nCalled from file \"[56]\", line 3, characters 11-24\nCalled from file \"[56]\", line 3, characters 11-24\nCalled from file \"[56]\", line 3, characters 11-24\nCalled from file \"[56]\", line 3, characters 11-24\nCalled from file \"[56]\", line 3, characters 11-24\nCalled from file \"[56]\", line 3, characters 11-24\nCalled from file \"[56]\", line 3, characters 11-24\nCalled from file \"[56]\", line 3, characters 11-24\nCalled from file \"[56]\", line 3, characters 11-24\nCalled from file \"[56]\", line 3, characters 11-24\nCalled from file \"[56]\", line 3, characters 11-24\nCalled from file \"[56]\", line 3, characters 11-24\nCalled from file \"[56]\", line 3, characters 11-24\nCalled from file \"[56]\", line 3, characters 11-24\nCalled from file \"[56]\", line 3, characters 11-24\nCalled from file \"[56]\", line 3, characters 11-24\nCalled from file \"[56]\", line 3, characters 11-24\nCalled from file \"[56]\", line 3, characters 11-24\nCalled from file \"[56]\", line 3, characters 11-24\nCalled from file \"[56]\", line 3, characters 11-24\nCalled from file \"[56]\", line 3, characters 11-24\nCalled from file \"[56]\", line 3, characters 11-24\nCalled from file \"[56]\", line 3, characters 11-24\nCalled from file \"[56]\", line 3, characters 11-24\nCalled from file \"[56]\", line 3, characters 11-24\nCalled from file \"[56]\", line 3, characters 11-24\nCalled from file \"[56]\", line 3, characters 11-24\nCalled from file \"[56]\", line 3, characters 11-24\nCalled from file \"[56]\", line 3, characters 11-24\nCalled from file \"[56]\", line 3, characters 11-24\nCalled from file \"[56]\", line 3, characters 11-24\nCalled from file \"[56]\", line 3, characters 11-24\nCalled from file \"[56]\", line 3, characters 11-24\nCalled from file \"[56]\", line 3, characters 11-24\nCalled from file \"[56]\", line 3, characters 11-24\nCalled from file \"[56]\", line 3, characters 11-24\nCalled from file \"[56]\", line 3, characters 11-24\nCalled from file \"[56]\", line 3, characters 11-24\nCalled from file \"[56]\", line 3, characters 11-24\nCalled from file \"[56]\", line 3, characters 11-24\nCalled from file \"[56]\", line 3, characters 11-24\nCalled from file \"[56]\", line 3, characters 11-24\nCalled from file \"[56]\", line 3, characters 11-24\nCalled from file \"[56]\", line 3, characters 11-24\nCalled from file \"[56]\", line 3, characters 11-24\nCalled from file \"[56]\", line 3, characters 11-24\nCalled from file \"[56]\", line 3, characters 11-24\nCalled from file \"[56]\", line 3, characters 11-24\nCalled from file \"[56]\", line 3, characters 11-24\nCalled from file \"[56]\", line 3, characters 11-24\nCalled from file \"[56]\", line 3, characters 11-24\nCalled from file \"[56]\", line 3, characters 11-24\nCalled from file \"[56]\", line 3, characters 11-24\nCalled from file \"[56]\", line 3, characters 11-24\nCalled from file \"[56]\", line 3, characters 11-24\nCalled from file \"[56]\", line 3, characters 11-24\nCalled from file \"[56]\", line 3, characters 11-24\nCalled from file \"[56]\", line 3, characters 11-24\nCalled from file \"[56]\", line 3, characters 11-24\nCalled from file \"[56]\", line 3, characters 11-24\nCalled from file \"[56]\", line 3, characters 11-24\nCalled from file \"[56]\", line 3, characters 11-24\nCalled from file \"[56]\", line 3, characters 11-24\nCalled from file \"[56]\", line 3, characters 11-24\nCalled from file \"[56]\", line 3, characters 11-24\nCalled from file \"[56]\", line 3, characters 11-24\nCalled from file \"[56]\", line 3, characters 11-24\nCalled from file \"[56]\", line 3, characters 11-24\nCalled from file \"[56]\", line 3, characters 11-24\nCalled from file \"[56]\", line 3, characters 11-24\nCalled from file \"[56]\", line 3, characters 11-24\nCalled from file \"[56]\", line 3, characters 11-24\nCalled from file \"[56]\", line 3, characters 11-24\nCalled from file \"[56]\", line 3, characters 11-24\nCalled from file \"[56]\", line 3, characters 11-24\nCalled from file \"[56]\", line 3, characters 11-24\nCalled from file \"[56]\", line 3, characters 11-24\nCalled from file \"[56]\", line 3, characters 11-24\nCalled from file \"[56]\", line 3, characters 11-24\nCalled from file \"[56]\", line 3, characters 11-24\nCalled from file \"[56]\", line 3, characters 11-24\nCalled from file \"[56]\", line 3, characters 11-24\nCalled from file \"[56]\", line 3, characters 11-24\nCalled from file \"[56]\", line 3, characters 11-24\nCalled from file \"[56]\", line 3, characters 11-24\nCalled from file \"[56]\", line 3, characters 11-24\nCalled from file \"[56]\", line 3, characters 11-24\nCalled from file \"[56]\", line 3, characters 11-24\nCalled from file \"[56]\", line 3, characters 11-24\nCalled from file \"[56]\", line 3, characters 11-24\nCalled from file \"[56]\", line 3, characters 11-24\nCalled from file \"[56]\", line 3, characters 11-24\nCalled from file \"[56]\", line 3, characters 11-24\nCalled from file \"[56]\", line 3, characters 11-24\nCalled from file \"[56]\", line 3, characters 11-24\nCalled from file \"[56]\", line 3, characters 11-24\nCalled from file \"[56]\", line 3, characters 11-24\nCalled from file \"[56]\", line 3, characters 11-24\nCalled from file \"[56]\", line 3, characters 11-24\nCalled from file \"[56]\", line 3, characters 11-24\nCalled from file \"[56]\", line 3, characters 11-24\nCalled from file \"[56]\", line 3, characters 11-24\nCalled from file \"[56]\", line 3, characters 11-24\nCalled from file \"[56]\", line 3, characters 11-24\nCalled from file \"[56]\", line 3, characters 11-24\nCalled from file \"[56]\", line 3, characters 11-24\nCalled from file \"[56]\", line 3, characters 11-24\nCalled from file \"[56]\", line 3, characters 11-24\nCalled from file \"[56]\", line 3, characters 11-24\nCalled from file \"[56]\", line 3, characters 11-24\nCalled from file \"[56]\", line 3, characters 11-24\nCalled from file \"[56]\", line 3, characters 11-24\nCalled from file \"[56]\", line 3, characters 11-24\nCalled from file \"[56]\", line 3, characters 11-24\nCalled from file \"[56]\", line 3, characters 11-24\nCalled from file \"[56]\", line 3, characters 11-24\nCalled from file \"[56]\", line 3, characters 11-24\nCalled from file \"[56]\", line 3, characters 11-24\nCalled from file \"[56]\", line 3, characters 11-24\nCalled from file \"[56]\", line 3, characters 11-24\nCalled from file \"[56]\", line 3, characters 11-24\nCalled from file \"[56]\", line 3, characters 11-24\nCalled from file \"[56]\", line 3, characters 11-24\nCalled from file \"[56]\", line 3, characters 11-24\nCalled from file \"[56]\", line 3, characters 11-24\nCalled from file \"[56]\", line 3, characters 11-24\nCalled from file \"[56]\", line 3, characters 11-24\nCalled from file \"[56]\", line 3, characters 11-24\nCalled from file \"[56]\", line 3, characters 11-24\nCalled from file \"[56]\", line 3, characters 11-24\nCalled from file \"[56]\", line 3, characters 11-24\nCalled from file \"[56]\", line 3, characters 11-24\nCalled from file \"[56]\", line 3, characters 11-24\nCalled from file \"[56]\", line 3, characters 11-24\nCalled from file \"[56]\", line 3, characters 11-24\nCalled from file \"[56]\", line 3, characters 11-24\nCalled from file \"[56]\", line 3, characters 11-24\nCalled from file \"[56]\", line 3, characters 11-24\nCalled from file \"[56]\", line 3, characters 11-24\nCalled from file \"[56]\", line 3, characters 11-24\nCalled from file \"[56]\", line 3, characters 11-24\nCalled from file \"[56]\", line 3, characters 11-24\nCalled from file \"[56]\", line 3, characters 11-24\nCalled from file \"[56]\", line 3, characters 11-24\nCalled from file \"[56]\", line 3, characters 11-24\nCalled from file \"[56]\", line 3, characters 11-24\nCalled from file \"[56]\", line 3, characters 11-24\nCalled from file \"[56]\", line 3, characters 11-24\nCalled from file \"[56]\", line 3, characters 11-24\nCalled from file \"[56]\", line 3, characters 11-24\nCalled from file \"[56]\", line 3, characters 11-24\nCalled from file \"[56]\", line 3, characters 11-24\nCalled from file \"[56]\", line 3, characters 11-24\nCalled from file \"[56]\", line 3, characters 11-24\nCalled from file \"[56]\", line 3, characters 11-24\nCalled from file \"[56]\", line 3, characters 11-24\nCalled from file \"[56]\", line 3, characters 11-24\nCalled from file \"[56]\", line 3, characters 11-24\nCalled from file \"[56]\", line 3, characters 11-24\nCalled from file \"[56]\", line 3, characters 11-24\nCalled from file \"[56]\", line 3, characters 11-24\nCalled from file \"[56]\", line 3, characters 11-24\nCalled from file \"[56]\", line 3, characters 11-24\nCalled from file \"[56]\", line 3, characters 11-24\nCalled from file \"[56]\", line 3, characters 11-24\nCalled from file \"[56]\", line 3, characters 11-24\nCalled from file \"[56]\", line 3, characters 11-24\nCalled from file \"[56]\", line 3, characters 11-24\nCalled from file \"[56]\", line 3, characters 11-24\nCalled from file \"[56]\", line 3, characters 11-24\nCalled from file \"[56]\", line 3, characters 11-24\nCalled from file \"[56]\", line 3, characters 11-24\nCalled from file \"[56]\", line 3, characters 11-24\nCalled from file \"[56]\", line 3, characters 11-24\nCalled from file \"[56]\", line 3, characters 11-24\nCalled from file \"[56]\", line 3, characters 11-24\nCalled from file \"[56]\", line 3, characters 11-24\nCalled from file \"[56]\", line 3, characters 11-24\nCalled from file \"[56]\", line 3, characters 11-24\nCalled from file \"[56]\", line 3, characters 11-24\nCalled from file \"[56]\", line 3, characters 11-24\nCalled from file \"[56]\", line 3, characters 11-24\nCalled from file \"[56]\", line 3, characters 11-24\nCalled from file \"[56]\", line 3, characters 11-24\nCalled from file \"[56]\", line 3, characters 11-24\nCalled from file \"[56]\", line 3, characters 11-24\nCalled from file \"[56]\", line 3, characters 11-24\nCalled from file \"[56]\", line 3, characters 11-24\nCalled from file \"[56]\", line 3, characters 11-24\nCalled from file \"[56]\", line 3, characters 11-24\nCalled from file \"[56]\", line 3, characters 11-24\nCalled from file \"[56]\", line 3, characters 11-24\nCalled from file \"[56]\", line 3, characters 11-24\nCalled from file \"[56]\", line 3, characters 11-24\nCalled from file \"[56]\", line 3, characters 11-24\nCalled from file \"[56]\", line 3, characters 11-24\nCalled from file \"[56]\", line 3, characters 11-24\nCalled from file \"[56]\", line 3, characters 11-24\nCalled from file \"[56]\", line 3, characters 11-24\nCalled from file \"[56]\", line 3, characters 11-24\nCalled from file \"[56]\", line 3, characters 11-24\nCalled from file \"[56]\", line 3, characters 11-24\nCalled from file \"[56]\", line 3, characters 11-24\nCalled from file \"[56]\", line 3, characters 11-24\nCalled from file \"[56]\", line 3, characters 11-24\nCalled from file \"[56]\", line 3, characters 11-24\nCalled from file \"[56]\", line 3, characters 11-24\nCalled from file \"[56]\", line 3, characters 11-24\nCalled from file \"[56]\", line 3, characters 11-24\nCalled from file \"[56]\", line 3, characters 11-24\nCalled from file \"[56]\", line 3, characters 11-24\nCalled from file \"[56]\", line 3, characters 11-24\nCalled from file \"[56]\", line 3, characters 11-24\nCalled from file \"[56]\", line 3, characters 11-24\nCalled from file \"[56]\", line 3, characters 11-24\nCalled from file \"[56]\", line 3, characters 11-24\nCalled from file \"[56]\", line 3, characters 11-24\nCalled from file \"[56]\", line 3, characters 11-24\nCalled from file \"[56]\", line 3, characters 11-24\nCalled from file \"[56]\", line 3, characters 11-24\nCalled from file \"[56]\", line 3, characters 11-24\nCalled from file \"[56]\", line 3, characters 11-24\nCalled from file \"[56]\", line 3, characters 11-24\nCalled from file \"[56]\", line 3, characters 11-24\nCalled from file \"[56]\", line 3, characters 11-24\nCalled from file \"[56]\", line 3, characters 11-24\nCalled from file \"[56]\", line 3, characters 11-24\nCalled from file \"[56]\", line 3, characters 11-24\nCalled from file \"[56]\", line 3, characters 11-24\nCalled from file \"[56]\", line 3, characters 11-24\nCalled from file \"[56]\", line 3, characters 11-24\nCalled from file \"[56]\", line 3, characters 11-24\nCalled from file \"[56]\", line 3, characters 11-24\nCalled from file \"[56]\", line 3, characters 11-24\nCalled from file \"[56]\", line 3, characters 11-24\nCalled from file \"[56]\", line 3, characters 11-24\nCalled from file \"[56]\", line 3, characters 11-24\nCalled from file \"[56]\", line 3, characters 11-24\nCalled from file \"[56]\", line 3, characters 11-24\nCalled from file \"[56]\", line 3, characters 11-24\nCalled from file \"[56]\", line 3, characters 11-24\nCalled from file \"[56]\", line 3, characters 11-24\nCalled from file \"[56]\", line 3, characters 11-24\nCalled from file \"[56]\", line 3, characters 11-24\nCalled from file \"[56]\", line 3, characters 11-24\nCalled from file \"[56]\", line 3, characters 11-24\nCalled from file \"[56]\", line 3, characters 11-24\nCalled from file \"[56]\", line 3, characters 11-24\nCalled from file \"[56]\", line 3, characters 11-24\nCalled from file \"[56]\", line 3, characters 11-24\nCalled from file \"[56]\", line 3, characters 11-24\nCalled from file \"[56]\", line 3, characters 11-24\nCalled from file \"[56]\", line 3, characters 11-24\nCalled from file \"[56]\", line 3, characters 11-24\nCalled from file \"[56]\", line 3, characters 11-24\nCalled from file \"[56]\", line 3, characters 11-24\nCalled from file \"[56]\", line 3, characters 11-24\nCalled from file \"[56]\", line 3, characters 11-24\nCalled from file \"[56]\", line 3, characters 11-24\nCalled from file \"[56]\", line 3, characters 11-24\nCalled from file \"[56]\", line 3, characters 11-24\nCalled from file \"[56]\", line 3, characters 11-24\nCalled from file \"[56]\", line 3, characters 11-24\nCalled from file \"[56]\", line 3, characters 11-24\nCalled from file \"[56]\", line 3, characters 11-24\nCalled from file \"[56]\", line 3, characters 11-24\nCalled from file \"[56]\", line 3, characters 11-24\nCalled from file \"[56]\", line 3, characters 11-24\nCalled from file \"[56]\", line 3, characters 11-24\nCalled from file \"[56]\", line 3, characters 11-24\nCalled from file \"[56]\", line 3, characters 11-24\nCalled from file \"[56]\", line 3, characters 11-24\nCalled from file \"[56]\", line 3, characters 11-24\nCalled from file \"[56]\", line 3, characters 11-24\nCalled from file \"[56]\", line 3, characters 11-24\nCalled from file \"[56]\", line 3, characters 11-24\nCalled from file \"[56]\", line 3, characters 11-24\nCalled from file \"[56]\", line 3, characters 11-24\nCalled from file \"[56]\", line 3, characters 11-24\nCalled from file \"[56]\", line 3, characters 11-24\nCalled from file \"[56]\", line 3, characters 11-24\nCalled from file \"[56]\", line 3, characters 11-24\nCalled from file \"[56]\", line 3, characters 11-24\nCalled from file \"[56]\", line 3, characters 11-24\nCalled from file \"[56]\", line 3, characters 11-24\nCalled from file \"[56]\", line 3, characters 11-24\nCalled from file \"[56]\", line 3, characters 11-24\nCalled from file \"[56]\", line 3, characters 11-24\nCalled from file \"[56]\", line 3, characters 11-24\nCalled from file \"[56]\", line 3, characters 11-24\nCalled from file \"[56]\", line 3, characters 11-24\nCalled from file \"[56]\", line 3, characters 11-24\nCalled from file \"[56]\", line 3, characters 11-24\nCalled from file \"[56]\", line 3, characters 11-24\nCalled from file \"[56]\", line 3, characters 11-24\nCalled from file \"[56]\", line 3, characters 11-24\nCalled from file \"[56]\", line 3, characters 11-24\nCalled from file \"[56]\", line 3, characters 11-24\nCalled from file \"[56]\", line 3, characters 11-24\nCalled from file \"[56]\", line 3, characters 11-24\nCalled from file \"[56]\", line 3, characters 11-24\nCalled from file \"[56]\", line 3, characters 11-24\nCalled from file \"[56]\", line 3, characters 11-24\nCalled from file \"[56]\", line 3, characters 11-24\nCalled from file \"[56]\", line 3, characters 11-24\nCalled from file \"[56]\", line 3, characters 11-24\nCalled from file \"[56]\", line 3, characters 11-24\nCalled from file \"[56]\", line 3, characters 11-24\nCalled from file \"[56]\", line 3, characters 11-24\nCalled from file \"[56]\", line 3, characters 11-24\nCalled from file \"[56]\", line 3, characters 11-24\nCalled from file \"[56]\", line 3, characters 11-24\nCalled from file \"[56]\", line 3, characters 11-24\nCalled from file \"[56]\", line 3, characters 11-24\nCalled from file \"[56]\", line 3, characters 11-24\nCalled from file \"[56]\", line 3, characters 11-24\nCalled from file \"[56]\", line 3, characters 11-24\nCalled from file \"[56]\", line 3, characters 11-24\nCalled from file \"[56]\", line 3, characters 11-24\nCalled from file \"[56]\", line 3, characters 11-24\nCalled from file \"[56]\", line 3, characters 11-24\nCalled from file \"[56]\", line 3, characters 11-24\nCalled from file \"[56]\", line 3, characters 11-24\nCalled from file \"[56]\", line 3, characters 11-24\nCalled from file \"[56]\", line 3, characters 11-24\nCalled from file \"[56]\", line 3, characters 11-24\nCalled from file \"[56]\", line 3, characters 11-24\nCalled from file \"[56]\", line 3, characters 11-24\nCalled from file \"[56]\", line 3, characters 11-24\nCalled from file \"[56]\", line 3, characters 11-24\nCalled from file \"[56]\", line 3, characters 11-24\nCalled from file \"[56]\", line 3, characters 11-24\nCalled from file \"[56]\", line 3, characters 11-24\nCalled from file \"[56]\", line 3, characters 11-24\nCalled from file \"[56]\", line 3, characters 11-24\nCalled from file \"[56]\", line 3, characters 11-24\nCalled from file \"[56]\", line 3, characters 11-24\nCalled from file \"[56]\", line 3, characters 11-24\nCalled from file \"[56]\", line 3, characters 11-24\nCalled from file \"[56]\", line 3, characters 11-24\nCalled from file \"[56]\", line 3, characters 11-24\nCalled from file \"[56]\", line 3, characters 11-24\nCalled from file \"[56]\", line 3, characters 11-24\nCalled from file \"[56]\", line 3, characters 11-24\nCalled from file \"[56]\", line 3, characters 11-24\nCalled from file \"[56]\", line 3, characters 11-24\nCalled from file \"[56]\", line 3, characters 11-24\nCalled from file \"[56]\", line 3, characters 11-24\nCalled from file \"[56]\", line 3, characters 11-24\nCalled from file \"[56]\", line 3, characters 11-24\nCalled from file \"[56]\", line 3, characters 11-24\nCalled from file \"[56]\", line 3, characters 11-24\nCalled from file \"[56]\", line 3, characters 11-24\nCalled from file \"[56]\", line 3, characters 11-24\nCalled from file \"[56]\", line 3, characters 11-24\nCalled from file \"[56]\", line 3, characters 11-24\nCalled from file \"[56]\", line 3, characters 11-24\nCalled from file \"[56]\", line 3, characters 11-24\nCalled from file \"[56]\", line 3, characters 11-24\nCalled from file \"[56]\", line 3, characters 11-24\nCalled from file \"[56]\", line 3, characters 11-24\nCalled from file \"[56]\", line 3, characters 11-24\nCalled from file \"[56]\", line 3, characters 11-24\nCalled from file \"[56]\", line 3, characters 11-24\nCalled from file \"[56]\", line 3, characters 11-24\nCalled from file \"[56]\", line 3, characters 11-24\nCalled from file \"[56]\", line 3, characters 11-24\nCalled from file \"[56]\", line 3, characters 11-24\nCalled from file \"[56]\", line 3, characters 11-24\nCalled from file \"[56]\", line 3, characters 11-24\nCalled from file \"[56]\", line 3, characters 11-24\nCalled from file \"[56]\", line 3, characters 11-24\nCalled from file \"[56]\", line 3, characters 11-24\nCalled from file \"[56]\", line 3, characters 11-24\nCalled from file \"[56]\", line 3, characters 11-24\nCalled from file \"[56]\", line 3, characters 11-24\nCalled from file \"[56]\", line 3, characters 11-24\nCalled from file \"[56]\", line 3, characters 11-24\nCalled from file \"[56]\", line 3, characters 11-24\nCalled from file \"[56]\", line 3, characters 11-24\nCalled from file \"[56]\", line 3, characters 11-24\nCalled from file \"[56]\", line 3, characters 11-24\nCalled from file \"[56]\", line 3, characters 11-24\nCalled from file \"[56]\", line 3, characters 11-24\nCalled from file \"[56]\", line 3, characters 11-24\nCalled from file \"[56]\", line 3, characters 11-24\nCalled from file \"[56]\", line 3, characters 11-24\nCalled from file \"[56]\", line 3, characters 11-24\nCalled from file \"[56]\", line 3, characters 11-24\nCalled from file \"[56]\", line 3, characters 11-24\nCalled from file \"[56]\", line 3, characters 11-24\nCalled from file \"[56]\", line 3, characters 11-24\nCalled from file \"[56]\", line 3, characters 11-24\nCalled from file \"[56]\", line 3, characters 11-24\nCalled from file \"[56]\", line 3, characters 11-24\nCalled from file \"[56]\", line 3, characters 11-24\nCalled from file \"[56]\", line 3, characters 11-24\nCalled from file \"[56]\", line 3, characters 11-24\nCalled from file \"[56]\", line 3, characters 11-24\nCalled from file \"[56]\", line 3, characters 11-24\nCalled from file \"[56]\", line 3, characters 11-24\nCalled from file \"[56]\", line 3, characters 11-24\nCalled from file \"[56]\", line 3, characters 11-24\nCalled from file \"[56]\", line 3, characters 11-24\nCalled from file \"[56]\", line 3, characters 11-24\nCalled from file \"[56]\", line 3, characters 11-24\nCalled from file \"[56]\", line 3, characters 11-24\nCalled from file \"[56]\", line 3, characters 11-24\nCalled from file \"[56]\", line 3, characters 11-24\nCalled from file \"[56]\", line 3, characters 11-24\nCalled from file \"[56]\", line 3, characters 11-24\nCalled from file \"[56]\", line 3, characters 11-24\nCalled from file \"[56]\", line 3, characters 11-24\nCalled from file \"[56]\", line 3, characters 11-24\nCalled from file \"[56]\", line 3, characters 11-24\nCalled from file \"[56]\", line 3, characters 11-24\nCalled from file \"[56]\", line 3, characters 11-24\nCalled from file \"[56]\", line 3, characters 11-24\nCalled from file \"[56]\", line 3, characters 11-24\nCalled from file \"[56]\", line 3, characters 11-24\nCalled from file \"[56]\", line 3, characters 11-24\nCalled from file \"[56]\", line 3, characters 11-24\nCalled from file \"[56]\", line 3, characters 11-24\nCalled from file \"[56]\", line 3, characters 11-24\nCalled from file \"[56]\", line 3, characters 11-24\nCalled from file \"[56]\", line 3, characters 11-24\nCalled from file \"[56]\", line 3, characters 11-24\nCalled from file \"[56]\", line 3, characters 11-24\nCalled from file \"[56]\", line 3, characters 11-24\nCalled from file \"[56]\", line 3, characters 11-24\nCalled from file \"[56]\", line 3, characters 11-24\nCalled from file \"[56]\", line 3, characters 11-24\nCalled from file \"[56]\", line 3, characters 11-24\nCalled from file \"[56]\", line 3, characters 11-24\nCalled from file \"[56]\", line 3, characters 11-24\nCalled from file \"[56]\", line 3, characters 11-24\nCalled from file \"[56]\", line 3, characters 11-24\nCalled from file \"[56]\", line 3, characters 11-24\nCalled from file \"[56]\", line 3, characters 11-24\nCalled from file \"[56]\", line 3, characters 11-24\nCalled from file \"[56]\", line 3, characters 11-24\nCalled from file \"[56]\", line 3, characters 11-24\nCalled from file \"[56]\", line 3, characters 11-24\nCalled from file \"[56]\", line 3, characters 11-24\nCalled from file \"[56]\", line 3, characters 11-24\nCalled from file \"[56]\", line 3, characters 11-24\nCalled from file \"[56]\", line 3, characters 11-24\nCalled from file \"[56]\", line 3, characters 11-24\nCalled from file \"[56]\", line 3, characters 11-24\nCalled from file \"[56]\", line 3, characters 11-24\nCalled from file \"[56]\", line 3, characters 11-24\nCalled from file \"[56]\", line 3, characters 11-24\nCalled from file \"[56]\", line 3, characters 11-24\nCalled from file \"[56]\", line 3, characters 11-24\nCalled from file \"[56]\", line 3, characters 11-24\nCalled from file \"[56]\", line 3, characters 11-24\nCalled from file \"[56]\", line 3, characters 11-24\nCalled from file \"[56]\", line 3, characters 11-24\nCalled from file \"[56]\", line 3, characters 11-24\nCalled from file \"[56]\", line 3, characters 11-24\nCalled from file \"[56]\", line 3, characters 11-24\nCalled from file \"[56]\", line 3, characters 11-24\nCalled from file \"[56]\", line 3, characters 11-24\nCalled from file \"[56]\", line 3, characters 11-24\nCalled from file \"[56]\", line 3, characters 11-24\nCalled from file \"[56]\", line 3, characters 11-24\nCalled from file \"[56]\", line 3, characters 11-24\nCalled from file \"[56]\", line 3, characters 11-24\nCalled from file \"[56]\", line 3, characters 11-24\nCalled from file \"[56]\", line 3, characters 11-24\nCalled from file \"[56]\", line 3, characters 11-24\nCalled from file \"[56]\", line 3, characters 11-24\nCalled from file \"[56]\", line 3, characters 11-24\nCalled from file \"[56]\", line 3, characters 11-24\nCalled from file \"[56]\", line 3, characters 11-24\nCalled from file \"[56]\", line 3, characters 11-24\nCalled from file \"[56]\", line 3, characters 11-24\nCalled from file \"[56]\", line 3, characters 11-24\nCalled from file \"[56]\", line 3, characters 11-24\nCalled from file \"[56]\", line 3, characters 11-24\nCalled from file \"[56]\", line 3, characters 11-24\nCalled from file \"[56]\", line 3, characters 11-24\nCalled from file \"[56]\", line 3, characters 11-24\nCalled from file \"[56]\", line 3, characters 11-24\nCalled from file \"[56]\", line 3, characters 11-24\nCalled from file \"[56]\", line 3, characters 11-24\nCalled from file \"[56]\", line 3, characters 11-24\nCalled from file \"[56]\", line 3, characters 11-24\nCalled from file \"[56]\", line 3, characters 11-24\nCalled from file \"[56]\", line 3, characters 11-24\nCalled from file \"[56]\", line 3, characters 11-24\nCalled from file \"[56]\", line 3, characters 11-24\nCalled from file \"[56]\", line 3, characters 11-24\nCalled from file \"[56]\", line 3, characters 11-24\nCalled from file \"[56]\", line 3, characters 11-24\nCalled from file \"[56]\", line 3, characters 11-24\nCalled from file \"[56]\", line 3, characters 11-24\nCalled from file \"[56]\", line 3, characters 11-24\nCalled from file \"[56]\", line 3, characters 11-24\nCalled from file \"[56]\", line 3, characters 11-24\nCalled from file \"[56]\", line 3, characters 11-24\nCalled from file \"[56]\", line 3, characters 11-24\nCalled from file \"[56]\", line 3, characters 11-24\nCalled from file \"[56]\", line 3, characters 11-24\nCalled from file \"[56]\", line 3, characters 11-24\nCalled from file \"[56]\", line 3, characters 11-24\nCalled from file \"[56]\", line 3, characters 11-24\nCalled from file \"[56]\", line 3, characters 11-24\nCalled from file \"[56]\", line 3, characters 11-24\nCalled from file \"[56]\", line 3, characters 11-24\nCalled from file \"[56]\", line 3, characters 11-24\nCalled from file \"[56]\", line 3, characters 11-24\nCalled from file \"[56]\", line 3, characters 11-24\nCalled from file \"[56]\", line 3, characters 11-24\nCalled from file \"[56]\", line 3, characters 11-24\nCalled from file \"[56]\", line 3, characters 11-24\nCalled from file \"[56]\", line 3, characters 11-24\nCalled from file \"[56]\", line 3, characters 11-24\nCalled from file \"[56]\", line 3, characters 11-24\nCalled from file \"[56]\", line 3, characters 11-24\nCalled from file \"[56]\", line 3, characters 11-24\nCalled from file \"[56]\", line 3, characters 11-24\nCalled from file \"[56]\", line 3, characters 11-24\nCalled from file \"[56]\", line 3, characters 11-24\nCalled from file \"[56]\", line 3, characters 11-24\nCalled from file \"[56]\", line 3, characters 11-24\nCalled from file \"[56]\", line 3, characters 11-24\nCalled from file \"[56]\", line 3, characters 11-24\nCalled from file \"[56]\", line 3, characters 11-24\nCalled from file \"[56]\", line 3, characters 11-24\nCalled from file \"[56]\", line 3, characters 11-24\nCalled from file \"[56]\", line 3, characters 11-24\nCalled from file \"[56]\", line 3, characters 11-24\nCalled from file \"[56]\", line 3, characters 11-24\nCalled from file \"[56]\", line 3, characters 11-24\nCalled from file \"[56]\", line 3, characters 11-24\nCalled from file \"[56]\", line 3, characters 11-24\nCalled from file \"[56]\", line 3, characters 11-24\nCalled from file \"[56]\", line 3, characters 11-24\nCalled from file \"[56]\", line 3, characters 11-24\nCalled from file \"[56]\", line 3, characters 11-24\nCalled from file \"[56]\", line 3, characters 11-24\nCalled from file \"[56]\", line 3, characters 11-24\nCalled from file \"[56]\", line 3, characters 11-24\nCalled from file \"[56]\", line 3, characters 11-24\nCalled from file \"[56]\", line 3, characters 11-24\nCalled from file \"[56]\", line 3, characters 11-24\nCalled from file \"[56]\", line 3, characters 11-24\nCalled from file \"[56]\", line 3, characters 11-24\nCalled from file \"[56]\", line 3, characters 11-24\nCalled from file \"[56]\", line 3, characters 11-24\nCalled from file \"[56]\", line 3, characters 11-24\nCalled from file \"[56]\", line 3, characters 11-24\nCalled from file \"[56]\", line 3, characters 11-24\nCalled from file \"[56]\", line 3, characters 11-24\nCalled from file \"[56]\", line 3, characters 11-24\nCalled from file \"[56]\", line 3, characters 11-24\nCalled from file \"[56]\", line 3, characters 11-24\nCalled from file \"[56]\", line 3, characters 11-24\nCalled from file \"[56]\", line 3, characters 11-24\nCalled from file \"[56]\", line 3, characters 11-24\nCalled from file \"[56]\", line 3, characters 11-24\nCalled from file \"[56]\", line 3, characters 11-24\nCalled from file \"[56]\", line 3, characters 11-24\nCalled from file \"[56]\", line 3, characters 11-24\nCalled from file \"[56]\", line 3, characters 11-24\nCalled from file \"[56]\", line 3, characters 11-24\nCalled from file \"[56]\", line 3, characters 11-24\nCalled from file \"[56]\", line 3, characters 11-24\nCalled from file \"[56]\", line 3, characters 11-24\nCalled from file \"[56]\", line 3, characters 11-24\nCalled from file \"[56]\", line 3, characters 11-24\nCalled from file \"[56]\", line 3, characters 11-24\nCalled from file \"[56]\", line 3, characters 11-24\nCalled from file \"[56]\", line 3, characters 11-24\nCalled from file \"[56]\", line 3, characters 11-24\nCalled from file \"[56]\", line 3, characters 11-24\nCalled from file \"[56]\", line 3, characters 11-24\nCalled from file \"[56]\", line 3, characters 11-24\nCalled from file \"[56]\", line 3, characters 11-24\nCalled from file \"[56]\", line 3, characters 11-24\nCalled from file \"[56]\", line 3, characters 11-24\nCalled from file \"[56]\", line 3, characters 11-24\nCalled from file \"[56]\", line 3, characters 11-24\nCalled from file \"[56]\", line 3, characters 11-24\nCalled from file \"[56]\", line 3, characters 11-24\nCalled from file \"[56]\", line 3, characters 11-24\nCalled from file \"[56]\", line 3, characters 11-24\nCalled from file \"[56]\", line 3, characters 11-24\nCalled from file \"[56]\", line 3, characters 11-24\nCalled from file \"[56]\", line 3, characters 11-24\nCalled from file \"[56]\", line 3, characters 11-24\nCalled from file \"[56]\", line 3, characters 11-24\nCalled from file \"[56]\", line 3, characters 11-24\nCalled from file \"[56]\", line 3, characters 11-24\nCalled from file \"[56]\", line 3, characters 11-24\nCalled from file \"[56]\", line 3, characters 11-24\nCalled from file \"[56]\", line 3, characters 11-24\nCalled from file \"[56]\", line 3, characters 11-24\nCalled from file \"[56]\", line 3, characters 11-24\nCalled from file \"[56]\", line 3, characters 11-24\nCalled from file \"[56]\", line 3, characters 11-24\nCalled from file \"[56]\", line 3, characters 11-24\nCalled from file \"[56]\", line 3, characters 11-24\nCalled from file \"[56]\", line 3, characters 11-24\nCalled from file \"[56]\", line 3, characters 11-24\nCalled from file \"[56]\", line 3, characters 11-24\nCalled from file \"[56]\", line 3, characters 11-24\nCalled from file \"[56]\", line 3, characters 11-24\nCalled from file \"[56]\", line 3, characters 11-24\nCalled from file \"[56]\", line 3, characters 11-24\nCalled from file \"[56]\", line 3, characters 11-24\nCalled from file \"[56]\", line 3, characters 11-24\nCalled from file \"[56]\", line 3, characters 11-24\nCalled from file \"[56]\", line 3, characters 11-24\nCalled from file \"[56]\", line 3, characters 11-24\nCalled from file \"[56]\", line 3, characters 11-24\nCalled from file \"[56]\", line 3, characters 11-24\nCalled from file \"[56]\", line 3, characters 11-24\nCalled from file \"[56]\", line 3, characters 11-24\nCalled from file \"[56]\", line 3, characters 11-24\nCalled from file \"[56]\", line 3, characters 11-24\nCalled from file \"[56]\", line 3, characters 11-24\nCalled from file \"[56]\", line 3, characters 11-24\nCalled from file \"[56]\", line 3, characters 11-24\nCalled from file \"[56]\", line 3, characters 11-24\nCalled from file \"[56]\", line 3, characters 11-24\nCalled from file \"[56]\", line 3, characters 11-24\nCalled from file \"[56]\", line 3, characters 11-24\nCalled from file \"[56]\", line 3, characters 11-24\nCalled from file \"[56]\", line 3, characters 11-24\nCalled from file \"[56]\", line 3, characters 11-24\nCalled from file \"[56]\", line 3, characters 11-24\nCalled from file \"[56]\", line 3, characters 11-24\nCalled from file \"[56]\", line 3, characters 11-24\nCalled from file \"[56]\", line 3, characters 11-24\nCalled from file \"[56]\", line 3, characters 11-24\nCalled from file \"[56]\", line 3, characters 11-24\nCalled from file \"[56]\", line 3, characters 11-24\nCalled from file \"[56]\", line 3, characters 11-24\nCalled from file \"[56]\", line 3, characters 11-24\nCalled from file \"[56]\", line 3, characters 11-24\nCalled from file \"[56]\", line 3, characters 11-24\nCalled from file \"[56]\", line 3, characters 11-24\nCalled from file \"[56]\", line 3, characters 11-24\nCalled from file \"[56]\", line 3, characters 11-24\nCalled from file \"[56]\", line 3, characters 11-24\nCalled from file \"[56]\", line 3, characters 11-24\nCalled from file \"[56]\", line 3, characters 11-24\nCalled from file \"[56]\", line 3, characters 11-24\nCalled from file \"[56]\", line 3, characters 11-24\nCalled from file \"[56]\", line 3, characters 11-24\nCalled from file \"[56]\", line 3, characters 11-24\nCalled from file \"[56]\", line 3, characters 11-24\nCalled from file \"[56]\", line 3, characters 11-24\nCalled from file \"[56]\", line 3, characters 11-24\nCalled from file \"[56]\", line 3, characters 11-24\nCalled from file \"[56]\", line 3, characters 11-24\nCalled from file \"[56]\", line 3, characters 11-24\nCalled from file \"[56]\", line 3, characters 11-24\nCalled from file \"[56]\", line 3, characters 11-24\nCalled from file \"[56]\", line 3, characters 11-24\nCalled from file \"[56]\", line 3, characters 11-24\nCalled from file \"[56]\", line 3, characters 11-24\nCalled from file \"[56]\", line 3, characters 11-24\nCalled from file \"[56]\", line 3, characters 11-24\nCalled from file \"[56]\", line 3, characters 11-24\nCalled from file \"[56]\", line 3, characters 11-24\nCalled from file \"[56]\", line 3, characters 11-24\nCalled from file \"[56]\", line 3, characters 11-24\nCalled from file \"[56]\", line 3, characters 11-24\nCalled from file \"[56]\", line 3, characters 11-24\nCalled from file \"[56]\", line 3, characters 11-24\nCalled from file \"[56]\", line 3, characters 11-24\nCalled from file \"[56]\", line 3, characters 11-24\nCalled from file \"[56]\", line 3, characters 11-24\nCalled from file \"[56]\", line 3, characters 11-24\nCalled from file \"[56]\", line 3, characters 11-24\nCalled from file \"[56]\", line 3, characters 11-24\nCalled from file \"[56]\", line 3, characters 11-24\nCalled from file \"[56]\", line 3, characters 11-24\nCalled from file \"[56]\", line 3, characters 11-24\nCalled from file \"[56]\", line 3, characters 11-24\nCalled from file \"[56]\", line 3, characters 11-24\nCalled from file \"[56]\", line 3, characters 11-24\nCalled from file \"[56]\", line 3, characters 11-24\nCalled from file \"[56]\", line 3, characters 11-24\nCalled from file \"[56]\", line 3, characters 11-24\nCalled from file \"[56]\", line 3, characters 11-24\nCalled from file \"[56]\", line 3, characters 11-24\nCalled from file \"[56]\", line 3, characters 11-24\nCalled from file \"[56]\", line 3, characters 11-24\nCalled from file \"[56]\", line 3, characters 11-24\nCalled from file \"[56]\", line 3, characters 11-24\nCalled from file \"[56]\", line 3, characters 11-24\nCalled from file \"[56]\", line 3, characters 11-24\nCalled from file \"[56]\", line 3, characters 11-24\nCalled from file \"[56]\", line 3, characters 11-24\nCalled from file \"[56]\", line 3, characters 11-24\nCalled from file \"[56]\", line 3, characters 11-24\nCalled from file \"[56]\", line 3, characters 11-24\nCalled from file \"[56]\", line 3, characters 11-24\nCalled from file \"[56]\", line 3, characters 11-24\nCalled from file \"[56]\", line 3, characters 11-24\nCalled from file \"[56]\", line 3, characters 11-24\nCalled from file \"[56]\", line 3, characters 11-24\nCalled from file \"[56]\", line 3, characters 11-24\nCalled from file \"[56]\", line 3, characters 11-24\nCalled from file \"[56]\", line 3, characters 11-24\nCalled from file \"[56]\", line 3, characters 11-24\nCalled from file \"[56]\", line 3, characters 11-24\nCalled from file \"[56]\", line 3, characters 11-24\nCalled from file \"[56]\", line 3, characters 11-24\nCalled from file \"[56]\", line 3, characters 11-24\nCalled from file \"[56]\", line 3, characters 11-24\nCalled from file \"[56]\", line 3, characters 11-24\nCalled from file \"[56]\", line 3, characters 11-24\nCalled from file \"[56]\", line 3, characters 11-24\nCalled from file \"[56]\", line 3, characters 11-24\nCalled from file \"[56]\", line 3, characters 11-24\nCalled from file \"[56]\", line 3, characters 11-24\nCalled from file \"[56]\", line 3, characters 11-24\nCalled from file \"[56]\", line 3, characters 11-24\nCalled from file \"[56]\", line 3, characters 11-24\nCalled from file \"[56]\", line 3, characters 11-24\nCalled from file \"[56]\", line 3, characters 11-24\nCalled from file \"[56]\", line 3, characters 11-24\nCalled from file \"[56]\", line 3, characters 11-24\nCalled from file \"[56]\", line 3, characters 11-24\nCalled from file \"[56]\", line 3, characters 11-24\nCalled from file \"[56]\", line 3, characters 11-24\nCalled from file \"[56]\", line 3, characters 11-24\nCalled from file \"[56]\", line 3, characters 11-24\nCalled from file \"[56]\", line 3, characters 11-24\nCalled from file \"[56]\", line 3, characters 11-24\nCalled from file \"[56]\", line 3, characters 11-24\nCalled from file \"[56]\", line 3, characters 11-24\nCalled from file \"[56]\", line 3, characters 11-24\nCalled from file \"[56]\", line 3, characters 11-24\nCalled from file \"[56]\", line 3, characters 11-24\nCalled from file \"[56]\", line 3, characters 11-24\nCalled from file \"[56]\", line 3, characters 11-24\nCalled from file \"[56]\", line 3, characters 11-24\nCalled from file \"[56]\", line 3, characters 11-24\nCalled from file \"[56]\", line 3, characters 11-24\nCalled from file \"[56]\", line 3, characters 11-24\nCalled from file \"[56]\", line 3, characters 11-24\nCalled from file \"[56]\", line 3, characters 11-24\nCalled from file \"[56]\", line 3, characters 11-24\nCalled from file \"[56]\", line 3, characters 11-24\nCalled from file \"[56]\", line 3, characters 11-24\nCalled from file \"[56]\", line 3, characters 11-24\nCalled from file \"[56]\", line 3, characters 11-24\nCalled from file \"[56]\", line 3, characters 11-24\nCalled from file \"[56]\", line 3, characters 11-24\nCalled from file \"[56]\", line 3, characters 11-24\nCalled from file \"[56]\", line 3, characters 11-24\nCalled from file \"[56]\", line 3, characters 11-24\nCalled from file \"[56]\", line 3, characters 11-24\nCalled from file \"[56]\", line 3, characters 11-24\nCalled from file \"[56]\", line 3, characters 11-24\nCalled from file \"[56]\", line 3, characters 11-24\nCalled from file \"[56]\", line 3, characters 11-24\nCalled from file \"[56]\", line 3, characters 11-24\nCalled from file \"[56]\", line 3, characters 11-24\nCalled from file \"[56]\", line 3, characters 11-24\nCalled from file \"[56]\", line 3, characters 11-24\nCalled from file \"[56]\", line 3, characters 11-24\nCalled from file \"[56]\", line 3, characters 11-24\nCalled from file \"[56]\", line 3, characters 11-24\nCalled from file \"[56]\", line 3, characters 11-24\nCalled from file \"[56]\", line 3, characters 11-24\nCalled from file \"[56]\", line 3, characters 11-24\nCalled from file \"[56]\", line 3, characters 11-24\nCalled from file \"[56]\", line 3, characters 11-24\nCalled from file \"[56]\", line 3, characters 11-24\nCalled from file \"[56]\", line 3, characters 11-24\nCalled from file \"[56]\", line 3, characters 11-24\nCalled from file \"[56]\", line 3, characters 11-24\nCalled from file \"[56]\", line 3, characters 11-24\nCalled from file \"[56]\", line 3, characters 11-24\nCalled from file \"[56]\", line 3, characters 11-24\nCalled from file \"[56]\", line 3, characters 11-24\nCalled from file \"[56]\", line 3, characters 11-24\nCalled from file \"[56]\", line 3, characters 11-24\nCalled from file \"[56]\", line 3, characters 11-24\nCalled from file \"[56]\", line 3, characters 11-24\nCalled from file \"[56]\", line 3, characters 11-24\nCalled from file \"[56]\", line 3, characters 11-24\nCalled from file \"[56]\", line 3, characters 11-24\nCalled from file \"[56]\", line 3, characters 11-24\nCalled from file \"[56]\", line 3, characters 11-24\nCalled from file \"[56]\", line 3, characters 11-24\nCalled from file \"[56]\", line 3, characters 11-24\nCalled from file \"[56]\", line 3, characters 11-24\nCalled from file \"[56]\", line 3, characters 11-24\nCalled from file \"[56]\", line 3, characters 11-24\nCalled from file \"[56]\", line 3, characters 11-24\nCalled from file \"[56]\", line 3, characters 11-24\nCalled from file \"[56]\", line 3, characters 11-24\nCalled from file \"[56]\", line 3, characters 11-24\nCalled from file \"[56]\", line 3, characters 11-24\nCalled from file \"[56]\", line 3, characters 11-24\nCalled from file \"[56]\", line 3, characters 11-24\nCalled from file \"[56]\", line 3, characters 11-24\nCalled from file \"[56]\", line 3, characters 11-24\nCalled from file \"[56]\", line 3, characters 11-24\nCalled from file \"[56]\", line 3, characters 11-24\nCalled from file \"[56]\", line 3, characters 11-24\nCalled from file \"[56]\", line 3, characters 11-24\nCalled from file \"[56]\", line 3, characters 11-24\nCalled from file \"[56]\", line 3, characters 11-24\nCalled from file \"[56]\", line 3, characters 11-24\nCalled from file \"[56]\", line 3, characters 11-24\nCalled from file \"[56]\", line 3, characters 11-24\nCalled from file \"[56]\", line 3, characters 11-24\nCalled from file \"[56]\", line 3, characters 11-24\nCalled from file \"[56]\", line 3, characters 11-24\nCalled from file \"[56]\", line 3, characters 11-24\nCalled from file \"[56]\", line 3, characters 11-24\nCalled from file \"[56]\", line 3, characters 11-24\nCalled from file \"[56]\", line 3, characters 11-24\nCalled from file \"[56]\", line 3, characters 11-24\nCalled from file \"[56]\", line 3, characters 11-24\nCalled from file \"[56]\", line 3, characters 11-24\nCalled from file \"[56]\", line 3, characters 11-24\nCalled from file \"[56]\", line 3, characters 11-24\nCalled from file \"[56]\", line 3, characters 11-24\nCalled from file \"[56]\", line 3, characters 11-24\nCalled from file \"[56]\", line 3, characters 11-24\nCalled from file \"[56]\", line 3, characters 11-24\nCalled from file \"[56]\", line 3, characters 11-24\nCalled from file \"[56]\", line 3, characters 11-24\nCalled from file \"[56]\", line 3, characters 11-24\nCalled from file \"[56]\", line 3, characters 11-24\nCalled from file \"[56]\", line 3, characters 11-24\nCalled from file \"[56]\", line 3, characters 11-24\nCalled from file \"[56]\", line 3, characters 11-24\nCalled from file \"[56]\", line 3, characters 11-24\nCalled from file \"[56]\", line 3, characters 11-24\nCalled from file \"[56]\", line 3, characters 11-24\nCalled from file \"[56]\", line 3, characters 11-24\nCalled from file \"[56]\", line 3, characters 11-24\nCalled from file \"[56]\", line 3, characters 11-24\nCalled from file \"[56]\", line 3, characters 11-24\nCalled from file \"[56]\", line 3, characters 11-24\nCalled from file \"[56]\", line 3, characters 11-24\nCalled from file \"[56]\", line 3, characters 11-24\nCalled from file \"[56]\", line 3, characters 11-24\nCalled from file \"[56]\", line 3, characters 11-24\nCalled from file \"[56]\", line 3, characters 11-24\nCalled from file \"[56]\", line 3, characters 11-24\nCalled from file \"[56]\", line 3, characters 11-24\nCalled from file \"[56]\", line 3, characters 11-24\nCalled from file \"[56]\", line 3, characters 11-24\nCalled from file \"[56]\", line 3, characters 11-24\nCalled from file \"[56]\", line 3, characters 11-24\nCalled from file \"[56]\", line 3, characters 11-24\nCalled from file \"[56]\", line 3, characters 11-24\nCalled from file \"[56]\", line 3, characters 11-24\nCalled from file \"[56]\", line 3, characters 11-24\nCalled from file \"[56]\", line 3, characters 11-24\nCalled from file \"[56]\", line 3, characters 11-24\nCalled from file \"[56]\", line 3, characters 11-24\nCalled from file \"[56]\", line 3, characters 11-24\nCalled from file \"[56]\", line 3, characters 11-24\nCalled from file \"[56]\", line 3, characters 11-24\nCalled from file \"[56]\", line 3, characters 11-24\nCalled from file \"[56]\", line 3, characters 11-24\nCalled from file \"[56]\", line 3, characters 11-24\nCalled from file \"[56]\", line 3, characters 11-24\nCalled from file \"[56]\", line 3, characters 11-24\nCalled from file \"[56]\", line 3, characters 11-24\nCalled from file \"[56]\", line 3, characters 11-24\nCalled from file \"[56]\", line 3, characters 11-24\nCalled from file \"[56]\", line 3, characters 11-24\nCalled from file \"[56]\", line 3, characters 11-24\nCalled from file \"[56]\", line 3, characters 11-24\nCalled from file \"[56]\", line 3, characters 11-24\nCalled from file \"[56]\", line 3, characters 11-24\nCalled from file \"[56]\", line 3, characters 11-24\nCalled from file \"[56]\", line 3, characters 11-24\nCalled from file \"[56]\", line 3, characters 11-24\nCalled from file \"[56]\", line 3, characters 11-24\nCalled from file \"[56]\", line 3, characters 11-24\nCalled from file \"[56]\", line 3, characters 11-24\nCalled from file \"[56]\", line 3, characters 11-24\nCalled from file \"[56]\", line 3, characters 11-24\nCalled from file \"[56]\", line 3, characters 11-24\nCalled from file \"[56]\", line 3, characters 11-24\nCalled from file \"[56]\", line 3, characters 11-24\nCalled from file \"[56]\", line 3, characters 11-24\nCalled from file \"[56]\", line 3, characters 11-24\nCalled from file \"[56]\", line 3, characters 11-24\nCalled from file \"[56]\", line 3, characters 11-24\nCalled from file \"[56]\", line 3, characters 11-24\nCalled from file \"[56]\", line 3, characters 11-24\nCalled from file \"[56]\", line 3, characters 11-24\nCalled from file \"[56]\", line 3, characters 11-24\nCalled from file \"[56]\", line 3, characters 11-24\nCalled from file \"[56]\", line 3, characters 11-24\nCalled from file \"[56]\", line 3, characters 11-24\nCalled from file \"[56]\", line 3, characters 11-24\nCalled from file \"[56]\", line 3, characters 11-24\nCalled from file \"[56]\", line 3, characters 11-24\nCalled from file \"[56]\", line 3, characters 11-24\nCalled from file \"[56]\", line 3, characters 11-24\nCalled from file \"[56]\", line 3, characters 11-24\nCalled from file \"[56]\", line 3, characters 11-24\nCalled from file \"[56]\", line 3, characters 11-24\nCalled from file \"[56]\", line 3, characters 11-24\nCalled from file \"[56]\", line 3, characters 11-24\nCalled from file \"[56]\", line 3, characters 11-24\nCalled from file \"[56]\", line 3, characters 11-24\nCalled from file \"[56]\", line 3, characters 11-24\nCalled from file \"[56]\", line 3, characters 11-24\nCalled from file \"[56]\", line 3, characters 11-24\nCalled from file \"[56]\", line 3, characters 11-24\nCalled from file \"[56]\", line 3, characters 11-24\nCalled from file \"[56]\", line 3, characters 11-24\nCalled from file \"[56]\", line 3, characters 11-24\nCalled from file \"[56]\", line 3, characters 11-24\nCalled from file \"[56]\", line 3, characters 11-24\nCalled from file \"[56]\", line 3, characters 11-24\nCalled from file \"[56]\", line 3, characters 11-24\nCalled from file \"[56]\", line 3, characters 11-24\nCalled from file \"[56]\", line 3, characters 11-24\nCalled from file \"[56]\", line 3, characters 11-24\nCalled from file \"[56]\", line 3, characters 11-24\nCalled from file \"[56]\", line 3, characters 11-24\nCalled from file \"[56]\", line 3, characters 11-24\nCalled from file \"[56]\", line 3, characters 11-24\nCalled from file \"[56]\", line 3, characters 11-24\nCalled from file \"[56]\", line 3, characters 11-24\nCalled from file \"[56]\", line 3, characters 11-24\nCalled from file \"[56]\", line 3, characters 11-24\nCalled from file \"[56]\", line 3, characters 11-24\nCalled from file \"[56]\", line 3, characters 11-24\nCalled from file \"[56]\", line 3, characters 11-24\nCalled from file \"[56]\", line 3, characters 11-24\nCalled from file \"[56]\", line 3, characters 11-24\nCalled from file \"[56]\", line 3, characters 11-24\nCalled from file \"[56]\", line 3, characters 11-24\nCalled from file \"[56]\", line 3, characters 11-24\nCalled from file \"[56]\", line 3, characters 11-24\nCalled from file \"[56]\", line 3, characters 11-24\nCalled from file \"[56]\", line 3, characters 11-24\nCalled from file \"[56]\", line 3, characters 11-24\nCalled from file \"[56]\", line 3, characters 11-24\nCalled from file \"[56]\", line 3, characters 11-24\nCalled from file \"[56]\", line 3, characters 11-24\nCalled from file \"[56]\", line 3, characters 11-24\nCalled from file \"[56]\", line 3, characters 11-24\nCalled from file \"[56]\", line 3, characters 11-24\nCalled from file \"[56]\", line 3, characters 11-24\nCalled from file \"[56]\", line 3, characters 11-24\nCalled from file \"[56]\", line 3, characters 11-24\nCalled from file \"[56]\", line 3, characters 11-24\nCalled from file \"[56]\", line 3, characters 11-24\nCalled from file \"[56]\", line 3, characters 11-24\nCalled from file \"[56]\", line 3, characters 11-24\nCalled from file \"[56]\", line 3, characters 11-24\nCalled from file \"[56]\", line 3, characters 11-24\nCalled from file \"[56]\", line 3, characters 11-24\nCalled from file \"[56]\", line 3, characters 11-24\nCalled from file \"[56]\", line 3, characters 11-24\nCalled from file \"[56]\", line 3, characters 11-24\nCalled from file \"[56]\", line 3, characters 11-24\nCalled from file \"[56]\", line 3, characters 11-24\nCalled from file \"[56]\", line 3, characters 11-24\nCalled from file \"[56]\", line 3, characters 11-24\nCalled from file \"[56]\", line 3, characters 11-24\nCalled from file \"[56]\", line 3, characters 11-24\nCalled from file \"[56]\", line 3, characters 11-24\nCalled from file \"[56]\", line 3, characters 11-24\nCalled from file \"[56]\", line 3, characters 11-24\nCalled from file \"[56]\", line 3, characters 11-24\nCalled from file \"[56]\", line 3, characters 11-24\nCalled from file \"[56]\", line 3, characters 11-24\nCalled from file \"[56]\", line 3, characters 11-24\nCalled from file \"[56]\", line 3, characters 11-24\nCalled from file \"[56]\", line 3, characters 11-24\nCalled from file \"[56]\", line 3, characters 11-24\nCalled from file \"[56]\", line 3, characters 11-24\n\u001b[0m"
     ]
    }
   ],
   "source": [
    "findsum 1000000"
   ]
  },
  {
   "cell_type": "markdown",
   "metadata": {
    "slideshow": {
     "slide_type": "slide"
    }
   },
   "source": [
    "## Stack buildup\n",
    "\n",
    "```ocaml\n",
    "let rec findsum n = \n",
    "  if n <= 0 then 0\n",
    "  else n + findsum (n-1)\n",
    "```\n",
    "\n",
    "Some work `\"+ n\"` left to do after the recursive call returns. This builds up stack frames."
   ]
  },
  {
   "cell_type": "markdown",
   "metadata": {
    "slideshow": {
     "slide_type": "slide"
    }
   },
   "source": [
    "## Stack buildup\n",
    "\n",
    "For `findsum 5`:\n",
    "\n",
    "* `5 + (findsum 4)`\n",
    "* `4 + (findsum 3)`\n",
    "* `3 + (findsum 2)`\n",
    "* `2 + (findsum 1)`\n",
    "* `1 + (findsum 0)`\n",
    "* the number `n` kept in stack frame.\n",
    "* This causes stackoverflow for small values itself.\n"
   ]
  },
  {
   "cell_type": "markdown",
   "metadata": {
    "slideshow": {
     "slide_type": "slide"
    }
   },
   "source": [
    "## Tail recursion\n",
    "\n",
    "Rewrite the function such that the recursive call is the last thing that the function does:"
   ]
  },
  {
   "cell_type": "code",
   "execution_count": 60,
   "metadata": {},
   "outputs": [
    {
     "data": {
      "text/plain": [
       "val findsum_tailrec : int -> int -> int = <fun>\n"
      ]
     },
     "execution_count": 60,
     "metadata": {},
     "output_type": "execute_result"
    },
    {
     "data": {
      "text/plain": [
       "val findsum_tailrec : int -> int = <fun>\n"
      ]
     },
     "execution_count": 60,
     "metadata": {},
     "output_type": "execute_result"
    }
   ],
   "source": [
    "let rec findsum_tailrec acc n = \n",
    "  if n <= 0 then acc\n",
    "  else findsum_tailrec (n + acc) (n-1)\n",
    "  \n",
    "let findsum_tailrec n = findsum_tailrec 0 n"
   ]
  },
  {
   "cell_type": "code",
   "execution_count": 62,
   "metadata": {},
   "outputs": [
    {
     "ename": "error",
     "evalue": "compile_error",
     "output_type": "error",
     "traceback": [
      "File \"[62]\", line 1, characters 0-15:\n1 | findsum_tailrec 1000000 5\n    ^^^^^^^^^^^^^^^\nError: This function has type int -> int\n       It is applied to too many arguments; maybe you forgot a `;'.\n"
     ]
    }
   ],
   "source": [
    "findsum_tailrec 1000000 5"
   ]
  },
  {
   "cell_type": "markdown",
   "metadata": {
    "slideshow": {
     "slide_type": "slide"
    }
   },
   "source": [
    "## Tail recursion\n",
    "\n",
    "```ocaml\n",
    "let rec findsum_tailrec n acc = \n",
    "  if n <= 0 then acc\n",
    "  else findsum_tailrec (n-1) (n + acc)\n",
    "```\n",
    "\n",
    "* No work left to do when the recursive call returns except return result to caller.\n",
    "* OCaml compiler does **tail call optimisation** that pops current call frame before invoking recursive call. \n",
    "  + No stack buildup => equivalent to writing a tight loop. "
   ]
  },
  {
   "cell_type": "markdown",
   "metadata": {
    "slideshow": {
     "slide_type": "slide"
    }
   },
   "source": [
    "## Labelled and Optional Arguments in Functions"
   ]
  },
  {
   "cell_type": "markdown",
   "metadata": {
    "slideshow": {
     "slide_type": "fragment"
    }
   },
   "source": [
    "* type and name of a function - good indicators of what the arguments should be."
   ]
  },
  {
   "cell_type": "code",
   "execution_count": 63,
   "metadata": {
    "slideshow": {
     "slide_type": "fragment"
    }
   },
   "outputs": [
    {
     "data": {
      "text/plain": [
       "- : string -> int -> int -> string = <fun>\n"
      ]
     },
     "execution_count": 63,
     "metadata": {},
     "output_type": "execute_result"
    }
   ],
   "source": [
    "String.sub"
   ]
  },
  {
   "cell_type": "markdown",
   "metadata": {
    "slideshow": {
     "slide_type": "slide"
    }
   },
   "source": [
    "* OCaml supports labeled arguments to functions.\n",
    "\n",
    "```Ocaml\n",
    "let f ~name1:arg1 ~name2:arg2 = arg1 + arg2\n",
    "```\n",
    "\n",
    "* Application can use names of arguments also.\n",
    "\n",
    "```Ocaml\n",
    "f ~name2:3 ~name1:4\n",
    "```"
   ]
  },
  {
   "cell_type": "code",
   "execution_count": 64,
   "metadata": {
    "slideshow": {
     "slide_type": "slide"
    }
   },
   "outputs": [
    {
     "data": {
      "text/plain": [
       "val f : xvalue:int -> yvalue:int -> int = <fun>\n"
      ]
     },
     "execution_count": 64,
     "metadata": {},
     "output_type": "execute_result"
    }
   ],
   "source": [
    "let f ~xvalue:x ~yvalue:y = x + 2*y"
   ]
  },
  {
   "cell_type": "code",
   "execution_count": 67,
   "metadata": {
    "slideshow": {
     "slide_type": "fragment"
    }
   },
   "outputs": [
    {
     "data": {
      "text/plain": [
       "- : int = 25\n"
      ]
     },
     "execution_count": 67,
     "metadata": {},
     "output_type": "execute_result"
    }
   ],
   "source": [
    "f 5 10"
   ]
  },
  {
   "cell_type": "markdown",
   "metadata": {
    "slideshow": {
     "slide_type": "slide"
    }
   },
   "source": [
    "* We can make some arguments as optional for the function"
   ]
  },
  {
   "cell_type": "code",
   "execution_count": 75,
   "metadata": {
    "slideshow": {
     "slide_type": "fragment"
    }
   },
   "outputs": [
    {
     "data": {
      "text/plain": [
       "val newf : ?xvalue:int -> int -> int = <fun>\n"
      ]
     },
     "execution_count": 75,
     "metadata": {},
     "output_type": "execute_result"
    }
   ],
   "source": [
    "let newf ?xvalue:(x:int=8) (y:int) = x + 2*y"
   ]
  },
  {
   "cell_type": "code",
   "execution_count": 71,
   "metadata": {
    "slideshow": {
     "slide_type": "fragment"
    }
   },
   "outputs": [
    {
     "data": {
      "text/plain": [
       "- : int = 13\n"
      ]
     },
     "execution_count": 71,
     "metadata": {},
     "output_type": "execute_result"
    }
   ],
   "source": [
    "newf ~xvalue:5 4"
   ]
  },
  {
   "cell_type": "code",
   "execution_count": 72,
   "metadata": {
    "slideshow": {
     "slide_type": "fragment"
    }
   },
   "outputs": [
    {
     "data": {
      "text/plain": [
       "- : int = 18\n"
      ]
     },
     "execution_count": 72,
     "metadata": {},
     "output_type": "execute_result"
    }
   ],
   "source": [
    "newf 5"
   ]
  },
  {
   "cell_type": "markdown",
   "metadata": {
    "slideshow": {
     "slide_type": "slide"
    }
   },
   "source": [
    "## Operators as Functions"
   ]
  },
  {
   "cell_type": "code",
   "execution_count": 77,
   "metadata": {
    "slideshow": {
     "slide_type": "fragment"
    }
   },
   "outputs": [
    {
     "data": {
      "text/plain": [
       "- : float -> float -> float = <fun>\n"
      ]
     },
     "execution_count": 77,
     "metadata": {},
     "output_type": "execute_result"
    }
   ],
   "source": [
    "( +. )"
   ]
  },
  {
   "cell_type": "code",
   "execution_count": 78,
   "metadata": {
    "slideshow": {
     "slide_type": "fragment"
    }
   },
   "outputs": [
    {
     "data": {
      "text/plain": [
       "val add : int -> int -> int = <fun>\n"
      ]
     },
     "execution_count": 78,
     "metadata": {},
     "output_type": "execute_result"
    }
   ],
   "source": [
    "let add x y = (+) x y"
   ]
  },
  {
   "cell_type": "code",
   "execution_count": 79,
   "metadata": {
    "slideshow": {
     "slide_type": "fragment"
    }
   },
   "outputs": [
    {
     "data": {
      "text/plain": [
       "- : int -> int -> int = <fun>\n"
      ]
     },
     "execution_count": 79,
     "metadata": {},
     "output_type": "execute_result"
    }
   ],
   "source": [
    "( * )"
   ]
  },
  {
   "cell_type": "code",
   "execution_count": null,
   "metadata": {
    "slideshow": {
     "slide_type": "slide"
    }
   },
   "outputs": [],
   "source": [
    "let ( ^^ ) x y = max x y"
   ]
  },
  {
   "cell_type": "code",
   "execution_count": null,
   "metadata": {
    "slideshow": {
     "slide_type": "slide"
    }
   },
   "outputs": [],
   "source": [
    "2 ^^ 3"
   ]
  },
  {
   "cell_type": "markdown",
   "metadata": {
    "slideshow": {
     "slide_type": "slide"
    }
   },
   "source": [
    "## Writing Comments - Pre-conditions and Post-conditions\n",
    "\n",
    "\n",
    "```Ocaml\n",
    "(** [lowercase_ascii c] is the lowercase ASCII equivalent of character [c]. *)\n",
    "\n",
    "(** [index s c] is the index of the first occurrence of character [c] in string [s].  \n",
    "    Raises: [Not_found] if [c] does not occur in [s]. *)\n",
    "\n",
    "(** [random_int bound] is a random integer between 0 (inclusive) and [bound] (exclusive).\n",
    "    Requires: [bound] is greater than 0 and less than 2^30. *)\n",
    "```"
   ]
  },
  {
   "cell_type": "markdown",
   "metadata": {
    "slideshow": {
     "slide_type": "slide"
    }
   },
   "source": [
    "## Pattern Matching"
   ]
  },
  {
   "cell_type": "code",
   "execution_count": 80,
   "metadata": {
    "slideshow": {
     "slide_type": "fragment"
    }
   },
   "outputs": [
    {
     "data": {
      "text/plain": [
       "val f : string -> string = <fun>\n"
      ]
     },
     "execution_count": 80,
     "metadata": {},
     "output_type": "execute_result"
    }
   ],
   "source": [
    "let f x = \n",
    "    if x = \"foo\"\n",
    "    then \"it is foo\"\n",
    "    else if x = \"bar\"\n",
    "    then \"bar is the one\"\n",
    "    else if x = \"zap\"\n",
    "    then \"totally different\"\n",
    "    else \"our default: \" ^ x"
   ]
  },
  {
   "cell_type": "code",
   "execution_count": 85,
   "metadata": {
    "slideshow": {
     "slide_type": "fragment"
    }
   },
   "outputs": [
    {
     "data": {
      "text/plain": [
       "- : string = \"our default: abc\"\n"
      ]
     },
     "execution_count": 85,
     "metadata": {},
     "output_type": "execute_result"
    }
   ],
   "source": [
    "(f \"abc\")"
   ]
  },
  {
   "cell_type": "code",
   "execution_count": 86,
   "metadata": {
    "slideshow": {
     "slide_type": "slide"
    }
   },
   "outputs": [
    {
     "data": {
      "text/plain": [
       "val newf : string -> string = <fun>\n"
      ]
     },
     "execution_count": 86,
     "metadata": {},
     "output_type": "execute_result"
    }
   ],
   "source": [
    "let newf x =\n",
    "    match x with\n",
    "      \"foo\" -> \"it is foo\"\n",
    "    | \"bar\" -> \"bar is the one\"\n",
    "    | \"zap\" -> \"totally different\"\n",
    "    |  _    -> \"our default: \" ^ x"
   ]
  },
  {
   "cell_type": "code",
   "execution_count": 87,
   "metadata": {
    "slideshow": {
     "slide_type": "slide"
    }
   },
   "outputs": [
    {
     "data": {
      "text/plain": [
       "val fact : int -> int = <fun>\n"
      ]
     },
     "execution_count": 87,
     "metadata": {},
     "output_type": "execute_result"
    }
   ],
   "source": [
    "let rec fact n =\n",
    "    match n with\n",
    "      0 -> 1\n",
    "    | _ -> n*(fact (n-1))"
   ]
  },
  {
   "cell_type": "code",
   "execution_count": 88,
   "metadata": {
    "slideshow": {
     "slide_type": "fragment"
    }
   },
   "outputs": [
    {
     "data": {
      "text/plain": [
       "- : int = 120\n"
      ]
     },
     "execution_count": 88,
     "metadata": {},
     "output_type": "execute_result"
    }
   ],
   "source": [
    "(fact 5)"
   ]
  },
  {
   "cell_type": "markdown",
   "metadata": {},
   "source": [
    "## Pattern Matching\n",
    "\n",
    "```Ocaml\n",
    "match expr with pattern-matching\n",
    "```\n",
    "\n",
    "* The `pattern-matching` part of the match is a sequence of clauses.\n",
    "* Each one of the form: `pattern -> expr` separated by vertical bars `(|)`. \n",
    "* The clauses are processed in order, and only the expr of first matching clause is evaluated. \n",
    "* The value of the entire match expression is the value of the expr of the matching clause\n",
    "* Match can be non-exhaustive can be result in the eval time exception `Match_failure` or a compile time warning. "
   ]
  },
  {
   "cell_type": "code",
   "execution_count": 89,
   "metadata": {
    "slideshow": {
     "slide_type": "fragment"
    }
   },
   "outputs": [
    {
     "name": "stderr",
     "output_type": "stream",
     "text": [
      "File \"[89]\", lines 2-5, characters 4-34:\n",
      "2 | ....match x with\n",
      "3 |       \"foo\" -> \"it is foo\"\n",
      "4 |     | \"bar\" -> \"bar is the one\"\n",
      "5 |     | \"zap\" -> \"totally different\"\n",
      "Warning 8: this pattern-matching is not exhaustive.\n",
      "Here is an example of a case that is not matched:\n",
      "\"\"\n"
     ]
    },
    {
     "data": {
      "text/plain": [
       "val newerf : string -> string = <fun>\n"
      ]
     },
     "execution_count": 89,
     "metadata": {},
     "output_type": "execute_result"
    }
   ],
   "source": [
    "let newerf x =\n",
    "    match x with\n",
    "      \"foo\" -> \"it is foo\"\n",
    "    | \"bar\" -> \"bar is the one\"\n",
    "    | \"zap\" -> \"totally different\""
   ]
  },
  {
   "cell_type": "markdown",
   "metadata": {
    "slideshow": {
     "slide_type": "slide"
    }
   },
   "source": [
    "## Printing in Ocaml\n",
    "\n",
    "\n",
    "* Printing \"Hello World\"\n",
    "* Several of the built-in primitive types: `print_char`, `print_int`, `print_string`, and `print_float`\n",
    "```Ocaml\n",
    "print_string \"Hello World from 3100\"\n",
    "```\n",
    "* printing is a side effect\n",
    "* Hence not functional programming style."
   ]
  },
  {
   "cell_type": "code",
   "execution_count": null,
   "metadata": {
    "slideshow": {
     "slide_type": "slide"
    }
   },
   "outputs": [],
   "source": [
    "print_string \"hello\""
   ]
  },
  {
   "cell_type": "markdown",
   "metadata": {
    "slideshow": {
     "slide_type": "slide"
    }
   },
   "source": [
    "## Type inference in mutually recursive functions."
   ]
  },
  {
   "cell_type": "markdown",
   "metadata": {
    "slideshow": {
     "slide_type": "notes"
    }
   },
   "source": [
    "We saw mutually recursive functions are a set of functions that can call each other.\n",
    "\n",
    "```\n",
    "let rec f1 v1 v2 ... vn =\n",
    "  ...\n",
    "and f2 v1 v2 ... vn =\n",
    "   ...\n",
    "...\n",
    "and fn v1 v2 ... vn =\n",
    "   ...\n",
    "```\n",
    "\n",
    "where the functions `f1` to `fn` can call each other. \n",
    "\n",
    "There was a question about how is type checking done."
   ]
  },
  {
   "cell_type": "markdown",
   "metadata": {
    "slideshow": {
     "slide_type": "notes"
    }
   },
   "source": [
    "## How is type inference done?\n",
    "\n",
    "* Similar to solving equations in mathematics. \n",
    "* Initially, imagine the types of the individual components of the expression as unknowns. \n",
    "* The operators, argument type annotations etc, gives rise to constraints that these unknowns should satisfy. \n",
    "* For example, if the function contains `x+y`, then it immediately adds a constraint that the unknown type-of-x must be `int` and that type-of-y must be `int`.\n",
    "* Another example : if there is a variable `z`, which the programmer annotated to be `z:int`. This adds the constraint that the initial unknown type-of-z must by `int`. \n",
    "\n",
    "* The type checker will solve the question : **is there a type assignment to the types which is consistent with the constraints?**. \n",
    "* If there is no consistent assigment of types to the unknown, then type error will be given.\n",
    "* Type checker is simply checking if a system of constraints is satisfiable by some type assignments to the unknowns involved !!."
   ]
  },
  {
   "cell_type": "markdown",
   "metadata": {},
   "source": [
    "```OCaml\n",
    "let rec even n =\n",
    "  if n = 0 then true\n",
    "  else odd (n-1)\n",
    "  \n",
    "and odd n = \n",
    "  if n = 0 then false \n",
    "  else even (n-1)\n",
    "```\n",
    "  \n",
    "### Curiosity : How is type inference done?\n",
    "\n",
    "* Mutually recursive functions - additional constraints for the type unknowns.\n",
    "* The two functions give rise to constraints on what the type of the other should be. \n",
    "* This just adds to the above constraint satisfaction system. "
   ]
  },
  {
   "cell_type": "markdown",
   "metadata": {
    "slideshow": {
     "slide_type": "notes"
    }
   },
   "source": []
  }
 ],
 "metadata": {
  "celltoolbar": "Slideshow",
  "kernelspec": {
   "display_name": "OCaml 4.10",
   "language": "OCaml",
   "name": "ocaml-jupyter"
  },
  "language_info": {
   "codemirror_mode": "text/x-ocaml",
   "file_extension": ".ml",
   "mimetype": "text/x-ocaml",
   "name": "OCaml",
   "nbconverter_exporter": null,
   "pygments_lexer": "OCaml",
   "version": "4.10.0"
  }
 },
 "nbformat": 4,
 "nbformat_minor": 2
}
