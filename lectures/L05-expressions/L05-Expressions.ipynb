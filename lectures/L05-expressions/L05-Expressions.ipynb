{
 "cells": [
  {
   "cell_type": "markdown",
   "metadata": {
    "slideshow": {
     "slide_type": "slide"
    }
   },
   "source": [
    "## Recap\n",
    "\n",
    "<h4> Last Time: </h4>\n",
    "\n",
    "* Why Programming Languages? \n",
    "* Imperative vs Declarative\n",
    "* Functional Programming\n",
    "\n",
    "<h4> Today: </h4>\n",
    "\n",
    "* A bit about the course set up\n",
    "* Expressions, Values, Definitions in OCaml."
   ]
  },
  {
   "cell_type": "markdown",
   "metadata": {
    "slideshow": {
     "slide_type": "slide"
    }
   },
   "source": [
    "A bit more about the set up.\n",
    "\n",
    "<h4> Course Lecturing & Assigments </h4>\n",
    "\n",
    "* We will provide a docker image for the course.\n",
    "* Material is provided in a Jupyter Notebook distributed through a repository.\n",
    "* Assignments will need to be submitted as Jupyter Notebook on moodle.\n",
    "* You need to install docker in your computer.\n",
    "* We will give you instructions for the same.\n",
    "* We will have a Slack Channel for asking doubts."
   ]
  },
  {
   "cell_type": "markdown",
   "metadata": {
    "slideshow": {
     "slide_type": "slide"
    }
   },
   "source": [
    "## Expressions\n",
    "\n",
    "They are the basic building blocks.\n",
    "\n",
    "Every kind of expression has:\n",
    "\n",
    "* **Syntax**\n",
    "* **Semantics:**\n",
    "  + Type-checking rules (static semantics): produce a type or fail with an error message\n",
    "  + Evaluation rules (dynamic semantics): produce a value\n",
    "    * (or exception or infinite loop)\n",
    "    * **Used only on expressions that type-check** (static vs dynamic languages)"
   ]
  },
  {
   "cell_type": "markdown",
   "metadata": {
    "slideshow": {
     "slide_type": "slide"
    }
   },
   "source": [
    "## Values\n",
    "\n",
    "A *value* is an expression that does not need further evaluation.\n",
    "\n",
    "<center>\n",
    "    \n",
    "<img src=\"images/val-expr.svg\" width=\"300\">\n",
    "</center>"
   ]
  },
  {
   "cell_type": "markdown",
   "metadata": {
    "slideshow": {
     "slide_type": "slide"
    }
   },
   "source": [
    "## Values in OCaml"
   ]
  },
  {
   "cell_type": "code",
   "execution_count": 18,
   "metadata": {
    "scrolled": true,
    "slideshow": {
     "slide_type": "-"
    }
   },
   "outputs": [
    {
     "data": {
      "text/plain": [
       "- : int = 42\n"
      ]
     },
     "execution_count": 18,
     "metadata": {},
     "output_type": "execute_result"
    }
   ],
   "source": [
    "42"
   ]
  },
  {
   "cell_type": "code",
   "execution_count": null,
   "metadata": {},
   "outputs": [],
   "source": [
    "\"Hello\""
   ]
  },
  {
   "cell_type": "code",
   "execution_count": null,
   "metadata": {},
   "outputs": [],
   "source": [
    "3.1415"
   ]
  },
  {
   "cell_type": "markdown",
   "metadata": {
    "slideshow": {
     "slide_type": "fragment"
    }
   },
   "source": [
    "* Observe that the values have \n",
    "  + static semantics: types `int`, `string`, `float`.\n",
    "  + dynamic semantics: the value itself."
   ]
  },
  {
   "cell_type": "markdown",
   "metadata": {
    "slideshow": {
     "slide_type": "slide"
    }
   },
   "source": [
    "## Type Inference and annotation\n",
    "\n",
    "* OCaml compiler **infers** types\n",
    "  + Compilation fails with type error if it can't\n",
    "  + Hard part of language design: guaranteeing compiler can infer types when program is correctly written\n",
    "* You can manually annotate types anywhere – Replace `e` with `(e : t)`\n",
    "  + Useful for resolving type errors\n"
   ]
  },
  {
   "cell_type": "code",
   "execution_count": null,
   "metadata": {
    "slideshow": {
     "slide_type": "fragment"
    }
   },
   "outputs": [],
   "source": [
    "(42.4 : float)"
   ]
  },
  {
   "cell_type": "markdown",
   "metadata": {
    "slideshow": {
     "slide_type": "slide"
    }
   },
   "source": [
    "## More values\n",
    "\n",
    "OCaml also support other values. See [manual](https://caml.inria.fr/pub/docs/manual-ocaml/values.html)."
   ]
  },
  {
   "cell_type": "code",
   "execution_count": 12,
   "metadata": {},
   "outputs": [
    {
     "data": {
      "text/plain": [
       "- : unit = ()\n"
      ]
     },
     "execution_count": 12,
     "metadata": {},
     "output_type": "execute_result"
    }
   ],
   "source": [
    "()"
   ]
  },
  {
   "cell_type": "code",
   "execution_count": 13,
   "metadata": {},
   "outputs": [
    {
     "data": {
      "text/plain": [
       "- : int * string * bool * float = (1, \"hello\", true, 3.4)\n"
      ]
     },
     "execution_count": 13,
     "metadata": {},
     "output_type": "execute_result"
    }
   ],
   "source": [
    "(1,\"hello\", true, 3.4)"
   ]
  },
  {
   "cell_type": "code",
   "execution_count": 14,
   "metadata": {},
   "outputs": [
    {
     "data": {
      "text/plain": [
       "- : int list = [1; 2; 3]\n"
      ]
     },
     "execution_count": 14,
     "metadata": {},
     "output_type": "execute_result"
    }
   ],
   "source": [
    "[1;2;3]"
   ]
  },
  {
   "cell_type": "code",
   "execution_count": 15,
   "metadata": {},
   "outputs": [
    {
     "data": {
      "text/plain": [
       "- : int array = [|1; 2; 3|]\n"
      ]
     },
     "execution_count": 15,
     "metadata": {},
     "output_type": "execute_result"
    }
   ],
   "source": [
    "[|1;2;3|]"
   ]
  },
  {
   "cell_type": "markdown",
   "metadata": {
    "slideshow": {
     "slide_type": "slide"
    }
   },
   "source": [
    "## Static vs Dynamic\n",
    "\n",
    "Static typing helps catch lots errors at compile time.\n",
    "\n",
    "Which of these is a static error?"
   ]
  },
  {
   "cell_type": "code",
   "execution_count": 16,
   "metadata": {
    "scrolled": true
   },
   "outputs": [
    {
     "ename": "error",
     "evalue": "compile_error",
     "output_type": "error",
     "traceback": [
      "File \"[16]\", line 1, characters 5-9:\n1 | 23 = 45.0\n         ^^^^\nError: This expression has type float but an expression was expected of type\n         int\n"
     ]
    }
   ],
   "source": [
    "23 = 45.0"
   ]
  },
  {
   "cell_type": "code",
   "execution_count": 17,
   "metadata": {},
   "outputs": [
    {
     "data": {
      "text/plain": [
       "- : bool = false\n"
      ]
     },
     "execution_count": 17,
     "metadata": {},
     "output_type": "execute_result"
    }
   ],
   "source": [
    "23 = 45"
   ]
  }
 ],
 "metadata": {
  "celltoolbar": "Slideshow",
  "kernelspec": {
   "display_name": "OCaml 4.10",
   "language": "OCaml",
   "name": "ocaml-jupyter"
  },
  "language_info": {
   "codemirror_mode": "text/x-ocaml",
   "file_extension": ".ml",
   "mimetype": "text/x-ocaml",
   "name": "OCaml",
   "nbconverter_exporter": null,
   "pygments_lexer": "OCaml",
   "version": "4.10.0"
  }
 },
 "nbformat": 4,
 "nbformat_minor": 2
}
