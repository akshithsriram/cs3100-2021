{
 "cells": [
  {
   "cell_type": "markdown",
   "metadata": {
    "slideshow": {
     "slide_type": "slide"
    }
   },
   "source": [
    "## Recap\n",
    "\n",
    "<h4> Yesterdays Lecture: </h4>\n",
    "\n",
    "* Expressions\n",
    "* Values in OCaml\n",
    "* Static and Dynamic Semantics.\n",
    "* Type checking - Strongly typed and weakly typed languages.\n",
    "* Find out what is OCaml stand for?\n",
    "    Objective Categorical Abstract Machine Language\n"
   ]
  },
  {
   "cell_type": "markdown",
   "metadata": {
    "slideshow": {
     "slide_type": "slide"
    }
   },
   "source": [
    "## Today\n",
    "\n",
    "<h4> Today: </h4>\n",
    "\n",
    "Static and Dynamic Semantics of:\n",
    "\n",
    "* if-then else expressions\n",
    "* let expressions.\n",
    "* scope and shadowing"
   ]
  },
  {
   "cell_type": "markdown",
   "metadata": {
    "slideshow": {
     "slide_type": "slide"
    }
   },
   "source": [
    "## If expression\n",
    "\n",
    "```ocaml\n",
    "if e1 then e2 else e3\n",
    "```\n",
    "\n",
    "* **Static Semantics:** \n",
    "  + If `e1` has type `bool` and \n",
    "  + `e2` has type `t` and \n",
    "  + `e3` has type `t` then \n",
    "  + `if e1 then e2 else e3` has type `t`.\n",
    "* **Dynamic Semantics:** \n",
    "  + If `e1` evaluates to `true`, \n",
    "  + then evaluate `e2`, \n",
    "  + else evaluate `e3`"
   ]
  },
  {
   "cell_type": "code",
   "execution_count": 7,
   "metadata": {
    "scrolled": true,
    "slideshow": {
     "slide_type": "slide"
    }
   },
   "outputs": [
    {
     "data": {
      "text/plain": [
       "- : bool = true\n"
      ]
     },
     "execution_count": 7,
     "metadata": {},
     "output_type": "execute_result"
    }
   ],
   "source": [
    "if  (if (34<32) then true else false) then (if (34<32) then true else false) else (23=23)"
   ]
  },
  {
   "cell_type": "code",
   "execution_count": 2,
   "metadata": {},
   "outputs": [
    {
     "ename": "error",
     "evalue": "compile_error",
     "output_type": "error",
     "traceback": [
      "File \"[2]\", line 1, characters 21-25:\n1 | if true then 13 else 13.4\n                         ^^^^\nError: This expression has type float but an expression was expected of type\n         int\n"
     ]
    }
   ],
   "source": [
    "if true then 13 else 13.4"
   ]
  },
  {
   "cell_type": "markdown",
   "metadata": {
    "slideshow": {
     "slide_type": "slide"
    }
   },
   "source": [
    "## More Formally\n",
    "\n",
    "<script type=\"text/x-mathjax-config\">\n",
    "  MathJax.Hub.Config({ TeX: { extensions: [\"color.js\"] }});\n",
    "</script>\n",
    "\n",
    "$\n",
    "\\newcommand{\\inferrule}[2]{\\displaystyle{\\frac{#1}{#2}}}\n",
    "\\newcommand{\\ite}[3]{\\text{if }{#1}\\text{ then }{#2}\\text{ else }{#3}}\n",
    "\\newcommand{\\t}[1]{\\color{green}{#1}}\n",
    "\\newcommand{\\true}{\\color{purple}{true}}\n",
    "\\newcommand{\\false}{\\color{purple}{false}}\n",
    "\\newcommand{\\letin}[3]{\\text{let }{{#1} = {#2}}\\text{ in }{#3}}\n",
    "$\n",
    "\n",
    "**Static Semantics of if expression**\n",
    "\n",
    "\\\\[\n",
    "\\inferrule{e1:\\t{bool} \\quad e2:\\t{t} \\quad e3:\\t{t}}{\\ite{e1}{e2}{e3} : \\t{t}}\n",
    "\\\\]\n",
    "\n",
    "(omits some details which we will cover in later lectures)\n",
    "\n",
    "#### to be read as\n",
    "\n",
    "\\\\[\n",
    "\\inferrule{Premise_1 \\quad Premise_2 \\quad \\ldots \\quad Premise_N}{Conclusion}\n",
    "\\\\]\n",
    "\n",
    "Such rules are known as inference rules. "
   ]
  },
  {
   "cell_type": "markdown",
   "metadata": {
    "slideshow": {
     "slide_type": "slide"
    }
   },
   "source": [
    "## Dynamic semantics of if expression\n",
    "\n",
    "\n",
    "For the case when the predicate evaluates to `true`:\n",
    "\n",
    "\\\\[\n",
    "\\inferrule{e1 \\rightarrow \\true \\quad e2 \\rightarrow v}{\\ite{e1}{e2}{e3} \\rightarrow v}\n",
    "\\\\]\n",
    "\n",
    "For the case when the predicate evaluates to `false`:\n",
    "\n",
    "\\\\[\n",
    "\\inferrule{e1 \\rightarrow \\false \\quad e3 \\rightarrow v}{\\ite{e1}{e2}{e3} \\rightarrow v}\n",
    "\\\\]\n",
    "\n",
    "Read $\\rightarrow$ as *evaluates to*."
   ]
  }
 ],
 "metadata": {
  "celltoolbar": "Slideshow",
  "kernelspec": {
   "display_name": "OCaml 4.10",
   "language": "OCaml",
   "name": "ocaml-jupyter"
  },
  "language_info": {
   "codemirror_mode": "text/x-ocaml",
   "file_extension": ".ml",
   "mimetype": "text/x-ocaml",
   "name": "OCaml",
   "nbconverter_exporter": null,
   "pygments_lexer": "OCaml",
   "version": "4.10.0"
  }
 },
 "nbformat": 4,
 "nbformat_minor": 2
}
