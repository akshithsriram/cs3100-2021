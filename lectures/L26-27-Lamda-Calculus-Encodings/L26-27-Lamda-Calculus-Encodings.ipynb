{
 "cells": [
  {
   "cell_type": "markdown",
   "metadata": {
    "slideshow": {
     "slide_type": "slide"
    }
   },
   "source": [
    "<center>\n",
    "<h1 style=\"text-align:center\"> CS3100-2021 - Lecture 26, 27 - Sep 28, 11am, Sep 29, 10am </h1>    \n",
    "<h1 style=\"text-align:center\"> Lambda Calculus : Encodings </h1>\n",
    "</center>"
   ]
  },
  {
   "cell_type": "markdown",
   "metadata": {
    "slideshow": {
     "slide_type": "slide"
    }
   },
   "source": [
    "## Context\n",
    "\n",
    "### Previously\n",
    "\n",
    "* Semantics of untyped lambda calculus\n",
    "  + β-reductions, reduction strategies, normal forms, extensionality\n",
    "  \n",
    "### Today\n",
    "\n",
    "* Encodings\n",
    "  + Booleans, Arithmetic, Pairs, Recursion"
   ]
  },
  {
   "cell_type": "markdown",
   "metadata": {
    "slideshow": {
     "slide_type": "slide"
    }
   },
   "source": [
    "## Power of Lambdas\n",
    "\n",
    "* Despite its simplicity, the lambda calculus is quite expressive: it is **Turing complete**!\n",
    "* Means we can encode any computation we want\n",
    "  + if we are sufficiently clever...\n",
    "* Examples\n",
    "  + Booleans & predicate logic.\n",
    "  + Pairs\n",
    "  + Lists\n",
    "  + Natural numbers & arithmetic.\n",
    "  \n",
    "$\\newcommand{\\br}{\\rightarrow_{\\beta}}$"
   ]
  },
  {
   "cell_type": "code",
   "execution_count": 19,
   "metadata": {
    "slideshow": {
     "slide_type": "slide"
    }
   },
   "outputs": [
    {
     "data": {
      "text/plain": [
       "val p : string -> Syntax.expr = <fun>\n"
      ]
     },
     "execution_count": 19,
     "metadata": {},
     "output_type": "execute_result"
    },
    {
     "data": {
      "text/plain": [
       "val var : string -> Syntax.expr = <fun>\n"
      ]
     },
     "execution_count": 19,
     "metadata": {},
     "output_type": "execute_result"
    },
    {
     "data": {
      "text/plain": [
       "val app : Syntax.expr list -> Syntax.expr = <fun>\n"
      ]
     },
     "execution_count": 19,
     "metadata": {},
     "output_type": "execute_result"
    },
    {
     "data": {
      "text/plain": [
       "val lam : string -> Syntax.expr -> Syntax.expr = <fun>\n"
      ]
     },
     "execution_count": 19,
     "metadata": {},
     "output_type": "execute_result"
    },
    {
     "data": {
      "text/plain": [
       "val eval : ?log:bool -> ?depth:int -> Syntax.expr -> string = <fun>\n"
      ]
     },
     "execution_count": 19,
     "metadata": {},
     "output_type": "execute_result"
    }
   ],
   "source": [
    "#use \"init.ml\"\n",
    "\n",
    "let p = Lambda_parse.parse_string                                                   \n",
    "let var x = Var x                                                                 \n",
    "let app l =\n",
    "  match l with \n",
    "  | [] -> failwith \"ill typed app\"\n",
    "  | [x] -> x\n",
    "  | x::y::xs -> List.fold_left (fun expr v -> App (expr, v)) (App(x,y)) xs\n",
    "let lam x e = Lam(x,e)                                                              \n",
    "                                                                                    \n",
    "let eval ?(log=true) ?(depth=1000) s = \n",
    "     s  \n",
    "  |> Eval.eval ~log ~depth Eval.reduce_normal \n",
    "  |> Syntax.string_of_expr"
   ]
  },
  {
   "cell_type": "code",
   "execution_count": 20,
   "metadata": {},
   "outputs": [
    {
     "data": {
      "text/plain": [
       "- : Syntax.expr = Lam (\"x\", Var \"x\")\n"
      ]
     },
     "execution_count": 20,
     "metadata": {},
     "output_type": "execute_result"
    },
    {
     "data": {
      "text/plain": [
       "- : Syntax.expr = Var \"x\"\n"
      ]
     },
     "execution_count": 20,
     "metadata": {},
     "output_type": "execute_result"
    },
    {
     "data": {
      "text/plain": [
       "- : Syntax.expr = App (App (Var \"x\", Var \"y\"), Var \"z\")\n"
      ]
     },
     "execution_count": 20,
     "metadata": {},
     "output_type": "execute_result"
    },
    {
     "data": {
      "text/plain": [
       "- : Syntax.expr = Lam (\"x\", Var \"y\")\n"
      ]
     },
     "execution_count": 20,
     "metadata": {},
     "output_type": "execute_result"
    }
   ],
   "source": [
    "p \"\\\\x.x\";;\n",
    "var \"x\";;\n",
    "app [var \"x\"; var \"y\"; var \"z\"];;\n",
    "lam \"x\" (var \"y\");;"
   ]
  },
  {
   "cell_type": "markdown",
   "metadata": {
    "slideshow": {
     "slide_type": "slide"
    }
   },
   "source": [
    "## Booleans"
   ]
  },
  {
   "cell_type": "code",
   "execution_count": 21,
   "metadata": {
    "slideshow": {
     "slide_type": "fragment"
    }
   },
   "outputs": [
    {
     "data": {
      "text/plain": [
       "val tru : Syntax.expr = Lam (\"t\", Lam (\"f\", Var \"t\"))\n"
      ]
     },
     "execution_count": 21,
     "metadata": {},
     "output_type": "execute_result"
    },
    {
     "data": {
      "text/plain": [
       "val fls : Syntax.expr = Lam (\"t\", Lam (\"f\", Var \"f\"))\n"
      ]
     },
     "execution_count": 21,
     "metadata": {},
     "output_type": "execute_result"
    }
   ],
   "source": [
    "let tru = p \"\\\\t.\\\\f.t\"\n",
    "let fls = p \"\\\\t.\\\\f.f\""
   ]
  },
  {
   "cell_type": "markdown",
   "metadata": {
    "slideshow": {
     "slide_type": "fragment"
    }
   },
   "source": [
    "* Now we can define a `test` function such that\n",
    "  + `test tru v w` $\\br$ `v`\n",
    "  + `test fls v w` $\\br$ `w`"
   ]
  },
  {
   "cell_type": "code",
   "execution_count": 22,
   "metadata": {
    "slideshow": {
     "slide_type": "fragment"
    }
   },
   "outputs": [
    {
     "data": {
      "text/plain": [
       "val test : Syntax.expr =\n",
       "  Lam (\"l\", Lam (\"m\", Lam (\"n\", App (App (Var \"l\", Var \"m\"), Var \"n\"))))\n"
      ]
     },
     "execution_count": 22,
     "metadata": {},
     "output_type": "execute_result"
    }
   ],
   "source": [
    "let test = p \"\\\\l.\\\\m.\\\\n.l m n\""
   ]
  },
  {
   "cell_type": "markdown",
   "metadata": {
    "slideshow": {
     "slide_type": "slide"
    }
   },
   "source": [
    "## Booleans\n",
    "\n",
    "Now \n",
    "\n",
    "```ocaml\n",
    "test tru v w\n",
    "```\n",
    "\n",
    "evaluates to"
   ]
  },
  {
   "cell_type": "code",
   "execution_count": 23,
   "metadata": {
    "slideshow": {
     "slide_type": "fragment"
    }
   },
   "outputs": [
    {
     "name": "stdout",
     "output_type": "stream",
     "text": [
      "= (λl.λm.λn.l m n) ((λx.x) (λt.λf.t)) (λx.x) (λx.λy.x)\n",
      "= (λm.λn.(λx.x) (λt.λf.t) m n) (λx.x) (λx.λy.x)\n",
      "= (λn.(λx.x) (λt.λf.t) (λx.x) n) (λx.λy.x)\n",
      "= (λx.x) (λt.λf.t) (λx.x) (λx.λy.x)\n",
      "= (λt.λf.t) (λx.x) (λx.λy.x)\n",
      "= (λf.λx.x) (λx.λy.x)\n",
      "= λx.x\n"
     ]
    },
    {
     "data": {
      "text/plain": [
       "- : string = \"λx.x\"\n"
      ]
     },
     "execution_count": 23,
     "metadata": {},
     "output_type": "execute_result"
    }
   ],
   "source": [
    "eval @@ app [test; tru1; lam \"x\" (var \"x\"); lam \"x\" (lam \"y\" (var \"x\"))]"
   ]
  },
  {
   "cell_type": "markdown",
   "metadata": {
    "slideshow": {
     "slide_type": "slide"
    }
   },
   "source": [
    "## Booleans\n",
    "\n",
    "Similarly,\n",
    "\n",
    "```ocaml\n",
    "test fls v w\n",
    "```\n",
    "\n",
    "evaluates to"
   ]
  },
  {
   "cell_type": "code",
   "execution_count": null,
   "metadata": {},
   "outputs": [],
   "source": [
    "eval @@ app [test; fls; var \"v\"; var \"w\"]"
   ]
  },
  {
   "cell_type": "markdown",
   "metadata": {
    "slideshow": {
     "slide_type": "slide"
    }
   },
   "source": [
    "## Booleans"
   ]
  },
  {
   "cell_type": "markdown",
   "metadata": {
    "slideshow": {
     "slide_type": "-"
    }
   },
   "source": [
    "`fls` itself is a function. `test fls v w` is equivalent to `fls v w`."
   ]
  },
  {
   "cell_type": "code",
   "execution_count": null,
   "metadata": {
    "slideshow": {
     "slide_type": "fragment"
    }
   },
   "outputs": [],
   "source": [
    "eval @@ app [fls; var \"v\"; var \"w\"]"
   ]
  },
  {
   "cell_type": "markdown",
   "metadata": {
    "slideshow": {
     "slide_type": "slide"
    }
   },
   "source": [
    "## Logical operators\n",
    "\n",
    "```ocaml\n",
    "and = λb.λc.b c fls\n",
    "or = λb.λc.b tru c\n",
    "not = λb.b fls tru\n",
    "```"
   ]
  },
  {
   "cell_type": "code",
   "execution_count": 24,
   "metadata": {
    "slideshow": {
     "slide_type": "fragment"
    }
   },
   "outputs": [
    {
     "data": {
      "text/plain": [
       "val and_ : Syntax.expr =\n",
       "  Lam (\"b\",\n",
       "   Lam (\"c\", App (App (Var \"b\", Var \"c\"), Lam (\"t\", Lam (\"f\", Var \"f\")))))\n"
      ]
     },
     "execution_count": 24,
     "metadata": {},
     "output_type": "execute_result"
    },
    {
     "data": {
      "text/plain": [
       "val or_ : Syntax.expr =\n",
       "  Lam (\"b\",\n",
       "   Lam (\"c\", App (App (Var \"b\", Lam (\"t\", Lam (\"f\", Var \"t\"))), Var \"c\")))\n"
      ]
     },
     "execution_count": 24,
     "metadata": {},
     "output_type": "execute_result"
    },
    {
     "data": {
      "text/plain": [
       "val not_ : Syntax.expr =\n",
       "  Lam (\"b\",\n",
       "   App (App (Var \"b\", Lam (\"t\", Lam (\"f\", Var \"f\"))),\n",
       "    Lam (\"t\", Lam (\"f\", Var \"t\"))))\n"
      ]
     },
     "execution_count": 24,
     "metadata": {},
     "output_type": "execute_result"
    }
   ],
   "source": [
    "let and_ = lam \"b\" (lam \"c\" (app [var \"b\"; var \"c\"; fls]))\n",
    "let or_ = lam \"b\" (lam \"c\" (app [var \"b\"; tru; var \"c\"]))\n",
    "let not_ = lam \"b\" (app [var \"b\"; fls; tru])"
   ]
  },
  {
   "cell_type": "markdown",
   "metadata": {
    "slideshow": {
     "slide_type": "slide"
    }
   },
   "source": [
    "## Logical Operators"
   ]
  },
  {
   "cell_type": "code",
   "execution_count": 25,
   "metadata": {
    "slideshow": {
     "slide_type": "-"
    }
   },
   "outputs": [
    {
     "data": {
      "text/plain": [
       "- : string = \"λt.λf.f\"\n"
      ]
     },
     "execution_count": 25,
     "metadata": {},
     "output_type": "execute_result"
    },
    {
     "name": "stdout",
     "output_type": "stream",
     "text": [
      "= (λb.λc.b c (λt.λf.f)) (λt.λf.t) (λt.λf.f)\n",
      "= (λc.(λt.λf.t) c (λt.λf.f)) (λt.λf.f)\n",
      "= (λt.λf.t) (λt.λf.f) (λt.λf.f)\n",
      "= (λf.λt.λf.f) (λt.λf.f)\n",
      "= λt.λf.f\n"
     ]
    }
   ],
   "source": [
    "eval @@ app [and_; tru; fls]"
   ]
  },
  {
   "cell_type": "markdown",
   "metadata": {
    "slideshow": {
     "slide_type": "fragment"
    }
   },
   "source": [
    "The above is a **proof** for `true /\\ false = false`"
   ]
  },
  {
   "cell_type": "markdown",
   "metadata": {
    "slideshow": {
     "slide_type": "slide"
    }
   },
   "source": [
    "## Logical operators\n",
    "\n",
    "Encode implies using standard formulation.\n",
    "\n",
    "\\\\[\n",
    "\\begin{array}{rl}\n",
    " & p \\implies q \\equiv \\neg p \\vee q \\\\\n",
    "\\mathbf{Theorem 1.}  & \\forall a,b.~ a \\wedge b \\implies a\n",
    "\\end{array}\n",
    "\\\\]"
   ]
  },
  {
   "cell_type": "code",
   "execution_count": 26,
   "metadata": {
    "slideshow": {
     "slide_type": "fragment"
    }
   },
   "outputs": [
    {
     "data": {
      "text/plain": [
       "val implies : Syntax.expr =\n",
       "  Lam (\"p\",\n",
       "   Lam (\"q\",\n",
       "    App\n",
       "     (App\n",
       "       (Lam (\"b\",\n",
       "         Lam (\"c\",\n",
       "          App (App (Var \"b\", Lam (\"t\", Lam (\"f\", Var \"t\"))), Var \"c\"))),\n",
       "       App\n",
       "        (Lam (\"b\",\n",
       "          App (App (Var \"b\", Lam (\"t\", Lam (\"f\", Var \"f\"))),\n",
       "           Lam (\"t\", Lam (\"f\", Var \"t\")))),\n",
       "        Var \"p\")),\n",
       "     Var \"q\")))\n"
      ]
     },
     "execution_count": 26,
     "metadata": {},
     "output_type": "execute_result"
    },
    {
     "data": {
      "text/plain": [
       "val thm1 : Syntax.expr =\n",
       "  Lam (\"a\",\n",
       "   Lam (\"b\",\n",
       "    App\n",
       "     (App\n",
       "       (Lam (\"p\",\n",
       "         Lam (\"q\",\n",
       "          App\n",
       "           (App\n",
       "             (Lam (\"b\",\n",
       "               Lam (\"c\",\n",
       "                App (App (Var \"b\", Lam (\"t\", Lam (\"f\", Var \"t\"))), Var \"c\"))),\n",
       "             App\n",
       "              (Lam (\"b\",\n",
       "                App (App (Var \"b\", Lam (\"t\", Lam (\"f\", Var \"f\"))),\n",
       "                 Lam (\"t\", Lam (\"f\", Var \"t\")))),\n",
       "              Var \"p\")),\n",
       "           Var \"q\"))),\n",
       "       App\n",
       "        (App\n",
       "          (Lam (\"b\",\n",
       "            Lam (\"c\",\n",
       "             App (App (Var \"b\", Var \"c\"), Lam (\"t\", Lam (\"f\", Var \"f\"))))),\n",
       "          Var \"a\"),\n",
       "        Var \"b\")),\n",
       "     Var \"a\")))\n"
      ]
     },
     "execution_count": 26,
     "metadata": {},
     "output_type": "execute_result"
    }
   ],
   "source": [
    "let implies = lam \"p\" (lam \"q\" (app [or_; app [not_; var \"p\"]; var \"q\"]))\n",
    "let thm1 = lam \"a\" (lam \"b\" (app [implies; app [and_; var \"a\"; var \"b\"]; var \"a\"]))"
   ]
  },
  {
   "cell_type": "markdown",
   "metadata": {
    "slideshow": {
     "slide_type": "slide"
    }
   },
   "source": [
    "## Logical operators\n",
    "\n",
    "Prove $~~\\forall a,b. a \\wedge b \\implies a~~$ by case analysis:"
   ]
  },
  {
   "cell_type": "code",
   "execution_count": 27,
   "metadata": {},
   "outputs": [
    {
     "data": {
      "text/plain": [
       "- : string = \"λt.λf.t\"\n"
      ]
     },
     "execution_count": 27,
     "metadata": {},
     "output_type": "execute_result"
    }
   ],
   "source": [
    "eval ~log:false (app [thm1; tru; tru])"
   ]
  },
  {
   "cell_type": "code",
   "execution_count": 28,
   "metadata": {},
   "outputs": [
    {
     "data": {
      "text/plain": [
       "- : string = \"λt.λf.t\"\n"
      ]
     },
     "execution_count": 28,
     "metadata": {},
     "output_type": "execute_result"
    }
   ],
   "source": [
    "eval ~log:false (app [thm1; tru; fls])"
   ]
  },
  {
   "cell_type": "code",
   "execution_count": 29,
   "metadata": {},
   "outputs": [
    {
     "data": {
      "text/plain": [
       "- : string = \"λt.λf.t\"\n"
      ]
     },
     "execution_count": 29,
     "metadata": {},
     "output_type": "execute_result"
    }
   ],
   "source": [
    "eval ~log:false (app [thm1; fls; tru])"
   ]
  },
  {
   "cell_type": "code",
   "execution_count": 30,
   "metadata": {},
   "outputs": [
    {
     "data": {
      "text/plain": [
       "- : string = \"λt.λf.t\"\n"
      ]
     },
     "execution_count": 30,
     "metadata": {},
     "output_type": "execute_result"
    }
   ],
   "source": [
    "eval ~log:false (app [thm1; fls; fls])"
   ]
  },
  {
   "cell_type": "markdown",
   "metadata": {
    "slideshow": {
     "slide_type": "fragment"
    }
   },
   "source": [
    "**QED.**"
   ]
  },
  {
   "cell_type": "markdown",
   "metadata": {
    "slideshow": {
     "slide_type": "slide"
    }
   },
   "source": [
    "## Quiz\n",
    "\n",
    "What is the lambda calculus encoding for `xor x y`\n",
    "\n",
    "| x | y | xor x y |\n",
    "|---|---|:-------:|\n",
    "| T | T |    F    |\n",
    "| T | F |    T    |\n",
    "| F | T |    T    |\n",
    "| F | F |    F    |\n",
    "\n",
    "1. x x y\n",
    "2. x (y tru fls) y\n",
    "3. x (y fls tru) y\n",
    "4. y x y"
   ]
  },
  {
   "cell_type": "markdown",
   "metadata": {
    "slideshow": {
     "slide_type": "slide"
    }
   },
   "source": [
    "## Quiz\n",
    "\n",
    "What is the lambda calculus encoding for `xor x y`\n",
    "\n",
    "| x | y | xor x y |\n",
    "|---|---|:-------:|\n",
    "| T | T |    F    |\n",
    "| T | F |    T    |\n",
    "| F | T |    T    |\n",
    "| F | F |    F    |\n",
    "\n",
    "1. x x y\n",
    "2. x (y tru fls) y\n",
    "3. x (y fls tru) y ✅\n",
    "4. y x y"
   ]
  },
  {
   "cell_type": "markdown",
   "metadata": {
    "slideshow": {
     "slide_type": "slide"
    }
   },
   "source": [
    "## Pairs"
   ]
  },
  {
   "cell_type": "code",
   "execution_count": 31,
   "metadata": {},
   "outputs": [
    {
     "data": {
      "text/plain": [
       "val mk_pair : 'a -> 'b -> 'a * 'b = <fun>\n"
      ]
     },
     "execution_count": 31,
     "metadata": {},
     "output_type": "execute_result"
    },
    {
     "data": {
      "text/plain": [
       "val fst : 'a * 'b -> 'a = <fun>\n"
      ]
     },
     "execution_count": 31,
     "metadata": {},
     "output_type": "execute_result"
    },
    {
     "data": {
      "text/plain": [
       "val snd : 'a * 'b -> 'b = <fun>\n"
      ]
     },
     "execution_count": 31,
     "metadata": {},
     "output_type": "execute_result"
    }
   ],
   "source": [
    "let mk_pair x y = (x,y)\n",
    "let fst (x,y) = x\n",
    "let snd (x,y) = y"
   ]
  },
  {
   "cell_type": "markdown",
   "metadata": {
    "slideshow": {
     "slide_type": "slide"
    }
   },
   "source": [
    "## Pairs\n",
    "\n",
    "* Encoding of a pair `(f,s)`\n",
    "  + Pair Constructor : (f,s) = λf.λs.λb.b f s"
   ]
  },
  {
   "cell_type": "code",
   "execution_count": 32,
   "metadata": {},
   "outputs": [
    {
     "data": {
      "text/plain": [
       "val pair : Syntax.expr =\n",
       "  Lam (\"f\", Lam (\"s\", Lam (\"b\", App (App (Var \"b\", Var \"f\"), Var \"s\"))))\n"
      ]
     },
     "execution_count": 32,
     "metadata": {},
     "output_type": "execute_result"
    }
   ],
   "source": [
    "let pair = p \"λf.λs.λb.b f s\""
   ]
  },
  {
   "cell_type": "markdown",
   "metadata": {
    "slideshow": {
     "slide_type": "slide"
    }
   },
   "source": [
    "## Pairs"
   ]
  },
  {
   "cell_type": "code",
   "execution_count": 33,
   "metadata": {},
   "outputs": [
    {
     "name": "stdout",
     "output_type": "stream",
     "text": [
      "= (λf.λs.λb.b f s) v w\n",
      "= (λs.λb.b v s) w\n",
      "= λb.b v w\n"
     ]
    },
    {
     "data": {
      "text/plain": [
       "- : string = \"λb.b v w\"\n"
      ]
     },
     "execution_count": 33,
     "metadata": {},
     "output_type": "execute_result"
    }
   ],
   "source": [
    "eval @@ app [pair; var \"v\"; var \"w\"]"
   ]
  },
  {
   "cell_type": "markdown",
   "metadata": {},
   "source": [
    "* The pair **value** is a function that takes a **boolean** as an argument and applies the elements of the pair to it.\n",
    "* `b` is a boolean is a **convention** that we should follow.\n",
    "  + No type safety."
   ]
  },
  {
   "cell_type": "markdown",
   "metadata": {
    "slideshow": {
     "slide_type": "slide"
    }
   },
   "source": [
    "## Pair accessor functions\n",
    "\n",
    "* Recall that a pair value is a function `λb.b v w` \n",
    "  + where `v` and `w` are the first and second elements of the pair.\n",
    "* We can define accessors `fst` and `snd` as follows:\n",
    "  + fst = λp.p tru\n",
    "  + snd = λp.p fls"
   ]
  },
  {
   "cell_type": "code",
   "execution_count": 34,
   "metadata": {},
   "outputs": [
    {
     "data": {
      "text/plain": [
       "val fst : Syntax.expr =\n",
       "  Lam (\"p\", App (Var \"p\", Lam (\"t\", Lam (\"f\", Var \"t\"))))\n"
      ]
     },
     "execution_count": 34,
     "metadata": {},
     "output_type": "execute_result"
    },
    {
     "data": {
      "text/plain": [
       "val snd : Syntax.expr =\n",
       "  Lam (\"p\", App (Var \"p\", Lam (\"t\", Lam (\"f\", Var \"f\"))))\n"
      ]
     },
     "execution_count": 34,
     "metadata": {},
     "output_type": "execute_result"
    }
   ],
   "source": [
    "let fst = lam \"p\" (app [var \"p\"; tru])\n",
    "let snd = lam \"p\" (app [var \"p\"; fls])"
   ]
  },
  {
   "cell_type": "markdown",
   "metadata": {
    "slideshow": {
     "slide_type": "slide"
    }
   },
   "source": [
    "## Pair accessor functions"
   ]
  },
  {
   "cell_type": "code",
   "execution_count": 35,
   "metadata": {
    "scrolled": false
   },
   "outputs": [
    {
     "name": "stdout",
     "output_type": "stream",
     "text": [
      "= (λp.p (λt.λf.t)) ((λf.λs.λb.b f s) v w)\n",
      "= (λf.λs.λb.b f s) v w (λt.λf.t)\n",
      "= (λs.λb.b v s) w (λt.λf.t)\n",
      "= (λb.b v w) (λt.λf.t)\n",
      "= (λt.λf.t) v w\n",
      "= (λf.v) w\n",
      "= v\n"
     ]
    },
    {
     "data": {
      "text/plain": [
       "- : string = \"v\"\n"
      ]
     },
     "execution_count": 35,
     "metadata": {},
     "output_type": "execute_result"
    }
   ],
   "source": [
    "eval ~log:true @@ app [fst; app[pair; var \"v\"; var \"w\"]]"
   ]
  },
  {
   "cell_type": "code",
   "execution_count": 36,
   "metadata": {},
   "outputs": [
    {
     "name": "stdout",
     "output_type": "stream",
     "text": [
      "= (λp.p (λt.λf.f)) ((λf.λs.λb.b f s) v w)\n",
      "= (λf.λs.λb.b f s) v w (λt.λf.f)\n",
      "= (λs.λb.b v s) w (λt.λf.f)\n",
      "= (λb.b v w) (λt.λf.f)\n",
      "= (λt.λf.f) v w\n",
      "= (λf.f) w\n",
      "= w\n"
     ]
    },
    {
     "data": {
      "text/plain": [
       "- : string = \"w\"\n"
      ]
     },
     "execution_count": 36,
     "metadata": {},
     "output_type": "execute_result"
    }
   ],
   "source": [
    "eval ~log:true @@ app [snd; app [pair; var \"v\"; var \"w\"]]"
   ]
  },
  {
   "cell_type": "markdown",
   "metadata": {
    "slideshow": {
     "slide_type": "slide"
    }
   },
   "source": [
    "## Pair swap function\n",
    "\n",
    "In OCaml,\n",
    "\n",
    "```ocaml\n",
    "let swap p = (snd p, fst p)\n",
    "```\n",
    "\n",
    "In lambda calculus,\n",
    "\n",
    "```ocaml\n",
    "swap = λp.λb.b (snd p) (fst p)\n",
    "```"
   ]
  },
  {
   "cell_type": "code",
   "execution_count": 37,
   "metadata": {},
   "outputs": [
    {
     "data": {
      "text/plain": [
       "val swap : Syntax.expr =\n",
       "  Lam (\"p\",\n",
       "   Lam (\"b\",\n",
       "    App\n",
       "     (App (Var \"b\",\n",
       "       App (Lam (\"p\", App (Var \"p\", Lam (\"t\", Lam (\"f\", Var \"f\")))), Var \"p\")),\n",
       "     App (Lam (\"p\", App (Var \"p\", Lam (\"t\", Lam (\"f\", Var \"t\")))), Var \"p\"))))\n"
      ]
     },
     "execution_count": 37,
     "metadata": {},
     "output_type": "execute_result"
    }
   ],
   "source": [
    "let swap = lam \"p\" (lam \"b\" (app [var \"b\"; app [snd;var \"p\"]; app [fst; var \"p\"]]))"
   ]
  },
  {
   "cell_type": "markdown",
   "metadata": {
    "slideshow": {
     "slide_type": "slide"
    }
   },
   "source": [
    "## Pair swap function\n",
    "\n",
    "Let's try\n",
    "\n",
    "```ocaml\n",
    "fst (swap (v,w))\n",
    "```"
   ]
  },
  {
   "cell_type": "code",
   "execution_count": 40,
   "metadata": {},
   "outputs": [
    {
     "name": "stdout",
     "output_type": "stream",
     "text": [
      "= (λp.p (λt.λf.f)) ((λp.λb.b ((λp.p (λt.λf.f)) p) ((λp.p (λt.λf.t)) p)) ((λf.λs.λb.b f s) v w))\n",
      "= (λp.λb.b ((λp.p (λt.λf.f)) p) ((λp.p (λt.λf.t)) p)) ((λf.λs.λb.b f s) v w) (λt.λf.f)\n",
      "= (λb.b ((λp.p (λt.λf.f)) ((λf.λs.λb.b f s) v w)) ((λp.p (λt.λf.t)) ((λf.λs.λb.b f s) v w))) (λt.λf.f)\n",
      "= (λt.λf.f) ((λp.p (λt.λf.f)) ((λf.λs.λb.b f s) v w)) ((λp.p (λt.λf.t)) ((λf.λs.λb.b f s) v w))\n",
      "= (λf.f) ((λp.p (λt.λf.t)) ((λf.λs.λb.b f s) v w))\n",
      "= (λp.p (λt.λf.t)) ((λf.λs.λb.b f s) v w)\n",
      "= (λf.λs.λb.b f s) v w (λt.λf.t)\n",
      "= (λs.λb.b v s) w (λt.λf.t)\n",
      "= (λb.b v w) (λt.λf.t)\n",
      "= (λt.λf.t) v w\n",
      "= (λf.v) w\n",
      "= v\n"
     ]
    },
    {
     "data": {
      "text/plain": [
       "- : string = \"v\"\n"
      ]
     },
     "execution_count": 40,
     "metadata": {},
     "output_type": "execute_result"
    }
   ],
   "source": [
    "eval ~log:true @@ app [snd; app [swap; app[pair; var \"v\"; var \"w\"]]]"
   ]
  }
 ],
 "metadata": {
  "celltoolbar": "Slideshow",
  "kernelspec": {
   "display_name": "OCaml 4.10",
   "language": "OCaml",
   "name": "ocaml-jupyter"
  },
  "language_info": {
   "codemirror_mode": "text/x-ocaml",
   "file_extension": ".ml",
   "mimetype": "text/x-ocaml",
   "name": "OCaml",
   "nbconverter_exporter": null,
   "pygments_lexer": "OCaml",
   "version": "4.10.0"
  }
 },
 "nbformat": 4,
 "nbformat_minor": 2
}
